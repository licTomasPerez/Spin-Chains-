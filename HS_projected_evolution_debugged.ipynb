{
  "nbformat": 4,
  "nbformat_minor": 0,
  "metadata": {
    "colab": {
      "name": "Untitled1.ipynb",
      "provenance": [],
      "include_colab_link": true
    },
    "kernelspec": {
      "name": "python3",
      "display_name": "Python 3"
    },
    "language_info": {
      "name": "python"
    }
  },
  "cells": [
    {
      "cell_type": "markdown",
      "metadata": {
        "id": "view-in-github",
        "colab_type": "text"
      },
      "source": [
        "<a href=\"https://colab.research.google.com/github/licTomasPerez/Spin-Chains-/blob/main/HS_projected_evolution_debugged.ipynb\" target=\"_parent\"><img src=\"https://colab.research.google.com/assets/colab-badge.svg\" alt=\"Open In Colab\"/></a>"
      ]
    },
    {
      "cell_type": "code",
      "execution_count": 1,
      "metadata": {
        "colab": {
          "base_uri": "https://localhost:8080/"
        },
        "id": "CzAqDJ65kXXw",
        "outputId": "15d26af1-3c29-412d-ef44-e24d34156fcf"
      },
      "outputs": [
        {
          "output_type": "stream",
          "name": "stdout",
          "text": [
            "Looking in indexes: https://pypi.org/simple, https://us-python.pkg.dev/colab-wheels/public/simple/\n",
            "Collecting qutip\n",
            "  Downloading qutip-4.7.0-cp37-cp37m-manylinux_2_5_x86_64.manylinux1_x86_64.manylinux_2_12_x86_64.manylinux2010_x86_64.whl (14.7 MB)\n",
            "\u001b[K     |████████████████████████████████| 14.7 MB 28.0 MB/s \n",
            "\u001b[?25hRequirement already satisfied: scipy>=1.0 in /usr/local/lib/python3.7/dist-packages (from qutip) (1.4.1)\n",
            "Requirement already satisfied: packaging in /usr/local/lib/python3.7/dist-packages (from qutip) (21.3)\n",
            "Requirement already satisfied: numpy>=1.16.6 in /usr/local/lib/python3.7/dist-packages (from qutip) (1.21.6)\n",
            "Requirement already satisfied: pyparsing!=3.0.5,>=2.0.2 in /usr/local/lib/python3.7/dist-packages (from packaging->qutip) (3.0.9)\n",
            "Installing collected packages: qutip\n",
            "Successfully installed qutip-4.7.0\n",
            "Looking in indexes: https://pypi.org/simple, https://us-python.pkg.dev/colab-wheels/public/simple/\n",
            "Requirement already satisfied: scipy in /usr/local/lib/python3.7/dist-packages (1.4.1)\n",
            "Requirement already satisfied: numpy>=1.13.3 in /usr/local/lib/python3.7/dist-packages (from scipy) (1.21.6)\n",
            "Looking in indexes: https://pypi.org/simple, https://us-python.pkg.dev/colab-wheels/public/simple/\n",
            "Requirement already satisfied: matplotlib.inline in /usr/local/lib/python3.7/dist-packages (0.1.3)\n",
            "Requirement already satisfied: traitlets in /usr/local/lib/python3.7/dist-packages (from matplotlib.inline) (5.1.1)\n",
            "Looking in indexes: https://pypi.org/simple, https://us-python.pkg.dev/colab-wheels/public/simple/\n",
            "Requirement already satisfied: numpy in /usr/local/lib/python3.7/dist-packages (1.21.6)\n"
          ]
        }
      ],
      "source": [
        "!pip install qutip\n",
        "!pip install scipy\n",
        "!pip install matplotlib.inline\n",
        "!pip install numpy"
      ]
    },
    {
      "cell_type": "code",
      "source": [
        "import qutip\n",
        "import matplotlib.pyplot as plt \n",
        "import numpy as np\n",
        "import scipy.optimize as opt \n",
        "import pickle\n",
        "import math, cmath"
      ],
      "metadata": {
        "id": "6td6yO61kg2q"
      },
      "execution_count": 2,
      "outputs": []
    },
    {
      "cell_type": "code",
      "source": [
        "def prod_basis(b1, b2):\n",
        "  return [qutip.tensor(b,s) for b in b1 for s in b2]\n",
        "\n",
        "def scalar_prod(op1, op2, rho0 = None):\n",
        "  if op1.dims[0][0]!=op2.dims[0][0]:\n",
        "    return \"Incompatible Qobj dimensions\"\n",
        "  if rho0 is None:\n",
        "    rho0 = qutip.qeye(op1.dims[0])/op1.dims[0][0]\n",
        "  result = .5*(rho0*(op1*op2.dag()+op2.dag()*op1)).tr()\n",
        "  result = result.real\n",
        "  return result\n",
        "\n",
        "def base_orth(ops, rho0):\n",
        "  print(\"base\")\n",
        "  if isinstance(ops[0], list):\n",
        "    ops = [op for op1l in ops for op in op1l]\n",
        "  print(type(ops),type(ops[0]))\n",
        "  dim = ops[0].dims[0][0]\n",
        "  print(\"dim=\",dim)\n",
        "  basis = []\n",
        "  for op in ops: \n",
        "    alpha = [scalar_prod(op2, op, rho0) for op2 in basis]\n",
        "    op_mod = op - sum([c*op2 for c, op2, in zip(alpha, basis)])\n",
        "    op_mod = op_mod/(np.sqrt(scalar_prod(op_mod,op_mod,rho0)))\n",
        "    basis.append(op_mod)\n",
        "  return basis\n",
        "\n",
        "def logM(rho):\n",
        "  eigvals, eigvecs = rho.eigenstates()\n",
        "  return sum([np.log(vl)*vc*vc.dag() for vl, vc in zip(eigvals, eigvecs) if vl > 0])\n",
        "\n",
        "def sqrtM(rho):\n",
        "  eigvals, eigvecs = rho.eigenstates()\n",
        "  return sum([(abs(vl)**.5)*vc*vc.dag() for vl, vc in zip(eigvals, eigvecs)])\n",
        "\n",
        "def proj_op(K, basis, rho0):\n",
        "  return sum([scalar_prod(b, K,rho0) * b for b in basis])\n",
        "\n",
        "def rel_entropy(rho, sigma):\n",
        "    val = (rho*(logM(rho)-logM(sigma))).tr()\n",
        "    if abs(val.imag)>1.e-6:\n",
        "        print(\"rho or sigma not positive\")\n",
        "        print(rho.eigenstates())\n",
        "        print(sigma.eigenstates())\n",
        "    return val.real\n",
        "\n"
      ],
      "metadata": {
        "id": "wllgZoKUkY3j"
      },
      "execution_count": 3,
      "outputs": []
    },
    {
      "cell_type": "code",
      "source": [
        "def bures(rho, sigma):\n",
        "    val = abs((sqrtM(rho)*sqrtM(sigma)).tr())\n",
        "    val = max(min(val,1.),-1.)\n",
        "    return np.arccos(val)/np.pi\n",
        "        \n",
        "def maxent_rho(rho, basis):   \n",
        "    def test(x, rho, basis):\n",
        "        k = sum([-u*b for u,b in zip(x, basis)])        \n",
        "        sigma = (.5*(k+k.dag())).expm()\n",
        "        sigma = sigma/sigma.tr()\n",
        "        return rel_entropy(rho, sigma)    \n",
        "    res = opt.minimize(test,np.zeros(len(basis)),args=(rho,basis))\n",
        "    k = sum([-u*b for u,b in zip(res.x, basis)])        \n",
        "    sigma = (.5*(k+k.dag())).expm()\n",
        "    sigma = sigma/sigma.tr()\n",
        "    return sigma\n",
        " \n",
        "def error_maxent_state(rho, basis, distance=bures):\n",
        "    try:\n",
        "        sigma = maxent_rho(rho, basis)\n",
        "        return distance(rho,sigma)\n",
        "    except:\n",
        "        print(\"fail\")\n",
        "        return None\n",
        "       \n",
        "def error_proj_state(rho, rho0, basis, distance=bures):\n",
        "    try:\n",
        "        basis = base_orth(basis, rho0)\n",
        "    except:\n",
        "      print (\"orth error\")\n",
        "      raise\n",
        "    try:\n",
        "        sigma = proj_op(logM(rho), basis, rho0).expm()\n",
        "    except:\n",
        "      print(\"gram error\")\n",
        "    try:\n",
        "        return distance(rho, sigma)\n",
        "    except:\n",
        "        print(\"fail error proj state\")\n",
        "        return None"
      ],
      "metadata": {
        "id": "iOcDcqRLvQAb"
      },
      "execution_count": 4,
      "outputs": []
    },
    {
      "cell_type": "code",
      "source": [
        "N = 5            # número de spines\n",
        "\n",
        "h  = 1.0 * 2 * np.pi * np.ones(N) \n",
        "Jx = 0.15 * 2 * np.pi * np.ones(N)\n",
        "Jy = 0.25 * 2 * np.pi * np.ones(N)\n",
        "Jz = 0.1 * 2 * np.pi * np.ones(N)\n",
        "\n",
        "id2 = qutip.qeye(2)\n",
        "sx = .5*qutip.sigmax()\n",
        "sy = .5*qutip.sigmay()\n",
        "sz = .5*qutip.sigmaz()\n",
        "\n",
        "sx_list = []\n",
        "sy_list = []\n",
        "sz_list = []\n",
        "\n",
        "for n in range(N):\n",
        "    operator_list = []\n",
        "    for m in range(N):\n",
        "        operator_list.append(id2)\n",
        "    operator_list[n] = sx\n",
        "    sx_list.append(qutip.tensor(operator_list))\n",
        "        \n",
        "    operator_list[n] = sy\n",
        "    sy_list.append(qutip.tensor(operator_list))\n",
        "        \n",
        "    operator_list[n] = sz\n",
        "    sz_list.append(qutip.tensor(operator_list))\n",
        "\n",
        "def Heisenberg_hamiltonian (N, Jx, Jy, Jz, h):\n",
        "  H = 0\n",
        "  for n in range(N):\n",
        "    H += -0.5*h[n]*sz_list[n]\n",
        "        \n",
        "  for n in range(N-1):\n",
        "    H += -0.5 * Jx[n] * sx_list[n] * sx_list[n+1]\n",
        "    H += -0.5 * Jy[n] * sy_list[n] * sy_list[n+1]\n",
        "    H += -0.5 * Jz[n] * sz_list[n] * sz_list[n+1]\n",
        "  return H"
      ],
      "metadata": {
        "id": "C4U410MBw0WJ"
      },
      "execution_count": 5,
      "outputs": []
    },
    {
      "cell_type": "code",
      "source": [
        "psi1_list = []\n",
        "psi1_list.append(qutip.basis(2,1))\n",
        "for n in range(4):\n",
        "    psi1_list.append(qutip.basis(2,0))\n",
        "\n",
        "psi2_list = []\n",
        "psi2_list.append(qutip.basis(2,0))\n",
        "psi2_list.append(qutip.basis(2,1))\n",
        "for n in range(3):\n",
        "    psi2_list.append(qutip.basis(2,0))\n",
        "\n",
        "psi01 = qutip.tensor(psi1_list)\n",
        "psi02 = qutip.tensor(psi2_list)\n",
        "psi0 = psi01+psi02"
      ],
      "metadata": {
        "id": "hIAULt6A-sj_"
      },
      "execution_count": 6,
      "outputs": []
    },
    {
      "cell_type": "code",
      "source": [
        "class Result(object):\n",
        "    def __init__(self, ts=None, states=None):\n",
        "        self.ts = ts\n",
        "        self.states = states\n",
        "        self.projrho0_app = None   \n",
        "        self.projrho_inst_app = None "
      ],
      "metadata": {
        "id": "-XSlIXhc_Ts-"
      },
      "execution_count": 7,
      "outputs": []
    },
    {
      "cell_type": "code",
      "source": [
        "rho0 = qutip.tensor([.5*qutip.qeye(2) for k in range(3)])\n",
        "id5 = .125*qutip.qeye(2**3)\n",
        "print(rho0)\n",
        "print(id5)"
      ],
      "metadata": {
        "id": "tyR_B4ouFoZa",
        "outputId": "a6472bf6-5fd4-4898-b420-c0ae7486c543",
        "colab": {
          "base_uri": "https://localhost:8080/"
        }
      },
      "execution_count": 19,
      "outputs": [
        {
          "output_type": "stream",
          "name": "stdout",
          "text": [
            "Quantum object: dims = [[2, 2, 2], [2, 2, 2]], shape = (8, 8), type = oper, isherm = True\n",
            "Qobj data =\n",
            "[[0.125 0.    0.    0.    0.    0.    0.    0.   ]\n",
            " [0.    0.125 0.    0.    0.    0.    0.    0.   ]\n",
            " [0.    0.    0.125 0.    0.    0.    0.    0.   ]\n",
            " [0.    0.    0.    0.125 0.    0.    0.    0.   ]\n",
            " [0.    0.    0.    0.    0.125 0.    0.    0.   ]\n",
            " [0.    0.    0.    0.    0.    0.125 0.    0.   ]\n",
            " [0.    0.    0.    0.    0.    0.    0.125 0.   ]\n",
            " [0.    0.    0.    0.    0.    0.    0.    0.125]]\n",
            "Quantum object: dims = [[8], [8]], shape = (8, 8), type = oper, isherm = True\n",
            "Qobj data =\n",
            "[[0.125 0.    0.    0.    0.    0.    0.    0.   ]\n",
            " [0.    0.125 0.    0.    0.    0.    0.    0.   ]\n",
            " [0.    0.    0.125 0.    0.    0.    0.    0.   ]\n",
            " [0.    0.    0.    0.125 0.    0.    0.    0.   ]\n",
            " [0.    0.    0.    0.    0.125 0.    0.    0.   ]\n",
            " [0.    0.    0.    0.    0.    0.125 0.    0.   ]\n",
            " [0.    0.    0.    0.    0.    0.    0.125 0.   ]\n",
            " [0.    0.    0.    0.    0.    0.    0.    0.125]]\n"
          ]
        }
      ]
    },
    {
      "cell_type": "code",
      "source": [
        "def spin_dephasing(gamma):\n",
        "  c_op_list = []\n",
        "  collapse_weights = gamma * np.ones(N)\n",
        "  for n in range(N):\n",
        "        if collapse_weights[n] > 0.0:\n",
        "            c_op_list.append(np.sqrt(collapse_weights[n]) * sz_list[n])\n",
        "  return c_op_list\n",
        "\n",
        "spin_dephasing(1*np.e**-2)"
      ],
      "metadata": {
        "id": "s2layG4xwFv0",
        "outputId": "475f41b8-f49a-451b-9619-8b01f9fccbfc",
        "colab": {
          "base_uri": "https://localhost:8080/"
        }
      },
      "execution_count": 31,
      "outputs": [
        {
          "output_type": "execute_result",
          "data": {
            "text/plain": [
              "[Quantum object: dims = [[2, 2, 2, 2, 2], [2, 2, 2, 2, 2]], shape = (32, 32), type = oper, isherm = True\n",
              " Qobj data =\n",
              " [[ 0.18393972  0.          0.         ...  0.          0.\n",
              "    0.        ]\n",
              "  [ 0.          0.18393972  0.         ...  0.          0.\n",
              "    0.        ]\n",
              "  [ 0.          0.          0.18393972 ...  0.          0.\n",
              "    0.        ]\n",
              "  ...\n",
              "  [ 0.          0.          0.         ... -0.18393972  0.\n",
              "    0.        ]\n",
              "  [ 0.          0.          0.         ...  0.         -0.18393972\n",
              "    0.        ]\n",
              "  [ 0.          0.          0.         ...  0.          0.\n",
              "   -0.18393972]],\n",
              " Quantum object: dims = [[2, 2, 2, 2, 2], [2, 2, 2, 2, 2]], shape = (32, 32), type = oper, isherm = True\n",
              " Qobj data =\n",
              " [[ 0.18393972  0.          0.         ...  0.          0.\n",
              "    0.        ]\n",
              "  [ 0.          0.18393972  0.         ...  0.          0.\n",
              "    0.        ]\n",
              "  [ 0.          0.          0.18393972 ...  0.          0.\n",
              "    0.        ]\n",
              "  ...\n",
              "  [ 0.          0.          0.         ... -0.18393972  0.\n",
              "    0.        ]\n",
              "  [ 0.          0.          0.         ...  0.         -0.18393972\n",
              "    0.        ]\n",
              "  [ 0.          0.          0.         ...  0.          0.\n",
              "   -0.18393972]],\n",
              " Quantum object: dims = [[2, 2, 2, 2, 2], [2, 2, 2, 2, 2]], shape = (32, 32), type = oper, isherm = True\n",
              " Qobj data =\n",
              " [[ 0.18393972  0.          0.         ...  0.          0.\n",
              "    0.        ]\n",
              "  [ 0.          0.18393972  0.         ...  0.          0.\n",
              "    0.        ]\n",
              "  [ 0.          0.          0.18393972 ...  0.          0.\n",
              "    0.        ]\n",
              "  ...\n",
              "  [ 0.          0.          0.         ... -0.18393972  0.\n",
              "    0.        ]\n",
              "  [ 0.          0.          0.         ...  0.         -0.18393972\n",
              "    0.        ]\n",
              "  [ 0.          0.          0.         ...  0.          0.\n",
              "   -0.18393972]],\n",
              " Quantum object: dims = [[2, 2, 2, 2, 2], [2, 2, 2, 2, 2]], shape = (32, 32), type = oper, isherm = True\n",
              " Qobj data =\n",
              " [[ 0.18393972  0.          0.         ...  0.          0.\n",
              "    0.        ]\n",
              "  [ 0.          0.18393972  0.         ...  0.          0.\n",
              "    0.        ]\n",
              "  [ 0.          0.         -0.18393972 ...  0.          0.\n",
              "    0.        ]\n",
              "  ...\n",
              "  [ 0.          0.          0.         ...  0.18393972  0.\n",
              "    0.        ]\n",
              "  [ 0.          0.          0.         ...  0.         -0.18393972\n",
              "    0.        ]\n",
              "  [ 0.          0.          0.         ...  0.          0.\n",
              "   -0.18393972]],\n",
              " Quantum object: dims = [[2, 2, 2, 2, 2], [2, 2, 2, 2, 2]], shape = (32, 32), type = oper, isherm = True\n",
              " Qobj data =\n",
              " [[ 0.18393972  0.          0.         ...  0.          0.\n",
              "    0.        ]\n",
              "  [ 0.         -0.18393972  0.         ...  0.          0.\n",
              "    0.        ]\n",
              "  [ 0.          0.          0.18393972 ...  0.          0.\n",
              "    0.        ]\n",
              "  ...\n",
              "  [ 0.          0.          0.         ... -0.18393972  0.\n",
              "    0.        ]\n",
              "  [ 0.          0.          0.         ...  0.          0.18393972\n",
              "    0.        ]\n",
              "  [ 0.          0.          0.         ...  0.          0.\n",
              "   -0.18393972]]]"
            ]
          },
          "metadata": {},
          "execution_count": 31
        }
      ]
    },
    {
      "cell_type": "markdown",
      "source": [
        "Considero un estado inicial descorrelacionado de la forma de \n",
        "\n",
        "$$\n",
        "\\rho_0 = x |\\Phi\\rangle \\langle\\Phi| + (1-x)\\frac{{I_d}}{d}\n",
        "$$"
      ],
      "metadata": {
        "id": "Aa8fWiwYqRWs"
      }
    },
    {
      "cell_type": "code",
      "source": [
        "def projected_evolution(x=.5, gamma = 1*np.e*-2, omega_1=3., omega_2=3.,temp=1, gaussian=False, deltat=10., tmax = 500., distance=bures):\n",
        "    basis = [sx_list, sy_list, sz_list]\n",
        "    H_H = Heisenberg_hamiltonian(N,Jx,Jy,Jz,h)\n",
        "    rho0 = psi0 * psi0.dag()\n",
        "    rho0 = x * rho0/rho0.tr() + (1-x) * qutip.tensor([.5*qutip.qeye(2) for k in range(N)])\n",
        "    # Hamiltoniano    \n",
        "    \n",
        "    sampling = int(10*max(1,omega_1, omega_2)*deltat)\n",
        "    \n",
        "    c_op_list = spin_dephasing(gamma)\n",
        "\n",
        "    states = [rho0]\n",
        "    rho = rho0    \n",
        "    ts= [0]\n",
        "    for i in range(int(tmax/deltat)):\n",
        "        result = qutip.mesolve(H_H, states[-1], c_op_list, np.linspace(0,deltat, sampling),args={'gamma': gamma,'omega_1': omega_1, 'omega_2': omega_2})\n",
        "        states.append(result.states[-1])\n",
        "        ts.append(deltat*i)\n",
        "    result = Result(ts, states)\n",
        "    result.times = ts\n",
        "    result.states = states\n",
        "    result.projrho0_app = np.array([error_proj_state(rho, rho0, basis,distance) for rho in states])\n",
        "#    result.projrho_inst_app = np.array([error_proj_state(rho, qutip.tensor(rho.ptrace([0]),rho.ptrace([1])), basis, distance) for rho in states])\n",
        "    \n",
        "    title = f\" BW Dinámica cerrada no gaussiana wb1={omega_1} wb2={omega_2}\" \n",
        "\n",
        "    with open(title+\".pkl\",\"wb\") as f:\n",
        "        pickle.dump(result, f)\n",
        "    return result, title\n"
      ],
      "metadata": {
        "id": "_U6AxFh7w_oF"
      },
      "execution_count": 36,
      "outputs": []
    },
    {
      "cell_type": "code",
      "source": [
        "result, title = projected_evolution(x=.1, gamma = 1*np.e**-2, omega_1=3., omega_2=np.sqrt(48), temp=1, gaussian=True, deltat=5., tmax=10., distance=bures)\n",
        "\n",
        "\n",
        "plt.plot(result.times, result.projrho0_app, color=\"violet\", label=\"proj rho0\")\n",
        "plt.xlabel(\"t[s]\")\n",
        "plt.ylabel(\"Arccos(F)\")\n",
        "\n",
        "plt.legend()\n",
        "plt.title(title)"
      ],
      "metadata": {
        "colab": {
          "base_uri": "https://localhost:8080/",
          "height": 504
        },
        "id": "DkO1aUvZDVnC",
        "outputId": "e90834fe-2fd3-47c3-d491-1c73f116d26d"
      },
      "execution_count": 37,
      "outputs": [
        {
          "output_type": "error",
          "ename": "ValueError",
          "evalue": "ignored",
          "traceback": [
            "\u001b[0;31m---------------------------------------------------------------------------\u001b[0m",
            "\u001b[0;31mValueError\u001b[0m                                Traceback (most recent call last)",
            "\u001b[0;32m<ipython-input-37-fb89f600ef10>\u001b[0m in \u001b[0;36m<module>\u001b[0;34m()\u001b[0m\n\u001b[0;32m----> 1\u001b[0;31m \u001b[0mresult\u001b[0m\u001b[0;34m,\u001b[0m \u001b[0mtitle\u001b[0m \u001b[0;34m=\u001b[0m \u001b[0mprojected_evolution\u001b[0m\u001b[0;34m(\u001b[0m\u001b[0mx\u001b[0m\u001b[0;34m=\u001b[0m\u001b[0;36m.1\u001b[0m\u001b[0;34m,\u001b[0m \u001b[0mgamma\u001b[0m \u001b[0;34m=\u001b[0m \u001b[0;36m1\u001b[0m\u001b[0;34m*\u001b[0m\u001b[0mnp\u001b[0m\u001b[0;34m.\u001b[0m\u001b[0me\u001b[0m\u001b[0;34m**\u001b[0m\u001b[0;34m-\u001b[0m\u001b[0;36m2\u001b[0m\u001b[0;34m,\u001b[0m \u001b[0momega_1\u001b[0m\u001b[0;34m=\u001b[0m\u001b[0;36m3.\u001b[0m\u001b[0;34m,\u001b[0m \u001b[0momega_2\u001b[0m\u001b[0;34m=\u001b[0m\u001b[0mnp\u001b[0m\u001b[0;34m.\u001b[0m\u001b[0msqrt\u001b[0m\u001b[0;34m(\u001b[0m\u001b[0;36m48\u001b[0m\u001b[0;34m)\u001b[0m\u001b[0;34m,\u001b[0m \u001b[0mtemp\u001b[0m\u001b[0;34m=\u001b[0m\u001b[0;36m1\u001b[0m\u001b[0;34m,\u001b[0m \u001b[0mgaussian\u001b[0m\u001b[0;34m=\u001b[0m\u001b[0;32mTrue\u001b[0m\u001b[0;34m,\u001b[0m \u001b[0mdeltat\u001b[0m\u001b[0;34m=\u001b[0m\u001b[0;36m5.\u001b[0m\u001b[0;34m,\u001b[0m \u001b[0mtmax\u001b[0m\u001b[0;34m=\u001b[0m\u001b[0;36m10.\u001b[0m\u001b[0;34m,\u001b[0m \u001b[0mdistance\u001b[0m\u001b[0;34m=\u001b[0m\u001b[0mbures\u001b[0m\u001b[0;34m)\u001b[0m\u001b[0;34m\u001b[0m\u001b[0;34m\u001b[0m\u001b[0m\n\u001b[0m\u001b[1;32m      2\u001b[0m \u001b[0;34m\u001b[0m\u001b[0m\n\u001b[1;32m      3\u001b[0m \u001b[0;34m\u001b[0m\u001b[0m\n\u001b[1;32m      4\u001b[0m \u001b[0mplt\u001b[0m\u001b[0;34m.\u001b[0m\u001b[0mplot\u001b[0m\u001b[0;34m(\u001b[0m\u001b[0mresult\u001b[0m\u001b[0;34m.\u001b[0m\u001b[0mtimes\u001b[0m\u001b[0;34m,\u001b[0m \u001b[0mresult\u001b[0m\u001b[0;34m.\u001b[0m\u001b[0mprojrho0_app\u001b[0m\u001b[0;34m,\u001b[0m \u001b[0mcolor\u001b[0m\u001b[0;34m=\u001b[0m\u001b[0;34m\"violet\"\u001b[0m\u001b[0;34m,\u001b[0m \u001b[0mlabel\u001b[0m\u001b[0;34m=\u001b[0m\u001b[0;34m\"proj rho0\"\u001b[0m\u001b[0;34m)\u001b[0m\u001b[0;34m\u001b[0m\u001b[0;34m\u001b[0m\u001b[0m\n\u001b[1;32m      5\u001b[0m \u001b[0mplt\u001b[0m\u001b[0;34m.\u001b[0m\u001b[0mxlabel\u001b[0m\u001b[0;34m(\u001b[0m\u001b[0;34m\"t[s]\"\u001b[0m\u001b[0;34m)\u001b[0m\u001b[0;34m\u001b[0m\u001b[0;34m\u001b[0m\u001b[0m\n",
            "\u001b[0;32m<ipython-input-36-33dce370bbe9>\u001b[0m in \u001b[0;36mprojected_evolution\u001b[0;34m(x, gamma, omega_1, omega_2, temp, gaussian, deltat, tmax, distance)\u001b[0m\n\u001b[1;32m     19\u001b[0m     \u001b[0mts\u001b[0m\u001b[0;34m=\u001b[0m \u001b[0;34m[\u001b[0m\u001b[0;36m0\u001b[0m\u001b[0;34m]\u001b[0m\u001b[0;34m\u001b[0m\u001b[0;34m\u001b[0m\u001b[0m\n\u001b[1;32m     20\u001b[0m     \u001b[0;32mfor\u001b[0m \u001b[0mi\u001b[0m \u001b[0;32min\u001b[0m \u001b[0mrange\u001b[0m\u001b[0;34m(\u001b[0m\u001b[0mint\u001b[0m\u001b[0;34m(\u001b[0m\u001b[0mtmax\u001b[0m\u001b[0;34m/\u001b[0m\u001b[0mdeltat\u001b[0m\u001b[0;34m)\u001b[0m\u001b[0;34m)\u001b[0m\u001b[0;34m:\u001b[0m\u001b[0;34m\u001b[0m\u001b[0;34m\u001b[0m\u001b[0m\n\u001b[0;32m---> 21\u001b[0;31m         \u001b[0mresult\u001b[0m \u001b[0;34m=\u001b[0m \u001b[0mqutip\u001b[0m\u001b[0;34m.\u001b[0m\u001b[0mmesolve\u001b[0m\u001b[0;34m(\u001b[0m\u001b[0mH_H\u001b[0m\u001b[0;34m,\u001b[0m \u001b[0mstates\u001b[0m\u001b[0;34m[\u001b[0m\u001b[0;34m-\u001b[0m\u001b[0;36m1\u001b[0m\u001b[0;34m]\u001b[0m\u001b[0;34m,\u001b[0m \u001b[0mc_op_list\u001b[0m\u001b[0;34m,\u001b[0m \u001b[0mnp\u001b[0m\u001b[0;34m.\u001b[0m\u001b[0mlinspace\u001b[0m\u001b[0;34m(\u001b[0m\u001b[0;36m0\u001b[0m\u001b[0;34m,\u001b[0m\u001b[0mdeltat\u001b[0m\u001b[0;34m,\u001b[0m \u001b[0msampling\u001b[0m\u001b[0;34m)\u001b[0m\u001b[0;34m,\u001b[0m\u001b[0margs\u001b[0m\u001b[0;34m=\u001b[0m\u001b[0;34m{\u001b[0m\u001b[0;34m'gamma'\u001b[0m\u001b[0;34m:\u001b[0m \u001b[0mgamma\u001b[0m\u001b[0;34m,\u001b[0m\u001b[0;34m'omega_1'\u001b[0m\u001b[0;34m:\u001b[0m \u001b[0momega_1\u001b[0m\u001b[0;34m,\u001b[0m \u001b[0;34m'omega_2'\u001b[0m\u001b[0;34m:\u001b[0m \u001b[0momega_2\u001b[0m\u001b[0;34m}\u001b[0m\u001b[0;34m)\u001b[0m\u001b[0;34m\u001b[0m\u001b[0;34m\u001b[0m\u001b[0m\n\u001b[0m\u001b[1;32m     22\u001b[0m         \u001b[0mstates\u001b[0m\u001b[0;34m.\u001b[0m\u001b[0mappend\u001b[0m\u001b[0;34m(\u001b[0m\u001b[0mresult\u001b[0m\u001b[0;34m.\u001b[0m\u001b[0mstates\u001b[0m\u001b[0;34m[\u001b[0m\u001b[0;34m-\u001b[0m\u001b[0;36m1\u001b[0m\u001b[0;34m]\u001b[0m\u001b[0;34m)\u001b[0m\u001b[0;34m\u001b[0m\u001b[0;34m\u001b[0m\u001b[0m\n\u001b[1;32m     23\u001b[0m         \u001b[0mts\u001b[0m\u001b[0;34m.\u001b[0m\u001b[0mappend\u001b[0m\u001b[0;34m(\u001b[0m\u001b[0mdeltat\u001b[0m\u001b[0;34m*\u001b[0m\u001b[0mi\u001b[0m\u001b[0;34m)\u001b[0m\u001b[0;34m\u001b[0m\u001b[0;34m\u001b[0m\u001b[0m\n",
            "\u001b[0;32m/usr/local/lib/python3.7/dist-packages/qutip/mesolve.py\u001b[0m in \u001b[0;36mmesolve\u001b[0;34m(H, rho0, tlist, c_ops, e_ops, args, options, progress_bar, _safe_mode)\u001b[0m\n\u001b[1;32m    203\u001b[0m     \u001b[0mcheck_use_openmp\u001b[0m\u001b[0;34m(\u001b[0m\u001b[0moptions\u001b[0m\u001b[0;34m)\u001b[0m\u001b[0;34m\u001b[0m\u001b[0;34m\u001b[0m\u001b[0m\n\u001b[1;32m    204\u001b[0m \u001b[0;34m\u001b[0m\u001b[0m\n\u001b[0;32m--> 205\u001b[0;31m     use_mesolve = ((c_ops and len(c_ops) > 0)\n\u001b[0m\u001b[1;32m    206\u001b[0m                    \u001b[0;32mor\u001b[0m \u001b[0;34m(\u001b[0m\u001b[0;32mnot\u001b[0m \u001b[0misket\u001b[0m\u001b[0;34m(\u001b[0m\u001b[0mrho0\u001b[0m\u001b[0;34m)\u001b[0m\u001b[0;34m)\u001b[0m\u001b[0;34m\u001b[0m\u001b[0;34m\u001b[0m\u001b[0m\n\u001b[1;32m    207\u001b[0m                    \u001b[0;32mor\u001b[0m \u001b[0;34m(\u001b[0m\u001b[0misinstance\u001b[0m\u001b[0;34m(\u001b[0m\u001b[0mH\u001b[0m\u001b[0;34m,\u001b[0m \u001b[0mQobj\u001b[0m\u001b[0;34m)\u001b[0m \u001b[0;32mand\u001b[0m \u001b[0missuper\u001b[0m\u001b[0;34m(\u001b[0m\u001b[0mH\u001b[0m\u001b[0;34m)\u001b[0m\u001b[0;34m)\u001b[0m\u001b[0;34m\u001b[0m\u001b[0;34m\u001b[0m\u001b[0m\n",
            "\u001b[0;31mValueError\u001b[0m: The truth value of an array with more than one element is ambiguous. Use a.any() or a.all()"
          ]
        }
      ]
    },
    {
      "cell_type": "code",
      "source": [
        "a=4.2\n"
      ],
      "metadata": {
        "id": "mD2Lvc8pD24Y"
      },
      "execution_count": null,
      "outputs": []
    },
    {
      "cell_type": "code",
      "source": [
        "math.isnan(3.2)"
      ],
      "metadata": {
        "colab": {
          "base_uri": "https://localhost:8080/"
        },
        "id": "d54dua2FF5nl",
        "outputId": "81002396-bb82-46ea-8f05-24473d81fa25"
      },
      "execution_count": null,
      "outputs": [
        {
          "output_type": "execute_result",
          "data": {
            "text/plain": [
              "False"
            ]
          },
          "metadata": {},
          "execution_count": 145
        }
      ]
    },
    {
      "cell_type": "code",
      "source": [
        ""
      ],
      "metadata": {
        "id": "3HcrP15IF7Wo"
      },
      "execution_count": null,
      "outputs": []
    }
  ]
}