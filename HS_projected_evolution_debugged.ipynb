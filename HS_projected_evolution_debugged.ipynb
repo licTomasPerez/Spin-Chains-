{
  "nbformat": 4,
  "nbformat_minor": 0,
  "metadata": {
    "colab": {
      "name": "Untitled1.ipynb",
      "provenance": [],
      "include_colab_link": true
    },
    "kernelspec": {
      "name": "python3",
      "display_name": "Python 3"
    },
    "language_info": {
      "name": "python"
    }
  },
  "cells": [
    {
      "cell_type": "markdown",
      "metadata": {
        "id": "view-in-github",
        "colab_type": "text"
      },
      "source": [
        "<a href=\"https://colab.research.google.com/github/licTomasPerez/Spin-Chains-/blob/main/HS_projected_evolution_debugged.ipynb\" target=\"_parent\"><img src=\"https://colab.research.google.com/assets/colab-badge.svg\" alt=\"Open In Colab\"/></a>"
      ]
    },
    {
      "cell_type": "code",
      "execution_count": null,
      "metadata": {
        "colab": {
          "base_uri": "https://localhost:8080/"
        },
        "id": "CzAqDJ65kXXw",
        "outputId": "480f89d4-26eb-40f4-c92d-53b43fc16e60"
      },
      "outputs": [
        {
          "output_type": "stream",
          "name": "stdout",
          "text": [
            "Looking in indexes: https://pypi.org/simple, https://us-python.pkg.dev/colab-wheels/public/simple/\n",
            "Collecting qutip\n",
            "  Downloading qutip-4.7.0-cp37-cp37m-manylinux_2_5_x86_64.manylinux1_x86_64.manylinux_2_12_x86_64.manylinux2010_x86_64.whl (14.7 MB)\n",
            "\u001b[K     |████████████████████████████████| 14.7 MB 8.2 MB/s \n",
            "\u001b[?25hRequirement already satisfied: scipy>=1.0 in /usr/local/lib/python3.7/dist-packages (from qutip) (1.4.1)\n",
            "Requirement already satisfied: packaging in /usr/local/lib/python3.7/dist-packages (from qutip) (21.3)\n",
            "Requirement already satisfied: numpy>=1.16.6 in /usr/local/lib/python3.7/dist-packages (from qutip) (1.21.6)\n",
            "Requirement already satisfied: pyparsing!=3.0.5,>=2.0.2 in /usr/local/lib/python3.7/dist-packages (from packaging->qutip) (3.0.9)\n",
            "Installing collected packages: qutip\n",
            "Successfully installed qutip-4.7.0\n",
            "Looking in indexes: https://pypi.org/simple, https://us-python.pkg.dev/colab-wheels/public/simple/\n",
            "Requirement already satisfied: scipy in /usr/local/lib/python3.7/dist-packages (1.4.1)\n",
            "Requirement already satisfied: numpy>=1.13.3 in /usr/local/lib/python3.7/dist-packages (from scipy) (1.21.6)\n",
            "Looking in indexes: https://pypi.org/simple, https://us-python.pkg.dev/colab-wheels/public/simple/\n",
            "Requirement already satisfied: matplotlib.inline in /usr/local/lib/python3.7/dist-packages (0.1.3)\n",
            "Requirement already satisfied: traitlets in /usr/local/lib/python3.7/dist-packages (from matplotlib.inline) (5.1.1)\n",
            "Looking in indexes: https://pypi.org/simple, https://us-python.pkg.dev/colab-wheels/public/simple/\n",
            "Requirement already satisfied: numpy in /usr/local/lib/python3.7/dist-packages (1.21.6)\n"
          ]
        }
      ],
      "source": [
        "!pip install qutip\n",
        "!pip install scipy\n",
        "!pip install matplotlib.inline\n",
        "!pip install numpy"
      ]
    },
    {
      "cell_type": "code",
      "source": [
        "!jt -t chesterish"
      ],
      "metadata": {
        "id": "YB5yATBM-FC3"
      },
      "execution_count": 73,
      "outputs": []
    },
    {
      "cell_type": "markdown",
      "source": [
        "1. Construir los operador x, p, conmutadores\n",
        "2. "
      ],
      "metadata": {
        "id": "EmlzVBcV2X66"
      }
    },
    {
      "cell_type": "code",
      "source": [
        "import qutip\n",
        "import matplotlib.pyplot as plt \n",
        "import numpy as np\n",
        "import scipy.optimize as opt \n",
        "import pickle\n",
        "import math, cmath\n",
        "from IPython.display import display, Math, Latex"
      ],
      "metadata": {
        "id": "6td6yO61kg2q"
      },
      "execution_count": 74,
      "outputs": []
    },
    {
      "cell_type": "code",
      "source": [
        "def prod_basis(b1, b2):\n",
        "  return [qutip.tensor(b,s) for b in b1 for s in b2]\n",
        "\n",
        "def scalar_prod(op1, op2, rho0 = None):\n",
        "  if op1.dims[0][0]!=op2.dims[0][0]:\n",
        "    return \"Incompatible Qobj dimensions\"\n",
        "  if rho0 is None:\n",
        "    rho0 = qutip.qeye(op1.dims[0])/op1.dims[0][0]\n",
        "  result = .5*(rho0*(op1*op2.dag()+op2.dag()*op1)).tr()\n",
        "  result = result.real\n",
        "  return result\n",
        "\n",
        "def base_orth(ops, rho0):\n",
        "  #print(\"base\")\n",
        "  if isinstance(ops[0], list):\n",
        "    ops = [op for op1l in ops for op in op1l]\n",
        "  #print(type(ops),type(ops[0]))\n",
        "  dim = ops[0].dims[0][0]\n",
        "  #print(\"dim=\",dim)\n",
        "  basis = []\n",
        "  for op in ops: \n",
        "    alpha = [scalar_prod(op2, op, rho0) for op2 in basis]\n",
        "    op_mod = op - sum([c*op2 for c, op2, in zip(alpha, basis)])\n",
        "    op_mod = op_mod/(np.sqrt(scalar_prod(op_mod,op_mod,rho0)))\n",
        "    basis.append(op_mod)\n",
        "  return basis\n",
        "\n",
        "def logM(rho):\n",
        "  eigvals, eigvecs = rho.eigenstates()\n",
        "  return sum([np.log(vl)*vc*vc.dag() for vl, vc in zip(eigvals, eigvecs) if vl > 0])\n",
        "\n",
        "def sqrtM(rho):\n",
        "  eigvals, eigvecs = rho.eigenstates()\n",
        "  return sum([(abs(vl)**.5)*vc*vc.dag() for vl, vc in zip(eigvals, eigvecs)])\n",
        "\n",
        "def proj_op(K, basis, rho0):\n",
        "  return sum([scalar_prod(b, K,rho0) * b for b in basis])\n",
        "\n",
        "def rel_entropy(rho, sigma):\n",
        "    val = (rho*(logM(rho)-logM(sigma))).tr()\n",
        "    if abs(val.imag)>1.e-6:\n",
        "        print(\"rho or sigma not positive\")\n",
        "        #print(rho.eigenstates())\n",
        "        #print(sigma.eigenstates())\n",
        "    return val.real"
      ],
      "metadata": {
        "id": "wllgZoKUkY3j"
      },
      "execution_count": 75,
      "outputs": []
    },
    {
      "cell_type": "code",
      "source": [
        "def bures(rho, sigma):\n",
        "    val = abs((sqrtM(rho)*sqrtM(sigma)).tr())\n",
        "    val = max(min(val,1.),-1.)\n",
        "    return np.arccos(val)/np.pi\n",
        "        \n",
        "def maxent_rho(rho, basis):   \n",
        "    def test(x, rho, basis):\n",
        "        k = sum([-u*b for u,b in zip(x, basis)])        \n",
        "        sigma = (.5*(k+k.dag())).expm()\n",
        "        sigma = sigma/sigma.tr()\n",
        "        return rel_entropy(rho, sigma)    \n",
        "    res = opt.minimize(test,np.zeros(len(basis)),args=(rho,basis))\n",
        "    k = sum([-u*b for u,b in zip(res.x, basis)])        \n",
        "    sigma = (.5*(k+k.dag())).expm()\n",
        "    sigma = sigma/sigma.tr()\n",
        "    return sigma\n",
        " \n",
        "def error_maxent_state(rho, basis, distance=bures):\n",
        "    try:\n",
        "        sigma = maxent_rho(rho, basis)\n",
        "        return distance(rho,sigma)\n",
        "    except:\n",
        "        print(\"fail error max-ent state\")\n",
        "        return None\n",
        "       \n",
        "def error_proj_state(rho, rho0, basis, distance=bures):\n",
        "    try:\n",
        "        basis = base_orth(basis, rho0)\n",
        "    except:\n",
        "      print (\"orth error\")\n",
        "      raise\n",
        "    try:\n",
        "        sigma = proj_op(logM(rho), basis, rho0).expm()\n",
        "    except:\n",
        "      print(\"gram error\")\n",
        "    try:\n",
        "        return distance(rho, sigma)\n",
        "    except:\n",
        "        print(\"fail error proj state\")\n",
        "        return None"
      ],
      "metadata": {
        "id": "iOcDcqRLvQAb"
      },
      "execution_count": 76,
      "outputs": []
    },
    {
      "cell_type": "code",
      "source": [
        "N = 3            # número de spines\n",
        "\n",
        "h  = 1.0 * 2 * np.pi * np.ones(N) \n",
        "Jx = 0.15 * 2 * np.pi * np.ones(N)\n",
        "Jy = 0.25 * 2 * np.pi * np.ones(N)\n",
        "Jz = 0.1 * 2 * np.pi * np.ones(N)\n",
        "\n",
        "id2 = qutip.qeye(2)\n",
        "sx = .5*qutip.sigmax()\n",
        "sy = .5*qutip.sigmay()\n",
        "sz = .5*qutip.sigmaz()\n",
        "\n",
        "sx_list = []\n",
        "sy_list = []\n",
        "sz_list = []\n",
        "\n",
        "for n in range(N):\n",
        "    operator_list = []\n",
        "    for m in range(N):\n",
        "        operator_list.append(id2)\n",
        "    operator_list[n] = sx\n",
        "    sx_list.append(qutip.tensor(operator_list))\n",
        "        \n",
        "    operator_list[n] = sy\n",
        "    sy_list.append(qutip.tensor(operator_list))\n",
        "        \n",
        "    operator_list[n] = sz\n",
        "    sz_list.append(qutip.tensor(operator_list))\n",
        "\n",
        "def Heisenberg_hamiltonian (N, Jx, Jy, Jz, h):\n",
        "  H = 0\n",
        "  for n in range(N):\n",
        "    H += -0.5*h[n]*sz_list[n]\n",
        "        \n",
        "  for n in range(N-1):\n",
        "    H += -0.5 * Jx[n] * sx_list[n] * sx_list[n+1]\n",
        "    H += -0.5 * Jy[n] * sy_list[n] * sy_list[n+1]\n",
        "    H += -0.5 * Jz[n] * sz_list[n] * sz_list[n+1]\n",
        "  return H\n",
        "\n",
        "x_op = sum((.5 - sz_list[a])*a for a in range(N))\n",
        "p_op = 1j * (x_op*Heisenberg_hamiltonian (N, Jx, Jy, Jz, h) - Heisenberg_hamiltonian (N, Jx, Jy, Jz, h)*x_op)\n",
        "comm_xp = .5*(x_op*p_op + p_op*x_op)\n",
        "corr_xp = -1j*(x_op*p_op - p_op*x_op)\n",
        "p_dot = 1j*(Heisenberg_hamiltonian (N, Jx, Jy, Jz, h) * p_op - p_op * Heisenberg_hamiltonian (N, Jx, Jy, Jz, h))\n",
        "\n",
        "entropy_VN = []\n",
        "def callback_entropy_VN (t,rhot):\n",
        "    entropy_VN.append(qutip.entropy_vn(rhot))"
      ],
      "metadata": {
        "id": "C4U410MBw0WJ"
      },
      "execution_count": 77,
      "outputs": []
    },
    {
      "cell_type": "code",
      "source": [
        "print(p_dot)"
      ],
      "metadata": {
        "id": "8dRVUi2C9TyW",
        "outputId": "2ce869e5-0975-4d02-d987-23edf9f4468f",
        "colab": {
          "base_uri": "https://localhost:8080/"
        }
      },
      "execution_count": null,
      "outputs": [
        {
          "output_type": "stream",
          "name": "stdout",
          "text": [
            "Quantum object: dims = [[2, 2, 2], [2, 2, 2]], shape = (8, 8), type = oper, isherm = True\n",
            "Qobj data =\n",
            "[[-0.04934802  0.          0.         -1.51745168  0.          0.09869604\n",
            "  -0.50581723  0.        ]\n",
            " [ 0.          0.18505508 -0.04934802  0.         -0.02467401  0.\n",
            "   0.         -0.48114321]\n",
            " [ 0.         -0.04934802  0.          0.          0.04934802  0.\n",
            "   0.         -0.09869604]\n",
            " [-1.51745168  0.          0.          0.2344031   0.         -0.04934802\n",
            "   0.02467401  0.        ]\n",
            " [ 0.         -0.02467401  0.04934802  0.         -0.2344031   0.\n",
            "   0.         -1.44342964]\n",
            " [ 0.09869604  0.          0.         -0.04934802  0.          0.\n",
            "   0.04934802  0.        ]\n",
            " [-0.50581723  0.          0.          0.02467401  0.          0.04934802\n",
            "  -0.18505508  0.        ]\n",
            " [ 0.         -0.48114321 -0.09869604  0.         -1.44342964  0.\n",
            "   0.          0.04934802]]\n"
          ]
        }
      ]
    },
    {
      "cell_type": "code",
      "source": [
        "psi1_list = []\n",
        "psi1_list.append(qutip.basis(2,1))\n",
        "for n in range(N-1):\n",
        "    psi1_list.append(qutip.basis(2,0))\n",
        "\n",
        "psi2_list = []\n",
        "psi2_list.append(qutip.basis(2,0))\n",
        "psi2_list.append(qutip.basis(2,1))\n",
        "for n in range(N-2):\n",
        "    psi2_list.append(qutip.basis(2,0))\n",
        "\n",
        "psi01 = qutip.tensor(psi1_list) ## siendo este un estado puro, su entropía de VN es cero\n",
        "psi02 = qutip.tensor(psi2_list) \n",
        "psi0 = psi01+psi02 "
      ],
      "metadata": {
        "id": "hIAULt6A-sj_"
      },
      "execution_count": 78,
      "outputs": []
    },
    {
      "cell_type": "code",
      "source": [
        "print(psi02)"
      ],
      "metadata": {
        "colab": {
          "base_uri": "https://localhost:8080/"
        },
        "id": "8nTaciA25-qN",
        "outputId": "ae744902-7a1e-4ab8-a169-26ace930c8de"
      },
      "execution_count": 79,
      "outputs": [
        {
          "output_type": "stream",
          "name": "stdout",
          "text": [
            "Quantum object: dims = [[2, 2, 2], [1, 1, 1]], shape = (8, 1), type = ket\n",
            "Qobj data =\n",
            "[[0.]\n",
            " [0.]\n",
            " [1.]\n",
            " [0.]\n",
            " [0.]\n",
            " [0.]\n",
            " [0.]\n",
            " [0.]]\n"
          ]
        }
      ]
    },
    {
      "cell_type": "code",
      "source": [
        "print(r\"$$S(\\psi_01)=$$\", qutip.entropy_vn(psi01))\n",
        "print(r\"$$S(\\psi_02)=$$\", qutip.entropy_vn(psi02))\n",
        "print(r\"$$S(\\psi_01+\\psi_02)=$$\", qutip.entropy_vn(psi01))"
      ],
      "metadata": {
        "colab": {
          "base_uri": "https://localhost:8080/"
        },
        "id": "qa0v3WX4EUjn",
        "outputId": "81181844-a9e0-4a8e-fa81-4cf1d2b13320"
      },
      "execution_count": 80,
      "outputs": [
        {
          "output_type": "stream",
          "name": "stdout",
          "text": [
            "$$S(\\psi_01)=$$ -0.0\n",
            "$$S(\\psi_02)=$$ -0.0\n",
            "$$S(\\psi_01+\\psi_02)=$$ -0.0\n"
          ]
        }
      ]
    },
    {
      "cell_type": "code",
      "source": [
        "class Result(object):\n",
        "    def __init__(self, ts=None, states=None):\n",
        "        self.ts = ts\n",
        "        self.states = states\n",
        "        self.projrho0_app = None   \n",
        "        self.projrho_inst_app = None "
      ],
      "metadata": {
        "id": "-XSlIXhc_Ts-"
      },
      "execution_count": 81,
      "outputs": []
    },
    {
      "cell_type": "code",
      "source": [
        "def spin_dephasing(gamma):\n",
        "  c_op_list = []\n",
        "  collapse_weights = gamma * np.ones(N)\n",
        "  for n in range(N):\n",
        "        if collapse_weights[n] > 0.0:\n",
        "            c_op_list.append(np.sqrt(collapse_weights[n]) * sz_list[n])\n",
        "  return c_op_list"
      ],
      "metadata": {
        "id": "s2layG4xwFv0"
      },
      "execution_count": 82,
      "outputs": []
    },
    {
      "cell_type": "markdown",
      "source": [
        "Considero un estado inicial descorrelacionado de la forma de \n",
        "\n",
        "$$\n",
        "\\rho_0 = x |\\Phi\\rangle \\langle\\Phi| + (1-x)\\frac{{I_d}}{d}\n",
        "$$"
      ],
      "metadata": {
        "id": "Aa8fWiwYqRWs"
      }
    },
    {
      "cell_type": "code",
      "source": [
        "def projected_evolution(x=.5, gamma = 1*np.e*-2, omega_1=3., omega_2=3.,temp=1, gaussian=False, deltat=10., tmax = 500., distance=bures):\n",
        "    basis = [sx_list, sy_list, sz_list]\n",
        "    H_H = Heisenberg_hamiltonian(N,Jx,Jy,Jz,h)\n",
        "    rho0 = psi0 * psi0.dag()\n",
        "    rho0 = x * rho0/rho0.tr() + (1-x) * qutip.tensor([.5*qutip.qeye(2) for k in range(N)])\n",
        "    # Hamiltoniano    \n",
        "\n",
        "    obs = [x_op, p_op]\n",
        "           #, x_op**2,p_op**2, corr_op, p_dot]\n",
        "\n",
        "    sampling = int(10*max(1,omega_1, omega_2)*deltat)\n",
        "    \n",
        "    c_op_list = spin_dephasing(gamma)\n",
        "\n",
        "    states = [rho0]\n",
        "    rho = rho0    \n",
        "    ts= [0]\n",
        "    for i in range(int(tmax/deltat)):\n",
        "        result = qutip.mesolve(H_H, states[-1], np.linspace(0,deltat, sampling), obs, args={'gamma': gamma,'omega_1': omega_1, 'omega_2': omega_2})\n",
        "        states.append(result.states[-1])\n",
        "        ts.append(deltat*i)\n",
        "    result = Result(ts, states)\n",
        "    result.times = ts\n",
        "    result.states = states\n",
        "    result.projrho0_app = np.array([error_proj_state(rho, rho0, basis,distance) for rho in states])\n",
        "#    result.projrho_inst_app = np.array([error_proj_state(rho, qutip.tensor(rho.ptrace([0]),rho.ptrace([1])), basis, distance) for rho in states])\n",
        "    \n",
        "    title = f\" BW Dinámica cerrada no gaussiana wb1={omega_1} wb2={omega_2}\" \n",
        "\n",
        "    with open(title+\".pkl\",\"wb\") as f:\n",
        "        pickle.dump(result, f)\n",
        "    return obs"
      ],
      "metadata": {
        "id": "_U6AxFh7w_oF"
      },
      "execution_count": 83,
      "outputs": []
    },
    {
      "cell_type": "code",
      "source": [
        "results = projected_evolution(x=.5, gamma = 1*np.e*-2, omega_1=3., omega_2=3.,temp=1, gaussian=False, deltat=1., tmax = 500., distance=bures)\n",
        "\n",
        "#plt.plot(results[0], label=\"x\")\n",
        "plt.plot(results[1], label=\"p\")"
      ],
      "metadata": {
        "colab": {
          "base_uri": "https://localhost:8080/",
          "height": 439
        },
        "id": "KWJUaJwzS7e2",
        "outputId": "954670d9-24b6-48e9-ecd3-c67b3e4a54dc"
      },
      "execution_count": 86,
      "outputs": [
        {
          "output_type": "stream",
          "name": "stderr",
          "text": [
            "/usr/local/lib/python3.7/dist-packages/matplotlib/cbook/__init__.py:1317: ComplexWarning: Casting complex values to real discards the imaginary part\n",
            "  return np.asarray(x, float)\n"
          ]
        },
        {
          "output_type": "execute_result",
          "data": {
            "text/plain": [
              "[<matplotlib.lines.Line2D at 0x7f5cf16264d0>,\n",
              " <matplotlib.lines.Line2D at 0x7f5cf16269d0>,\n",
              " <matplotlib.lines.Line2D at 0x7f5cf1626590>,\n",
              " <matplotlib.lines.Line2D at 0x7f5cf16261d0>,\n",
              " <matplotlib.lines.Line2D at 0x7f5cf1626a50>,\n",
              " <matplotlib.lines.Line2D at 0x7f5cf1f72a90>,\n",
              " <matplotlib.lines.Line2D at 0x7f5cf1f723d0>,\n",
              " <matplotlib.lines.Line2D at 0x7f5cf9edcb90>]"
            ]
          },
          "metadata": {},
          "execution_count": 86
        },
        {
          "output_type": "display_data",
          "data": {
            "text/plain": [
              "<Figure size 432x288 with 1 Axes>"
            ],
            "image/png": "[encoded data removed]"
          },
          "metadata": {
            "needs_background": "light"
          }
        }
      ]
    },
    {
      "cell_type": "code",
      "source": [
        "results = projected_evolution(x=.5, gamma = 1*np.e*-2, omega_1=3., omega_2=3.,temp=1, gaussian=False, deltat=1., tmax = 200., distance=bures)\n",
        "\n",
        "plt.plot(results, label=\"p\")"
      ],
      "metadata": {
        "id": "UZo4TiKh72g-",
        "outputId": "73c03991-3841-4eb4-9531-5a8cebff0718",
        "colab": {
          "base_uri": "https://localhost:8080/",
          "height": 439
        }
      },
      "execution_count": null,
      "outputs": [
        {
          "output_type": "stream",
          "name": "stderr",
          "text": [
            "/usr/local/lib/python3.7/dist-packages/matplotlib/cbook/__init__.py:1317: ComplexWarning: Casting complex values to real discards the imaginary part\n",
            "  return np.asarray(x, float)\n"
          ]
        },
        {
          "output_type": "execute_result",
          "data": {
            "text/plain": [
              "[<matplotlib.lines.Line2D at 0x7f5cfa3a08d0>,\n",
              " <matplotlib.lines.Line2D at 0x7f5cfa3a0b10>,\n",
              " <matplotlib.lines.Line2D at 0x7f5cfa3a0d90>,\n",
              " <matplotlib.lines.Line2D at 0x7f5cfa3a0fd0>,\n",
              " <matplotlib.lines.Line2D at 0x7f5cfa3a0c90>,\n",
              " <matplotlib.lines.Line2D at 0x7f5cfc8d4ed0>,\n",
              " <matplotlib.lines.Line2D at 0x7f5cfcbb85d0>,\n",
              " <matplotlib.lines.Line2D at 0x7f5cfa3bae10>]"
            ]
          },
          "metadata": {},
          "execution_count": 55
        },
        {
          "output_type": "display_data",
          "data": {
            "text/plain": [
              "<Figure size 432x288 with 1 Axes>"
            ],
            "image/png": "[encoded data removed]"
          },
          "metadata": {
            "needs_background": "light"
          }
        }
      ]
    },
    {
      "cell_type": "code",
      "source": [
        "plt.plot(results, corr_op)"
      ],
      "metadata": {
        "colab": {
          "base_uri": "https://localhost:8080/",
          "height": 439
        },
        "id": "tgB31qZ3KATN",
        "outputId": "549e9b0b-89e0-47f8-b84d-e34383fed968"
      },
      "execution_count": null,
      "outputs": [
        {
          "output_type": "stream",
          "name": "stderr",
          "text": [
            "/usr/local/lib/python3.7/dist-packages/matplotlib/cbook/__init__.py:1317: ComplexWarning: Casting complex values to real discards the imaginary part\n",
            "  return np.asarray(x, float)\n"
          ]
        },
        {
          "output_type": "execute_result",
          "data": {
            "text/plain": [
              "[<matplotlib.lines.Line2D at 0x7f5cfa008d10>,\n",
              " <matplotlib.lines.Line2D at 0x7f5cfa008b90>,\n",
              " <matplotlib.lines.Line2D at 0x7f5cfa008a10>,\n",
              " <matplotlib.lines.Line2D at 0x7f5cfa017590>,\n",
              " <matplotlib.lines.Line2D at 0x7f5cfa0173d0>,\n",
              " <matplotlib.lines.Line2D at 0x7f5cfa017390>,\n",
              " <matplotlib.lines.Line2D at 0x7f5cfa017610>,\n",
              " <matplotlib.lines.Line2D at 0x7f5cfa017f90>]"
            ]
          },
          "metadata": {},
          "execution_count": 57
        },
        {
          "output_type": "display_data",
          "data": {
            "text/plain": [
              "<Figure size 432x288 with 1 Axes>"
            ],
            "image/png": "[encoded data removed]"
          },
          "metadata": {
            "needs_background": "light"
          }
        }
      ]
    },
    {
      "cell_type": "code",
      "source": [
        "result, title = projected_evolution(x=.1, gamma = 1*np.e**-2, omega_1=3., omega_2=np.sqrt(48), temp=1, gaussian=True, deltat=5., tmax=10., distance=bures)\n",
        "\n",
        "plt.plot(result.times, result.projrho0_app, color=\"violet\", label=\"proj rho0\")\n",
        "plt.xlabel(\"t[s]\")\n",
        "plt.ylabel(\"Arccos(F)\")\n",
        "\n",
        "plt.legend()\n",
        "plt.title(title)"
      ],
      "metadata": {
        "colab": {
          "base_uri": "https://localhost:8080/",
          "height": 469
        },
        "id": "DkO1aUvZDVnC",
        "outputId": "041e6411-95aa-4ac2-ab2b-598131215205"
      },
      "execution_count": null,
      "outputs": [
        {
          "output_type": "stream",
          "name": "stdout",
          "text": [
            "base\n",
            "<class 'list'> <class 'qutip.qobj.Qobj'>\n",
            "dim= 2\n",
            "base\n",
            "<class 'list'> <class 'qutip.qobj.Qobj'>\n",
            "dim= 2\n",
            "base\n",
            "<class 'list'> <class 'qutip.qobj.Qobj'>\n",
            "dim= 2\n"
          ]
        },
        {
          "output_type": "execute_result",
          "data": {
            "text/plain": [
              "Text(0.5, 1.0, ' BW Dinámica cerrada no gaussiana wb1=3.0 wb2=6.928203230275509')"
            ]
          },
          "metadata": {},
          "execution_count": 14
        },
        {
          "output_type": "display_data",
          "data": {
            "text/plain": [
              "<Figure size 432x288 with 1 Axes>"
            ],
            "image/png": "[encoded data removed]"
          },
          "metadata": {
            "needs_background": "light"
          }
        }
      ]
    },
    {
      "cell_type": "code",
      "source": [
        "a=4.2\n"
      ],
      "metadata": {
        "id": "mD2Lvc8pD24Y"
      },
      "execution_count": null,
      "outputs": []
    },
    {
      "cell_type": "code",
      "source": [
        "math.isnan(3.2)"
      ],
      "metadata": {
        "colab": {
          "base_uri": "https://localhost:8080/"
        },
        "id": "d54dua2FF5nl",
        "outputId": "81002396-bb82-46ea-8f05-24473d81fa25"
      },
      "execution_count": null,
      "outputs": [
        {
          "output_type": "execute_result",
          "data": {
            "text/plain": [
              "False"
            ]
          },
          "metadata": {},
          "execution_count": 145
        }
      ]
    },
    {
      "cell_type": "code",
      "source": [
        "c_op_list = spin_dephasing(.1)\n",
        "[type(o) for o in c_op_list]"
      ],
      "metadata": {
        "id": "3HcrP15IF7Wo",
        "outputId": "91537b54-b26c-4fa0-ab97-393a9c566e43",
        "colab": {
          "base_uri": "https://localhost:8080/"
        }
      },
      "execution_count": null,
      "outputs": [
        {
          "output_type": "execute_result",
          "data": {
            "text/plain": [
              "[qutip.qobj.Qobj,\n",
              " qutip.qobj.Qobj,\n",
              " qutip.qobj.Qobj,\n",
              " qutip.qobj.Qobj,\n",
              " qutip.qobj.Qobj]"
            ]
          },
          "metadata": {},
          "execution_count": 11
        }
      ]
    },
    {
      "cell_type": "code",
      "source": [
        ""
      ],
      "metadata": {
        "id": "GqMyttoB0bFk"
      },
      "execution_count": null,
      "outputs": []
    },
    {
      "cell_type": "code",
      "source": [
        "rho0 = qutip.tensor([.5*qutip.qeye(2) for k in range(3)])\n",
        "id5 = .125*qutip.qeye(2**3)\n",
        "print(rho0)\n",
        "print(id5)"
      ],
      "metadata": {
        "id": "tyR_B4ouFoZa",
        "outputId": "1b11807d-3acc-4eab-f871-6b44a48656d2",
        "colab": {
          "base_uri": "https://localhost:8080/"
        }
      },
      "execution_count": null,
      "outputs": [
        {
          "output_type": "stream",
          "name": "stdout",
          "text": [
            "Quantum object: dims = [[2, 2, 2], [2, 2, 2]], shape = (8, 8), type = oper, isherm = True\n",
            "Qobj data =\n",
            "[[0.125 0.    0.    0.    0.    0.    0.    0.   ]\n",
            " [0.    0.125 0.    0.    0.    0.    0.    0.   ]\n",
            " [0.    0.    0.125 0.    0.    0.    0.    0.   ]\n",
            " [0.    0.    0.    0.125 0.    0.    0.    0.   ]\n",
            " [0.    0.    0.    0.    0.125 0.    0.    0.   ]\n",
            " [0.    0.    0.    0.    0.    0.125 0.    0.   ]\n",
            " [0.    0.    0.    0.    0.    0.    0.125 0.   ]\n",
            " [0.    0.    0.    0.    0.    0.    0.    0.125]]\n",
            "Quantum object: dims = [[8], [8]], shape = (8, 8), type = oper, isherm = True\n",
            "Qobj data =\n",
            "[[0.125 0.    0.    0.    0.    0.    0.    0.   ]\n",
            " [0.    0.125 0.    0.    0.    0.    0.    0.   ]\n",
            " [0.    0.    0.125 0.    0.    0.    0.    0.   ]\n",
            " [0.    0.    0.    0.125 0.    0.    0.    0.   ]\n",
            " [0.    0.    0.    0.    0.125 0.    0.    0.   ]\n",
            " [0.    0.    0.    0.    0.    0.125 0.    0.   ]\n",
            " [0.    0.    0.    0.    0.    0.    0.125 0.   ]\n",
            " [0.    0.    0.    0.    0.    0.    0.    0.125]]\n"
          ]
        }
      ]
    }
  ]
}