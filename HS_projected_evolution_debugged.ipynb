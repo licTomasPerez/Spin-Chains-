{
  "nbformat": 4,
  "nbformat_minor": 0,
  "metadata": {
    "colab": {
      "name": "Untitled1.ipynb",
      "provenance": [],
      "include_colab_link": true
    },
    "kernelspec": {
      "name": "python3",
      "display_name": "Python 3"
    },
    "language_info": {
      "name": "python"
    }
  },
  "cells": [
    {
      "cell_type": "markdown",
      "metadata": {
        "id": "view-in-github",
        "colab_type": "text"
      },
      "source": [
        "<a href=\"https://colab.research.google.com/github/licTomasPerez/Spin-Chains-/blob/main/HS_projected_evolution_debugged.ipynb\" target=\"_parent\"><img src=\"https://colab.research.google.com/assets/colab-badge.svg\" alt=\"Open In Colab\"/></a>"
      ]
    },
    {
      "cell_type": "code",
      "execution_count": 1,
      "metadata": {
        "colab": {
          "base_uri": "https://localhost:8080/"
        },
        "id": "CzAqDJ65kXXw",
        "outputId": "d6539488-0be4-408d-fc7b-fe92796cc2af"
      },
      "outputs": [
        {
          "output_type": "stream",
          "name": "stdout",
          "text": [
            "Looking in indexes: https://pypi.org/simple, https://us-python.pkg.dev/colab-wheels/public/simple/\n",
            "Collecting qutip\n",
            "  Downloading qutip-4.7.0-cp37-cp37m-manylinux_2_5_x86_64.manylinux1_x86_64.manylinux_2_12_x86_64.manylinux2010_x86_64.whl (14.7 MB)\n",
            "\u001b[K     |████████████████████████████████| 14.7 MB 3.7 MB/s \n",
            "\u001b[?25hRequirement already satisfied: packaging in /usr/local/lib/python3.7/dist-packages (from qutip) (21.3)\n",
            "Requirement already satisfied: numpy>=1.16.6 in /usr/local/lib/python3.7/dist-packages (from qutip) (1.21.6)\n",
            "Requirement already satisfied: scipy>=1.0 in /usr/local/lib/python3.7/dist-packages (from qutip) (1.4.1)\n",
            "Requirement already satisfied: pyparsing!=3.0.5,>=2.0.2 in /usr/local/lib/python3.7/dist-packages (from packaging->qutip) (3.0.9)\n",
            "Installing collected packages: qutip\n",
            "Successfully installed qutip-4.7.0\n",
            "Looking in indexes: https://pypi.org/simple, https://us-python.pkg.dev/colab-wheels/public/simple/\n",
            "Requirement already satisfied: scipy in /usr/local/lib/python3.7/dist-packages (1.4.1)\n",
            "Requirement already satisfied: numpy>=1.13.3 in /usr/local/lib/python3.7/dist-packages (from scipy) (1.21.6)\n",
            "Looking in indexes: https://pypi.org/simple, https://us-python.pkg.dev/colab-wheels/public/simple/\n",
            "Requirement already satisfied: matplotlib.inline in /usr/local/lib/python3.7/dist-packages (0.1.3)\n",
            "Requirement already satisfied: traitlets in /usr/local/lib/python3.7/dist-packages (from matplotlib.inline) (5.1.1)\n",
            "Looking in indexes: https://pypi.org/simple, https://us-python.pkg.dev/colab-wheels/public/simple/\n",
            "Requirement already satisfied: numpy in /usr/local/lib/python3.7/dist-packages (1.21.6)\n"
          ]
        }
      ],
      "source": [
        "!pip install qutip\n",
        "!pip install scipy\n",
        "!pip install matplotlib.inline\n",
        "!pip install numpy"
      ]
    },
    {
      "cell_type": "code",
      "source": [
        "!jt -t chesterish"
      ],
      "metadata": {
        "id": "YB5yATBM-FC3"
      },
      "execution_count": null,
      "outputs": []
    },
    {
      "cell_type": "markdown",
      "source": [
        "1. Construir los operador x, p, conmutadores\n",
        "2. "
      ],
      "metadata": {
        "id": "EmlzVBcV2X66"
      }
    },
    {
      "cell_type": "code",
      "source": [
        "import qutip\n",
        "import matplotlib.pyplot as plt \n",
        "import numpy as np\n",
        "import scipy.optimize as opt \n",
        "import pickle\n",
        "import math, cmath\n",
        "from IPython.display import display, Math, Latex"
      ],
      "metadata": {
        "id": "6td6yO61kg2q"
      },
      "execution_count": 2,
      "outputs": []
    },
    {
      "cell_type": "code",
      "source": [
        "def prod_basis(b1, b2):\n",
        "  return [qutip.tensor(b,s) for b in b1 for s in b2]\n",
        "\n",
        "def scalar_prod(op1, op2, rho0 = None):\n",
        "  if op1.dims[0][0]!=op2.dims[0][0]:\n",
        "    return \"Incompatible Qobj dimensions\"\n",
        "  if rho0 is None:\n",
        "    rho0 = qutip.qeye(op1.dims[0])/op1.dims[0][0]\n",
        "  result = .5*(rho0*(op1*op2.dag()+op2.dag()*op1)).tr()\n",
        "  result = result.real\n",
        "  return result\n",
        "\n",
        "def base_orth(ops, rho0):\n",
        "  #print(\"base\")\n",
        "  if isinstance(ops[0], list):\n",
        "    ops = [op for op1l in ops for op in op1l]\n",
        "  #print(type(ops),type(ops[0]))\n",
        "  dim = ops[0].dims[0][0]\n",
        "  #print(\"dim=\",dim)\n",
        "  basis = []\n",
        "  for op in ops: \n",
        "    alpha = [scalar_prod(op2, op, rho0) for op2 in basis]\n",
        "    op_mod = op - sum([c*op2 for c, op2, in zip(alpha, basis)])\n",
        "    op_mod = op_mod/(np.sqrt(scalar_prod(op_mod,op_mod,rho0)))\n",
        "    basis.append(op_mod)\n",
        "  return basis\n",
        "\n",
        "def logM(rho):\n",
        "  eigvals, eigvecs = rho.eigenstates()\n",
        "  return sum([np.log(vl)*vc*vc.dag() for vl, vc in zip(eigvals, eigvecs) if vl > 0])\n",
        "\n",
        "def sqrtM(rho):\n",
        "  eigvals, eigvecs = rho.eigenstates()\n",
        "  return sum([(abs(vl)**.5)*vc*vc.dag() for vl, vc in zip(eigvals, eigvecs)])\n",
        "\n",
        "def proj_op(K, basis, rho0):\n",
        "  return sum([scalar_prod(b, K,rho0) * b for b in basis])\n",
        "\n",
        "def rel_entropy(rho, sigma):\n",
        "    val = (rho*(logM(rho)-logM(sigma))).tr()\n",
        "    if abs(val.imag)>1.e-6:\n",
        "        print(\"rho or sigma not positive\")\n",
        "        #print(rho.eigenstates())\n",
        "        #print(sigma.eigenstates())\n",
        "    return val.real"
      ],
      "metadata": {
        "id": "wllgZoKUkY3j"
      },
      "execution_count": 3,
      "outputs": []
    },
    {
      "cell_type": "code",
      "source": [
        "def bures(rho, sigma):\n",
        "    val = abs((sqrtM(rho)*sqrtM(sigma)).tr())\n",
        "    val = max(min(val,1.),-1.)\n",
        "    return np.arccos(val)/np.pi\n",
        "        \n",
        "def maxent_rho(rho, basis):   \n",
        "    def test(x, rho, basis):\n",
        "        k = sum([-u*b for u,b in zip(x, basis)])        \n",
        "        sigma = (.5*(k+k.dag())).expm()\n",
        "        sigma = sigma/sigma.tr()\n",
        "        return rel_entropy(rho, sigma)    \n",
        "    res = opt.minimize(test,np.zeros(len(basis)),args=(rho,basis))\n",
        "    k = sum([-u*b for u,b in zip(res.x, basis)])        \n",
        "    sigma = (.5*(k+k.dag())).expm()\n",
        "    sigma = sigma/sigma.tr()\n",
        "    return sigma\n",
        " \n",
        "def error_maxent_state(rho, basis, distance=bures):\n",
        "    try:\n",
        "        sigma = maxent_rho(rho, basis)\n",
        "        return distance(rho,sigma)\n",
        "    except:\n",
        "        print(\"fail error max-ent state\")\n",
        "        return None\n",
        "       \n",
        "def error_proj_state(rho, rho0, basis, distance=bures):\n",
        "    try:\n",
        "        basis = base_orth(basis, rho0)\n",
        "    except:\n",
        "      print (\"orth error\")\n",
        "      raise\n",
        "    try:\n",
        "        sigma = proj_op(logM(rho), basis, rho0).expm()\n",
        "        sigma = (sigma+sigma.dag())/(2.*sigma.tr())\n",
        "    except:\n",
        "      print(\"gram error\")\n",
        "    try:\n",
        "        return distance(rho, sigma)\n",
        "    except:\n",
        "        print(\"fail error proj state\")\n",
        "        return None"
      ],
      "metadata": {
        "id": "iOcDcqRLvQAb"
      },
      "execution_count": 4,
      "outputs": []
    },
    {
      "cell_type": "code",
      "source": [
        "N = 3            # número de spines\n",
        "\n",
        "h  = 1.0 * 2 * np.pi * np.ones(N) \n",
        "Jx = 0.15 * 2 * np.pi * np.ones(N)\n",
        "Jy = 0.25 * 2 * np.pi * np.ones(N)\n",
        "Jz = 0.1 * 2 * np.pi * np.ones(N)\n",
        "\n",
        "id2 = qutip.qeye(2)\n",
        "sx = .5*qutip.sigmax()\n",
        "sy = .5*qutip.sigmay()\n",
        "sz = .5*qutip.sigmaz()\n",
        "\n",
        "sx_list = []\n",
        "sy_list = []\n",
        "sz_list = []\n",
        "\n",
        "for n in range(N):\n",
        "    operator_list = []\n",
        "    for m in range(N):\n",
        "        operator_list.append(id2)\n",
        "    operator_list[n] = sx\n",
        "    sx_list.append(qutip.tensor(operator_list))\n",
        "        \n",
        "    operator_list[n] = sy\n",
        "    sy_list.append(qutip.tensor(operator_list))\n",
        "        \n",
        "    operator_list[n] = sz\n",
        "    sz_list.append(qutip.tensor(operator_list))\n",
        "\n",
        "def Heisenberg_hamiltonian (N, Jx, Jy, Jz, h):\n",
        "  H = 0\n",
        "  for n in range(N):\n",
        "    H += -0.5*h[n]*sz_list[n]\n",
        "        \n",
        "  for n in range(N-1):\n",
        "    H += -0.5 * Jx[n] * sx_list[n] * sx_list[n+1]\n",
        "    H += -0.5 * Jy[n] * sy_list[n] * sy_list[n+1]\n",
        "    H += -0.5 * Jz[n] * sz_list[n] * sz_list[n+1]\n",
        "  return H\n",
        "\n",
        "x_op = sum((.5 - sz_list[a])*a for a in range(N))\n",
        "p_op = 1j * (x_op*Heisenberg_hamiltonian (N, Jx, Jy, Jz, h) - Heisenberg_hamiltonian (N, Jx, Jy, Jz, h)*x_op)\n",
        "comm_xp = .5*(x_op*p_op + p_op*x_op)\n",
        "corr_xp = -1j*(x_op*p_op - p_op*x_op)\n",
        "p_dot = 1j*(Heisenberg_hamiltonian (N, Jx, Jy, Jz, h) * p_op - p_op * Heisenberg_hamiltonian (N, Jx, Jy, Jz, h))\n",
        "\n",
        "entropy_VN = []\n",
        "def callback_entropy_VN (t,rhot):\n",
        "    entropy_VN.append(qutip.entropy_vn(rhot))"
      ],
      "metadata": {
        "id": "C4U410MBw0WJ"
      },
      "execution_count": 5,
      "outputs": []
    },
    {
      "cell_type": "code",
      "source": [
        "print(p_dot)"
      ],
      "metadata": {
        "id": "8dRVUi2C9TyW",
        "outputId": "b090aa75-d796-43d1-ad11-ff992077e1c4",
        "colab": {
          "base_uri": "https://localhost:8080/"
        }
      },
      "execution_count": 6,
      "outputs": [
        {
          "output_type": "stream",
          "name": "stdout",
          "text": [
            "Quantum object: dims = [[2, 2, 2], [2, 2, 2]], shape = (8, 8), type = oper, isherm = True\n",
            "Qobj data =\n",
            "[[-0.04934802  0.          0.         -1.51745168  0.          0.09869604\n",
            "  -0.50581723  0.        ]\n",
            " [ 0.          0.18505508 -0.04934802  0.         -0.02467401  0.\n",
            "   0.         -0.48114321]\n",
            " [ 0.         -0.04934802  0.          0.          0.04934802  0.\n",
            "   0.         -0.09869604]\n",
            " [-1.51745168  0.          0.          0.2344031   0.         -0.04934802\n",
            "   0.02467401  0.        ]\n",
            " [ 0.         -0.02467401  0.04934802  0.         -0.2344031   0.\n",
            "   0.         -1.44342964]\n",
            " [ 0.09869604  0.          0.         -0.04934802  0.          0.\n",
            "   0.04934802  0.        ]\n",
            " [-0.50581723  0.          0.          0.02467401  0.          0.04934802\n",
            "  -0.18505508  0.        ]\n",
            " [ 0.         -0.48114321 -0.09869604  0.         -1.44342964  0.\n",
            "   0.          0.04934802]]\n"
          ]
        }
      ]
    },
    {
      "cell_type": "code",
      "source": [
        "psi1_list = []\n",
        "psi1_list.append(qutip.basis(2,1))\n",
        "for n in range(N-1):\n",
        "    psi1_list.append(qutip.basis(2,0))\n",
        "\n",
        "psi2_list = []\n",
        "psi2_list.append(qutip.basis(2,0))\n",
        "psi2_list.append(qutip.basis(2,1))\n",
        "for n in range(N-2):\n",
        "    psi2_list.append(qutip.basis(2,0))\n",
        "\n",
        "psi01 = qutip.tensor(psi1_list) ## siendo este un estado puro, su entropía de VN es cero\n",
        "psi02 = qutip.tensor(psi2_list) \n",
        "psi0 = psi01+psi02 "
      ],
      "metadata": {
        "id": "hIAULt6A-sj_"
      },
      "execution_count": 7,
      "outputs": []
    },
    {
      "cell_type": "code",
      "source": [
        "print(psi02)"
      ],
      "metadata": {
        "colab": {
          "base_uri": "https://localhost:8080/"
        },
        "id": "8nTaciA25-qN",
        "outputId": "ad21c641-debe-40f1-8f94-68306624b405"
      },
      "execution_count": 8,
      "outputs": [
        {
          "output_type": "stream",
          "name": "stdout",
          "text": [
            "Quantum object: dims = [[2, 2, 2], [1, 1, 1]], shape = (8, 1), type = ket\n",
            "Qobj data =\n",
            "[[0.]\n",
            " [0.]\n",
            " [1.]\n",
            " [0.]\n",
            " [0.]\n",
            " [0.]\n",
            " [0.]\n",
            " [0.]]\n"
          ]
        }
      ]
    },
    {
      "cell_type": "code",
      "source": [
        "print(r\"$$S(\\psi_01)=$$\", qutip.entropy_vn(psi01))\n",
        "print(r\"$$S(\\psi_02)=$$\", qutip.entropy_vn(psi02))\n",
        "print(r\"$$S(\\psi_01+\\psi_02)=$$\", qutip.entropy_vn(psi01))"
      ],
      "metadata": {
        "colab": {
          "base_uri": "https://localhost:8080/"
        },
        "id": "qa0v3WX4EUjn",
        "outputId": "7c9722bd-033c-47fe-cda8-b4c80d83ee77"
      },
      "execution_count": 9,
      "outputs": [
        {
          "output_type": "stream",
          "name": "stdout",
          "text": [
            "$$S(\\psi_01)=$$ -0.0\n",
            "$$S(\\psi_02)=$$ -0.0\n",
            "$$S(\\psi_01+\\psi_02)=$$ -0.0\n"
          ]
        }
      ]
    },
    {
      "cell_type": "code",
      "source": [
        "class Result(object):\n",
        "    def __init__(self, ts=None, states=None):\n",
        "        self.ts = ts\n",
        "        self.states = states\n",
        "        self.projrho0_app = None   \n",
        "        self.projrho_inst_app = None "
      ],
      "metadata": {
        "id": "-XSlIXhc_Ts-"
      },
      "execution_count": 10,
      "outputs": []
    },
    {
      "cell_type": "code",
      "source": [
        "def spin_dephasing(gamma):\n",
        "  c_op_list = []\n",
        "  collapse_weights = gamma * np.ones(N)\n",
        "  for n in range(N):\n",
        "        if collapse_weights[n] > 0.0:\n",
        "            c_op_list.append(np.sqrt(collapse_weights[n]) * sz_list[n])\n",
        "  return c_op_list"
      ],
      "metadata": {
        "id": "s2layG4xwFv0"
      },
      "execution_count": 11,
      "outputs": []
    },
    {
      "cell_type": "markdown",
      "source": [
        "Considero un estado inicial descorrelacionado de la forma de \n",
        "\n",
        "$$\n",
        "\\rho_0 = x |\\Phi\\rangle \\langle\\Phi| + (1-x)\\frac{{I_d}}{d}\n",
        "$$"
      ],
      "metadata": {
        "id": "Aa8fWiwYqRWs"
      }
    },
    {
      "cell_type": "code",
      "source": [
        "def callback(t, rhot):\n",
        "  global rho\n",
        "  rho = rhot\n",
        "\n",
        "\n",
        "def projected_evolution(x=.5, gamma = 1*np.e*-2, omega_1=3., omega_2=3.,temp=1, gaussian=False, deltat=10., tmax = 500., distance=bures, do_project=True):\n",
        "    global rho\n",
        "    basis = sx_list +  sy_list + sz_list\n",
        "    #basis = [x_op, p_op, x_op**2, corr_xp, p_dot, p_op**2]\n",
        "    H_H = Heisenberg_hamiltonian(N,Jx,Jy,Jz,h)\n",
        "    globalid = qutip.tensor([qutip.qeye(2) for k in range(N)])\n",
        "    rho0 = psi0 * psi0.dag()\n",
        "    rho0 = x * rho0/rho0.tr() + (1-x) * globalid * .5**N\n",
        "    # Hamiltoniano    \n",
        "\n",
        "    obs = [x_op, p_op]\n",
        "           #, x_op**2,p_op**2, corr_op, p_dot]\n",
        "\n",
        "    sampling = max(int(10*max(1,omega_1, omega_2)*deltat), 10)\n",
        "    print(\"sampling:\", sampling)\n",
        "    c_op_list = spin_dephasing(gamma)\n",
        "    rho = rho0\n",
        "    approx_exp_vals = [[qutip.expect(op, rho) for op in obs]]\n",
        "    ts= [0]\n",
        "\n",
        "    for i in range(int(tmax/deltat)):\n",
        "        qutip.mesolve(H=H_H, \n",
        "                               rho0=rho, \n",
        "                               tlist=np.linspace(0,deltat, sampling), \n",
        "                               c_ops=c_op_list, \n",
        "                               e_ops=callback,\n",
        "                               args={'gamma': gamma,'omega_1': omega_1, 'omega_2': omega_2}\n",
        "                               )\n",
        "        ts.append(deltat*i)\n",
        "        if do_project:\n",
        "          rho = proj_op(logM(rho), basis, rho0)\n",
        "          e0 = max(rho.eigenenergies())\n",
        "          rho = rho - globalid * e0\n",
        "          rho = rho.expm()\n",
        "          trrho = (2.*rho.tr())\n",
        "          rho = (rho+rho.dag())/trrho\n",
        "\n",
        "        print(qutip.entropy.entropy_vn(rho))\n",
        "        newobs = [qutip.expect(rho, op) for op in obs]\n",
        "        approx_exp_vals.append(newobs)\n",
        "\n",
        "    result = {}\n",
        "    result[\"ts\"] = ts\n",
        "    result[\"averages\"] = np.array(approx_exp_vals)\n",
        "    \n",
        "    title = f\" BW Dinámica cerrada no gaussiana wb1={omega_1} wb2={omega_2}\" \n",
        "    if do_project:\n",
        "      title = title + \"_projected_\"\n",
        "\n",
        "    with open(title+\".pkl\",\"wb\") as f:\n",
        "        pickle.dump(result, f)\n",
        "    return result"
      ],
      "metadata": {
        "id": "_U6AxFh7w_oF"
      },
      "execution_count": 125,
      "outputs": []
    },
    {
      "cell_type": "code",
      "source": [
        "results = projected_evolution(x=.5, gamma = 1*np.e*-6, omega_1=3., omega_2=3.,temp=1, gaussian=False, deltat=.0001, tmax = .01, distance=bures,do_project=True)\n",
        "\n",
        "plt.plot(results[\"ts\"], results[\"averages\"][:,0], label=\"x Projected\")\n",
        "results = projected_evolution(x=.5, gamma = 1*np.e*-1, omega_1=3., omega_2=3.,temp=1, gaussian=False, deltat=.0001, tmax = .01, distance=bures,do_project=False)\n",
        "plt.plot(results[\"ts\"], results[\"averages\"][:,0], label=\"x exact\")\n",
        "plt.legend()\n"
      ],
      "metadata": {
        "id": "zmhhwbC_-QPb",
        "outputId": "f65f255a-f4d8-45d1-de06-3b2d0a9287c0",
        "colab": {
          "base_uri": "https://localhost:8080/",
          "height": 1000
        }
      },
      "execution_count": 126,
      "outputs": [
        {
          "output_type": "stream",
          "name": "stdout",
          "text": [
            "sampling: 10\n",
            "2.078735578344281\n",
            "2.0444250522695455\n",
            "2.027294195220403\n",
            "2.0218642012435164\n",
            "2.0202429361172167\n",
            "2.0197656202547836\n",
            "2.0196256347331487\n",
            "2.0195846257201735\n",
            "2.019572615929455\n",
            "2.0195690991056576\n",
            "2.01956806930348\n",
            "2.0195677677575232\n",
            "2.0195676794592696\n",
            "2.0195676536039167\n",
            "2.0195676460329954\n",
            "2.0195676438160928\n",
            "2.019567643166945\n",
            "2.0195676429768588\n",
            "2.0195676429211904\n",
            "2.019567642904889\n",
            "2.0195676429001317\n",
            "2.019567642898756\n",
            "2.0195676428983287\n",
            "2.019567642898203\n",
            "2.019567642898157\n",
            "2.019567642898153\n",
            "2.0195676428981577\n",
            "2.019567642898147\n",
            "2.0195676428981386\n",
            "2.019567642898138\n",
            "2.019567642898147\n",
            "2.0195676428981404\n",
            "2.0195676428981417\n",
            "2.0195676428981386\n",
            "2.0195676428981373\n",
            "2.0195676428981466\n",
            "2.0195676428981404\n",
            "2.0195676428981395\n",
            "2.0195676428981475\n",
            "2.01956764289815\n",
            "2.0195676428981506\n",
            "2.0195676428981515\n",
            "2.019567642898145\n",
            "2.01956764289814\n",
            "2.019567642898138\n",
            "2.019567642898147\n",
            "2.0195676428981404\n",
            "2.0195676428981475\n",
            "2.019567642898147\n",
            "2.0195676428981426\n",
            "2.0195676428981546\n",
            "2.019567642898146\n",
            "2.0195676428981404\n",
            "2.019567642898133\n",
            "2.019567642898136\n",
            "2.0195676428981373\n",
            "2.0195676428981413\n",
            "2.019567642898167\n",
            "2.0195676428981497\n",
            "2.019567642898159\n",
            "2.0195676428981537\n",
            "2.019567642898152\n",
            "2.0195676428981497\n",
            "2.019567642898141\n",
            "2.0195676428981493\n",
            "2.019567642898151\n",
            "2.019567642898151\n",
            "2.019567642898151\n",
            "2.0195676428981417\n",
            "2.0195676428981484\n",
            "2.0195676428981444\n",
            "2.0195676428981577\n",
            "2.019567642898153\n",
            "2.019567642898142\n",
            "2.01956764289815\n",
            "2.019567642898151\n",
            "2.019567642898151\n",
            "2.0195676428981493\n",
            "2.0195676428981506\n",
            "2.0195676428981413\n",
            "2.019567642898149\n",
            "2.01956764289815\n",
            "2.019567642898152\n",
            "2.0195676428981515\n",
            "2.0195676428981417\n",
            "2.0195676428981386\n",
            "2.0195676428981377\n",
            "2.01956764289814\n",
            "2.01956764289817\n",
            "2.019567642898148\n",
            "2.0195676428981435\n",
            "2.0195676428981653\n",
            "2.019567642898177\n",
            "2.0195676428981586\n",
            "2.019567642898144\n",
            "2.0195676428981653\n",
            "2.0195676428981457\n",
            "2.01956764289814\n",
            "2.0195676428981506\n",
            "2.019567642898151\n",
            "sampling: 10\n",
            "1.5366498974881941\n",
            "1.5366498974891303\n",
            "1.5366498974900666\n",
            "1.5366498974910032\n",
            "1.5366498974919396\n",
            "1.5366498974928757\n",
            "1.536649897493812\n",
            "1.536649897494748\n",
            "1.5366498974956848\n",
            "1.5366498974966207\n",
            "1.5366498974975569\n",
            "1.5366498974984932\n",
            "1.5366498974994296\n",
            "1.5366498975003657\n",
            "1.536649897501302\n",
            "1.5366498975022382\n",
            "1.5366498975031748\n",
            "1.536649897504111\n",
            "1.5366498975050475\n",
            "1.536649897505984\n",
            "1.5366498975069196\n",
            "1.5366498975078564\n",
            "1.5366498975087923\n",
            "1.5366498975097287\n",
            "1.536649897510665\n",
            "1.5366498975116016\n",
            "1.5366498975125382\n",
            "1.5366498975134746\n",
            "1.536649897514411\n",
            "1.536649897515347\n",
            "1.5366498975162832\n",
            "1.5366498975172196\n",
            "1.5366498975181564\n",
            "1.5366498975190923\n",
            "1.5366498975200282\n",
            "1.5366498975209655\n",
            "1.5366498975219014\n",
            "1.5366498975228375\n",
            "1.5366498975237741\n",
            "1.5366498975247103\n",
            "1.5366498975256466\n",
            "1.5366498975265832\n",
            "1.5366498975275193\n",
            "1.536649897528456\n",
            "1.5366498975293919\n",
            "1.5366498975303284\n",
            "1.5366498975312646\n",
            "1.5366498975322012\n",
            "1.5366498975331375\n",
            "1.5366498975340739\n",
            "1.5366498975350102\n",
            "1.5366498975359464\n",
            "1.5366498975368827\n",
            "1.5366498975378189\n",
            "1.5366498975387555\n",
            "1.5366498975396914\n",
            "1.536649897540628\n",
            "1.5366498975415646\n",
            "1.5366498975425007\n",
            "1.5366498975434368\n",
            "1.5366498975443739\n",
            "1.5366498975453102\n",
            "1.5366498975462466\n",
            "1.5366498975471825\n",
            "1.5366498975481189\n",
            "1.5366498975490548\n",
            "1.5366498975499914\n",
            "1.536649897550928\n",
            "1.536649897551864\n",
            "1.5366498975528007\n",
            "1.5366498975537368\n",
            "1.5366498975546732\n",
            "1.5366498975556095\n",
            "1.5366498975565461\n",
            "1.5366498975574823\n",
            "1.5366498975584184\n",
            "1.5366498975593545\n",
            "1.536649897560291\n",
            "1.5366498975612273\n",
            "1.5366498975621636\n",
            "1.5366498975631\n",
            "1.5366498975640361\n",
            "1.536649897564972\n",
            "1.5366498975659089\n",
            "1.536649897566845\n",
            "1.5366498975677816\n",
            "1.5366498975687177\n",
            "1.536649897569654\n",
            "1.5366498975705905\n",
            "1.5366498975715266\n",
            "1.5366498975724632\n",
            "1.5366498975733993\n",
            "1.536649897574336\n",
            "1.5366498975752723\n",
            "1.5366498975762086\n",
            "1.536649897577145\n",
            "1.5366498975780816\n",
            "1.5366498975790177\n",
            "1.536649897579954\n",
            "1.5366498975808902\n"
          ]
        },
        {
          "output_type": "execute_result",
          "data": {
            "text/plain": [
              "<matplotlib.legend.Legend at 0x7fbcd38a0810>"
            ]
          },
          "metadata": {},
          "execution_count": 126
        },
        {
          "output_type": "display_data",
          "data": {
            "text/plain": [
              "<Figure size 432x288 with 1 Axes>"
            ],
            "image/png": "[encoded data removed]"
          },
          "metadata": {
            "needs_background": "light"
          }
        }
      ]
    },
    {
      "cell_type": "code",
      "source": [
        "help(qutip.entropy)"
      ],
      "metadata": {
        "id": "Is-nXv_YLuTT",
        "outputId": "ec8dab32-dbda-4dc7-cec4-f2756091c9e8",
        "colab": {
          "base_uri": "https://localhost:8080/"
        }
      },
      "execution_count": 122,
      "outputs": [
        {
          "output_type": "stream",
          "name": "stdout",
          "text": [
            "Help on module qutip.entropy in qutip:\n",
            "\n",
            "NAME\n",
            "    qutip.entropy\n",
            "\n",
            "FUNCTIONS\n",
            "    concurrence(rho)\n",
            "        Calculate the concurrence entanglement measure for a two-qubit state.\n",
            "        \n",
            "        Parameters\n",
            "        ----------\n",
            "        state : qobj\n",
            "            Ket, bra, or density matrix for a two-qubit state.\n",
            "        \n",
            "        Returns\n",
            "        -------\n",
            "        concur : float\n",
            "            Concurrence\n",
            "        \n",
            "        References\n",
            "        ----------\n",
            "        \n",
            "        .. [1] https://en.wikipedia.org/wiki/Concurrence_(quantum_computing)\n",
            "    \n",
            "    entangling_power(U)\n",
            "        Calculate the entangling power of a two-qubit gate U, which\n",
            "        is zero of nonentangling gates and 1 and 2/9 for maximally\n",
            "        entangling gates.\n",
            "        \n",
            "        Parameters\n",
            "        ----------\n",
            "        U : qobj\n",
            "            Qobj instance representing a two-qubit gate.\n",
            "        \n",
            "        Returns\n",
            "        -------\n",
            "        ep : float\n",
            "            The entanglement power of U (real number between 0 and 1)\n",
            "        \n",
            "        References:\n",
            "        \n",
            "            Explorations in Quantum Computing, Colin P. Williams (Springer, 2011)\n",
            "    \n",
            "    entropy_conditional(rho, selB, base=2.718281828459045, sparse=False)\n",
            "        Calculates the conditional entropy :math:`S(A|B)=S(A,B)-S(B)`\n",
            "        of a selected density matrix component.\n",
            "        \n",
            "        Parameters\n",
            "        ----------\n",
            "        rho : qobj\n",
            "            Density matrix of composite object\n",
            "        selB : int/list\n",
            "            Selected components for density matrix B\n",
            "        base : {e,2}\n",
            "            Base of logarithm.\n",
            "        sparse : {False,True}\n",
            "            Use sparse eigensolver.\n",
            "        \n",
            "        Returns\n",
            "        -------\n",
            "        ent_cond : float\n",
            "            Value of conditional entropy\n",
            "    \n",
            "    entropy_linear(rho)\n",
            "        Linear entropy of a density matrix.\n",
            "        \n",
            "        Parameters\n",
            "        ----------\n",
            "        rho : qobj\n",
            "            sensity matrix or ket/bra vector.\n",
            "        \n",
            "        Returns\n",
            "        -------\n",
            "        entropy : float\n",
            "            Linear entropy of rho.\n",
            "        \n",
            "        Examples\n",
            "        --------\n",
            "        >>> rho=0.5*fock_dm(2,0)+0.5*fock_dm(2,1)\n",
            "        >>> entropy_linear(rho)\n",
            "        0.5\n",
            "    \n",
            "    entropy_mutual(rho, selA, selB, base=2.718281828459045, sparse=False)\n",
            "        Calculates the mutual information S(A:B) between selection\n",
            "        components of a system density matrix.\n",
            "        \n",
            "        Parameters\n",
            "        ----------\n",
            "        rho : qobj\n",
            "            Density matrix for composite quantum systems\n",
            "        selA : int/list\n",
            "            `int` or `list` of first selected density matrix components.\n",
            "        selB : int/list\n",
            "            `int` or `list` of second selected density matrix components.\n",
            "        base : {e,2}\n",
            "            Base of logarithm.\n",
            "        sparse : {False,True}\n",
            "            Use sparse eigensolver.\n",
            "        \n",
            "        Returns\n",
            "        -------\n",
            "        ent_mut : float\n",
            "           Mutual information between selected components.\n",
            "    \n",
            "    entropy_relative(rho, sigma, base=2.718281828459045, sparse=False, tol=1e-12)\n",
            "        Calculates the relative entropy S(rho||sigma) between two density\n",
            "        matrices.\n",
            "        \n",
            "        Parameters\n",
            "        ----------\n",
            "        rho : :class:`qutip.Qobj`\n",
            "            First density matrix (or ket which will be converted to a density\n",
            "            matrix).\n",
            "        sigma : :class:`qutip.Qobj`\n",
            "            Second density matrix (or ket which will be converted to a density\n",
            "            matrix).\n",
            "        base : {e,2}\n",
            "            Base of logarithm. Defaults to e.\n",
            "        sparse : bool\n",
            "            Flag to use sparse solver when determining the eigenvectors\n",
            "            of the density matrices. Defaults to False.\n",
            "        tol : float\n",
            "            Tolerance to use to detect 0 eigenvalues or dot producted between\n",
            "            eigenvectors. Defaults to 1e-12.\n",
            "        \n",
            "        Returns\n",
            "        -------\n",
            "        rel_ent : float\n",
            "            Value of relative entropy. Guaranteed to be greater than zero\n",
            "            and should equal zero only when rho and sigma are identical.\n",
            "        \n",
            "        Examples\n",
            "        --------\n",
            "        \n",
            "        First we define two density matrices:\n",
            "        \n",
            "        >>> rho = qutip.ket2dm(qutip.ket(\"00\"))\n",
            "        >>> sigma = rho + qutip.ket2dm(qutip.ket(\"01\"))\n",
            "        >>> sigma = sigma.unit()\n",
            "        \n",
            "        Then we calculate their relative entropy using base 2 (i.e. ``log2``)\n",
            "        and base e (i.e. ``log``).\n",
            "        \n",
            "        >>> qutip.entropy_relative(rho, sigma, base=2)\n",
            "        1.0\n",
            "        >>> qutip.entropy_relative(rho, sigma)\n",
            "        0.6931471805599453\n",
            "        \n",
            "        References\n",
            "        ----------\n",
            "        \n",
            "        See Nielsen & Chuang, \"Quantum Computation and Quantum Information\",\n",
            "        Section 11.3.1, pg. 511 for a detailed explanation of quantum relative\n",
            "        entropy.\n",
            "    \n",
            "    entropy_vn(rho, base=2.718281828459045, sparse=False)\n",
            "        Von-Neumann entropy of density matrix\n",
            "        \n",
            "        Parameters\n",
            "        ----------\n",
            "        rho : qobj\n",
            "            Density matrix.\n",
            "        base : {e,2}\n",
            "            Base of logarithm.\n",
            "        sparse : {False,True}\n",
            "            Use sparse eigensolver.\n",
            "        \n",
            "        Returns\n",
            "        -------\n",
            "        entropy : float\n",
            "            Von-Neumann entropy of `rho`.\n",
            "        \n",
            "        Examples\n",
            "        --------\n",
            "        >>> rho=0.5*fock_dm(2,0)+0.5*fock_dm(2,1)\n",
            "        >>> entropy_vn(rho,2)\n",
            "        1.0\n",
            "    \n",
            "    negativity(rho, subsys, method='tracenorm', logarithmic=False)\n",
            "        Compute the negativity for a multipartite quantum system described\n",
            "        by the density matrix rho. The subsys argument is an index that\n",
            "        indicates which system to compute the negativity for.\n",
            "        \n",
            "        .. note::\n",
            "        \n",
            "            Experimental.\n",
            "\n",
            "DATA\n",
            "    __all__ = ['entropy_vn', 'entropy_linear', 'entropy_mutual', 'negativi...\n",
            "\n",
            "FILE\n",
            "    /usr/local/lib/python3.7/dist-packages/qutip/entropy.py\n",
            "\n",
            "\n"
          ]
        }
      ]
    },
    {
      "cell_type": "code",
      "source": [
        "results = projected_evolution(x=.5, gamma = 1*np.e*-2, omega_1=3., omega_2=3.,temp=1, gaussian=False, deltat=1., tmax = 500., distance=bures)\n",
        "\n",
        "#plt.plot(results[0], label=\"x\")\n",
        "plt.plot(results[1], label=\"p\")"
      ],
      "metadata": {
        "colab": {
          "base_uri": "https://localhost:8080/",
          "height": 439
        },
        "id": "KWJUaJwzS7e2",
        "outputId": "954670d9-24b6-48e9-ecd3-c67b3e4a54dc"
      },
      "execution_count": null,
      "outputs": [
        {
          "output_type": "stream",
          "name": "stderr",
          "text": [
            "/usr/local/lib/python3.7/dist-packages/matplotlib/cbook/__init__.py:1317: ComplexWarning: Casting complex values to real discards the imaginary part\n",
            "  return np.asarray(x, float)\n"
          ]
        },
        {
          "output_type": "execute_result",
          "data": {
            "text/plain": [
              "[<matplotlib.lines.Line2D at 0x7f5cf16264d0>,\n",
              " <matplotlib.lines.Line2D at 0x7f5cf16269d0>,\n",
              " <matplotlib.lines.Line2D at 0x7f5cf1626590>,\n",
              " <matplotlib.lines.Line2D at 0x7f5cf16261d0>,\n",
              " <matplotlib.lines.Line2D at 0x7f5cf1626a50>,\n",
              " <matplotlib.lines.Line2D at 0x7f5cf1f72a90>,\n",
              " <matplotlib.lines.Line2D at 0x7f5cf1f723d0>,\n",
              " <matplotlib.lines.Line2D at 0x7f5cf9edcb90>]"
            ]
          },
          "metadata": {},
          "execution_count": 86
        },
        {
          "output_type": "display_data",
          "data": {
            "text/plain": [
              "<Figure size 432x288 with 1 Axes>"
            ],
            "image/png": "[encoded data removed]"
          },
          "metadata": {
            "needs_background": "light"
          }
        }
      ]
    },
    {
      "cell_type": "code",
      "source": [
        "results = projected_evolution(x=.5, gamma = 1*np.e*-2, omega_1=3., omega_2=3.,temp=1, gaussian=False, deltat=1., tmax = 200., distance=bures)\n",
        "\n",
        "plt.plot(results, label=\"p\")"
      ],
      "metadata": {
        "id": "UZo4TiKh72g-",
        "outputId": "73c03991-3841-4eb4-9531-5a8cebff0718",
        "colab": {
          "base_uri": "https://localhost:8080/",
          "height": 439
        }
      },
      "execution_count": null,
      "outputs": [
        {
          "output_type": "stream",
          "name": "stderr",
          "text": [
            "/usr/local/lib/python3.7/dist-packages/matplotlib/cbook/__init__.py:1317: ComplexWarning: Casting complex values to real discards the imaginary part\n",
            "  return np.asarray(x, float)\n"
          ]
        },
        {
          "output_type": "execute_result",
          "data": {
            "text/plain": [
              "[<matplotlib.lines.Line2D at 0x7f5cfa3a08d0>,\n",
              " <matplotlib.lines.Line2D at 0x7f5cfa3a0b10>,\n",
              " <matplotlib.lines.Line2D at 0x7f5cfa3a0d90>,\n",
              " <matplotlib.lines.Line2D at 0x7f5cfa3a0fd0>,\n",
              " <matplotlib.lines.Line2D at 0x7f5cfa3a0c90>,\n",
              " <matplotlib.lines.Line2D at 0x7f5cfc8d4ed0>,\n",
              " <matplotlib.lines.Line2D at 0x7f5cfcbb85d0>,\n",
              " <matplotlib.lines.Line2D at 0x7f5cfa3bae10>]"
            ]
          },
          "metadata": {},
          "execution_count": 55
        },
        {
          "output_type": "display_data",
          "data": {
            "text/plain": [
              "<Figure size 432x288 with 1 Axes>"
            ],
            "image/png": "[encoded data removed]"
          },
          "metadata": {
            "needs_background": "light"
          }
        }
      ]
    },
    {
      "cell_type": "code",
      "source": [
        "plt.plot(results, corr_op)"
      ],
      "metadata": {
        "colab": {
          "base_uri": "https://localhost:8080/",
          "height": 439
        },
        "id": "tgB31qZ3KATN",
        "outputId": "549e9b0b-89e0-47f8-b84d-e34383fed968"
      },
      "execution_count": null,
      "outputs": [
        {
          "output_type": "stream",
          "name": "stderr",
          "text": [
            "/usr/local/lib/python3.7/dist-packages/matplotlib/cbook/__init__.py:1317: ComplexWarning: Casting complex values to real discards the imaginary part\n",
            "  return np.asarray(x, float)\n"
          ]
        },
        {
          "output_type": "execute_result",
          "data": {
            "text/plain": [
              "[<matplotlib.lines.Line2D at 0x7f5cfa008d10>,\n",
              " <matplotlib.lines.Line2D at 0x7f5cfa008b90>,\n",
              " <matplotlib.lines.Line2D at 0x7f5cfa008a10>,\n",
              " <matplotlib.lines.Line2D at 0x7f5cfa017590>,\n",
              " <matplotlib.lines.Line2D at 0x7f5cfa0173d0>,\n",
              " <matplotlib.lines.Line2D at 0x7f5cfa017390>,\n",
              " <matplotlib.lines.Line2D at 0x7f5cfa017610>,\n",
              " <matplotlib.lines.Line2D at 0x7f5cfa017f90>]"
            ]
          },
          "metadata": {},
          "execution_count": 57
        },
        {
          "output_type": "display_data",
          "data": {
            "text/plain": [
              "<Figure size 432x288 with 1 Axes>"
            ],
            "image/png": "[encoded data removed]"
          },
          "metadata": {
            "needs_background": "light"
          }
        }
      ]
    },
    {
      "cell_type": "code",
      "source": [
        "result, title = projected_evolution(x=.1, gamma = 1*np.e**-2, omega_1=3., omega_2=np.sqrt(48), temp=1, gaussian=True, deltat=5., tmax=10., distance=bures)\n",
        "\n",
        "plt.plot(result.times, result.projrho0_app, color=\"violet\", label=\"proj rho0\")\n",
        "plt.xlabel(\"t[s]\")\n",
        "plt.ylabel(\"Arccos(F)\")\n",
        "\n",
        "plt.legend()\n",
        "plt.title(title)"
      ],
      "metadata": {
        "colab": {
          "base_uri": "https://localhost:8080/",
          "height": 469
        },
        "id": "DkO1aUvZDVnC",
        "outputId": "041e6411-95aa-4ac2-ab2b-598131215205"
      },
      "execution_count": null,
      "outputs": [
        {
          "output_type": "stream",
          "name": "stdout",
          "text": [
            "base\n",
            "<class 'list'> <class 'qutip.qobj.Qobj'>\n",
            "dim= 2\n",
            "base\n",
            "<class 'list'> <class 'qutip.qobj.Qobj'>\n",
            "dim= 2\n",
            "base\n",
            "<class 'list'> <class 'qutip.qobj.Qobj'>\n",
            "dim= 2\n"
          ]
        },
        {
          "output_type": "execute_result",
          "data": {
            "text/plain": [
              "Text(0.5, 1.0, ' BW Dinámica cerrada no gaussiana wb1=3.0 wb2=6.928203230275509')"
            ]
          },
          "metadata": {},
          "execution_count": 14
        },
        {
          "output_type": "display_data",
          "data": {
            "text/plain": [
              "<Figure size 432x288 with 1 Axes>"
            ],
            "image/png": "[encoded data removed]"
          },
          "metadata": {
            "needs_background": "light"
          }
        }
      ]
    },
    {
      "cell_type": "code",
      "source": [
        "a=4.2\n"
      ],
      "metadata": {
        "id": "mD2Lvc8pD24Y"
      },
      "execution_count": null,
      "outputs": []
    },
    {
      "cell_type": "code",
      "source": [
        "math.isnan(3.2)"
      ],
      "metadata": {
        "colab": {
          "base_uri": "https://localhost:8080/"
        },
        "id": "d54dua2FF5nl",
        "outputId": "81002396-bb82-46ea-8f05-24473d81fa25"
      },
      "execution_count": null,
      "outputs": [
        {
          "output_type": "execute_result",
          "data": {
            "text/plain": [
              "False"
            ]
          },
          "metadata": {},
          "execution_count": 145
        }
      ]
    },
    {
      "cell_type": "code",
      "source": [
        "c_op_list = spin_dephasing(.1)\n",
        "[type(o) for o in c_op_list]"
      ],
      "metadata": {
        "id": "3HcrP15IF7Wo",
        "outputId": "91537b54-b26c-4fa0-ab97-393a9c566e43",
        "colab": {
          "base_uri": "https://localhost:8080/"
        }
      },
      "execution_count": null,
      "outputs": [
        {
          "output_type": "execute_result",
          "data": {
            "text/plain": [
              "[qutip.qobj.Qobj,\n",
              " qutip.qobj.Qobj,\n",
              " qutip.qobj.Qobj,\n",
              " qutip.qobj.Qobj,\n",
              " qutip.qobj.Qobj]"
            ]
          },
          "metadata": {},
          "execution_count": 11
        }
      ]
    },
    {
      "cell_type": "code",
      "source": [
        ""
      ],
      "metadata": {
        "id": "GqMyttoB0bFk"
      },
      "execution_count": null,
      "outputs": []
    },
    {
      "cell_type": "code",
      "source": [
        "rho0 = qutip.tensor([.5*qutip.qeye(2) for k in range(3)])\n",
        "id5 = .125*qutip.qeye(2**3)\n",
        "print(rho0)\n",
        "print(id5)"
      ],
      "metadata": {
        "id": "tyR_B4ouFoZa",
        "outputId": "1b11807d-3acc-4eab-f871-6b44a48656d2",
        "colab": {
          "base_uri": "https://localhost:8080/"
        }
      },
      "execution_count": null,
      "outputs": [
        {
          "output_type": "stream",
          "name": "stdout",
          "text": [
            "Quantum object: dims = [[2, 2, 2], [2, 2, 2]], shape = (8, 8), type = oper, isherm = True\n",
            "Qobj data =\n",
            "[[0.125 0.    0.    0.    0.    0.    0.    0.   ]\n",
            " [0.    0.125 0.    0.    0.    0.    0.    0.   ]\n",
            " [0.    0.    0.125 0.    0.    0.    0.    0.   ]\n",
            " [0.    0.    0.    0.125 0.    0.    0.    0.   ]\n",
            " [0.    0.    0.    0.    0.125 0.    0.    0.   ]\n",
            " [0.    0.    0.    0.    0.    0.125 0.    0.   ]\n",
            " [0.    0.    0.    0.    0.    0.    0.125 0.   ]\n",
            " [0.    0.    0.    0.    0.    0.    0.    0.125]]\n",
            "Quantum object: dims = [[8], [8]], shape = (8, 8), type = oper, isherm = True\n",
            "Qobj data =\n",
            "[[0.125 0.    0.    0.    0.    0.    0.    0.   ]\n",
            " [0.    0.125 0.    0.    0.    0.    0.    0.   ]\n",
            " [0.    0.    0.125 0.    0.    0.    0.    0.   ]\n",
            " [0.    0.    0.    0.125 0.    0.    0.    0.   ]\n",
            " [0.    0.    0.    0.    0.125 0.    0.    0.   ]\n",
            " [0.    0.    0.    0.    0.    0.125 0.    0.   ]\n",
            " [0.    0.    0.    0.    0.    0.    0.125 0.   ]\n",
            " [0.    0.    0.    0.    0.    0.    0.    0.125]]\n"
          ]
        }
      ]
    }
  ]
}