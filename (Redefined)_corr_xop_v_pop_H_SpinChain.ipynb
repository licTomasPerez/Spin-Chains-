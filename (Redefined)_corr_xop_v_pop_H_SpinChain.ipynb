{
  "nbformat": 4,
  "nbformat_minor": 0,
  "metadata": {
    "colab": {
      "name": "average_Heisenberg-chain",
      "provenance": [],
      "include_colab_link": true
    },
    "kernelspec": {
      "name": "python3",
      "display_name": "Python 3"
    },
    "language_info": {
      "name": "python"
    }
  },
  "cells": [
    {
      "cell_type": "markdown",
      "metadata": {
        "id": "view-in-github",
        "colab_type": "text"
      },
      "source": [
        "<a href=\"https://colab.research.google.com/github/licTomasPerez/Spin-Chains-/blob/main/(Redefined)_corr_xop_v_pop_H_SpinChain.ipynb\" target=\"_parent\"><img src=\"https://colab.research.google.com/assets/colab-badge.svg\" alt=\"Open In Colab\"/></a>"
      ]
    },
    {
      "cell_type": "code",
      "source": [
        "!pip install matplotlib\n",
        "!pip install qutip\n",
        "!pip install numpy "
      ],
      "metadata": {
        "colab": {
          "base_uri": "https://localhost:8080/"
        },
        "id": "Z_K1CI1wDSu6",
        "outputId": "dd631baf-0354-4c02-a9a5-29ccae5a8f06"
      },
      "execution_count": 1,
      "outputs": [
        {
          "output_type": "stream",
          "name": "stdout",
          "text": [
            "Looking in indexes: https://pypi.org/simple, https://us-python.pkg.dev/colab-wheels/public/simple/\n",
            "Requirement already satisfied: matplotlib in /usr/local/lib/python3.7/dist-packages (3.2.2)\n",
            "Requirement already satisfied: kiwisolver>=1.0.1 in /usr/local/lib/python3.7/dist-packages (from matplotlib) (1.4.2)\n",
            "Requirement already satisfied: pyparsing!=2.0.4,!=2.1.2,!=2.1.6,>=2.0.1 in /usr/local/lib/python3.7/dist-packages (from matplotlib) (3.0.9)\n",
            "Requirement already satisfied: python-dateutil>=2.1 in /usr/local/lib/python3.7/dist-packages (from matplotlib) (2.8.2)\n",
            "Requirement already satisfied: numpy>=1.11 in /usr/local/lib/python3.7/dist-packages (from matplotlib) (1.21.6)\n",
            "Requirement already satisfied: cycler>=0.10 in /usr/local/lib/python3.7/dist-packages (from matplotlib) (0.11.0)\n",
            "Requirement already satisfied: typing-extensions in /usr/local/lib/python3.7/dist-packages (from kiwisolver>=1.0.1->matplotlib) (4.2.0)\n",
            "Requirement already satisfied: six>=1.5 in /usr/local/lib/python3.7/dist-packages (from python-dateutil>=2.1->matplotlib) (1.15.0)\n",
            "Looking in indexes: https://pypi.org/simple, https://us-python.pkg.dev/colab-wheels/public/simple/\n",
            "Collecting qutip\n",
            "  Downloading qutip-4.7.0-cp37-cp37m-manylinux_2_5_x86_64.manylinux1_x86_64.manylinux_2_12_x86_64.manylinux2010_x86_64.whl (14.7 MB)\n",
            "\u001b[K     |████████████████████████████████| 14.7 MB 5.6 MB/s \n",
            "\u001b[?25hRequirement already satisfied: numpy>=1.16.6 in /usr/local/lib/python3.7/dist-packages (from qutip) (1.21.6)\n",
            "Requirement already satisfied: packaging in /usr/local/lib/python3.7/dist-packages (from qutip) (21.3)\n",
            "Requirement already satisfied: scipy>=1.0 in /usr/local/lib/python3.7/dist-packages (from qutip) (1.4.1)\n",
            "Requirement already satisfied: pyparsing!=3.0.5,>=2.0.2 in /usr/local/lib/python3.7/dist-packages (from packaging->qutip) (3.0.9)\n",
            "Installing collected packages: qutip\n",
            "Successfully installed qutip-4.7.0\n",
            "Looking in indexes: https://pypi.org/simple, https://us-python.pkg.dev/colab-wheels/public/simple/\n",
            "Requirement already satisfied: numpy in /usr/local/lib/python3.7/dist-packages (1.21.6)\n"
          ]
        }
      ]
    },
    {
      "cell_type": "code",
      "execution_count": 2,
      "metadata": {
        "id": "q2kkbGw4gyAq"
      },
      "outputs": [],
      "source": [
        "%matplotlib inline\n",
        "import matplotlib.pyplot as plt\n",
        "import numpy as np\n",
        "import math\n",
        "import cmath \n",
        "from qutip import *"
      ]
    },
    {
      "cell_type": "code",
      "execution_count": 4,
      "metadata": {
        "id": "0rI-UrokgyAs"
      },
      "outputs": [],
      "source": [
        "### XYZ Heisenberg model\n",
        "N=5\n",
        "\n",
        "solver = \"me\"   \n",
        "id2 = qeye(2)\n",
        "sx = .5*sigmax()\n",
        "sy = .5*sigmay()\n",
        "sz = .5*sigmaz()\n",
        "\n",
        "sx_list = []\n",
        "sy_list = []\n",
        "sz_list = []\n",
        "\n",
        "for n in range(N):\n",
        "    operator_list = []\n",
        "    for m in range(N):\n",
        "        operator_list.append(id2)\n",
        "    operator_list[n] = sx\n",
        "    sx_list.append(tensor(operator_list))\n",
        "        \n",
        "    operator_list[n] = sy\n",
        "    sy_list.append(tensor(operator_list))\n",
        "        \n",
        "    operator_list[n] = sz\n",
        "    sz_list.append(tensor(operator_list))\n",
        "\n",
        "sxsx_list = [sx_list[n]*sx_list[m] for n in range(N) for m in range(N)]\n",
        "sysy_list = [sy_list[n]*sy_list[m] for n in range(N) for m in range(N)]"
      ]
    },
    {
      "cell_type": "code",
      "source": [
        "def Heisenberg_hamiltonian (N, Jx, Jy, Jz, h):\n",
        "  H = 0\n",
        "  for n in range(N):\n",
        "    H += -0.5*h[n]*sz_list[n]\n",
        "        \n",
        "  for n in range(N-1):\n",
        "    H += -0.5 * Jx[n] * sx_list[n] * sx_list[n+1]\n",
        "    H += -0.5 * Jy[n] * sy_list[n] * sy_list[n+1]\n",
        "    H += -0.5 * Jz[n] * sz_list[n] * sz_list[n+1]\n",
        "  return H\n",
        "\n",
        "N = 5            # número de spines\n",
        "\n",
        "h  = 1.0 * 2 * np.pi * np.ones(N) \n",
        "Jz = 0.1 * 2 * np.pi * np.ones(N)\n",
        "Jx = 0.15 * 2 * np.pi * np.ones(N)\n",
        "Jy = 0.25 * 2 * np.pi * np.ones(N)\n"
      ],
      "metadata": {
        "id": "Vv6qcGyFYHoZ"
      },
      "execution_count": 5,
      "outputs": []
    },
    {
      "cell_type": "code",
      "source": [
        "# dephasing rate\n",
        "gamma = 5 * 10**-10* np.ones(N)\n",
        "\n",
        "# intial state, first spin in state |1>, the rest in state |0>\n",
        "psi_list = []\n",
        "for n in range(2):\n",
        "    psi_list.append(basis(2,0))\n",
        "psi_list.append(basis(2,1))\n",
        "for n in range(2):\n",
        "    psi_list.append(basis(2,0))\n",
        "psi0 = tensor(psi_list)\n",
        "\n",
        "tlist = np.linspace(0, 10, 1000)"
      ],
      "metadata": {
        "id": "bmUqwHAhhYeL"
      },
      "execution_count": 6,
      "outputs": []
    },
    {
      "cell_type": "code",
      "source": [
        "def hamiltonian_integration(N, Jx, Jy, Jz, h, psi_0, tlist, gamma=1e-10, solver=\"me\"):\n",
        "    H_H = Heisenberg_hamiltonian(N, Jx, Jy, Jz, h)\n",
        "\n",
        "    x_op = sum((.5 - sz_list[i])*i for i in range(N))\n",
        "    p_op = 1j*(x_op*H_H-H_H*x_op)\n",
        "    corr_op = .5*(x_op*p_op+p_op*x_op)\n",
        "    comm_op = -1j*(x_op*p_op-p_op*x_op)\n",
        "    p_dot = 1j*(H_H * p_op - p_op * H_H)\n",
        "\n",
        "\n",
        "    # collapse operators\n",
        "    c_op_list = []\n",
        "\n",
        "    # spin dephasing\n",
        "    for n in range(N):\n",
        "        if gamma[n] > 0.0:\n",
        "            c_op_list.append(np.sqrt(gamma[n]) * sz_list[n])\n",
        "\n",
        "    obs = [x_op, p_op, x_op**2,p_op**2, corr_op, p_dot]\n",
        "   \n",
        "    if solver == \"me\":\n",
        "        result_spin_ops = mesolve(H_H, psi0, tlist, c_op_list, obs)\n",
        "    elif solver == \"mc\":\n",
        "        ntraj = 200 \n",
        "        result_spin_ops = mcsolve(H_H, psi0, tlist, c_op_list, obs)\n",
        "\n",
        "    return result_spin_ops.expect\n"
      ],
      "metadata": {
        "id": "rBzSVZhLhHR4"
      },
      "execution_count": 7,
      "outputs": []
    },
    {
      "cell_type": "code",
      "source": [
        "results = hamiltonian_integration(N, Jx, Jy, Jz, h, psi0, tlist, gamma, solver)\n",
        "\n",
        "#plt.plot(results[0],label=\"x\")\n",
        "#plt.plot(results[1],label=\"p\")\n",
        "#plt.plot(results[2]-results[0]**2,label=\"dx^2\")\n",
        "#plt.plot(results[3]-results[1]**2,label=\"dp^2\")\n",
        "#plt.plot(-6*(results[4]-results[0]*results[1]),label=\"x p \")\n",
        "plt.plot(results[5],label=\"$\\dot{p}= i[H_H,p]$\")\n",
        "#plt.plot(results[3],label=\"comm\")\n",
        "plt.legend()"
      ],
      "metadata": {
        "id": "DmnJ7uPjiqUV",
        "outputId": "a25ee2a4-1461-4723-e28c-a5b49ec183bb",
        "colab": {
          "base_uri": "https://localhost:8080/",
          "height": 282
        }
      },
      "execution_count": 9,
      "outputs": [
        {
          "output_type": "execute_result",
          "data": {
            "text/plain": [
              "<matplotlib.legend.Legend at 0x7fc0d55e2d50>"
            ]
          },
          "metadata": {},
          "execution_count": 9
        },
        {
          "output_type": "display_data",
          "data": {
            "text/plain": [
              "<Figure size 432x288 with 1 Axes>"
            ],
            "image/png": "[encoded data removed]"
          },
          "metadata": {
            "needs_background": "light"
          }
        }
      ]
    },
    {
      "cell_type": "markdown",
      "source": [
        "Here we are interested in computing the following expression\n",
        "\n",
        "$$\n",
        "\\mu_X = \\frac{\\bigg(\\sum_{i=1}^N\\langle s_z^i \\rangle+ \\frac{1}{2}\\bigg)i}{\\sum_{i=1}^N\\langle s_z^i \\rangle+ \\frac{1}{2}}\n",
        "$$\n",
        "\n",
        "and the standard deviation is \n",
        "\n",
        "\n",
        "$$\n",
        "\\sigma^2_X= \\frac{\\bigg(\\sum_{i=1}^N\\langle s_{z}^{i} \\rangle+ \\frac{1}{2}\\bigg)i^2}{\\sum_{i=1}^N\\langle s_z^i \\rangle+ \\frac{1}{2}} - \\bigg[\\frac  {\\bigg(\\sum_{i=1}^N\\langle s_{z}^{i} \\rangle+ \\frac{1}{2}\\bigg)i}{\\sum_{i=1}^N\\langle s_z^i \\rangle+ \\frac{1}{2}}\\bigg]^2\n",
        "$$"
      ],
      "metadata": {
        "id": "AmHShGu9lcB-"
      }
    },
    {
      "cell_type": "code",
      "source": [
        "def hamiltonian_integration(N, Jx, Jy, Jz, h, psi_0, tlist, gamma=1e-10, solver=\"me\"):\n",
        "    H_H = Heisenberg_hamiltonian(N, Jx, Jy, Jz, h)\n",
        "\n",
        "    x_op = sum((.5 - sz_list[i])*i for i in range(N))\n",
        "    p_op = 1j*(x_op*H_H-H_H*x_op)\n",
        "    corr_op = .5*(x_op*p_op+p_op*x_op)\n",
        "    comm_op = -1j*(x_op*p_op-p_op*x_op)\n",
        "\n",
        "    # collapse operators\n",
        "    c_op_list = []\n",
        "\n",
        "    # spin dephasing\n",
        "    for n in range(N):\n",
        "        if gamma[n] > 0.0:\n",
        "            c_op_list.append(np.sqrt(gamma[n]) * sz_list[n])\n",
        "   \n",
        "    if solver == \"me\":\n",
        "        result_spin_ops = mesolve(H_H, psi0, tlist, c_op_list, sz_list)\n",
        "    elif solver == \"mc\":\n",
        "        ntraj = 200 \n",
        "        result_spin_ops = mcsolve(H_H, psi0, tlist, c_op_list, sz_list)\n",
        "\n",
        "    return result_spin_ops.expect"
      ],
      "metadata": {
        "id": "n_KX7I1Vl1tU"
      },
      "execution_count": null,
      "outputs": []
    },
    {
      "cell_type": "code",
      "source": [
        "sz_expt = hamiltonian_integration(N, Jx, Jy, Jz, h, psi0, tlist, gamma, solver)\n",
        "\n",
        "denom_muX = sum(.5*(1-sz_expt[i]) for i in range(5))\n",
        "mu_X= sum(.5*(1-sz_expt[i])*i for i in range((5)))/denom_muX\n",
        "std_devX_term1 = sum(.5*(1-sz_expt[i])*i**2 for i in range((5)))/denom_muX\n",
        "std_devX_term2 = mu_X**2\n",
        "\n",
        "std_devX = std_devX_term1 + std_devX_term2\n",
        "\n",
        "plt.plot(mu_X, label=r\"$\\mu_X$\")\n",
        "plt.plot(std_devX, label=r\"$\\sigma_X^2$\")\n",
        "plt.legend()"
      ],
      "metadata": {
        "id": "s_-TNNoznsRm",
        "outputId": "eca25cb0-9b6d-4a6b-8088-288de2154353",
        "colab": {
          "base_uri": "https://localhost:8080/",
          "height": 282
        }
      },
      "execution_count": null,
      "outputs": [
        {
          "output_type": "execute_result",
          "data": {
            "text/plain": [
              "<matplotlib.legend.Legend at 0x7f81233f65d0>"
            ]
          },
          "metadata": {},
          "execution_count": 71
        },
        {
          "output_type": "display_data",
          "data": {
            "text/plain": [
              "<Figure size 432x288 with 1 Axes>"
            ],
            "image/png": "[encoded data removed]"
          },
          "metadata": {
            "needs_background": "light"
          }
        }
      ]
    },
    {
      "cell_type": "code",
      "source": [
        ""
      ],
      "metadata": {
        "id": "rwDdiNvUkF_W"
      },
      "execution_count": null,
      "outputs": []
    },
    {
      "cell_type": "code",
      "source": [
        ""
      ],
      "metadata": {
        "id": "1SnNHwEEkKOn"
      },
      "execution_count": null,
      "outputs": []
    },
    {
      "cell_type": "code",
      "source": [
        ""
      ],
      "metadata": {
        "id": "IfBF01phkKcX"
      },
      "execution_count": null,
      "outputs": []
    },
    {
      "cell_type": "code",
      "source": [
        "#sigma_x sigmax evolucionado \n",
        "fig, ax = plt.subplots()\n",
        "\n",
        "for n in range(N):\n",
        "    ax.plot(tlist, np.real(sxsx_results[n]))\n",
        "\n",
        "plt.show()\n"
      ],
      "metadata": {
        "colab": {
          "base_uri": "https://localhost:8080/",
          "height": 265
        },
        "id": "mEedOXVtPlp9",
        "outputId": "9b93dea2-6e69-4ee0-ea09-25d86833bbe5"
      },
      "execution_count": null,
      "outputs": [
        {
          "output_type": "display_data",
          "data": {
            "text/plain": [
              "<Figure size 432x288 with 1 Axes>"
            ],
            "image/png": "[encoded data removed]"
          },
          "metadata": {
            "needs_background": "light"
          }
        }
      ]
    },
    {
      "cell_type": "code",
      "source": [
        "# dephasing rate\n",
        "gamma = 5 * 10**-10* np.ones(N)\n",
        "\n",
        "# intial state, first spin in state |1>, the rest in state |0>\n",
        "psi_list = []\n",
        "for n in range(2):\n",
        "    psi_list.append(basis(2,0))\n",
        "psi_list.append(basis(2,1))\n",
        "for n in range(2):\n",
        "    psi_list.append(basis(2,0))\n",
        "psi0 = tensor(psi_list)\n",
        "\n",
        "tlist = np.linspace(0, 10, 100)\n",
        "\n",
        "results = hamiltonian(N, Jx, Jy, Jz, h, psi0, tlist, gamma, solver)\n",
        "\n",
        "#sxsx_results = results.expect[0]\n",
        "sysy_results = results\n",
        "#sz_results = results"
      ],
      "metadata": {
        "id": "eVpazFqlPxfz"
      },
      "execution_count": null,
      "outputs": []
    },
    {
      "cell_type": "code",
      "source": [
        "def W(a, N): \n",
        "  return sum(np.exp(1j * k * 2 * np.pi * (a) * N**-1)*(2) for k in range(N))/N\n",
        "\n",
        "plt.scatter([a for a in range(5)],[W(a, 5) for a in range(5)])"
      ],
      "metadata": {
        "id": "K0A9qgpT0rra",
        "outputId": "55664eed-e875-4441-f459-eb954a263908",
        "colab": {
          "base_uri": "https://localhost:8080/",
          "height": 317
        }
      },
      "execution_count": null,
      "outputs": [
        {
          "output_type": "stream",
          "name": "stderr",
          "text": [
            "/usr/local/lib/python3.7/dist-packages/matplotlib/collections.py:153: ComplexWarning: Casting complex values to real discards the imaginary part\n",
            "  offsets = np.asanyarray(offsets, float)\n"
          ]
        },
        {
          "output_type": "execute_result",
          "data": {
            "text/plain": [
              "<matplotlib.collections.PathCollection at 0x7f17e91bfad0>"
            ]
          },
          "metadata": {},
          "execution_count": 88
        },
        {
          "output_type": "display_data",
          "data": {
            "text/plain": [
              "<Figure size 432x288 with 1 Axes>"
            ],
            "image/png": "[encoded data removed]"
          },
          "metadata": {
            "needs_background": "light"
          }
        }
      ]
    },
    {
      "cell_type": "code",
      "source": [
        "x_op = sum((.5 + sz_expt[i])*i for i in range(N))\n",
        "\n",
        "def W(a,b, k_max): \n",
        "  return sum(e**(1j * k * 2 * pi * (a-b) * N**-1)*(k*2*pi*N**-1) for k in range(k_max))\n",
        "\n",
        "p_op = np.real(sum(W(i,j,10)*(sx_expt[i]*sx_expt[j]+sy_expt[i]*sy_expt[j]) for i in range(N) for j in range(N)))\n",
        "\n",
        "corr_xop_pop = .5*(x_op * p_op + p_op * x_op)\n"
      ],
      "metadata": {
        "id": "GPhjIcLi4S3g"
      },
      "execution_count": null,
      "outputs": []
    },
    {
      "cell_type": "code",
      "source": [
        "fig, ax = plt.subplots(figsize=(10,6))\n",
        "\n",
        "ax.plot(tlist, x_op-10.95, label=r'$\\hat{x}= \\langle \\sum_{a}(\\sigma_z^{(a)}+1/2)*a\\rangle - 10.95$')\n",
        "ax.plot(tlist, p_op, label=r'$\\hat{p}= \\langle \\sum_{a,b}W(a,b,k_{max})(\\sigma_x^{(a)}\\sigma_x^{(b)}+\\sigma_y^{(a)}\\sigma_y^{(b)}}))\\rangle$')\n",
        "\n",
        "ax.legend(loc=0)\n",
        "ax.set_xlabel(r'Time [s]')\n",
        "ax.set_ylabel(r'$\\langle\\sigma_z\\rangle$')\n",
        "ax.set_title(r'Dynamics of a Heisenberg spin chain for N=5 spins and $\\gamma = 5\\times 10^{-10} $');"
      ],
      "metadata": {
        "id": "uRLfoedD--WH"
      },
      "execution_count": null,
      "outputs": []
    },
    {
      "cell_type": "code",
      "source": [
        "fig, ax = plt.subplots(figsize=(10,6))\n",
        "\n",
        "for n in range(N):\n",
        "    ax.plot(tlist, np.real(sz_expt[n]), label=r'$\\langle\\sigma_z^{(%d)}\\rangle$'%n)\n",
        "\n",
        "ax.legend(loc=0)\n",
        "ax.set_xlabel(r'Time [s]')\n",
        "ax.set_ylabel(r'$\\langle\\sigma_z\\rangle$')\n",
        "ax.set_title(r'Dynamics of a Heisenberg spin chain for N=5 spins and $\\gamma = 5\\times 10^{-10} $');"
      ],
      "metadata": {
        "id": "FrRELJ08yzww"
      },
      "execution_count": null,
      "outputs": []
    }
  ]
}