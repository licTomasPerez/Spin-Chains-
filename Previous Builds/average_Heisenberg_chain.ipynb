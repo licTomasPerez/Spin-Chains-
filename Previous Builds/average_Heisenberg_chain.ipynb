{
  "nbformat": 4,
  "nbformat_minor": 0,
  "metadata": {
    "colab": {
      "name": "average_Heisenberg-chain",
      "provenance": [],
      "authorship_tag": "ABX9TyO9C4ckIN1ATRR6oMIiyxdW",
      "include_colab_link": true
    },
    "kernelspec": {
      "name": "python3",
      "display_name": "Python 3"
    },
    "language_info": {
      "name": "python"
    }
  },
  "cells": [
    {
      "cell_type": "markdown",
      "metadata": {
        "id": "view-in-github",
        "colab_type": "text"
      },
      "source": [
        "<a href=\"https://colab.research.google.com/github/licTomasPerez/Spin-Chains-/blob/main/Previous%20Builds/average_Heisenberg_chain.ipynb\" target=\"_parent\"><img src=\"https://colab.research.google.com/assets/colab-badge.svg\" alt=\"Open In Colab\"/></a>"
      ]
    },
    {
      "cell_type": "code",
      "execution_count": 31,
      "metadata": {
        "id": "q2kkbGw4gyAq"
      },
      "outputs": [],
      "source": [
        "%matplotlib inline\n",
        "import matplotlib.pyplot as plt\n",
        "import numpy as np\n",
        "from qutip import *"
      ]
    },
    {
      "cell_type": "code",
      "execution_count": 32,
      "metadata": {
        "id": "0rI-UrokgyAs"
      },
      "outputs": [],
      "source": [
        "### XYZ Heisenberg model\n",
        "\n",
        "solver = \"me\"   \n",
        "N = 5            # número de spines\n",
        "\n",
        "h  = 1.0 * 2 * np.pi * np.ones(N) \n",
        "Jz = 0.1 * 2 * np.pi * np.ones(N)\n",
        "Jx = 0.15 * 2 * np.pi * np.ones(N)\n",
        "Jy = 0.25 * 2 * np.pi * np.ones(N)"
      ]
    },
    {
      "cell_type": "code",
      "execution_count": 33,
      "metadata": {
        "id": "46MAAOZxgyAt"
      },
      "outputs": [],
      "source": [
        "def hamiltonian(N, Jx, Jy, Jz, h, psi0, tlist, gamma, solver):\n",
        "    \n",
        "    id2 = qeye(2)\n",
        "    sx = sigmax()\n",
        "    sy = sigmay()\n",
        "    sz = sigmaz()\n",
        "    \n",
        "    sx_list = []\n",
        "    sy_list = []\n",
        "    sz_list = []\n",
        "    one_half_list = []\n",
        "    num_expression_sz = []\n",
        "\n",
        "    for n in range(N):\n",
        "        operator_list = []\n",
        "        for m in range(N):\n",
        "            operator_list.append(id2)\n",
        "        \n",
        "        operator_list[n] = sx\n",
        "        sx_list.append(tensor(operator_list))\n",
        "        \n",
        "        operator_list[n] = sy\n",
        "        sy_list.append(tensor(operator_list))\n",
        "        \n",
        "        operator_list[n] = sz\n",
        "        sz_list.append(tensor(operator_list))\n",
        "\n",
        "    # Constructing the Hamiltonian\n",
        "    \n",
        "    H = 0\n",
        "    \n",
        "    for n in range(N):\n",
        "        H += -0.5*h[n]*sz_list[n]\n",
        "        \n",
        "    for n in range(N-1):\n",
        "        H += -0.5 * Jx[n] * sx_list[n] * sx_list[n+1]\n",
        "        H += -0.5 * Jy[n] * sy_list[n] * sy_list[n+1]\n",
        "        H += -0.5 * Jz[n] * sz_list[n] * sz_list[n+1]\n",
        "    \n",
        "    # collapse operators\n",
        "    c_op_list = []\n",
        "\n",
        "    # spin dephasing\n",
        "    for n in range(N):\n",
        "        if gamma[n] > 0.0:\n",
        "            c_op_list.append(np.sqrt(gamma[n]) * sz_list[n])\n",
        "    \n",
        "    if solver == \"me\":\n",
        "        result = mesolve(H, psi0, tlist, c_op_list, sz_list)\n",
        "    elif solver == \"mc\":\n",
        "        ntraj = 200 \n",
        "        result = mcsolve(H, psi0, tlist, c_op_list, sz_list, ntraj)\n",
        "\n",
        "    return result.expect\n",
        "\n"
      ]
    },
    {
      "cell_type": "code",
      "execution_count": 34,
      "metadata": {
        "id": "txfW0eMrgyAu"
      },
      "outputs": [],
      "source": [
        "# dephasing rate\n",
        "gamma = 5 * 10**-1 * np.ones(N)\n",
        "\n",
        "# intial state, first spin in state |1>, the rest in state |0>\n",
        "psi_list = []\n",
        "for n in range(2):\n",
        "    psi_list.append(basis(2,0))\n",
        "psi_list.append(basis(2,1))\n",
        "for n in range(2):\n",
        "    psi_list.append(basis(2,0))\n",
        "psi0 = tensor(psi_list)\n",
        "\n",
        "tlist = np.linspace(0, 10, 400)\n",
        "\n",
        "sz_expt = hamiltonian(N, Jx, Jy, Jz, h, psi0, tlist, gamma, solver)\n"
      ]
    },
    {
      "cell_type": "markdown",
      "source": [
        "Here we are interested in computing the following expression\n",
        "\n",
        "$$\n",
        "\\mu_X = \\frac{\\bigg(\\sum_{i=1}^N\\langle s_z^i \\rangle+ \\frac{1}{2}\\bigg)i}{\\sum_{i=1}^N\\langle s_z^i \\rangle+ \\frac{1}{2}}\n",
        "$$\n",
        "\n",
        "and the standard deviation is \n",
        "\n",
        "\n",
        "$$\n",
        "\\sigma^2_X= \\frac{\\bigg(\\sum_{i=1}^N\\langle s_{z}^{i} \\rangle+ \\frac{1}{2}\\bigg)i^2}{\\sum_{i=1}^N\\langle s_z^i \\rangle+ \\frac{1}{2}} - \\bigg[\\frac  {\\bigg(\\sum_{i=1}^N\\langle s_{z}^{i} \\rangle+ \\frac{1}{2}\\bigg)i}{\\sum_{i=1}^N\\langle s_z^i \\rangle+ \\frac{1}{2}}\\bigg]^2\n",
        "$$"
      ],
      "metadata": {
        "id": "AmHShGu9lcB-"
      }
    },
    {
      "cell_type": "code",
      "source": [
        "denom_muX = sum(.5*(1-sz_expt[i]) for i in range(5))\n",
        "mu_X= sum(.5*(1-sz_expt[i])*i for i in range((5)))/denom_muX\n",
        "std_devX_term1 = sum(.5*(1-sz_expt[i])*i**2 for i in range((5)))/denom_muX\n",
        "std_devX_term2 = mu_X**2\n",
        "\n",
        "std_devX = std_devX_term1 + std_devX_term2\n",
        "\n",
        "\n",
        "plt.plot(std_devX)"
      ],
      "metadata": {
        "colab": {
          "base_uri": "https://localhost:8080/",
          "height": 282
        },
        "id": "s_-TNNoznsRm",
        "outputId": "66822cdb-f2c3-412b-9c05-e67fef0e8228"
      },
      "execution_count": 39,
      "outputs": [
        {
          "output_type": "execute_result",
          "data": {
            "text/plain": [
              "[<matplotlib.lines.Line2D at 0x7f1941fda110>]"
            ]
          },
          "metadata": {},
          "execution_count": 39
        },
        {
          "output_type": "display_data",
          "data": {
            "text/plain": [
              "<Figure size 432x288 with 1 Axes>"
            ],
            "image/png": "[encoded data removed]"
          },
          "metadata": {
            "needs_background": "light"
          }
        }
      ]
    },
    {
      "cell_type": "code",
      "source": [
        ""
      ],
      "metadata": {
        "id": "_JI2VvQqljSt"
      },
      "execution_count": 10,
      "outputs": []
    }
  ]
}