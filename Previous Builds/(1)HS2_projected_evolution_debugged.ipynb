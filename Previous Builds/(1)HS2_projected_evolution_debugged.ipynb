{
 "cells": [
  {
   "cell_type": "markdown",
   "metadata": {
    "colab_type": "text",
    "id": "view-in-github"
   },
   "source": [
    "<a href=\"https://colab.research.google.com/github/mmatera/Spin-Chains-/blob/main/HS_projected_evolution_debugged.ipynb\" target=\"_parent\"><img src=\"https://colab.research.google.com/assets/colab-badge.svg\" alt=\"Open In Colab\"/></a>"
   ]
  },
  {
   "cell_type": "code",
   "execution_count": 1,
   "metadata": {
    "colab": {
     "base_uri": "https://localhost:8080/"
    },
    "id": "CzAqDJ65kXXw",
    "outputId": "ee79eca0-d519-420e-c778-12f60c47a8d5"
   },
   "outputs": [
    {
     "name": "stdout",
     "output_type": "stream",
     "text": [
      "Requirement already satisfied: qutip in c:\\users\\usuario\\anaconda3\\lib\\site-packages (4.6.1)\n",
      "Requirement already satisfied: scipy>=1.0 in c:\\users\\usuario\\anaconda3\\lib\\site-packages (from qutip) (1.5.0)\n",
      "Requirement already satisfied: packaging in c:\\users\\usuario\\anaconda3\\lib\\site-packages (from qutip) (20.4)\n",
      "Requirement already satisfied: numpy>=1.16.6 in c:\\users\\usuario\\anaconda3\\lib\\site-packages (from qutip) (1.18.5)\n",
      "Requirement already satisfied: six in c:\\users\\usuario\\anaconda3\\lib\\site-packages (from packaging->qutip) (1.15.0)\n",
      "Requirement already satisfied: pyparsing>=2.0.2 in c:\\users\\usuario\\anaconda3\\lib\\site-packages (from packaging->qutip) (2.4.7)\n",
      "Requirement already satisfied: scipy in c:\\users\\usuario\\anaconda3\\lib\\site-packages (1.5.0)\n",
      "Requirement already satisfied: numpy>=1.14.5 in c:\\users\\usuario\\anaconda3\\lib\\site-packages (from scipy) (1.18.5)\n",
      "Collecting matplotlib.inline\n",
      "  Using cached matplotlib_inline-0.1.3-py3-none-any.whl (8.2 kB)\n",
      "Requirement already satisfied: traitlets in c:\\users\\usuario\\anaconda3\\lib\\site-packages (from matplotlib.inline) (4.3.3)\n",
      "Requirement already satisfied: decorator in c:\\users\\usuario\\anaconda3\\lib\\site-packages (from traitlets->matplotlib.inline) (4.4.2)\n",
      "Requirement already satisfied: six in c:\\users\\usuario\\anaconda3\\lib\\site-packages (from traitlets->matplotlib.inline) (1.15.0)\n",
      "Requirement already satisfied: ipython-genutils in c:\\users\\usuario\\anaconda3\\lib\\site-packages (from traitlets->matplotlib.inline) (0.2.0)\n",
      "Installing collected packages: matplotlib.inline\n",
      "Successfully installed matplotlib.inline\n",
      "Requirement already satisfied: numpy in c:\\users\\usuario\\anaconda3\\lib\\site-packages (1.18.5)\n"
     ]
    }
   ],
   "source": [
    "!pip install qutip\n",
    "!pip install scipy\n",
    "!pip install matplotlib.inline\n",
    "!pip install numpy"
   ]
  },
  {
   "cell_type": "code",
   "execution_count": 66,
   "metadata": {
    "id": "6td6yO61kg2q"
   },
   "outputs": [],
   "source": [
    "import qutip\n",
    "import matplotlib.pyplot as plt \n",
    "from numpy import *\n",
    "import scipy.optimize as opt \n",
    "import pickle\n",
    "import math, cmath\n",
    "\n",
    "from proj_ev_tools import *\n",
    "from IPython.display import display, Math, Latex"
   ]
  },
  {
   "cell_type": "code",
   "execution_count": 134,
   "metadata": {
    "id": "C4U410MBw0WJ"
   },
   "outputs": [
    {
     "name": "stderr",
     "output_type": "stream",
     "text": [
      "<ipython-input-134-502b3d1bff13>:41: DeprecationWarning: Calling np.sum(generator) is deprecated, and in the future will give a different result. Use np.sum(np.fromiter(generator)) or the python sum builtin instead.\n",
      "  x_op = sum((.5 - sz_list[a])*a for a in range(N))\n"
     ]
    }
   ],
   "source": [
    "N = 3            # número de spines\n",
    "\n",
    "h  = 1.0 * 2 * np.pi * np.ones(N) \n",
    "Jx = 0.15 * 2 * np.pi * np.ones(N)\n",
    "Jy = 0.25 * 2 * np.pi * np.ones(N)\n",
    "Jz = 0.1 * 2 * np.pi * np.ones(N)\n",
    "\n",
    "id2 = qutip.qeye(2)\n",
    "sx = .5*qutip.sigmax()\n",
    "sy = .5*qutip.sigmay()\n",
    "sz = .5*qutip.sigmaz()\n",
    "\n",
    "sx_list = []\n",
    "sy_list = []\n",
    "sz_list = []\n",
    "\n",
    "for n in range(N):\n",
    "    operator_list = []\n",
    "    for m in range(N):\n",
    "        operator_list.append(id2)\n",
    "    operator_list[n] = sx\n",
    "    sx_list.append(qutip.tensor(operator_list))\n",
    "        \n",
    "    operator_list[n] = sy\n",
    "    sy_list.append(qutip.tensor(operator_list))\n",
    "        \n",
    "    operator_list[n] = sz\n",
    "    sz_list.append(qutip.tensor(operator_list))\n",
    "\n",
    "def Heisenberg_hamiltonian (N, Jx, Jy, Jz, h):\n",
    "  H = 0\n",
    "  for n in range(N):\n",
    "    H += -0.5*h[n]*sz_list[n]\n",
    "        \n",
    "  for n in range(N-1):\n",
    "    H += -0.5 * Jx[n] * sx_list[n] * sx_list[n+1]\n",
    "    H += -0.5 * Jy[n] * sy_list[n] * sy_list[n+1]\n",
    "    H += -0.5 * Jz[n] * sz_list[n] * sz_list[n+1]\n",
    "  return H\n",
    "\n",
    "x_op = sum((.5 - sz_list[a])*a for a in range(N))\n",
    "p_op = 1j * (x_op*Heisenberg_hamiltonian (N, Jx, Jy, Jz, h) - Heisenberg_hamiltonian (N, Jx, Jy, Jz, h)*x_op)\n",
    "comm_xp = .5*(x_op*p_op + p_op*x_op)\n",
    "corr_xp = -1j*(x_op*p_op - p_op*x_op)\n",
    "p_dot = 1j*(Heisenberg_hamiltonian (N, Jx, Jy, Jz, h) * p_op - p_op * Heisenberg_hamiltonian (N, Jx, Jy, Jz, h))\n",
    "\n",
    "entropy_VN = []\n",
    "def callback_entropy_VN (t,rhot):\n",
    "    entropy_VN.append(qutip.entropy_vn(rhot))"
   ]
  },
  {
   "cell_type": "code",
   "execution_count": 32,
   "metadata": {
    "colab": {
     "base_uri": "https://localhost:8080/"
    },
    "id": "8dRVUi2C9TyW",
    "outputId": "f715268f-9be0-454d-f08a-bcf86ed383c9"
   },
   "outputs": [
    {
     "name": "stdout",
     "output_type": "stream",
     "text": [
      "Quantum object: dims = [[2, 2, 2], [2, 2, 2]], shape = (8, 8), type = oper, isherm = True\n",
      "Qobj data =\n",
      "[[-0.04934802  0.          0.         -1.51745168  0.          0.09869604\n",
      "  -0.50581723  0.        ]\n",
      " [ 0.          0.18505508 -0.04934802  0.         -0.02467401  0.\n",
      "   0.         -0.48114321]\n",
      " [ 0.         -0.04934802  0.          0.          0.04934802  0.\n",
      "   0.         -0.09869604]\n",
      " [-1.51745168  0.          0.          0.2344031   0.         -0.04934802\n",
      "   0.02467401  0.        ]\n",
      " [ 0.         -0.02467401  0.04934802  0.         -0.2344031   0.\n",
      "   0.         -1.44342964]\n",
      " [ 0.09869604  0.          0.         -0.04934802  0.          0.\n",
      "   0.04934802  0.        ]\n",
      " [-0.50581723  0.          0.          0.02467401  0.          0.04934802\n",
      "  -0.18505508  0.        ]\n",
      " [ 0.         -0.48114321 -0.09869604  0.         -1.44342964  0.\n",
      "   0.          0.04934802]]\n"
     ]
    }
   ],
   "source": [
    "print(p_dot)"
   ]
  },
  {
   "cell_type": "code",
   "execution_count": 27,
   "metadata": {
    "id": "hIAULt6A-sj_"
   },
   "outputs": [],
   "source": [
    "psi1_list = []\n",
    "psi1_list.append(qutip.basis(2,1))\n",
    "for n in range(N-1):\n",
    "    psi1_list.append(qutip.basis(2,0))\n",
    "\n",
    "psi2_list = []\n",
    "psi2_list.append(qutip.basis(2,0))\n",
    "psi2_list.append(qutip.basis(2,1))\n",
    "for n in range(N-2):\n",
    "    psi2_list.append(qutip.basis(2,0))\n",
    "\n",
    "psi01 = qutip.tensor(psi1_list) ## siendo este un estado puro, su entropía de VN es cero\n",
    "psi02 = qutip.tensor(psi2_list) \n",
    "psi0 = psi01+psi02 "
   ]
  },
  {
   "cell_type": "code",
   "execution_count": 14,
   "metadata": {
    "colab": {
     "base_uri": "https://localhost:8080/"
    },
    "id": "8nTaciA25-qN",
    "outputId": "181876ac-c3b5-42b0-b4d5-f51c70e75247"
   },
   "outputs": [
    {
     "name": "stdout",
     "output_type": "stream",
     "text": [
      "Quantum object: dims = [[2, 2, 2], [1, 1, 1]], shape = (8, 1), type = ket\n",
      "Qobj data =\n",
      "[[0.]\n",
      " [0.]\n",
      " [1.]\n",
      " [0.]\n",
      " [0.]\n",
      " [0.]\n",
      " [0.]\n",
      " [0.]]\n"
     ]
    }
   ],
   "source": [
    "print(psi02)"
   ]
  },
  {
   "cell_type": "code",
   "execution_count": 15,
   "metadata": {
    "colab": {
     "base_uri": "https://localhost:8080/"
    },
    "id": "qa0v3WX4EUjn",
    "outputId": "f88497a7-5291-4429-ce61-2c3e22f7fbc9"
   },
   "outputs": [
    {
     "name": "stdout",
     "output_type": "stream",
     "text": [
      "$$S(\\psi_01)=$$ -0.0\n",
      "$$S(\\psi_02)=$$ -0.0\n",
      "$$S(\\psi_01+\\psi_02)=$$ -0.0\n"
     ]
    }
   ],
   "source": [
    "print(r\"$$S(\\psi_01)=$$\", qutip.entropy_vn(psi01))\n",
    "print(r\"$$S(\\psi_02)=$$\", qutip.entropy_vn(psi02))\n",
    "print(r\"$$S(\\psi_01+\\psi_02)=$$\", qutip.entropy_vn(psi01))"
   ]
  },
  {
   "cell_type": "code",
   "execution_count": 19,
   "metadata": {
    "id": "-XSlIXhc_Ts-"
   },
   "outputs": [],
   "source": [
    "class Result(object):\n",
    "    def __init__(self, ts=None, states=None):\n",
    "        self.ts = ts\n",
    "        self.states = states\n",
    "        self.projrho0_app = None   \n",
    "        self.projrho_inst_app = None "
   ]
  },
  {
   "cell_type": "code",
   "execution_count": 20,
   "metadata": {
    "id": "s2layG4xwFv0"
   },
   "outputs": [],
   "source": [
    "def spin_dephasing(gamma):\n",
    "  c_op_list = []\n",
    "  collapse_weights = gamma * np.ones(N)\n",
    "  for n in range(N):\n",
    "        if collapse_weights[n] > 0.0:\n",
    "            c_op_list.append(np.sqrt(collapse_weights[n]) * sz_list[n])\n",
    "  return c_op_list"
   ]
  },
  {
   "cell_type": "markdown",
   "metadata": {
    "id": "Aa8fWiwYqRWs"
   },
   "source": [
    "Considero un estado inicial descorrelacionado de la forma de \n",
    "\n",
    "$$\n",
    "\\rho_0 = x |\\Phi\\rangle \\langle\\Phi| + (1-x)\\frac{{I_d}}{d}\n",
    "$$"
   ]
  },
  {
   "cell_type": "code",
   "execution_count": 104,
   "metadata": {},
   "outputs": [
    {
     "data": {
      "text/plain": [
       "True"
      ]
     },
     "execution_count": 104,
     "metadata": {},
     "output_type": "execute_result"
    }
   ],
   "source": [
    "# Estas definiciones quedaron obsoletas pero sirven para el testeo de la n_body_basis\n",
    "\n",
    "one_site_basis = globalid_list + sx_list + sy_list + sz_list \n",
    "two_site_basis = [op1*op2 for op1 in one_site_basis for op2 in one_site_basis]\n",
    "\n",
    "tercera_base = [op*op3 for op in two_site_basis for op3 in one_site_basis]\n",
    "three_site_basis = [op1*op2*op3 for op1 in one_site_basis for op2 in one_site_basis for op3 in one_site_basis]\n",
    "\n",
    "cuarta_base = [op*op4 for op in three_site_basis for op4 in one_site_basis]\n",
    "four_site_basis = [op1*op2*op3*op4 for op1 in one_site_basis for op2 in one_site_basis for op3 in one_site_basis for op4 in one_site_basis]"
   ]
  },
  {
   "cell_type": "code",
   "execution_count": 127,
   "metadata": {},
   "outputs": [],
   "source": [
    "# def isnatural(x):\n",
    "#   return isinstance(x, int) and 0 <= x <= 9\n",
    "\n",
    "## globalid_list tiene N operadores anidados\n",
    "## sx_list, sy_list, sz_list ídem, N operadores c/u. \n",
    "## La 1-base completa tiene 4N operadores de 1-cuerpo\n",
    "## La 2-base completa tiene 4N^{4N} operadores de 2-cuerpos\n",
    "## La 3-base completa tiene {4N^{4N}}^{4N} operadores \n",
    "\n",
    "globalid = qutip.tensor([qutip.qeye(2) for k in range(N)])\n",
    "globalid_list = []\n",
    "\n",
    "for i in range(N):\n",
    "    globalid_list.append(globalid)\n",
    "\n",
    "natural = tuple('123456789')\n",
    "\n",
    "def n_body_basis(n):\n",
    "    basis = []\n",
    "    if (isinstance(n,int) and str(n) in natural):\n",
    "        if (n == 1):\n",
    "            basis = globalid_list + sx_list + sy_list + sz_list\n",
    "        elif (n > 1):\n",
    "            basis = [op1*op2 for op1 in n_body_basis(n-1) for op2 in n_body_basis(1)]\n",
    "    else:\n",
    "        basis = 'beep boop, n must be natural'\n",
    "    return basis"
   ]
  },
  {
   "cell_type": "code",
   "execution_count": 92,
   "metadata": {
    "scrolled": true
   },
   "outputs": [
    {
     "name": "stdout",
     "output_type": "stream",
     "text": [
      "Test 1: 1-bases iguales? True\n",
      "Test 1: 1-base igual a 2-base? False\n",
      "Test 2: 2-bases iguales? True\n",
      "Test 3: 3-bases iguales? True\n",
      "Test 4: 4-bases iguales? True\n"
     ]
    },
    {
     "data": {
      "text/plain": [
       "False"
      ]
     },
     "execution_count": 92,
     "metadata": {},
     "output_type": "execute_result"
    }
   ],
   "source": [
    "print('Test 1: 1-bases iguales?', n_body_basis(1) == one_site_basis)\n",
    "print('Test 1: 1-base igual a 2-base?', n_body_basis(1) == two_site_basis)\n",
    "print('Test 2: 2-bases iguales?', n_body_basis(2) == two_site_basis)\n",
    "print('Test 3: 3-bases iguales?', n_body_basis(3) == three_site_basis)\n",
    "print('Test 4: 4-bases iguales?', n_body_basis(4) == four_site_basis)\n",
    "n_body_basis(3) == two_site_basis"
   ]
  },
  {
   "cell_type": "code",
   "execution_count": 129,
   "metadata": {},
   "outputs": [
    {
     "name": "stdout",
     "output_type": "stream",
     "text": [
      "OK True\n",
      "OK True\n",
      "OK True\n",
      "OK True\n",
      "OK True\n",
      "OK True\n",
      "OK True\n",
      "OK True\n",
      "OK True\n",
      "OK True\n",
      "OK True\n",
      "OK True\n"
     ]
    }
   ],
   "source": [
    "uno_a_cuatro_bases = []\n",
    "uno_a_cuatro_bases.append(one_site_basis)\n",
    "uno_a_cuatro_bases.append(two_site_basis)\n",
    "uno_a_cuatro_bases.append(three_site_basis)\n",
    "uno_a_cuatro_bases.append(four_site_basis)\n",
    "\n",
    "def basis_defs_test():\n",
    "    boolean = False \n",
    "    for n in range(4): \n",
    "        for m in range(3):\n",
    "            if (n_body_basis(n+1) == uno_a_cuatro_bases[m] and n != m):\n",
    "                print('Error: Two different index basis definitions equal', boolean)\n",
    "            if (n_body_basis(n+1) != uno_a_cuatro_bases[m] and n == m):\n",
    "                print('Error: Two same index basis definitions not equal', boolean)\n",
    "            else:\n",
    "                print('OK', True)\n",
    "    return None\n",
    "\n",
    "basis_defs_test()"
   ]
  },
  {
   "cell_type": "code",
   "execution_count": 139,
   "metadata": {},
   "outputs": [
    {
     "data": {
      "text/latex": [
       "Quantum object: dims = [[2, 2, 2], [2, 2, 2]], shape = (8, 8), type = oper, isherm = True\\begin{equation*}\\left(\\begin{array}{*{11}c}1.434 & 0.663 & 0.663 & 0.306 & 0.663 & 0.306 & 0.306 & 0.141\\\\0.663 & 1.434 & 0.306 & 0.663 & 0.306 & 0.663 & 0.141 & 0.306\\\\0.663 & 0.306 & 1.434 & 0.663 & 0.306 & 0.141 & 0.663 & 0.306\\\\0.306 & 0.663 & 0.663 & 1.434 & 0.141 & 0.306 & 0.306 & 0.663\\\\0.663 & 0.306 & 0.306 & 0.141 & 1.434 & 0.663 & 0.663 & 0.306\\\\0.306 & 0.663 & 0.141 & 0.306 & 0.663 & 1.434 & 0.306 & 0.663\\\\0.306 & 0.141 & 0.663 & 0.306 & 0.663 & 0.306 & 1.434 & 0.663\\\\0.141 & 0.306 & 0.306 & 0.663 & 0.306 & 0.663 & 0.663 & 1.434\\\\\\end{array}\\right)\\end{equation*}"
      ],
      "text/plain": [
       "Quantum object: dims = [[2, 2, 2], [2, 2, 2]], shape = (8, 8), type = oper, isherm = True\n",
       "Qobj data =\n",
       "[[1.43382188 0.66259369 0.66259369 0.30619591 0.66259369 0.30619591\n",
       "  0.30619591 0.14149838]\n",
       " [0.66259369 1.43382188 0.30619591 0.66259369 0.30619591 0.66259369\n",
       "  0.14149838 0.30619591]\n",
       " [0.66259369 0.30619591 1.43382188 0.66259369 0.30619591 0.14149838\n",
       "  0.66259369 0.30619591]\n",
       " [0.30619591 0.66259369 0.66259369 1.43382188 0.14149838 0.30619591\n",
       "  0.30619591 0.66259369]\n",
       " [0.66259369 0.30619591 0.30619591 0.14149838 1.43382188 0.66259369\n",
       "  0.66259369 0.30619591]\n",
       " [0.30619591 0.66259369 0.14149838 0.30619591 0.66259369 1.43382188\n",
       "  0.30619591 0.66259369]\n",
       " [0.30619591 0.14149838 0.66259369 0.30619591 0.66259369 0.30619591\n",
       "  1.43382188 0.66259369]\n",
       " [0.14149838 0.30619591 0.30619591 0.66259369 0.30619591 0.66259369\n",
       "  0.66259369 1.43382188]]"
      ]
     },
     "execution_count": 139,
     "metadata": {},
     "output_type": "execute_result"
    }
   ],
   "source": []
  },
  {
   "cell_type": "code",
   "execution_count": 81,
   "metadata": {
    "colab": {
     "base_uri": "https://localhost:8080/"
    },
    "id": "J1neDG6O9Kbw",
    "outputId": "72d9fd65-ab1d-4a2e-af30-ac5ff95f240b"
   },
   "outputs": [
    {
     "data": {
      "text/plain": [
       "9"
      ]
     },
     "execution_count": 81,
     "metadata": {},
     "output_type": "execute_result"
    }
   ],
   "source": [
    "def initial_state(x, gaussian = False):\n",
    "    if gaussian: \n",
    "        \n",
    "\n",
    "rho0 = psi0 * psi0.dag()\n",
    "rho0 = x * rho0/rho0.tr() + (1-x) * globalid * .5**N\n",
    "\n",
    "#two_site_basis = base_orth(two_site_basis, rho0 )\n",
    "\n",
    "#three_site_basis = base_orth(three_site_basis, rho0 )\n",
    "\n",
    "len(two_site_basis)"
   ]
  },
  {
   "cell_type": "code",
   "execution_count": 76,
   "metadata": {
    "id": "_U6AxFh7w_oF"
   },
   "outputs": [],
   "source": [
    "def callback(t, rhot):\n",
    "  global rho\n",
    "  rho = rhot\n",
    "\n",
    "\n",
    "def projected_evolution(x=.5, gamma = 1*np.e*-2, omega_1=3., omega_2=3.,temp=1, gaussian=False, deltat=10., tmax = 500., distance=bures, do_project=True):\n",
    "    global rho\n",
    "    H_H = Heisenberg_hamiltonian(N,Jx,Jy,Jz,h)\n",
    "    globalid = qutip.tensor([qutip.qeye(2) for k in range(N)])\n",
    "\n",
    "    # Algunos problemas que tiene el problema cómo está planteado ahora:\n",
    "    # * rho0 debería ser un estado descorrelacionado. Aquí estamos estando el estado inicial,\n",
    "    #   que es un estado entrelazado\n",
    "    # * El estado inicial no pertenece a la variedad Max-Ent: Para que esto funcione, deberíamos, o bien proyectar el estado inicial a la variedad,\n",
    "    # o bien agregar el log(rho0) a la base de operadores. \n",
    "\n",
    "    rho0 = psi0 * psi0.dag()\n",
    "    rho0 = x * rho0/rho0.tr() + (1-x) * globalid * .5**N\n",
    "    #basis = sx_list +  sy_list + sz_list\n",
    "    # basis = base_orth([x_op, p_op, x_op**2, corr_xp, p_dot, p_op**2, p_dot**2, p_op*H_H+H_H*p_op,1j*(p_op*H_H-H_H*p_op) ],rho0)\n",
    "\n",
    "    # basis = base_orth(two_site_basis + [ H_H*op+op*H_H for op in two_site_basis ], rho0)\n",
    "    basis = base_orth(two_site_basis, rho0)\n",
    "    # Hamiltoniano    \n",
    "\n",
    "    obs = [x_op, p_op]\n",
    "           #, x_op**2,p_op**2, corr_op, p_dot]\n",
    "\n",
    "    sampling = max(int(10*max(1,omega_1, omega_2)*deltat), 10)\n",
    "    print(\"sampling:\", sampling)\n",
    "    c_op_list = spin_dephasing(gamma)\n",
    "    rho = rho0\n",
    "    approx_exp_vals = [[qutip.expect(op, rho) for op in obs]]\n",
    "    ts= [0]\n",
    "\n",
    "    for i in range(int(tmax/deltat)):\n",
    "        qutip.mesolve(H=H_H, \n",
    "                               rho0=rho, \n",
    "                               tlist=np.linspace(0,deltat, sampling), \n",
    "                               c_ops=c_op_list, \n",
    "                               e_ops=callback,\n",
    "                               args={'gamma': gamma,'omega_1': omega_1, 'omega_2': omega_2}\n",
    "                               )\n",
    "        ts.append(deltat*i)\n",
    "        if do_project:\n",
    "          rho = proj_op(logM(rho), basis, rho0)\n",
    "          e0 = max(rho.eigenenergies())\n",
    "          rho = rho - globalid * e0\n",
    "          rho = rho.expm()\n",
    "          trrho = (2.*rho.tr())\n",
    "          rho = (rho+rho.dag())/trrho\n",
    "\n",
    "        print(qutip.entropy.entropy_vn(rho))\n",
    "        newobs = [qutip.expect(rho, op) for op in obs]\n",
    "        approx_exp_vals.append(newobs)\n",
    "\n",
    "    result = {}\n",
    "    result[\"ts\"] = ts\n",
    "    result[\"averages\"] = np.array(approx_exp_vals)\n",
    "    \n",
    "    title = f\" BW Dinámica cerrada no gaussiana wb1={omega_1} wb2={omega_2}\" \n",
    "    if do_project:\n",
    "      title = title + \"_projected_\"\n",
    "\n",
    "    with open(title+\".pkl\",\"wb\") as f:\n",
    "        pickle.dump(result, f)\n",
    "    return result"
   ]
  },
  {
   "cell_type": "code",
   "execution_count": 81,
   "metadata": {
    "colab": {
     "base_uri": "https://localhost:8080/",
     "height": 1000
    },
    "id": "zmhhwbC_-QPb",
    "outputId": "4277ca81-cbc9-46c0-c908-18abad0b1c64"
   },
   "outputs": [
    {
     "name": "stdout",
     "output_type": "stream",
     "text": [
      "sampling: 30\n",
      "2.079439619049081\n",
      "2.079439773168375\n",
      "2.0794398781648535\n",
      "2.0794399504299896\n",
      "2.0794400160281175\n",
      "2.0794400812455005\n",
      "2.0794401356554704\n",
      "2.0794401810005234\n",
      "2.0794402304431125\n",
      "2.0794402847590328\n",
      "2.0794403321892663\n",
      "2.0794403682935148\n",
      "2.079440398345729\n",
      "2.0794404237006123\n",
      "2.0794404409018017\n",
      "2.0794404520715286\n",
      "2.079440463916649\n",
      "2.0794404775189834\n",
      "2.079440488316501\n",
      "2.079440495052855\n",
      "sampling: 30\n",
      "2.0794380486423636\n",
      "2.079438048631806\n",
      "2.079438048619349\n",
      "2.079438048606403\n",
      "2.079438048591962\n",
      "2.079438048575193\n",
      "2.079438048557239\n",
      "2.0794380485382518\n",
      "2.0794380485170456\n",
      "2.0794380484939228\n",
      "2.0794380484696626\n",
      "2.079438048443511\n",
      "2.0794380484150166\n",
      "2.0794380483849837\n",
      "2.0794380483534973\n",
      "2.0794380483199\n",
      "2.0794380482845365\n",
      "2.079438048247969\n",
      "2.0794380482096733\n",
      "2.0794380481693344\n"
     ]
    },
    {
     "data": {
      "text/plain": [
       "<matplotlib.legend.Legend at 0x7fd17c84e3d0>"
      ]
     },
     "execution_count": 81,
     "metadata": {},
     "output_type": "execute_result"
    },
    {
     "data": {
      "image/png": "[encoded data removed]",
      "text/plain": [
       "<Figure size 432x288 with 1 Axes>"
      ]
     },
     "metadata": {
      "needs_background": "light"
     },
     "output_type": "display_data"
    }
   ],
   "source": [
    "results = projected_evolution(x=.001, gamma = 1*np.e*-10, omega_1=3., omega_2=3.,temp=1, gaussian=False, deltat=1, tmax = 20, distance=bures,do_project=True)\n",
    "\n",
    "plt.plot(results[\"ts\"], results[\"averages\"][:,0], label=\"x Projected\")\n",
    "results = projected_evolution(x=.001, gamma = 1*np.e*-10, omega_1=3., omega_2=3.,temp=1, gaussian=False, deltat=1, tmax = 20, distance=bures,do_project=False)\n",
    "plt.scatter(results[\"ts\"], results[\"averages\"][:,0], label=\"x exact\")\n",
    "plt.legend()\n"
   ]
  },
  {
   "cell_type": "code",
   "execution_count": null,
   "metadata": {
    "colab": {
     "base_uri": "https://localhost:8080/"
    },
    "id": "Is-nXv_YLuTT",
    "outputId": "ec8dab32-dbda-4dc7-cec4-f2756091c9e8"
   },
   "outputs": [
    {
     "name": "stdout",
     "output_type": "stream",
     "text": [
      "Help on module qutip.entropy in qutip:\n",
      "\n",
      "NAME\n",
      "    qutip.entropy\n",
      "\n",
      "FUNCTIONS\n",
      "    concurrence(rho)\n",
      "        Calculate the concurrence entanglement measure for a two-qubit state.\n",
      "        \n",
      "        Parameters\n",
      "        ----------\n",
      "        state : qobj\n",
      "            Ket, bra, or density matrix for a two-qubit state.\n",
      "        \n",
      "        Returns\n",
      "        -------\n",
      "        concur : float\n",
      "            Concurrence\n",
      "        \n",
      "        References\n",
      "        ----------\n",
      "        \n",
      "        .. [1] https://en.wikipedia.org/wiki/Concurrence_(quantum_computing)\n",
      "    \n",
      "    entangling_power(U)\n",
      "        Calculate the entangling power of a two-qubit gate U, which\n",
      "        is zero of nonentangling gates and 1 and 2/9 for maximally\n",
      "        entangling gates.\n",
      "        \n",
      "        Parameters\n",
      "        ----------\n",
      "        U : qobj\n",
      "            Qobj instance representing a two-qubit gate.\n",
      "        \n",
      "        Returns\n",
      "        -------\n",
      "        ep : float\n",
      "            The entanglement power of U (real number between 0 and 1)\n",
      "        \n",
      "        References:\n",
      "        \n",
      "            Explorations in Quantum Computing, Colin P. Williams (Springer, 2011)\n",
      "    \n",
      "    entropy_conditional(rho, selB, base=2.718281828459045, sparse=False)\n",
      "        Calculates the conditional entropy :math:`S(A|B)=S(A,B)-S(B)`\n",
      "        of a selected density matrix component.\n",
      "        \n",
      "        Parameters\n",
      "        ----------\n",
      "        rho : qobj\n",
      "            Density matrix of composite object\n",
      "        selB : int/list\n",
      "            Selected components for density matrix B\n",
      "        base : {e,2}\n",
      "            Base of logarithm.\n",
      "        sparse : {False,True}\n",
      "            Use sparse eigensolver.\n",
      "        \n",
      "        Returns\n",
      "        -------\n",
      "        ent_cond : float\n",
      "            Value of conditional entropy\n",
      "    \n",
      "    entropy_linear(rho)\n",
      "        Linear entropy of a density matrix.\n",
      "        \n",
      "        Parameters\n",
      "        ----------\n",
      "        rho : qobj\n",
      "            sensity matrix or ket/bra vector.\n",
      "        \n",
      "        Returns\n",
      "        -------\n",
      "        entropy : float\n",
      "            Linear entropy of rho.\n",
      "        \n",
      "        Examples\n",
      "        --------\n",
      "        >>> rho=0.5*fock_dm(2,0)+0.5*fock_dm(2,1)\n",
      "        >>> entropy_linear(rho)\n",
      "        0.5\n",
      "    \n",
      "    entropy_mutual(rho, selA, selB, base=2.718281828459045, sparse=False)\n",
      "        Calculates the mutual information S(A:B) between selection\n",
      "        components of a system density matrix.\n",
      "        \n",
      "        Parameters\n",
      "        ----------\n",
      "        rho : qobj\n",
      "            Density matrix for composite quantum systems\n",
      "        selA : int/list\n",
      "            `int` or `list` of first selected density matrix components.\n",
      "        selB : int/list\n",
      "            `int` or `list` of second selected density matrix components.\n",
      "        base : {e,2}\n",
      "            Base of logarithm.\n",
      "        sparse : {False,True}\n",
      "            Use sparse eigensolver.\n",
      "        \n",
      "        Returns\n",
      "        -------\n",
      "        ent_mut : float\n",
      "           Mutual information between selected components.\n",
      "    \n",
      "    entropy_relative(rho, sigma, base=2.718281828459045, sparse=False, tol=1e-12)\n",
      "        Calculates the relative entropy S(rho||sigma) between two density\n",
      "        matrices.\n",
      "        \n",
      "        Parameters\n",
      "        ----------\n",
      "        rho : :class:`qutip.Qobj`\n",
      "            First density matrix (or ket which will be converted to a density\n",
      "            matrix).\n",
      "        sigma : :class:`qutip.Qobj`\n",
      "            Second density matrix (or ket which will be converted to a density\n",
      "            matrix).\n",
      "        base : {e,2}\n",
      "            Base of logarithm. Defaults to e.\n",
      "        sparse : bool\n",
      "            Flag to use sparse solver when determining the eigenvectors\n",
      "            of the density matrices. Defaults to False.\n",
      "        tol : float\n",
      "            Tolerance to use to detect 0 eigenvalues or dot producted between\n",
      "            eigenvectors. Defaults to 1e-12.\n",
      "        \n",
      "        Returns\n",
      "        -------\n",
      "        rel_ent : float\n",
      "            Value of relative entropy. Guaranteed to be greater than zero\n",
      "            and should equal zero only when rho and sigma are identical.\n",
      "        \n",
      "        Examples\n",
      "        --------\n",
      "        \n",
      "        First we define two density matrices:\n",
      "        \n",
      "        >>> rho = qutip.ket2dm(qutip.ket(\"00\"))\n",
      "        >>> sigma = rho + qutip.ket2dm(qutip.ket(\"01\"))\n",
      "        >>> sigma = sigma.unit()\n",
      "        \n",
      "        Then we calculate their relative entropy using base 2 (i.e. ``log2``)\n",
      "        and base e (i.e. ``log``).\n",
      "        \n",
      "        >>> qutip.entropy_relative(rho, sigma, base=2)\n",
      "        1.0\n",
      "        >>> qutip.entropy_relative(rho, sigma)\n",
      "        0.6931471805599453\n",
      "        \n",
      "        References\n",
      "        ----------\n",
      "        \n",
      "        See Nielsen & Chuang, \"Quantum Computation and Quantum Information\",\n",
      "        Section 11.3.1, pg. 511 for a detailed explanation of quantum relative\n",
      "        entropy.\n",
      "    \n",
      "    entropy_vn(rho, base=2.718281828459045, sparse=False)\n",
      "        Von-Neumann entropy of density matrix\n",
      "        \n",
      "        Parameters\n",
      "        ----------\n",
      "        rho : qobj\n",
      "            Density matrix.\n",
      "        base : {e,2}\n",
      "            Base of logarithm.\n",
      "        sparse : {False,True}\n",
      "            Use sparse eigensolver.\n",
      "        \n",
      "        Returns\n",
      "        -------\n",
      "        entropy : float\n",
      "            Von-Neumann entropy of `rho`.\n",
      "        \n",
      "        Examples\n",
      "        --------\n",
      "        >>> rho=0.5*fock_dm(2,0)+0.5*fock_dm(2,1)\n",
      "        >>> entropy_vn(rho,2)\n",
      "        1.0\n",
      "    \n",
      "    negativity(rho, subsys, method='tracenorm', logarithmic=False)\n",
      "        Compute the negativity for a multipartite quantum system described\n",
      "        by the density matrix rho. The subsys argument is an index that\n",
      "        indicates which system to compute the negativity for.\n",
      "        \n",
      "        .. note::\n",
      "        \n",
      "            Experimental.\n",
      "\n",
      "DATA\n",
      "    __all__ = ['entropy_vn', 'entropy_linear', 'entropy_mutual', 'negativi...\n",
      "\n",
      "FILE\n",
      "    /usr/local/lib/python3.7/dist-packages/qutip/entropy.py\n",
      "\n",
      "\n"
     ]
    }
   ],
   "source": [
    "help(qutip.entropy)"
   ]
  },
  {
   "cell_type": "code",
   "execution_count": null,
   "metadata": {
    "colab": {
     "base_uri": "https://localhost:8080/",
     "height": 439
    },
    "id": "KWJUaJwzS7e2",
    "outputId": "954670d9-24b6-48e9-ecd3-c67b3e4a54dc"
   },
   "outputs": [
    {
     "name": "stderr",
     "output_type": "stream",
     "text": [
      "/usr/local/lib/python3.7/dist-packages/matplotlib/cbook/__init__.py:1317: ComplexWarning: Casting complex values to real discards the imaginary part\n",
      "  return np.asarray(x, float)\n"
     ]
    },
    {
     "data": {
      "text/plain": [
       "[<matplotlib.lines.Line2D at 0x7f5cf16264d0>,\n",
       " <matplotlib.lines.Line2D at 0x7f5cf16269d0>,\n",
       " <matplotlib.lines.Line2D at 0x7f5cf1626590>,\n",
       " <matplotlib.lines.Line2D at 0x7f5cf16261d0>,\n",
       " <matplotlib.lines.Line2D at 0x7f5cf1626a50>,\n",
       " <matplotlib.lines.Line2D at 0x7f5cf1f72a90>,\n",
       " <matplotlib.lines.Line2D at 0x7f5cf1f723d0>,\n",
       " <matplotlib.lines.Line2D at 0x7f5cf9edcb90>]"
      ]
     },
     "execution_count": 86,
     "metadata": {},
     "output_type": "execute_result"
    },
    {
     "data": {
      "image/png": "[encoded data removed]",
      "text/plain": [
       "<Figure size 432x288 with 1 Axes>"
      ]
     },
     "metadata": {
      "needs_background": "light"
     },
     "output_type": "display_data"
    }
   ],
   "source": [
    "results = projected_evolution(x=.5, gamma = 1*np.e*-2, omega_1=3., omega_2=3.,temp=1, gaussian=False, deltat=1., tmax = 500., distance=bures)\n",
    "\n",
    "#plt.plot(results[0], label=\"x\")\n",
    "plt.plot(results[1], label=\"p\")"
   ]
  },
  {
   "cell_type": "code",
   "execution_count": null,
   "metadata": {
    "colab": {
     "base_uri": "https://localhost:8080/",
     "height": 439
    },
    "id": "UZo4TiKh72g-",
    "outputId": "73c03991-3841-4eb4-9531-5a8cebff0718"
   },
   "outputs": [
    {
     "name": "stderr",
     "output_type": "stream",
     "text": [
      "/usr/local/lib/python3.7/dist-packages/matplotlib/cbook/__init__.py:1317: ComplexWarning: Casting complex values to real discards the imaginary part\n",
      "  return np.asarray(x, float)\n"
     ]
    },
    {
     "data": {
      "text/plain": [
       "[<matplotlib.lines.Line2D at 0x7f5cfa3a08d0>,\n",
       " <matplotlib.lines.Line2D at 0x7f5cfa3a0b10>,\n",
       " <matplotlib.lines.Line2D at 0x7f5cfa3a0d90>,\n",
       " <matplotlib.lines.Line2D at 0x7f5cfa3a0fd0>,\n",
       " <matplotlib.lines.Line2D at 0x7f5cfa3a0c90>,\n",
       " <matplotlib.lines.Line2D at 0x7f5cfc8d4ed0>,\n",
       " <matplotlib.lines.Line2D at 0x7f5cfcbb85d0>,\n",
       " <matplotlib.lines.Line2D at 0x7f5cfa3bae10>]"
      ]
     },
     "execution_count": 55,
     "metadata": {},
     "output_type": "execute_result"
    },
    {
     "data": {
      "image/png": "[encoded data removed]",
      "text/plain": [
       "<Figure size 432x288 with 1 Axes>"
      ]
     },
     "metadata": {
      "needs_background": "light"
     },
     "output_type": "display_data"
    }
   ],
   "source": [
    "results = projected_evolution(x=.5, gamma = 1*np.e*-2, omega_1=3., omega_2=3.,temp=1, gaussian=False, deltat=1., tmax = 200., distance=bures)\n",
    "\n",
    "plt.plot(results, label=\"p\")"
   ]
  },
  {
   "cell_type": "code",
   "execution_count": null,
   "metadata": {
    "colab": {
     "base_uri": "https://localhost:8080/",
     "height": 439
    },
    "id": "tgB31qZ3KATN",
    "outputId": "549e9b0b-89e0-47f8-b84d-e34383fed968"
   },
   "outputs": [
    {
     "name": "stderr",
     "output_type": "stream",
     "text": [
      "/usr/local/lib/python3.7/dist-packages/matplotlib/cbook/__init__.py:1317: ComplexWarning: Casting complex values to real discards the imaginary part\n",
      "  return np.asarray(x, float)\n"
     ]
    },
    {
     "data": {
      "text/plain": [
       "[<matplotlib.lines.Line2D at 0x7f5cfa008d10>,\n",
       " <matplotlib.lines.Line2D at 0x7f5cfa008b90>,\n",
       " <matplotlib.lines.Line2D at 0x7f5cfa008a10>,\n",
       " <matplotlib.lines.Line2D at 0x7f5cfa017590>,\n",
       " <matplotlib.lines.Line2D at 0x7f5cfa0173d0>,\n",
       " <matplotlib.lines.Line2D at 0x7f5cfa017390>,\n",
       " <matplotlib.lines.Line2D at 0x7f5cfa017610>,\n",
       " <matplotlib.lines.Line2D at 0x7f5cfa017f90>]"
      ]
     },
     "execution_count": 57,
     "metadata": {},
     "output_type": "execute_result"
    },
    {
     "data": {
      "image/png": "[encoded data removed]",
      "text/plain": [
       "<Figure size 432x288 with 1 Axes>"
      ]
     },
     "metadata": {
      "needs_background": "light"
     },
     "output_type": "display_data"
    }
   ],
   "source": [
    "plt.plot(results, corr_op)"
   ]
  },
  {
   "cell_type": "code",
   "execution_count": null,
   "metadata": {
    "colab": {
     "base_uri": "https://localhost:8080/",
     "height": 469
    },
    "id": "DkO1aUvZDVnC",
    "outputId": "041e6411-95aa-4ac2-ab2b-598131215205"
   },
   "outputs": [
    {
     "name": "stdout",
     "output_type": "stream",
     "text": [
      "base\n",
      "<class 'list'> <class 'qutip.qobj.Qobj'>\n",
      "dim= 2\n",
      "base\n",
      "<class 'list'> <class 'qutip.qobj.Qobj'>\n",
      "dim= 2\n",
      "base\n",
      "<class 'list'> <class 'qutip.qobj.Qobj'>\n",
      "dim= 2\n"
     ]
    },
    {
     "data": {
      "text/plain": [
       "Text(0.5, 1.0, ' BW Dinámica cerrada no gaussiana wb1=3.0 wb2=6.928203230275509')"
      ]
     },
     "execution_count": 14,
     "metadata": {},
     "output_type": "execute_result"
    },
    {
     "data": {
      "image/png": "[encoded data removed]",
      "text/plain": [
       "<Figure size 432x288 with 1 Axes>"
      ]
     },
     "metadata": {
      "needs_background": "light"
     },
     "output_type": "display_data"
    }
   ],
   "source": [
    "result, title = projected_evolution(x=.1, gamma = 1*np.e**-2, omega_1=3., omega_2=np.sqrt(48), temp=1, gaussian=True, deltat=5., tmax=10., distance=bures)\n",
    "\n",
    "plt.plot(result.times, result.projrho0_app, color=\"violet\", label=\"proj rho0\")\n",
    "plt.xlabel(\"t[s]\")\n",
    "plt.ylabel(\"Arccos(F)\")\n",
    "\n",
    "plt.legend()\n",
    "plt.title(title)"
   ]
  },
  {
   "cell_type": "code",
   "execution_count": null,
   "metadata": {
    "id": "mD2Lvc8pD24Y"
   },
   "outputs": [],
   "source": [
    "a=4.2\n"
   ]
  },
  {
   "cell_type": "code",
   "execution_count": null,
   "metadata": {
    "colab": {
     "base_uri": "https://localhost:8080/"
    },
    "id": "d54dua2FF5nl",
    "outputId": "81002396-bb82-46ea-8f05-24473d81fa25"
   },
   "outputs": [
    {
     "data": {
      "text/plain": [
       "False"
      ]
     },
     "execution_count": 145,
     "metadata": {},
     "output_type": "execute_result"
    }
   ],
   "source": [
    "math.isnan(3.2)"
   ]
  },
  {
   "cell_type": "code",
   "execution_count": null,
   "metadata": {
    "colab": {
     "base_uri": "https://localhost:8080/"
    },
    "id": "3HcrP15IF7Wo",
    "outputId": "91537b54-b26c-4fa0-ab97-393a9c566e43"
   },
   "outputs": [
    {
     "data": {
      "text/plain": [
       "[qutip.qobj.Qobj,\n",
       " qutip.qobj.Qobj,\n",
       " qutip.qobj.Qobj,\n",
       " qutip.qobj.Qobj,\n",
       " qutip.qobj.Qobj]"
      ]
     },
     "execution_count": 11,
     "metadata": {},
     "output_type": "execute_result"
    }
   ],
   "source": [
    "c_op_list = spin_dephasing(.1)\n",
    "[type(o) for o in c_op_list]"
   ]
  },
  {
   "cell_type": "code",
   "execution_count": null,
   "metadata": {
    "id": "GqMyttoB0bFk"
   },
   "outputs": [],
   "source": []
  },
  {
   "cell_type": "code",
   "execution_count": null,
   "metadata": {
    "colab": {
     "base_uri": "https://localhost:8080/"
    },
    "id": "tyR_B4ouFoZa",
    "outputId": "1b11807d-3acc-4eab-f871-6b44a48656d2"
   },
   "outputs": [
    {
     "name": "stdout",
     "output_type": "stream",
     "text": [
      "Quantum object: dims = [[2, 2, 2], [2, 2, 2]], shape = (8, 8), type = oper, isherm = True\n",
      "Qobj data =\n",
      "[[0.125 0.    0.    0.    0.    0.    0.    0.   ]\n",
      " [0.    0.125 0.    0.    0.    0.    0.    0.   ]\n",
      " [0.    0.    0.125 0.    0.    0.    0.    0.   ]\n",
      " [0.    0.    0.    0.125 0.    0.    0.    0.   ]\n",
      " [0.    0.    0.    0.    0.125 0.    0.    0.   ]\n",
      " [0.    0.    0.    0.    0.    0.125 0.    0.   ]\n",
      " [0.    0.    0.    0.    0.    0.    0.125 0.   ]\n",
      " [0.    0.    0.    0.    0.    0.    0.    0.125]]\n",
      "Quantum object: dims = [[8], [8]], shape = (8, 8), type = oper, isherm = True\n",
      "Qobj data =\n",
      "[[0.125 0.    0.    0.    0.    0.    0.    0.   ]\n",
      " [0.    0.125 0.    0.    0.    0.    0.    0.   ]\n",
      " [0.    0.    0.125 0.    0.    0.    0.    0.   ]\n",
      " [0.    0.    0.    0.125 0.    0.    0.    0.   ]\n",
      " [0.    0.    0.    0.    0.125 0.    0.    0.   ]\n",
      " [0.    0.    0.    0.    0.    0.125 0.    0.   ]\n",
      " [0.    0.    0.    0.    0.    0.    0.125 0.   ]\n",
      " [0.    0.    0.    0.    0.    0.    0.    0.125]]\n"
     ]
    }
   ],
   "source": [
    "rho0 = qutip.tensor([.5*qutip.qeye(2) for k in range(3)])\n",
    "id5 = .125*qutip.qeye(2**3)\n",
    "print(rho0)\n",
    "print(id5)"
   ]
  }
 ],
 "metadata": {
  "colab": {
   "include_colab_link": true,
   "name": "Untitled1.ipynb",
   "provenance": []
  },
  "kernelspec": {
   "display_name": "Python 3",
   "language": "python",
   "name": "python3"
  },
  "language_info": {
   "codemirror_mode": {
    "name": "ipython",
    "version": 3
   },
   "file_extension": ".py",
   "mimetype": "text/x-python",
   "name": "python",
   "nbconvert_exporter": "python",
   "pygments_lexer": "ipython3",
   "version": "3.8.3"
  }
 },
 "nbformat": 4,
 "nbformat_minor": 1
}
