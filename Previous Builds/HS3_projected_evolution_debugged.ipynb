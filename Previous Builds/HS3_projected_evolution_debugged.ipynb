{
 "cells": [
  {
   "cell_type": "markdown",
   "metadata": {
    "colab_type": "text",
    "id": "view-in-github"
   },
   "source": [
    "<a href=\"https://colab.research.google.com/github/mmatera/Spin-Chains-/blob/main/HS_projected_evolution_debugged.ipynb\" target=\"_parent\"><img src=\"https://colab.research.google.com/assets/colab-badge.svg\" alt=\"Open In Colab\"/></a>"
   ]
  },
  {
   "cell_type": "code",
   "execution_count": 1,
   "metadata": {
    "colab": {
     "base_uri": "https://localhost:8080/"
    },
    "id": "CzAqDJ65kXXw",
    "outputId": "ee79eca0-d519-420e-c778-12f60c47a8d5"
   },
   "outputs": [
    {
     "name": "stdout",
     "output_type": "stream",
     "text": [
      "Requirement already satisfied: qutip in /home/tomas/.conda/envs/qutip/lib/python3.10/site-packages (4.7.0)\n",
      "Requirement already satisfied: packaging in /home/tomas/.conda/envs/qutip/lib/python3.10/site-packages (from qutip) (21.3)\n",
      "Requirement already satisfied: scipy>=1.0 in /home/tomas/.conda/envs/qutip/lib/python3.10/site-packages (from qutip) (1.8.1)\n",
      "Requirement already satisfied: numpy>=1.16.6 in /home/tomas/.conda/envs/qutip/lib/python3.10/site-packages (from qutip) (1.22.4)\n",
      "Requirement already satisfied: pyparsing!=3.0.5,>=2.0.2 in /home/tomas/.conda/envs/qutip/lib/python3.10/site-packages (from packaging->qutip) (3.0.9)\n",
      "Requirement already satisfied: scipy in /home/tomas/.conda/envs/qutip/lib/python3.10/site-packages (1.8.1)\n",
      "Requirement already satisfied: numpy<1.25.0,>=1.17.3 in /home/tomas/.conda/envs/qutip/lib/python3.10/site-packages (from scipy) (1.22.4)\n",
      "Requirement already satisfied: matplotlib.inline in /home/tomas/.conda/envs/qutip/lib/python3.10/site-packages (0.1.2)\n",
      "Requirement already satisfied: traitlets in /home/tomas/.conda/envs/qutip/lib/python3.10/site-packages (from matplotlib.inline) (5.1.1)\n",
      "Requirement already satisfied: numpy in /home/tomas/.conda/envs/qutip/lib/python3.10/site-packages (1.22.4)\n",
      "Requirement already satisfied: networkx in /home/tomas/.conda/envs/qutip/lib/python3.10/site-packages (2.8.4)\n"
     ]
    }
   ],
   "source": [
    "!pip install qutip\n",
    "!pip install scipy\n",
    "!pip install matplotlib.inline\n",
    "!pip install numpy\n",
    "!pip install networkx"
   ]
  },
  {
   "cell_type": "code",
   "execution_count": 2,
   "metadata": {
    "id": "6td6yO61kg2q"
   },
   "outputs": [],
   "source": [
    "import qutip\n",
    "import matplotlib.pyplot as plt \n",
    "import numpy as np\n",
    "import scipy.optimize as opt \n",
    "import scipy.linalg as linalg\n",
    "import pickle\n",
    "import math, cmath\n",
    "import proj_ev_tools as me\n",
    "\n",
    "from IPython.display import display, Math, Latex"
   ]
  },
  {
   "cell_type": "code",
   "execution_count": 3,
   "metadata": {},
   "outputs": [],
   "source": [
    "N = 2           # número de spines\n",
    "\n",
    "h  = 1.0 * 2 * np.pi * np.ones(N) \n",
    "Jx = 0.15 * 2 * np.pi * np.ones(N)\n",
    "Jy = 0.25 * 2 * np.pi * np.ones(N)\n",
    "Jz = 0.1 * 2 * np.pi * np.ones(N)"
   ]
  },
  {
   "cell_type": "code",
   "execution_count": 7,
   "metadata": {},
   "outputs": [],
   "source": [
    "### Operadores de spin y hamiltoniano\n",
    "\n",
    "## 1-operadores\n",
    "spin_list = me.one_body_spin_ops(N)\n",
    "globalid_list, sx_list, sy_list, sz_list = spin_list\n",
    "pauli_vec = [sx_list, sy_list, sz_list]\n",
    "\n",
    "## 2-operadores\n",
    "two_body_spin_list = me.all_two_body_spin_ops(N, pauli_vec)\n",
    "\n",
    "## Hamiltoniano \n",
    "H_H = me.Heisenberg_hamiltonian(N, Jx, Jy, Jz, h)\n",
    "#qutip.hinton(rho=H_H, title = \"Heisenberg's hamiltonian Hinton diagram\")\n",
    "\n",
    "### Free particle-Operators en términos de los operadores de spin\n",
    "x_op, p_op, comm_xp, corr_xp, p_dot = me.free_particle_ops(N, H_H, sz_list)"
   ]
  },
  {
   "cell_type": "code",
   "execution_count": 15,
   "metadata": {},
   "outputs": [],
   "source": [
    "## si quiero un estado max-ent-1 uso esta matriz de coeficientes e invoco la función \n",
    "coeffs_me1 = [[10**-10,2*10**-10],[np.pi*10**-10,10**-18],[10**-18,10**-18],[10**-18,10**-18]]\n",
    "me.n_body_max_ent_state(1, N, coeffs_me1)\n",
    "\n",
    "## si quiero un estado max-ent-2, uso alguna de estas dos matrices \n",
    "## de coeficientes e invoco la función\n",
    "a = len(me.all_two_body_spin_ops(N, pauli_vec))\n",
    "b = len(me.all_two_body_spin_ops(N, pauli_vec)[0])\n",
    "\n",
    "me.all_two_body_spin_ops(N, pauli_vec)\n",
    "\n",
    "coeffs_sz = [[0., 0., 0., 0., 0., 0., 0., 0., 0., 0., 0., 0.],\n",
    "             [0., 0., 0., 0., 0., 0., 0., 0., 0., 0., 0., 0.],\n",
    "             [10**-5, 10**-5, 10**-5, 10**-5, 10**-5, 10**-5,\n",
    "              10**-5, 10**-5, 10**-5, 10**-5, 10**-5, 10**-5]]\n",
    "\n",
    "coeffs_all = 10**-0.6 * np.full((a,b),1.)"
   ]
  },
  {
   "cell_type": "code",
   "execution_count": 8,
   "metadata": {},
   "outputs": [],
   "source": [
    "# Estas definiciones quedaron obsoletas pero sirven para el testeo de la n_body_basis\n",
    "one_site_basis = globalid_list + sx_list + sy_list + sz_list \n",
    "two_site_basis = [op1*op2 for op1 in one_site_basis for op2 in one_site_basis]\n",
    "\n",
    "tercera_base = [op*op3 for op in two_site_basis for op3 in one_site_basis]\n",
    "three_site_basis = [op1*op2*op3 for op1 in one_site_basis for op2 in one_site_basis for op3 in one_site_basis]\n",
    "\n",
    "cuarta_base = [op*op4 for op in three_site_basis for op4 in one_site_basis]\n",
    "four_site_basis = [op1*op2*op3*op4 for op1 in one_site_basis for op2 in one_site_basis for op3 in one_site_basis for op4 in one_site_basis]"
   ]
  },
  {
   "cell_type": "code",
   "execution_count": 16,
   "metadata": {},
   "outputs": [],
   "source": [
    "# def isnatural(x):\n",
    "#   return isinstance(x, int) and 0 <= x <= 9\n",
    "\n",
    "## globalid_list tiene N operadores anidados\n",
    "## sx_list, sy_list, sz_list ídem, N operadores c/u. \n",
    "## La 1-base completa tiene 4N operadores de 1-cuerpo\n",
    "## La 2-base completa tiene 4N*{4N} operadores de 2-cuerpos\n",
    "## La 3-base completa tiene {4N*{4N}}*4N} operadores \n",
    "\n",
    "natural = tuple('123456789')\n",
    "\n",
    "def n_body_basis(n):\n",
    "    basis = []\n",
    "    if (isinstance(n,int) and str(n) in natural):\n",
    "        if (n == 1):\n",
    "            basis = globalid_list + sx_list + sy_list + sz_list\n",
    "        elif (n > 1):\n",
    "            basis = [op1*op2 for op1 in n_body_basis(n-1) for op2 in n_body_basis(1)]\n",
    "    else:\n",
    "        basis = 'beep boop, n must be natural'\n",
    "    return basis"
   ]
  },
  {
   "cell_type": "code",
   "execution_count": 17,
   "metadata": {},
   "outputs": [
    {
     "name": "stdout",
     "output_type": "stream",
     "text": [
      "OK True\n",
      "OK True\n",
      "OK True\n",
      "OK True\n",
      "OK True\n",
      "OK True\n",
      "OK True\n",
      "OK True\n",
      "OK True\n",
      "OK True\n",
      "OK True\n",
      "OK True\n"
     ]
    }
   ],
   "source": [
    "uno_a_cuatro_bases = []\n",
    "uno_a_cuatro_bases.append(one_site_basis)\n",
    "uno_a_cuatro_bases.append(two_site_basis)\n",
    "uno_a_cuatro_bases.append(three_site_basis)\n",
    "uno_a_cuatro_bases.append(four_site_basis)\n",
    "\n",
    "def basis_defs_test():\n",
    "    boolean = False \n",
    "    for n in range(4): \n",
    "        for m in range(3):\n",
    "            if (n_body_basis(n+1) == uno_a_cuatro_bases[m] and n != m):\n",
    "                print('Error: Two different index basis definitions equal', boolean)\n",
    "            if (n_body_basis(n+1) != uno_a_cuatro_bases[m] and n == m):\n",
    "                print('Error: Two same index basis definitions not equal', boolean)\n",
    "            else:\n",
    "                print('OK', True)\n",
    "    return None\n",
    "\n",
    "basis_defs_test()"
   ]
  },
  {
   "cell_type": "code",
   "execution_count": 18,
   "metadata": {},
   "outputs": [
    {
     "data": {
      "text/latex": [
       "\n",
       "Si quiero un estado gaussiano de operadores de un cuerpo, el más general es \n",
       "\n",
       "$$\n",
       "\\rho_{1,g} = \\exp\\bigg(\\alpha I_N + {\\bf a}_1 \\cdot {\\bf s}_x+{\\bf a}_2 \\cdot {\\bf s}_y+{\\bf a}_3 \\cdot {\\bf s}_z\\bigg) \n",
       "$$\n",
       "\n",
       "análogamente con estados gaussianos de operadores de dos cuerpos (pero ya ahí se me va al carajo).\n",
       "Si en cambio, considero un estado no gaussiano, puedo considerar un estado inicial descorrelacionado de la forma de \n",
       "\n",
       "$$\n",
       "\\rho_0 = x |\\Phi\\rangle \\langle\\Phi| + (1-x)\\frac{{I_d}}{d}\n",
       "$$\n"
      ],
      "text/plain": [
       "<IPython.core.display.Latex object>"
      ]
     },
     "metadata": {},
     "output_type": "display_data"
    }
   ],
   "source": [
    "%%latex\n",
    "\n",
    "Si quiero un estado gaussiano de operadores de un cuerpo, el más general es \n",
    "\n",
    "$$\n",
    "\\rho_{1,g} = \\exp\\bigg(\\alpha I_N + {\\bf a}_1 \\cdot {\\bf s}_x+{\\bf a}_2 \\cdot {\\bf s}_y+{\\bf a}_3 \\cdot {\\bf s}_z\\bigg) \n",
    "$$\n",
    "\n",
    "análogamente con estados gaussianos de operadores de dos cuerpos (pero ya ahí se me va al carajo).\n",
    "Si en cambio, considero un estado no gaussiano, puedo considerar un estado inicial descorrelacionado de la forma de \n",
    "\n",
    "$$\n",
    "\\rho_0 = x |\\Phi\\rangle \\langle\\Phi| + (1-x)\\frac{{I_d}}{d}\n",
    "$$"
   ]
  },
  {
   "cell_type": "code",
   "execution_count": 19,
   "metadata": {},
   "outputs": [],
   "source": [
    "## ket combinación lineal \n",
    "\n",
    "psi1_list = []; psi2_list = []\n",
    "psi1_list.append(qutip.basis(2,1))\n",
    "for n in range(N-1):\n",
    "    psi1_list.append(qutip.basis(2,0))\n",
    "\n",
    "psi2_list.append(qutip.basis(2,0))\n",
    "psi2_list.append(qutip.basis(2,1))\n",
    "for n in range(N-2):\n",
    "    psi2_list.append(qutip.basis(2,0))\n",
    "\n",
    "psi01 = qutip.tensor(psi1_list); psi02 = qutip.tensor(psi2_list) \n",
    "psi0 = psi01#+psi02 #sí está en el ME2, aparece un proyector s1, s2 -> estado ME2\n",
    "# rho = psi0 * psi0.dag() entrelazado\n",
    "## estado no gaussiano\n",
    "\n",
    "loc_globalid = qutip.tensor([qutip.qeye(2) for k in range(N)])\n",
    "me.initial_state(N, True, 2, .5, coeffs_sz, psi0)\n",
    "#qutip.hinton(.5 * psi0 * psi0.dag() + (1-.5) * loc_globalid * .5**N) # no es ME1, es un no gaussiano."
   ]
  },
  {
   "cell_type": "code",
   "execution_count": 72,
   "metadata": {},
   "outputs": [
    {
     "name": "stdout",
     "output_type": "stream",
     "text": [
      "Tr(rho_me1^2) = 0.25\n",
      "S(rho_me1^2) = 1.3862943611198906\n",
      "Tr(rho_me2^2) = 0.2500000000015626\n",
      "S(rho_me2^2) = 1.3862943611167657\n",
      "Tr(rho_ng^2) = 0.4375\n",
      "S(rho_ng^2) = 1.073542846408523\n"
     ]
    }
   ],
   "source": [
    "### Algunas analytics de los estados usados\n",
    "\n",
    "## Estado Max Ent 1\n",
    "\n",
    "coeffs_me1 = [[10**-10,2*10**-10],[np.pi*10**-10,10**-18],[10**-18,10**-18],[10**-18,10**-18]]\n",
    "rho_me1 = me.initial_state(N, True, 1, None, coeffs_me1, None)\n",
    "rho_me1 = rho_me1/rho_me1.tr()\n",
    "print(\"Tr(rho_me1^2) =\",(rho_me1**2).tr()) ## nuevamente, no es un estado puro porque tr rho² != 1\n",
    "                                           ## estado mixto rho_me1 = sum c_i ket(psi_i) bra(psi_i)\n",
    "print(\"S(rho_me1^2) =\", qutip.entropy_vn(rho_me1)) ## nuevamente un estado mixto porque da mayor a 1\n",
    "\n",
    "## y cómo se sí es entrelazado o no?\n",
    "\n",
    "## Estado Max-En2\n",
    "coeffs_sz = [[0., 0., 0., 0., 0., 0., 0., 0., 0., 0., 0., 0.],\n",
    "             [0., 0., 0., 0., 0., 0., 0., 0., 0., 0., 0., 0.],\n",
    "             [10**-10, 10**-5, 10**-10, 10**-5, 10**-10, 10**-5, \n",
    "              10**-10, 10**-5, 10**-10, 10**-5, 10**-10, 10**-5]]\n",
    "rho_me2 = me.initial_state(N, True, 2, None, coeffs_sz, None)\n",
    "rho_me2 = rho_me2/rho_me2.tr()\n",
    "print(\"Tr(rho_me2^2) =\",(rho_me2**2).tr()) ## nuevamente, no es un estado puro porque tr rho² != 1\n",
    "                                           ## estado mixto rho_me2 = sum c_i ket(psi_i) bra(psi_i)\n",
    "print(\"S(rho_me2^2) =\", qutip.entropy_vn(rho_me2)) ## nuevamente un estado mixto no da 0 \n",
    "\n",
    "## Estado no gaussiano\n",
    "rho_ng = me.initial_state(N, False, None, .5, None, psi0)\n",
    "print(\"Tr(rho_ng^2) =\",(rho_ng**2).tr()) ## nuevamente, no es un estado puro porque tr rho² != 1\n",
    "                                         ## sum c_i ket(psi_i) bra(psi_i)\n",
    "print(\"S(rho_ng^2) =\", qutip.entropy_vn(rho_ng)) ## nuevamente un estado mixto porque no da 0"
   ]
  },
  {
   "cell_type": "code",
   "execution_count": 28,
   "metadata": {},
   "outputs": [
    {
     "name": "stdout",
     "output_type": "stream",
     "text": [
      "0.0\n",
      "6.708328257497742\n",
      "-1.0735428467085233\n"
     ]
    }
   ],
   "source": [
    "## Algunas métricas de los estados\n",
    "print(me.bures(me.initial_state(N, True, 1, .5, coeffs_me1, None), me.initial_state(N, False, 1, .5, None, psi0)))\n",
    "print(me.rel_entropy(me.initial_state(N, True, 1, .5, coeffs_me1, None), me.initial_state(N, False, 1, .5, None, psi0)))\n",
    "print(me.rel_entropy(me.initial_state(N, False, 1, .5, None, psi0),me.initial_state(N, True, 1, .5, coeffs_me1, None)))"
   ]
  },
  {
   "cell_type": "code",
   "execution_count": 86,
   "metadata": {},
   "outputs": [
    {
     "data": {
      "text/plain": [
       "['__abs__',\n",
       " '__add__',\n",
       " '__array__',\n",
       " '__array_priority__',\n",
       " '__array_ufunc__',\n",
       " '__call__',\n",
       " '__class__',\n",
       " '__delattr__',\n",
       " '__dict__',\n",
       " '__dir__',\n",
       " '__div__',\n",
       " '__doc__',\n",
       " '__eq__',\n",
       " '__format__',\n",
       " '__ge__',\n",
       " '__getattribute__',\n",
       " '__getitem__',\n",
       " '__getstate__',\n",
       " '__gt__',\n",
       " '__hash__',\n",
       " '__init__',\n",
       " '__init_subclass__',\n",
       " '__le__',\n",
       " '__lt__',\n",
       " '__module__',\n",
       " '__mul__',\n",
       " '__ne__',\n",
       " '__neg__',\n",
       " '__new__',\n",
       " '__pow__',\n",
       " '__radd__',\n",
       " '__reduce__',\n",
       " '__reduce_ex__',\n",
       " '__repr__',\n",
       " '__rmul__',\n",
       " '__rsub__',\n",
       " '__setattr__',\n",
       " '__setstate__',\n",
       " '__sizeof__',\n",
       " '__str__',\n",
       " '__sub__',\n",
       " '__subclasshook__',\n",
       " '__truediv__',\n",
       " '__weakref__',\n",
       " '_repr_latex_',\n",
       " 'check_herm',\n",
       " 'check_isunitary',\n",
       " 'conj',\n",
       " 'copy',\n",
       " 'cosm',\n",
       " 'dag',\n",
       " 'data',\n",
       " 'diag',\n",
       " 'dnorm',\n",
       " 'dual_chan',\n",
       " 'eigenenergies',\n",
       " 'eigenstates',\n",
       " 'eliminate_states',\n",
       " 'evaluate',\n",
       " 'expm',\n",
       " 'extract_states',\n",
       " 'full',\n",
       " 'get_data',\n",
       " 'groundstate',\n",
       " 'inv',\n",
       " 'isbra',\n",
       " 'iscp',\n",
       " 'iscptp',\n",
       " 'isherm',\n",
       " 'ishp',\n",
       " 'isket',\n",
       " 'isoper',\n",
       " 'isoperbra',\n",
       " 'isoperket',\n",
       " 'issuper',\n",
       " 'istp',\n",
       " 'isunitary',\n",
       " 'matrix_element',\n",
       " 'norm',\n",
       " 'overlap',\n",
       " 'permute',\n",
       " 'proj',\n",
       " 'ptrace',\n",
       " 'purity',\n",
       " 'set_data',\n",
       " 'shape',\n",
       " 'sinm',\n",
       " 'sqrtm',\n",
       " 'tidyup',\n",
       " 'tr',\n",
       " 'trans',\n",
       " 'transform',\n",
       " 'trunc_neg',\n",
       " 'type',\n",
       " 'unit']"
      ]
     },
     "execution_count": 86,
     "metadata": {},
     "output_type": "execute_result"
    }
   ],
   "source": [
    "dir(qutip.Qobj)"
   ]
  },
  {
   "cell_type": "code",
   "execution_count": 87,
   "metadata": {},
   "outputs": [
    {
     "name": "stdout",
     "output_type": "stream",
     "text": [
      "{'_isherm': None, '_type': None, 'superrep': None, '_isunitary': None, '_data': <1x1 sparse matrix of type '<class 'numpy.complex128'>'\n",
      "\twith 0 stored elements in Compressed Sparse Row format>, 'dims': [[1], [1]], 'rho_me1': Quantum object: dims = [[2, 2], [2, 2]], shape = (4, 4), type = oper, isherm = True\n",
      "Qobj data =\n",
      "[[1.00000000e+00 0.00000000e+00 1.57079633e-10 0.00000000e+00]\n",
      " [0.00000000e+00 1.00000000e+00 0.00000000e+00 1.57079633e-10]\n",
      " [1.57079633e-10 0.00000000e+00 1.00000000e+00 0.00000000e+00]\n",
      " [0.00000000e+00 1.57079633e-10 0.00000000e+00 1.00000000e+00]]}\n"
     ]
    }
   ],
   "source": [
    "class one_body_max_ent(qutip.Qobj):\n",
    "    def __init__(self, rho_me1):\n",
    "        super().__init__(qutip.Qobj)\n",
    "        self.rho_me1 = me.n_body_max_ent_state(1, N, coeffs_me1)\n",
    "\n",
    "class two_body_max_ent(qutip.Qobj):\n",
    "    def __init__(self, rho_me2):\n",
    "        super().__init__(qutip.Qobj)\n",
    "        self.rho_me2 = me.n_body_max_ent_state(2, N, coeffs_sz) \n",
    "\n",
    "rho1 = one_body_max_ent(coeffs_me1)\n",
    "rho2 = two_body_max_ent(coeffs_sz)\n",
    "\n",
    "print(rho1.__dict__)"
   ]
  },
  {
   "cell_type": "code",
   "execution_count": 73,
   "metadata": {
    "id": "_U6AxFh7w_oF"
   },
   "outputs": [],
   "source": [
    "class Result(object):\n",
    "      def __init__(self, ts=None, states=None):\n",
    "        self.ts = ts\n",
    "        self.states = states\n",
    "        self.projrho0_app = None   \n",
    "        self.projrho_inst_app = None \n",
    "\n",
    "def callback(t, rhot):\n",
    "    global rho\n",
    "    rho = rhot\n",
    "\n",
    "# Algunos problemas que tiene el problema cómo está planteado ahora:\n",
    "    # * rho0 debería ser un estado descorrelacionado. Aquí estamos estando el estado inicial,\n",
    "    #   que es un estado entrelazado\n",
    "    # * El estado inicial no pertenece a la variedad Max-Ent: Para que esto funcione, deberíamos, o bien proyectar el estado inicial a la variedad,\n",
    "    # o bien agregar el log(rho0) a la base de operadores. \n",
    "    \n",
    "def projected_evolution(author=True,x=.5, gamma = 1*np.e*-2, omega_1=3., omega_2=3.,temp=1, \n",
    "                        gaussian=False, gr = int, deltat=10., tmax = 500., distance=me.bures, \n",
    "                        do_project=True):\n",
    "    global rho\n",
    "    loc_globalid = qutip.tensor([qutip.qeye(2) for k in range(N)])\n",
    "\n",
    "    if (gaussian and gr == 1):\n",
    "        coeffs_me1_gr1 = [[10**-1,2*10**-1],[np.pi*10**-1,10**-18],\n",
    "                          [10**-18,10**-18],[10**-18,10**-18]]\n",
    "        rho0 = me.initial_state(N, gaussian, gr, None, coeffs_me1_gr1, None)\n",
    "        \n",
    "    elif(gaussian and gr == 2):\n",
    "        coeffs_me2_sz = [[0., 0., 0., 0., 0., 0., 0., 0., 0., 0., 0., 0.],\n",
    "                         [0., 0., 0., 0., 0., 0., 0., 0., 0., 0., 0., 0.],\n",
    "                         [10**-10, 10**-5, 10**-10, 10**-5, 10**-10, 10**-5,\n",
    "                          10**-10, 10**-5, 10**-10, 10**-5, 10**-10, 10**-5]]\n",
    "        rho0 = me.initial_state(N, gaussian, gr, None, coeffs_me2_sz, None)\n",
    "        \n",
    "    elif(not gaussian):\n",
    "        coeffs_nop = []\n",
    "        rho0 = me.initial_state(N, gaussian, gr, x, coeffs_nop, psi0)\n",
    "          \n",
    "    \n",
    "    if (author):\n",
    "        basis = me.base_orth(n_body_basis(2), rho0)  ## // Á la Tom\n",
    "    else: \n",
    "        basis = me.base_orth(two_site_basis, rho0) ## // Á la Mauricio\n",
    "        \n",
    "    obs = [x_op, p_op, comm_xp, corr_xp]\n",
    "          #, x_op**2,p_op**2, corr_op, p_dot]\n",
    "        \n",
    "    sampling = max(int(10*max(1,omega_1, omega_2)*deltat), 10)\n",
    "    print(\"sampling:\", sampling)\n",
    "    c_op_list = me.spin_dephasing(N,gamma)\n",
    "    rho = rho0                                                               ## // Á la Mauricio\n",
    "    approx_exp_vals = [[qutip.expect(op, rho) for op in obs]]\n",
    "    ts= [0]\n",
    "\n",
    "    for i in range(int(tmax/deltat)):\n",
    "        qutip.mesolve(H=H_H, \n",
    "                               rho0=rho, \n",
    "                               tlist=np.linspace(0,deltat, sampling), \n",
    "                               c_ops=c_op_list, \n",
    "                               e_ops=callback,\n",
    "                               args={'gamma': gamma,'omega_1': omega_1, 'omega_2': omega_2}\n",
    "                               )\n",
    "        ts.append(deltat*i)\n",
    "        if do_project:\n",
    "            rho = me.proj_op(me.logM(rho), basis, rho0)\n",
    "            e0 = max(rho.eigenenergies())\n",
    "            rho = rho - loc_globalid * e0\n",
    "            rho = rho.expm()\n",
    "            trrho = (2.*rho.tr())\n",
    "            rho = (rho+rho.dag())/trrho\n",
    "\n",
    "        #print(qutip.entropy.entropy_vn(rho))\n",
    "        newobs = [qutip.expect(rho, op) for op in obs]\n",
    "        approx_exp_vals.append(newobs)\n",
    "\n",
    "    result = {}\n",
    "    result[\"ts\"] = ts\n",
    "    result[\"averages\"] = np.array(approx_exp_vals)\n",
    "    \n",
    "    title = f\" BW Dinámica cerrada no gaussiana wb1={omega_1} wb2={omega_2}\" \n",
    "    if do_project:\n",
    "        title = title + \"_projected_\"\n",
    "\n",
    "    with open(title+\".pkl\",\"wb\") as f:\n",
    "        pickle.dump(result, f)\n",
    "    return result"
   ]
  },
  {
   "cell_type": "code",
   "execution_count": 89,
   "metadata": {
    "scrolled": true
   },
   "outputs": [
    {
     "name": "stdout",
     "output_type": "stream",
     "text": [
      "sampling: 30\n",
      "sampling: 30\n"
     ]
    },
    {
     "data": {
      "text/plain": [
       "<matplotlib.legend.Legend at 0x7f98087f2110>"
      ]
     },
     "execution_count": 89,
     "metadata": {},
     "output_type": "execute_result"
    },
    {
     "data": {
      "image/png": "[encoded data removed]",
      "text/plain": [
       "<Figure size 432x288 with 1 Axes>"
      ]
     },
     "metadata": {
      "needs_background": "light"
     },
     "output_type": "display_data"
    }
   ],
   "source": [
    "## usando n_body_basis(2) y el estado no gaussiano de Mauricio\n",
    "\n",
    "results = projected_evolution(author = True, x=.5, gamma = 1*np.e*-1, omega_1=3., omega_2=3.,\n",
    "                              temp=1, gaussian=False, gr = None, deltat=1, tmax = 50, \n",
    "                              distance=me.bures,do_project=True)\n",
    "\n",
    "plt.plot(results[\"ts\"], results[\"averages\"][:,0], label=\"x Projected\")\n",
    "results = projected_evolution(author = True, x=.5, gamma = 1*np.e*-1, omega_1=3., omega_2=3.,\n",
    "                              temp=1, gaussian=False, gr = None, deltat=1, tmax = 50, \n",
    "                              distance=me.bures,do_project=False)\n",
    "plt.scatter(results[\"ts\"], results[\"averages\"][:,0], label=\"x exact\")\n",
    "plt.legend()"
   ]
  },
  {
   "cell_type": "code",
   "execution_count": 90,
   "metadata": {},
   "outputs": [
    {
     "name": "stdout",
     "output_type": "stream",
     "text": [
      "sampling: 75\n",
      "sampling: 75\n"
     ]
    },
    {
     "data": {
      "text/plain": [
       "<matplotlib.legend.Legend at 0x7f98087f0fd0>"
      ]
     },
     "execution_count": 90,
     "metadata": {},
     "output_type": "execute_result"
    },
    {
     "data": {
      "image/png": "[encoded data removed]",
      "text/plain": [
       "<Figure size 432x288 with 1 Axes>"
      ]
     },
     "metadata": {
      "needs_background": "light"
     },
     "output_type": "display_data"
    }
   ],
   "source": [
    "## el p del caso anterior\n",
    "\n",
    "results = projected_evolution(author = True, x=.5, gamma = 1*np.e*-1, omega_1=3., omega_2=3.,\n",
    "                              temp=1, gaussian=False, gr = None, deltat=2.5, tmax = 50, \n",
    "                              distance=me.bures,do_project=True)\n",
    "plt.plot(results[\"ts\"], results[\"averages\"][:,1], label=\"p Projected\")\n",
    "results = projected_evolution(author = True, x=.5, gamma = 1*np.e*-1, omega_1=3., omega_2=3.,\n",
    "                              temp=1, gaussian=False, gr = None, deltat=2.5, tmax = 50, \n",
    "                              distance=me.bures,do_project=False)\n",
    "plt.scatter(results[\"ts\"], results[\"averages\"][:,1], label=\"p exact\")\n",
    "plt.legend()"
   ]
  },
  {
   "cell_type": "code",
   "execution_count": 77,
   "metadata": {},
   "outputs": [
    {
     "name": "stdout",
     "output_type": "stream",
     "text": [
      "sampling: 30\n",
      "sampling: 30\n",
      "sampling: 30\n",
      "sampling: 30\n"
     ]
    },
    {
     "data": {
      "text/plain": [
       "<matplotlib.legend.Legend at 0x7fa588837d90>"
      ]
     },
     "execution_count": 77,
     "metadata": {},
     "output_type": "execute_result"
    },
    {
     "data": {
      "image/png": "[encoded data removed]",
      "text/plain": [
       "<Figure size 432x288 with 1 Axes>"
      ]
     },
     "metadata": {
      "needs_background": "light"
     },
     "output_type": "display_data"
    }
   ],
   "source": [
    "## usando n_body_basis(2) y el estado no gaussiano de Mauricio\n",
    "\n",
    "results = projected_evolution(author = True, x=.5, gamma = 1*np.e*-1, omega_1=3., omega_2=3.,\n",
    "                              temp=1, gaussian=False, gr = None, deltat=1, tmax = 50, \n",
    "                              distance=me.bures,do_project=True)\n",
    "\n",
    "plt.plot(results[\"ts\"], results[\"averages\"][:,2], label=\" comm_xp Projected\")\n",
    "results = projected_evolution(author = True, x=.5, gamma = 1*np.e*-1, omega_1=3., omega_2=3.,\n",
    "                              temp=1, gaussian=False, gr = None, deltat=1, tmax = 50, \n",
    "                              distance=me.bures,do_project=False)\n",
    "plt.scatter(results[\"ts\"], results[\"averages\"][:,2], label=\"comm_xp exact\")\n",
    "\n",
    "## ---- ## \n",
    "\n",
    "results = projected_evolution(author = True, x=.5, gamma = 1*np.e*-1, omega_1=3., omega_2=3.,\n",
    "                              temp=1, gaussian=False, gr = None, deltat=1, tmax = 50, \n",
    "                              distance=me.bures,do_project=True)\n",
    "\n",
    "plt.plot(results[\"ts\"], results[\"averages\"][:,3], label=\" corr_xp Projected\")\n",
    "results = projected_evolution(author = True, x=.5, gamma = 1*np.e*-1, omega_1=3., omega_2=3.,\n",
    "                              temp=1, gaussian=False, gr = None, deltat=1, tmax = 50, \n",
    "                              distance=me.bures,do_project=False)\n",
    "plt.scatter(results[\"ts\"], results[\"averages\"][:,3], label=\"corr_xp exact\")\n",
    "\n",
    "plt.legend()"
   ]
  },
  {
   "cell_type": "code",
   "execution_count": 34,
   "metadata": {},
   "outputs": [
    {
     "name": "stdout",
     "output_type": "stream",
     "text": [
      "sampling: 30\n",
      "sampling: 30\n",
      "{'ts': [0, 0, 1, 2, 3, 4, 5, 6, 7, 8, 9, 10, 11, 12, 13, 14, 15, 16, 17, 18, 19, 20, 21, 22, 23, 24, 25, 26, 27, 28, 29, 30, 31, 32, 33, 34, 35, 36, 37, 38, 39, 40, 41, 42, 43, 44, 45, 46, 47, 48, 49], 'averages': array([[8.19927776, 0.        ],\n",
      "       [8.19927776, 0.        ],\n",
      "       [8.19927776, 0.        ],\n",
      "       [8.19927776, 0.        ],\n",
      "       [8.19927776, 0.        ],\n",
      "       [8.19927776, 0.        ],\n",
      "       [8.19927776, 0.        ],\n",
      "       [8.19927776, 0.        ],\n",
      "       [8.19927776, 0.        ],\n",
      "       [8.19927776, 0.        ],\n",
      "       [8.19927776, 0.        ],\n",
      "       [8.19927776, 0.        ],\n",
      "       [8.19927776, 0.        ],\n",
      "       [8.19927776, 0.        ],\n",
      "       [8.19927776, 0.        ],\n",
      "       [8.19927776, 0.        ],\n",
      "       [8.19927776, 0.        ],\n",
      "       [8.19927776, 0.        ],\n",
      "       [8.19927776, 0.        ],\n",
      "       [8.19927776, 0.        ],\n",
      "       [8.19927776, 0.        ],\n",
      "       [8.19927776, 0.        ],\n",
      "       [8.19927776, 0.        ],\n",
      "       [8.19927776, 0.        ],\n",
      "       [8.19927776, 0.        ],\n",
      "       [8.19927776, 0.        ],\n",
      "       [8.19927776, 0.        ],\n",
      "       [8.19927776, 0.        ],\n",
      "       [8.19927776, 0.        ],\n",
      "       [8.19927776, 0.        ],\n",
      "       [8.19927776, 0.        ],\n",
      "       [8.19927776, 0.        ],\n",
      "       [8.19927776, 0.        ],\n",
      "       [8.19927776, 0.        ],\n",
      "       [8.19927776, 0.        ],\n",
      "       [8.19927776, 0.        ],\n",
      "       [8.19927776, 0.        ],\n",
      "       [8.19927776, 0.        ],\n",
      "       [8.19927776, 0.        ],\n",
      "       [8.19927776, 0.        ],\n",
      "       [8.19927776, 0.        ],\n",
      "       [8.19927776, 0.        ],\n",
      "       [8.19927776, 0.        ],\n",
      "       [8.19927776, 0.        ],\n",
      "       [8.19927776, 0.        ],\n",
      "       [8.19927776, 0.        ],\n",
      "       [8.19927776, 0.        ],\n",
      "       [8.19927776, 0.        ],\n",
      "       [8.19927776, 0.        ],\n",
      "       [8.19927776, 0.        ],\n",
      "       [8.19927776, 0.        ]])}\n"
     ]
    },
    {
     "data": {
      "text/plain": [
       "<matplotlib.legend.Legend at 0x7f97fe9fb8e0>"
      ]
     },
     "execution_count": 34,
     "metadata": {},
     "output_type": "execute_result"
    },
    {
     "data": {
      "image/png": "[encoded data removed]",
      "text/plain": [
       "<Figure size 432x288 with 1 Axes>"
      ]
     },
     "metadata": {
      "needs_background": "light"
     },
     "output_type": "display_data"
    }
   ],
   "source": [
    "results = projected_evolution(author = True, x=.001, gamma = 1*np.e*-1, omega_1=3., omega_2=3.,\n",
    "                              temp=1, gaussian=True, gr = 1, deltat=1, tmax = 50, \n",
    "                              distance=me.bures,do_project=True)\n",
    "\n",
    "plt.plot(results[\"ts\"], results[\"averages\"][:,0], label=\"x Projected\")\n",
    "results = projected_evolution(author = True, x=.001, gamma = 1*np.e*-1, omega_1=3., omega_2=3.,\n",
    "                              temp=1, gaussian=True, gr = 1, deltat=1, tmax = 50, \n",
    "                              distance=me.bures,do_project=False)\n",
    "plt.scatter(results[\"ts\"], results[\"averages\"][:,0], label=\"x exact\")\n",
    "print(results)\n",
    "plt.legend()"
   ]
  },
  {
   "cell_type": "code",
   "execution_count": 35,
   "metadata": {},
   "outputs": [
    {
     "name": "stdout",
     "output_type": "stream",
     "text": [
      "sampling: 30\n",
      "sampling: 30\n"
     ]
    },
    {
     "data": {
      "text/plain": [
       "<matplotlib.legend.Legend at 0x7f97fe9fa2f0>"
      ]
     },
     "execution_count": 35,
     "metadata": {},
     "output_type": "execute_result"
    },
    {
     "data": {
      "image/png": "[encoded data removed]",
      "text/plain": [
       "<Figure size 432x288 with 1 Axes>"
      ]
     },
     "metadata": {
      "needs_background": "light"
     },
     "output_type": "display_data"
    }
   ],
   "source": [
    "## usando n_body_basis(2) y el estado no gaussiano de Mauricio\n",
    "\n",
    "results = projected_evolution(author = True, x=.001, gamma = 1*np.e*-1, omega_1=3., omega_2=3.,\n",
    "                              temp=1, gaussian=True, gr = 2, deltat=1, tmax = 50, \n",
    "                              distance=me.bures,do_project=True)\n",
    "\n",
    "plt.plot(results[\"ts\"], results[\"averages\"][:,0], label=\"x Projected\")\n",
    "results = projected_evolution(author = True, x=.001, gamma = 1*np.e*-1, omega_1=3., omega_2=3.,\n",
    "                              temp=1, gaussian=True, gr = 2, deltat=1, tmax = 50, \n",
    "                              distance=me.bures,do_project=False)\n",
    "plt.scatter(results[\"ts\"], results[\"averages\"][:,0], label=\"x exact\")\n",
    "#print(results)\n",
    "plt.legend()"
   ]
  },
  {
   "cell_type": "code",
   "execution_count": 92,
   "metadata": {},
   "outputs": [
    {
     "name": "stdout",
     "output_type": "stream",
     "text": [
      "sampling: 15\n"
     ]
    },
    {
     "name": "stderr",
     "output_type": "stream",
     "text": [
      "/home/tomas/.conda/envs/qutip/lib/python3.10/site-packages/matplotlib/cbook/__init__.py:1298: ComplexWarning: Casting complex values to real discards the imaginary part\n",
      "  return np.asarray(x, float)\n"
     ]
    },
    {
     "name": "stdout",
     "output_type": "stream",
     "text": [
      "sampling: 15\n"
     ]
    },
    {
     "name": "stderr",
     "output_type": "stream",
     "text": [
      "/home/tomas/.conda/envs/qutip/lib/python3.10/site-packages/matplotlib/collections.py:196: ComplexWarning: Casting complex values to real discards the imaginary part\n",
      "  offsets = np.asanyarray(offsets, float)\n"
     ]
    },
    {
     "data": {
      "text/plain": [
       "<matplotlib.legend.Legend at 0x7f97ff017850>"
      ]
     },
     "execution_count": 92,
     "metadata": {},
     "output_type": "execute_result"
    },
    {
     "data": {
      "image/png": "[encoded data removed]",
      "text/plain": [
       "<Figure size 432x288 with 1 Axes>"
      ]
     },
     "metadata": {
      "needs_background": "light"
     },
     "output_type": "display_data"
    }
   ],
   "source": [
    "## usando n_body_basis(2) y el estado no gaussiano de Mauricio\n",
    "\n",
    "results = projected_evolution(author = True, x=None, gamma = 1*np.e*-1, omega_1=3., omega_2=3.,\n",
    "                              temp=1, gaussian=True, gr = 2, deltat=.5, tmax = 50, \n",
    "                              distance=me.bures,do_project=True)\n",
    "\n",
    "plt.plot(results[\"ts\"], results[\"averages\"][:,0], label=\"x Projected\")\n",
    "results = projected_evolution(author = True, x=None, gamma = 1*np.e*-1, omega_1=3., omega_2=3.,\n",
    "                              temp=1, gaussian=True, gr = 2, deltat=.5, tmax = 50, \n",
    "                              distance=me.bures,do_project=False)\n",
    "plt.scatter(results[\"ts\"], results[\"averages\"][:,0], label=\"x exact\")\n",
    "#print(results)\n",
    "plt.legend()"
   ]
  },
  {
   "cell_type": "code",
   "execution_count": 60,
   "metadata": {},
   "outputs": [
    {
     "name": "stdout",
     "output_type": "stream",
     "text": [
      "sampling: 30\n",
      "sampling: 30\n",
      "sampling: 30\n",
      "sampling: 30\n"
     ]
    },
    {
     "data": {
      "text/plain": [
       "<matplotlib.legend.Legend at 0xd581e20>"
      ]
     },
     "execution_count": 60,
     "metadata": {},
     "output_type": "execute_result"
    },
    {
     "data": {
      "image/png": "[encoded data removed]",
      "text/plain": [
       "<Figure size 432x288 with 1 Axes>"
      ]
     },
     "metadata": {
      "needs_background": "light"
     },
     "output_type": "display_data"
    }
   ],
   "source": [
    "results = projected_evolution(x=.001, gamma = 1*np.e*-10, omega_1=3., omega_2=3.,temp=1, gaussian=False, deltat=1, tmax = 20, distance=me.bures,do_project=True)\n",
    "plt.plot(results[\"ts\"], results[\"averages\"][:,0], label=\"x Projected\")\n",
    "\n",
    "results = projected_evolution(x=.001, gamma = 1*np.e*-10, omega_1=3., omega_2=3.,temp=1, gaussian=False, deltat=1, tmax = 20, distance=me.bures,do_project=False)\n",
    "plt.scatter(results[\"ts\"], results[\"averages\"][:,0], label=\"x exact\")\n",
    "\n",
    "results = projected_evolution(x=.001, gamma = 1*np.e*-10, omega_1=3., omega_2=3.,temp=1, gaussian=False, deltat=1, tmax = 20, distance=me.bures,do_project=True)\n",
    "plt.plot(results[\"ts\"], results[\"averages\"][:,1], label=\"p Projected\")\n",
    "\n",
    "results = projected_evolution(x=.001, gamma = 1*np.e*-10, omega_1=3., omega_2=3.,temp=1, gaussian=False, deltat=1, tmax = 20, distance=me.bures,do_project=False)\n",
    "plt.scatter(results[\"ts\"], results[\"averages\"][:,1], label=\"p exact\")\n",
    "\n",
    "plt.legend()"
   ]
  },
  {
   "cell_type": "code",
   "execution_count": 14,
   "metadata": {},
   "outputs": [
    {
     "name": "stdout",
     "output_type": "stream",
     "text": [
      "sampling: 30\n",
      "0.16791281322515023\n",
      "0.025001997406236265\n",
      "1.1487922825146764e-14\n",
      "6.8329179718224e-05\n",
      "1.0588064054146225e-07\n",
      "1.0943601382025009e-06\n",
      "3.837837843749808e-10\n",
      "2.847322548963192e-11\n",
      "-2.2674686255129694e-15\n",
      "2.7230410245496378e-11\n",
      "-1.1644215232581642e-15\n",
      "3.4559150475658025e-11\n",
      "-5.1809250033609207e-17\n",
      "8.181803138401406e-14\n",
      "4.2894135173715545e-09\n",
      "-2.383026334279759e-15\n",
      "3.832498575379521e-09\n",
      "8.123253432665382e-14\n",
      "2.1812800401946557e-12\n",
      "7.543808212634594e-07\n",
      "sampling: 30\n",
      "1.5366498967615803\n",
      "1.5366499211623428\n",
      "1.5366499466148518\n",
      "1.5366499734312118\n",
      "1.536650000136888\n",
      "1.5366500264372303\n",
      "1.5366500535076661\n",
      "1.536650082456855\n",
      "1.5366501140063615\n",
      "1.536650147568085\n",
      "1.5366501820076974\n",
      "1.5366502160147812\n",
      "1.536650248583973\n",
      "1.5366502798835635\n",
      "1.5366503103435414\n",
      "1.5366503679168246\n",
      "1.5366504130072236\n",
      "1.53665045978774\n",
      "1.5366505052109396\n",
      "1.536650562763997\n",
      "sampling: 30\n",
      "0.16791281322515023\n",
      "0.025001997406236265\n",
      "1.1487922825146764e-14\n",
      "6.8329179718224e-05\n",
      "1.0588064054146225e-07\n",
      "1.0943601382025009e-06\n",
      "3.837837843749808e-10\n",
      "2.847322548963192e-11\n",
      "-2.2674686255129694e-15\n",
      "2.7230410245496378e-11\n",
      "-1.1644215232581642e-15\n",
      "3.4559150475658025e-11\n",
      "-5.1809250033609207e-17\n",
      "8.181803138401406e-14\n",
      "4.2894135173715545e-09\n",
      "-2.383026334279759e-15\n",
      "3.832498575379521e-09\n",
      "8.123253432665382e-14\n",
      "2.1812800401946557e-12\n",
      "7.543808212634594e-07\n",
      "sampling: 30\n",
      "1.5366498967615803\n",
      "1.5366499211623428\n",
      "1.5366499466148518\n",
      "1.5366499734312118\n",
      "1.536650000136888\n",
      "1.5366500264372303\n",
      "1.5366500535076661\n",
      "1.536650082456855\n",
      "1.5366501140063615\n",
      "1.536650147568085\n",
      "1.5366501820076974\n",
      "1.5366502160147812\n",
      "1.536650248583973\n",
      "1.5366502798835635\n",
      "1.5366503103435414\n",
      "1.5366503679168246\n",
      "1.5366504130072236\n",
      "1.53665045978774\n",
      "1.5366505052109396\n",
      "1.536650562763997\n"
     ]
    },
    {
     "data": {
      "text/plain": [
       "<matplotlib.legend.Legend at 0x124fc7f0>"
      ]
     },
     "execution_count": 14,
     "metadata": {},
     "output_type": "execute_result"
    },
    {
     "data": {
      "image/png": "[encoded data removed]",
      "text/plain": [
       "<Figure size 432x288 with 1 Axes>"
      ]
     },
     "metadata": {
      "needs_background": "light"
     },
     "output_type": "display_data"
    }
   ],
   "source": [
    "results = projected_evolution(x=.001, gamma = 1*np.e*-10, omega_1=3., omega_2=3.,temp=1, gaussian=False, deltat=1, tmax = 20, distance=me.bures,do_project=True)\n",
    "plt.plot(results[\"ts\"], results[\"averages\"][:,0], label=\"x Projected\")\n",
    "\n",
    "results = projected_evolution(x=.001, gamma = 1*np.e*-10, omega_1=3., omega_2=3.,temp=1, gaussian=False, deltat=1, tmax = 20, distance=me.bures,do_project=False)\n",
    "plt.scatter(results[\"ts\"], results[\"averages\"][:,0], label=\"x exact\")\n",
    "\n",
    "results = projected_evolution(x=.001, gamma = 1*np.e*-10, omega_1=3., omega_2=3.,temp=1, gaussian=False, deltat=1, tmax = 20, distance=me.bures,do_project=True)\n",
    "plt.plot(results[\"ts\"], results[\"averages\"][:,1], label=\"p Projected\")\n",
    "\n",
    "results = projected_evolution(x=.001, gamma = 1*np.e*-10, omega_1=3., omega_2=3.,temp=1, gaussian=False, deltat=1, tmax = 20, distance=me.bures,do_project=False)\n",
    "plt.scatter(results[\"ts\"], results[\"averages\"][:,1], label=\"p exact\")\n",
    "\n",
    "plt.legend()"
   ]
  },
  {
   "cell_type": "code",
   "execution_count": 15,
   "metadata": {},
   "outputs": [
    {
     "name": "stdout",
     "output_type": "stream",
     "text": [
      "sampling: 30\n",
      "1.7623634883935035e-09\n",
      "8.897276858776116e-10\n",
      "4.0917825143476267e-13\n",
      "0.634941571710568\n",
      "1.548026520839077e-10\n",
      "0.0026295518333333194\n",
      "2.2034393346722337e-05\n",
      "1.1825901929862861e-08\n",
      "8.712039898658134e-15\n",
      "6.019306388819321e-08\n",
      "0.00010048180477350866\n",
      "0.0004313182182275918\n",
      "-1.1745602108609705e-16\n",
      "2.0233857767965332e-13\n",
      "2.585309419276434e-13\n",
      "1.5292363500367864e-08\n",
      "-1.4304389024841682e-15\n",
      "0.040447956723005135\n",
      "1.8827747953697937e-14\n",
      "7.894600762081582e-11\n",
      "sampling: 30\n",
      "-167.74431341057016\n",
      "-167.7443005949237\n",
      "-167.74428790881026\n",
      "-167.74427547859636\n",
      "-167.7442632845791\n",
      "-167.74425123615367\n",
      "-167.7442392875691\n",
      "-167.74422738667542\n",
      "-167.7442154242809\n",
      "-167.74419638623513\n",
      "-167.7441840501636\n",
      "-167.7441715761534\n",
      "-167.7441588842844\n",
      "-167.74414600644258\n",
      "-167.744133022612\n",
      "-167.74411984776847\n",
      "-167.74410636932714\n",
      "-167.7440928165316\n",
      "-167.74407932293536\n",
      "-167.74406533539172\n",
      "sampling: 30\n",
      "1.7623634883935035e-09\n",
      "8.897276858776116e-10\n",
      "4.0917825143476267e-13\n",
      "0.634941571710568\n",
      "1.548026520839077e-10\n",
      "0.0026295518333333194\n",
      "2.2034393346722337e-05\n",
      "1.1825901929862861e-08\n",
      "8.712039898658134e-15\n",
      "6.019306388819321e-08\n",
      "0.00010048180477350866\n",
      "0.0004313182182275918\n",
      "-1.1745602108609705e-16\n",
      "2.0233857767965332e-13\n",
      "2.585309419276434e-13\n",
      "1.5292363500367864e-08\n",
      "-1.4304389024841682e-15\n",
      "0.040447956723005135\n",
      "1.8827747953697937e-14\n",
      "7.894600762081582e-11\n",
      "sampling: 30\n",
      "-167.74431341057016\n",
      "-167.7443005949237\n",
      "-167.74428790881026\n",
      "-167.74427547859636\n",
      "-167.7442632845791\n",
      "-167.74425123615367\n",
      "-167.7442392875691\n",
      "-167.74422738667542\n",
      "-167.7442154242809\n",
      "-167.74419638623513\n",
      "-167.7441840501636\n",
      "-167.7441715761534\n",
      "-167.7441588842844\n",
      "-167.74414600644258\n",
      "-167.744133022612\n",
      "-167.74411984776847\n",
      "-167.74410636932714\n",
      "-167.7440928165316\n",
      "-167.74407932293536\n",
      "-167.74406533539172\n"
     ]
    },
    {
     "data": {
      "text/plain": [
       "<matplotlib.legend.Legend at 0x10e3f220>"
      ]
     },
     "execution_count": 15,
     "metadata": {},
     "output_type": "execute_result"
    },
    {
     "data": {
      "image/png": "[encoded data removed]",
      "text/plain": [
       "<Figure size 432x288 with 1 Axes>"
      ]
     },
     "metadata": {
      "needs_background": "light"
     },
     "output_type": "display_data"
    }
   ],
   "source": [
    "results = projected_evolution(x=.001, gamma = 1*np.e*-10, omega_1=3., omega_2=3.,temp=1, gaussian=True, deltat=1, tmax = 20, distance=me.bures,do_project=True)\n",
    "plt.plot(results[\"ts\"], results[\"averages\"][:,0], label=\"x Projected\")\n",
    "\n",
    "results = projected_evolution(x=.001, gamma = 1*np.e*-10, omega_1=3., omega_2=3.,temp=1, gaussian=True, deltat=1, tmax = 20, distance=me.bures,do_project=False)\n",
    "plt.scatter(results[\"ts\"], results[\"averages\"][:,0], label=\"x exact\")\n",
    "\n",
    "results = projected_evolution(x=.001, gamma = 1*np.e*-10, omega_1=3., omega_2=3.,temp=1, gaussian=True, deltat=1, tmax = 20, distance=me.bures,do_project=True)\n",
    "plt.plot(results[\"ts\"], results[\"averages\"][:,1], label=\"p Projected\")\n",
    "\n",
    "results = projected_evolution(x=.001, gamma = 1*np.e*-10, omega_1=3., omega_2=3.,temp=1, gaussian=True, deltat=1, tmax = 20, distance=me.bures,do_project=False)\n",
    "plt.scatter(results[\"ts\"], results[\"averages\"][:,1], label=\"p exact\")\n",
    "\n",
    "plt.legend()"
   ]
  },
  {
   "cell_type": "code",
   "execution_count": 21,
   "metadata": {},
   "outputs": [
    {
     "name": "stdout",
     "output_type": "stream",
     "text": [
      "sampling: 30\n",
      "sampling: 30\n"
     ]
    },
    {
     "data": {
      "text/plain": [
       "<matplotlib.legend.Legend at 0x6391580>"
      ]
     },
     "execution_count": 21,
     "metadata": {},
     "output_type": "execute_result"
    },
    {
     "data": {
      "image/png": "[encoded data removed]",
      "text/plain": [
       "<Figure size 432x288 with 1 Axes>"
      ]
     },
     "metadata": {
      "needs_background": "light"
     },
     "output_type": "display_data"
    }
   ],
   "source": [
    "results = projected_evolution(x=.001, gamma = 1*np.e*-10, omega_1=3., omega_2=3.,temp=1, gaussian=False, deltat=1, tmax = 20, distance=me.bures,do_project=True)\n",
    "\n",
    "plt.plot(results[\"ts\"], results[\"averages\"][:,0], label=\"x Projected\")\n",
    "results = projected_evolution(x=.001, gamma = 1*np.e*-10, omega_1=3., omega_2=3.,temp=1, gaussian=False, deltat=1, tmax = 20, distance=me.bures,do_project=False)\n",
    "plt.scatter(results[\"ts\"], results[\"averages\"][:,0], label=\"x exact\")\n",
    "plt.legend()"
   ]
  },
  {
   "cell_type": "code",
   "execution_count": null,
   "metadata": {},
   "outputs": [],
   "source": []
  },
  {
   "cell_type": "code",
   "execution_count": null,
   "metadata": {},
   "outputs": [],
   "source": []
  },
  {
   "cell_type": "code",
   "execution_count": 16,
   "metadata": {},
   "outputs": [
    {
     "data": {
      "image/png": "[encoded data removed]",
      "text/plain": [
       "<Figure size 432x288 with 1 Axes>"
      ]
     },
     "metadata": {},
     "output_type": "display_data"
    }
   ],
   "source": [
    "import networkx as nx\n",
    "import matplotlib.pyplot as plt\n",
    "\n",
    "G = nx.DiGraph()\n",
    "G.add_edges_from(\n",
    "    [('Sx', 'Sx¹'), ('Sx', 'Sx²'), ('Sx¹', 'Sxa'), ('Sx¹', 'Sya'), ('Sx¹', 'Sza'), ('Sxa', 'Sx1'), ('Sxa', 'Sx2') ])\n",
    "\n",
    "val_map = {'Sx': 1.0,\n",
    "           'Sx²': 0.5714285714285714,\n",
    "           'Sx¹': 0.0}\n",
    "\n",
    "values = [val_map.get(node, 0.25) for node in G.nodes()]\n",
    "\n",
    "# Need to create a layout when doing\n",
    "# separate calls to draw nodes and edges\n",
    "pos = nx.spring_layout(G)\n",
    "nx.draw_networkx_nodes(G, pos, cmap=plt.get_cmap('jet'), \n",
    "                       node_color = values, node_size = 500)\n",
    "nx.draw_networkx_labels(G, pos)\n",
    "nx.draw_networkx_edges(G, pos, arrows=True)\n",
    "nx.draw_networkx_edges(G, pos, arrows=False)\n",
    "plt.show()\n"
   ]
  },
  {
   "cell_type": "code",
   "execution_count": 56,
   "metadata": {},
   "outputs": [
    {
     "data": {
      "text/latex": [
       "Quantum object: dims = [[2, 2, 2, 2, 2, 2, 2, 2, 2, 2, 2, 2, 2, 2, 2, 2, 2, 2, 2, 2], [2, 2, 2, 2, 2, 2, 2, 2, 2, 2, 2, 2, 2, 2, 2, 2, 2, 2, 2, 2]], shape = (1048576, 1048576), type = oper, isherm = True\\begin{equation*}\\left(\\begin{array}{*{11}c}1.0 & 0.0 & 0.0 & 0.0 & 0.0 & \\cdots & 0.0 & 0.0 & 0.0 & 0.0 & 0.0\\\\0.0 & 1.0 & 0.0 & 0.0 & 0.0 & \\cdots & 0.0 & 0.0 & 0.0 & 0.0 & 0.0\\\\0.0 & 0.0 & 1.0 & 0.0 & 0.0 & \\cdots & 0.0 & 0.0 & 0.0 & 0.0 & 0.0\\\\0.0 & 0.0 & 0.0 & 1.0 & 0.0 & \\cdots & 0.0 & 0.0 & 0.0 & 0.0 & 0.0\\\\0.0 & 0.0 & 0.0 & 0.0 & 1.0 & \\cdots & 0.0 & 0.0 & 0.0 & 0.0 & 0.0\\\\\\vdots & \\vdots & \\vdots & \\vdots & \\vdots & \\ddots & \\vdots & \\vdots & \\vdots & \\vdots & \\vdots\\\\0.0 & 0.0 & 0.0 & 0.0 & 0.0 & \\cdots & 1.0 & 0.0 & 0.0 & 0.0 & 0.0\\\\0.0 & 0.0 & 0.0 & 0.0 & 0.0 & \\cdots & 0.0 & 1.0 & 0.0 & 0.0 & 0.0\\\\0.0 & 0.0 & 0.0 & 0.0 & 0.0 & \\cdots & 0.0 & 0.0 & 1.0 & 0.0 & 0.0\\\\0.0 & 0.0 & 0.0 & 0.0 & 0.0 & \\cdots & 0.0 & 0.0 & 0.0 & 1.0 & 0.0\\\\0.0 & 0.0 & 0.0 & 0.0 & 0.0 & \\cdots & 0.0 & 0.0 & 0.0 & 0.0 & 1.0\\\\\\end{array}\\right)\\end{equation*}"
      ],
      "text/plain": [
       "Quantum object: dims = [[2, 2, 2, 2, 2, 2, 2, 2, 2, 2, 2, 2, 2, 2, 2, 2, 2, 2, 2, 2], [2, 2, 2, 2, 2, 2, 2, 2, 2, 2, 2, 2, 2, 2, 2, 2, 2, 2, 2, 2]], shape = (1048576, 1048576), type = oper, isherm = True\n",
       "Qobj data =\n",
       "  (0, 0)\t(1+0j)\n",
       "  (1, 1)\t(1+0j)\n",
       "  (2, 2)\t(1+0j)\n",
       "  (3, 3)\t(1+0j)\n",
       "  (4, 4)\t(1+0j)\n",
       "  (5, 5)\t(1+0j)\n",
       "  (6, 6)\t(1+0j)\n",
       "  (7, 7)\t(1+0j)\n",
       "  (8, 8)\t(1+0j)\n",
       "  (9, 9)\t(1+0j)\n",
       "  (10, 10)\t(1+0j)\n",
       "  (11, 11)\t(1+0j)\n",
       "  (12, 12)\t(1+0j)\n",
       "  (13, 13)\t(1+0j)\n",
       "  (14, 14)\t(1+0j)\n",
       "  (15, 15)\t(1+0j)\n",
       "  (16, 16)\t(1+0j)\n",
       "  (17, 17)\t(1+0j)\n",
       "  (18, 18)\t(1+0j)\n",
       "  (19, 19)\t(1+0j)\n",
       "  (20, 20)\t(1+0j)\n",
       "  (21, 21)\t(1+0j)\n",
       "  (22, 22)\t(1+0j)\n",
       "  (23, 23)\t(1+0j)\n",
       "  (24, 24)\t(1+0j)\n",
       "  :\t:\n",
       "  (1048551, 1048551)\t(1+0j)\n",
       "  (1048552, 1048552)\t(1+0j)\n",
       "  (1048553, 1048553)\t(1+0j)\n",
       "  (1048554, 1048554)\t(1+0j)\n",
       "  (1048555, 1048555)\t(1+0j)\n",
       "  (1048556, 1048556)\t(1+0j)\n",
       "  (1048557, 1048557)\t(1+0j)\n",
       "  (1048558, 1048558)\t(1+0j)\n",
       "  (1048559, 1048559)\t(1+0j)\n",
       "  (1048560, 1048560)\t(1+0j)\n",
       "  (1048561, 1048561)\t(1+0j)\n",
       "  (1048562, 1048562)\t(1+0j)\n",
       "  (1048563, 1048563)\t(1+0j)\n",
       "  (1048564, 1048564)\t(1+0j)\n",
       "  (1048565, 1048565)\t(1+0j)\n",
       "  (1048566, 1048566)\t(1+0j)\n",
       "  (1048567, 1048567)\t(1+0j)\n",
       "  (1048568, 1048568)\t(1+0j)\n",
       "  (1048569, 1048569)\t(1+0j)\n",
       "  (1048570, 1048570)\t(1+0j)\n",
       "  (1048571, 1048571)\t(1+0j)\n",
       "  (1048572, 1048572)\t(1+0j)\n",
       "  (1048573, 1048573)\t(1+0j)\n",
       "  (1048574, 1048574)\t(1+0j)\n",
       "  (1048575, 1048575)\t(1+0j)"
      ]
     },
     "execution_count": 56,
     "metadata": {},
     "output_type": "execute_result"
    }
   ],
   "source": [
    "global_007 = qutip.tensor([qutip.qeye(2) for k in range(20)])\n",
    "global_007"
   ]
  },
  {
   "cell_type": "code",
   "execution_count": null,
   "metadata": {},
   "outputs": [],
   "source": []
  }
 ],
 "metadata": {
  "colab": {
   "include_colab_link": true,
   "name": "Untitled1.ipynb",
   "provenance": []
  },
  "kernelspec": {
   "display_name": "Python 3 (ipykernel)",
   "language": "python",
   "name": "python3"
  },
  "language_info": {
   "codemirror_mode": {
    "name": "ipython",
    "version": 3
   },
   "file_extension": ".py",
   "mimetype": "text/x-python",
   "name": "python",
   "nbconvert_exporter": "python",
   "pygments_lexer": "ipython3",
   "version": "3.10.4"
  }
 },
 "nbformat": 4,
 "nbformat_minor": 1
}
