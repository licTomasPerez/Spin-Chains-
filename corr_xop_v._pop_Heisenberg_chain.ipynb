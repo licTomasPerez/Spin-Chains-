{
  "nbformat": 4,
  "nbformat_minor": 0,
  "metadata": {
    "colab": {
      "name": "average_Heisenberg-chain",
      "provenance": [],
      "include_colab_link": true
    },
    "kernelspec": {
      "name": "python3",
      "display_name": "Python 3"
    },
    "language_info": {
      "name": "python"
    }
  },
  "cells": [
    {
      "cell_type": "markdown",
      "metadata": {
        "id": "view-in-github",
        "colab_type": "text"
      },
      "source": [
        "<a href=\"https://colab.research.google.com/github/mmatera/Spin-Chains-/blob/main/corr_xop_v._pop_Heisenberg_chain.ipynb\" target=\"_parent\"><img src=\"https://colab.research.google.com/assets/colab-badge.svg\" alt=\"Open In Colab\"/></a>"
      ]
    },
    {
      "cell_type": "markdown",
      "source": [
        "# https://qutip.org/docs/latest/guide/dynamics/dynamics-master.html"
      ],
      "metadata": {
        "id": "NtPRYSj4Cj9b"
      }
    },
    {
      "cell_type": "markdown",
      "source": [
        ""
      ],
      "metadata": {
        "id": "g8QS_63_CivJ"
      }
    },
    {
      "cell_type": "code",
      "source": [
        "!pip install matplotlib\n",
        "!pip install qutip\n",
        "!pip install numpy "
      ],
      "metadata": {
        "colab": {
          "base_uri": "https://localhost:8080/"
        },
        "id": "Z_K1CI1wDSu6",
        "outputId": "a7dc7884-c36c-4d49-9093-f94c83c8e6a0"
      },
      "execution_count": 2,
      "outputs": [
        {
          "output_type": "stream",
          "name": "stdout",
          "text": [
            "Requirement already satisfied: matplotlib in /usr/local/lib/python3.7/dist-packages (3.2.2)\n",
            "Requirement already satisfied: python-dateutil>=2.1 in /usr/local/lib/python3.7/dist-packages (from matplotlib) (2.8.2)\n",
            "Requirement already satisfied: pyparsing!=2.0.4,!=2.1.2,!=2.1.6,>=2.0.1 in /usr/local/lib/python3.7/dist-packages (from matplotlib) (3.0.9)\n",
            "Requirement already satisfied: numpy>=1.11 in /usr/local/lib/python3.7/dist-packages (from matplotlib) (1.21.6)\n",
            "Requirement already satisfied: kiwisolver>=1.0.1 in /usr/local/lib/python3.7/dist-packages (from matplotlib) (1.4.2)\n",
            "Requirement already satisfied: cycler>=0.10 in /usr/local/lib/python3.7/dist-packages (from matplotlib) (0.11.0)\n",
            "Requirement already satisfied: typing-extensions in /usr/local/lib/python3.7/dist-packages (from kiwisolver>=1.0.1->matplotlib) (4.2.0)\n",
            "Requirement already satisfied: six>=1.5 in /usr/local/lib/python3.7/dist-packages (from python-dateutil>=2.1->matplotlib) (1.15.0)\n",
            "Collecting qutip\n",
            "  Downloading qutip-4.7.0-cp37-cp37m-manylinux_2_5_x86_64.manylinux1_x86_64.manylinux_2_12_x86_64.manylinux2010_x86_64.whl (14.7 MB)\n",
            "\u001b[K     |████████████████████████████████| 14.7 MB 4.7 MB/s \n",
            "\u001b[?25hRequirement already satisfied: scipy>=1.0 in /usr/local/lib/python3.7/dist-packages (from qutip) (1.4.1)\n",
            "Requirement already satisfied: numpy>=1.16.6 in /usr/local/lib/python3.7/dist-packages (from qutip) (1.21.6)\n",
            "Requirement already satisfied: packaging in /usr/local/lib/python3.7/dist-packages (from qutip) (21.3)\n",
            "Requirement already satisfied: pyparsing!=3.0.5,>=2.0.2 in /usr/local/lib/python3.7/dist-packages (from packaging->qutip) (3.0.9)\n",
            "Installing collected packages: qutip\n",
            "Successfully installed qutip-4.7.0\n",
            "Requirement already satisfied: numpy in /usr/local/lib/python3.7/dist-packages (1.21.6)\n"
          ]
        }
      ]
    },
    {
      "cell_type": "code",
      "execution_count": 3,
      "metadata": {
        "id": "q2kkbGw4gyAq"
      },
      "outputs": [],
      "source": [
        "%matplotlib inline\n",
        "import matplotlib.pyplot as plt\n",
        "import numpy as np\n",
        "import math\n",
        "import cmath \n",
        "from qutip import *"
      ]
    },
    {
      "cell_type": "code",
      "execution_count": 4,
      "metadata": {
        "id": "0rI-UrokgyAs"
      },
      "outputs": [],
      "source": [
        "### XYZ Heisenberg model\n",
        "\n",
        "solver = \"me\"   \n",
        "N = 5            # número de spines\n",
        "\n",
        "h  = 1.0 * 2 * np.pi * np.ones(N) \n",
        "Jz = 0.1 * 2 * np.pi * np.ones(N)\n",
        "Jx = 0.15 * 2 * np.pi * np.ones(N)\n",
        "Jy = 0.25 * 2 * np.pi * np.ones(N)"
      ]
    },
    {
      "cell_type": "code",
      "source": [
        "def hamiltonian(N, Jx, Jy, Jz, h, psi0, tlist, gamma, solver):\n",
        "    \n",
        "    id2 = qeye(2)\n",
        "    sx = sigmax()\n",
        "    sy = sigmay()\n",
        "    sz = sigmaz()\n",
        "\n",
        "    sx_list = []\n",
        "    sy_list = []\n",
        "    sz_list = []\n",
        "\n",
        "    for n in range(N):\n",
        "        operator_list = []\n",
        "        for m in range(N):\n",
        "            operator_list.append(id2)\n",
        "        operator_list[n] = sx\n",
        "        sx_list.append(tensor(operator_list))\n",
        "        \n",
        "        operator_list[n] = sy\n",
        "        sy_list.append(tensor(operator_list))\n",
        "        \n",
        "        operator_list[n] = sz\n",
        "        sz_list.append(tensor(operator_list))\n",
        "\n",
        "    sxsx_list = [sx_list[n]*sx_list[m] for n in range(N) for m in range(N)]\n",
        "    sysy_list = [sy_list[n]*sy_list[m] for n in range(N) for m in range(N)]\n",
        "        \n",
        "    # no es terriblemente eficiente pero funca al menos\n",
        "    # for n in range(N):\n",
        "    #  for m in range(N):\n",
        "    #    sxsx_list.append(sx_list[n]*sx_list[m])\n",
        "    #    sysy_list.append(sy_list[n]*sy_list[m])\n",
        "\n",
        "    # Constructing the Hamiltonian\n",
        "    \n",
        "    H = 0\n",
        "    \n",
        "    for n in range(N):\n",
        "        H += -0.5*h[n]*sz_list[n]\n",
        "        \n",
        "    for n in range(N-1):\n",
        "        H += -0.5 * Jx[n] * sx_list[n] * sx_list[n+1]\n",
        "        H += -0.5 * Jy[n] * sy_list[n] * sy_list[n+1]\n",
        "        H += -0.5 * Jz[n] * sz_list[n] * sz_list[n+1]\n",
        "    \n",
        "    # collapse operators\n",
        "    c_op_list = []\n",
        "\n",
        "    # spin dephasing\n",
        "    for n in range(N):\n",
        "        if gamma[n] > 0.0:\n",
        "            c_op_list.append(np.sqrt(gamma[n]) * sz_list[n])\n",
        "    \n",
        "    if solver == \"me\":\n",
        "        result_spin_ops = mesolve(H, psi0, tlist, c_op_list, sysy_list)\n",
        "    elif solver == \"mc\":\n",
        "        ntraj = 200 \n",
        "        result_spin_ops = mcsolve(H, psi0, tlist, c_op_list, sz_list)\n",
        "\n",
        "# sxsx_list + sysy_list+  sz_list \n",
        "\n",
        "    return result_spin_ops.expect\n"
      ],
      "metadata": {
        "id": "BMp1F-nA0rQt"
      },
      "execution_count": 5,
      "outputs": []
    },
    {
      "cell_type": "code",
      "source": [
        "# dephasing rate\n",
        "gamma = 5 * 10**-10* np.ones(N)\n",
        "\n",
        "# intial state, first spin in state |1>, the rest in state |0>\n",
        "psi_list = []\n",
        "for n in range(2):\n",
        "    psi_list.append(basis(2,0))\n",
        "psi_list.append(basis(2,1))\n",
        "for n in range(2):\n",
        "    psi_list.append(basis(2,0))\n",
        "psi0 = tensor(psi_list)\n",
        "\n",
        "tlist = np.linspace(0, 10, 100)\n",
        "\n",
        "results = hamiltonian(N, Jx, Jy, Jz, h, psi0, tlist, gamma, solver)\n",
        "\n",
        "sxsx_results = results\n",
        "#sysy_results = results.expect[1]\n",
        "#sz_results = results"
      ],
      "metadata": {
        "id": "fB1mD6BoPZ5Q"
      },
      "execution_count": 6,
      "outputs": []
    },
    {
      "cell_type": "code",
      "source": [
        "#sigma_x sigmax evolucionado \n",
        "fig, ax = plt.subplots()\n",
        "\n",
        "for n in range(N):\n",
        "    ax.plot(tlist, np.real(sxsx_results[n]))\n",
        "\n",
        "plt.show()\n"
      ],
      "metadata": {
        "colab": {
          "base_uri": "https://localhost:8080/",
          "height": 265
        },
        "id": "mEedOXVtPlp9",
        "outputId": "9b93dea2-6e69-4ee0-ea09-25d86833bbe5"
      },
      "execution_count": 7,
      "outputs": [
        {
          "output_type": "display_data",
          "data": {
            "text/plain": [
              "<Figure size 432x288 with 1 Axes>"
            ],
            "image/png": "[encoded data removed]"
          },
          "metadata": {
            "needs_background": "light"
          }
        }
      ]
    },
    {
      "cell_type": "code",
      "source": [
        "# dephasing rate\n",
        "gamma = 5 * 10**-10* np.ones(N)\n",
        "\n",
        "# intial state, first spin in state |1>, the rest in state |0>\n",
        "psi_list = []\n",
        "for n in range(2):\n",
        "    psi_list.append(basis(2,0))\n",
        "psi_list.append(basis(2,1))\n",
        "for n in range(2):\n",
        "    psi_list.append(basis(2,0))\n",
        "psi0 = tensor(psi_list)\n",
        "\n",
        "tlist = np.linspace(0, 10, 100)\n",
        "\n",
        "results = hamiltonian(N, Jx, Jy, Jz, h, psi0, tlist, gamma, solver)\n",
        "\n",
        "#sxsx_results = results.expect[0]\n",
        "sysy_results = results\n",
        "#sz_results = results"
      ],
      "metadata": {
        "id": "eVpazFqlPxfz"
      },
      "execution_count": 8,
      "outputs": []
    },
    {
      "cell_type": "code",
      "source": [
        "# sigma_y sigma_y evolucionado\n",
        "fig, ax = plt.subplots()\n",
        "\n",
        "for n in range(N):\n",
        "    ax.plot(tlist, np.real(sysy_results[n]))\n",
        "\n",
        "plt.show()\n"
      ],
      "metadata": {
        "colab": {
          "base_uri": "https://localhost:8080/",
          "height": 265
        },
        "id": "WXArFtnTP-pp",
        "outputId": "5430c747-788f-4d5e-e2ba-b9600d2bb90c"
      },
      "execution_count": 10,
      "outputs": [
        {
          "output_type": "display_data",
          "data": {
            "text/plain": [
              "<Figure size 432x288 with 1 Axes>"
            ],
            "image/png": "[encoded data removed]"
          },
          "metadata": {
            "needs_background": "light"
          }
        }
      ]
    },
    {
      "cell_type": "code",
      "source": [
        "# dephasing rate\n",
        "gamma = 5 * 10**-10* np.ones(N)\n",
        "\n",
        "# intial state, first spin in state |1>, the rest in state |0>\n",
        "psi_list = []\n",
        "for n in range(2):\n",
        "    psi_list.append(basis(2,0))\n",
        "psi_list.append(basis(2,1))\n",
        "for n in range(2):\n",
        "    psi_list.append(basis(2,0))\n",
        "psi0 = tensor(psi_list)\n",
        "\n",
        "tlist = np.linspace(0, 10, 100)\n",
        "\n",
        "results = hamiltonian(N, Jx, Jy, Jz, h, psi0, tlist, gamma, solver)\n",
        "\n",
        "#sxsx_results = results.expect[0]\n",
        "#sysy_results = results.expect[1]\n",
        "sz_results = results"
      ],
      "metadata": {
        "id": "Ysuy9RgN0raE",
        "outputId": "7c6c24f6-b476-4e13-82ae-34d1ec2452be",
        "colab": {
          "base_uri": "https://localhost:8080/",
          "height": 383
        }
      },
      "execution_count": 18,
      "outputs": [
        {
          "output_type": "error",
          "ename": "NameError",
          "evalue": "ignored",
          "traceback": [
            "\u001b[0;31m---------------------------------------------------------------------------\u001b[0m",
            "\u001b[0;31mNameError\u001b[0m                                 Traceback (most recent call last)",
            "\u001b[0;32m<ipython-input-18-b8685f36439c>\u001b[0m in \u001b[0;36m<module>\u001b[0;34m()\u001b[0m\n\u001b[1;32m     13\u001b[0m \u001b[0mtlist\u001b[0m \u001b[0;34m=\u001b[0m \u001b[0mnp\u001b[0m\u001b[0;34m.\u001b[0m\u001b[0mlinspace\u001b[0m\u001b[0;34m(\u001b[0m\u001b[0;36m0\u001b[0m\u001b[0;34m,\u001b[0m \u001b[0;36m10\u001b[0m\u001b[0;34m,\u001b[0m \u001b[0;36m100\u001b[0m\u001b[0;34m)\u001b[0m\u001b[0;34m\u001b[0m\u001b[0;34m\u001b[0m\u001b[0m\n\u001b[1;32m     14\u001b[0m \u001b[0;34m\u001b[0m\u001b[0m\n\u001b[0;32m---> 15\u001b[0;31m \u001b[0mresults\u001b[0m \u001b[0;34m=\u001b[0m \u001b[0mhamiltonian\u001b[0m\u001b[0;34m(\u001b[0m\u001b[0mN\u001b[0m\u001b[0;34m,\u001b[0m \u001b[0mJx\u001b[0m\u001b[0;34m,\u001b[0m \u001b[0mJy\u001b[0m\u001b[0;34m,\u001b[0m \u001b[0mJz\u001b[0m\u001b[0;34m,\u001b[0m \u001b[0mh\u001b[0m\u001b[0;34m,\u001b[0m \u001b[0mpsi0\u001b[0m\u001b[0;34m,\u001b[0m \u001b[0mtlist\u001b[0m\u001b[0;34m,\u001b[0m \u001b[0mgamma\u001b[0m\u001b[0;34m,\u001b[0m \u001b[0msolver\u001b[0m\u001b[0;34m)\u001b[0m\u001b[0;34m\u001b[0m\u001b[0;34m\u001b[0m\u001b[0m\n\u001b[0m\u001b[1;32m     16\u001b[0m \u001b[0;34m\u001b[0m\u001b[0m\n\u001b[1;32m     17\u001b[0m \u001b[0;31m#sxsx_results = results.expect[0]\u001b[0m\u001b[0;34m\u001b[0m\u001b[0;34m\u001b[0m\u001b[0;34m\u001b[0m\u001b[0m\n",
            "\u001b[0;32m<ipython-input-17-3992901e5fc9>\u001b[0m in \u001b[0;36mhamiltonian\u001b[0;34m(N, Jx, Jy, Jz, h, psi0, tlist, gamma, solver)\u001b[0m\n\u001b[1;32m     28\u001b[0m \u001b[0;34m\u001b[0m\u001b[0m\n\u001b[1;32m     29\u001b[0m     \u001b[0mx_op\u001b[0m \u001b[0;34m=\u001b[0m \u001b[0msum\u001b[0m\u001b[0;34m(\u001b[0m\u001b[0;34m(\u001b[0m\u001b[0;36m.5\u001b[0m \u001b[0;34m+\u001b[0m \u001b[0msz_list\u001b[0m\u001b[0;34m[\u001b[0m\u001b[0mi\u001b[0m\u001b[0;34m]\u001b[0m\u001b[0;34m)\u001b[0m\u001b[0;34m*\u001b[0m\u001b[0mi\u001b[0m \u001b[0;32mfor\u001b[0m \u001b[0mi\u001b[0m \u001b[0;32min\u001b[0m \u001b[0mrange\u001b[0m\u001b[0;34m(\u001b[0m\u001b[0mN\u001b[0m\u001b[0;34m)\u001b[0m\u001b[0;34m)\u001b[0m\u001b[0;34m\u001b[0m\u001b[0;34m\u001b[0m\u001b[0m\n\u001b[0;32m---> 30\u001b[0;31m     \u001b[0mp_op\u001b[0m \u001b[0;34m=\u001b[0m \u001b[0msum\u001b[0m\u001b[0;34m(\u001b[0m\u001b[0mW\u001b[0m\u001b[0;34m(\u001b[0m\u001b[0mi\u001b[0m\u001b[0;34m,\u001b[0m\u001b[0mj\u001b[0m\u001b[0;34m,\u001b[0m\u001b[0;36m10\u001b[0m\u001b[0;34m)\u001b[0m\u001b[0;34m*\u001b[0m\u001b[0;34m(\u001b[0m\u001b[0msx_list\u001b[0m\u001b[0;34m[\u001b[0m\u001b[0mi\u001b[0m\u001b[0;34m]\u001b[0m\u001b[0;34m*\u001b[0m\u001b[0msx_list\u001b[0m\u001b[0;34m[\u001b[0m\u001b[0mj\u001b[0m\u001b[0;34m]\u001b[0m\u001b[0;34m+\u001b[0m\u001b[0msy_list\u001b[0m\u001b[0;34m[\u001b[0m\u001b[0mi\u001b[0m\u001b[0;34m]\u001b[0m\u001b[0;34m*\u001b[0m\u001b[0msy_list\u001b[0m\u001b[0;34m[\u001b[0m\u001b[0mj\u001b[0m\u001b[0;34m]\u001b[0m\u001b[0;34m)\u001b[0m \u001b[0;32mfor\u001b[0m \u001b[0mi\u001b[0m \u001b[0;32min\u001b[0m \u001b[0mrange\u001b[0m\u001b[0;34m(\u001b[0m\u001b[0mN\u001b[0m\u001b[0;34m)\u001b[0m \u001b[0;32mfor\u001b[0m \u001b[0mj\u001b[0m \u001b[0;32min\u001b[0m \u001b[0mrange\u001b[0m\u001b[0;34m(\u001b[0m\u001b[0mN\u001b[0m\u001b[0;34m)\u001b[0m\u001b[0;34m)\u001b[0m\u001b[0;34m\u001b[0m\u001b[0;34m\u001b[0m\u001b[0m\n\u001b[0m\u001b[1;32m     31\u001b[0m     \u001b[0mcorr_op\u001b[0m \u001b[0;34m=\u001b[0m \u001b[0;36m.5\u001b[0m\u001b[0;34m*\u001b[0m\u001b[0;34m(\u001b[0m\u001b[0mx_op\u001b[0m\u001b[0;34m*\u001b[0m\u001b[0mp_op\u001b[0m\u001b[0;34m+\u001b[0m\u001b[0mp_op\u001b[0m\u001b[0;34m*\u001b[0m\u001b[0mx_op\u001b[0m\u001b[0;34m)\u001b[0m\u001b[0;34m\u001b[0m\u001b[0;34m\u001b[0m\u001b[0m\n\u001b[1;32m     32\u001b[0m     \u001b[0mcomm_op\u001b[0m \u001b[0;34m=\u001b[0m \u001b[0;34m-\u001b[0m\u001b[0;36m1j\u001b[0m\u001b[0;34m*\u001b[0m\u001b[0;34m(\u001b[0m\u001b[0mx_op\u001b[0m\u001b[0;34m*\u001b[0m\u001b[0mp_op\u001b[0m\u001b[0;34m-\u001b[0m\u001b[0mp_op\u001b[0m\u001b[0;34m*\u001b[0m\u001b[0mx_op\u001b[0m\u001b[0;34m)\u001b[0m\u001b[0;34m\u001b[0m\u001b[0;34m\u001b[0m\u001b[0m\n",
            "\u001b[0;32m<ipython-input-17-3992901e5fc9>\u001b[0m in \u001b[0;36m<genexpr>\u001b[0;34m(.0)\u001b[0m\n\u001b[1;32m     28\u001b[0m \u001b[0;34m\u001b[0m\u001b[0m\n\u001b[1;32m     29\u001b[0m     \u001b[0mx_op\u001b[0m \u001b[0;34m=\u001b[0m \u001b[0msum\u001b[0m\u001b[0;34m(\u001b[0m\u001b[0;34m(\u001b[0m\u001b[0;36m.5\u001b[0m \u001b[0;34m+\u001b[0m \u001b[0msz_list\u001b[0m\u001b[0;34m[\u001b[0m\u001b[0mi\u001b[0m\u001b[0;34m]\u001b[0m\u001b[0;34m)\u001b[0m\u001b[0;34m*\u001b[0m\u001b[0mi\u001b[0m \u001b[0;32mfor\u001b[0m \u001b[0mi\u001b[0m \u001b[0;32min\u001b[0m \u001b[0mrange\u001b[0m\u001b[0;34m(\u001b[0m\u001b[0mN\u001b[0m\u001b[0;34m)\u001b[0m\u001b[0;34m)\u001b[0m\u001b[0;34m\u001b[0m\u001b[0;34m\u001b[0m\u001b[0m\n\u001b[0;32m---> 30\u001b[0;31m     \u001b[0mp_op\u001b[0m \u001b[0;34m=\u001b[0m \u001b[0msum\u001b[0m\u001b[0;34m(\u001b[0m\u001b[0mW\u001b[0m\u001b[0;34m(\u001b[0m\u001b[0mi\u001b[0m\u001b[0;34m,\u001b[0m\u001b[0mj\u001b[0m\u001b[0;34m,\u001b[0m\u001b[0;36m10\u001b[0m\u001b[0;34m)\u001b[0m\u001b[0;34m*\u001b[0m\u001b[0;34m(\u001b[0m\u001b[0msx_list\u001b[0m\u001b[0;34m[\u001b[0m\u001b[0mi\u001b[0m\u001b[0;34m]\u001b[0m\u001b[0;34m*\u001b[0m\u001b[0msx_list\u001b[0m\u001b[0;34m[\u001b[0m\u001b[0mj\u001b[0m\u001b[0;34m]\u001b[0m\u001b[0;34m+\u001b[0m\u001b[0msy_list\u001b[0m\u001b[0;34m[\u001b[0m\u001b[0mi\u001b[0m\u001b[0;34m]\u001b[0m\u001b[0;34m*\u001b[0m\u001b[0msy_list\u001b[0m\u001b[0;34m[\u001b[0m\u001b[0mj\u001b[0m\u001b[0;34m]\u001b[0m\u001b[0;34m)\u001b[0m \u001b[0;32mfor\u001b[0m \u001b[0mi\u001b[0m \u001b[0;32min\u001b[0m \u001b[0mrange\u001b[0m\u001b[0;34m(\u001b[0m\u001b[0mN\u001b[0m\u001b[0;34m)\u001b[0m \u001b[0;32mfor\u001b[0m \u001b[0mj\u001b[0m \u001b[0;32min\u001b[0m \u001b[0mrange\u001b[0m\u001b[0;34m(\u001b[0m\u001b[0mN\u001b[0m\u001b[0;34m)\u001b[0m\u001b[0;34m)\u001b[0m\u001b[0;34m\u001b[0m\u001b[0;34m\u001b[0m\u001b[0m\n\u001b[0m\u001b[1;32m     31\u001b[0m     \u001b[0mcorr_op\u001b[0m \u001b[0;34m=\u001b[0m \u001b[0;36m.5\u001b[0m\u001b[0;34m*\u001b[0m\u001b[0;34m(\u001b[0m\u001b[0mx_op\u001b[0m\u001b[0;34m*\u001b[0m\u001b[0mp_op\u001b[0m\u001b[0;34m+\u001b[0m\u001b[0mp_op\u001b[0m\u001b[0;34m*\u001b[0m\u001b[0mx_op\u001b[0m\u001b[0;34m)\u001b[0m\u001b[0;34m\u001b[0m\u001b[0;34m\u001b[0m\u001b[0m\n\u001b[1;32m     32\u001b[0m     \u001b[0mcomm_op\u001b[0m \u001b[0;34m=\u001b[0m \u001b[0;34m-\u001b[0m\u001b[0;36m1j\u001b[0m\u001b[0;34m*\u001b[0m\u001b[0;34m(\u001b[0m\u001b[0mx_op\u001b[0m\u001b[0;34m*\u001b[0m\u001b[0mp_op\u001b[0m\u001b[0;34m-\u001b[0m\u001b[0mp_op\u001b[0m\u001b[0;34m*\u001b[0m\u001b[0mx_op\u001b[0m\u001b[0;34m)\u001b[0m\u001b[0;34m\u001b[0m\u001b[0;34m\u001b[0m\u001b[0m\n",
            "\u001b[0;32m<ipython-input-17-3992901e5fc9>\u001b[0m in \u001b[0;36mW\u001b[0;34m(a, b, k_max)\u001b[0m\n\u001b[1;32m     25\u001b[0m \u001b[0;34m\u001b[0m\u001b[0m\n\u001b[1;32m     26\u001b[0m     \u001b[0;32mdef\u001b[0m \u001b[0mW\u001b[0m\u001b[0;34m(\u001b[0m\u001b[0ma\u001b[0m\u001b[0;34m,\u001b[0m\u001b[0mb\u001b[0m\u001b[0;34m,\u001b[0m \u001b[0mk_max\u001b[0m\u001b[0;34m)\u001b[0m\u001b[0;34m:\u001b[0m\u001b[0;34m\u001b[0m\u001b[0;34m\u001b[0m\u001b[0m\n\u001b[0;32m---> 27\u001b[0;31m         \u001b[0;32mreturn\u001b[0m \u001b[0msum\u001b[0m\u001b[0;34m(\u001b[0m\u001b[0me\u001b[0m\u001b[0;34m**\u001b[0m\u001b[0;34m(\u001b[0m\u001b[0;36m1j\u001b[0m \u001b[0;34m*\u001b[0m \u001b[0mk\u001b[0m \u001b[0;34m*\u001b[0m \u001b[0;36m2\u001b[0m \u001b[0;34m*\u001b[0m \u001b[0mpi\u001b[0m \u001b[0;34m*\u001b[0m \u001b[0;34m(\u001b[0m\u001b[0ma\u001b[0m\u001b[0;34m-\u001b[0m\u001b[0mb\u001b[0m\u001b[0;34m)\u001b[0m \u001b[0;34m*\u001b[0m \u001b[0mN\u001b[0m\u001b[0;34m**\u001b[0m\u001b[0;34m-\u001b[0m\u001b[0;36m1\u001b[0m\u001b[0;34m)\u001b[0m\u001b[0;34m*\u001b[0m\u001b[0;34m(\u001b[0m\u001b[0mk\u001b[0m\u001b[0;34m*\u001b[0m\u001b[0;36m2\u001b[0m\u001b[0;34m*\u001b[0m\u001b[0mpi\u001b[0m\u001b[0;34m*\u001b[0m\u001b[0mN\u001b[0m\u001b[0;34m**\u001b[0m\u001b[0;34m-\u001b[0m\u001b[0;36m1\u001b[0m\u001b[0;34m)\u001b[0m \u001b[0;32mfor\u001b[0m \u001b[0mk\u001b[0m \u001b[0;32min\u001b[0m \u001b[0mrange\u001b[0m\u001b[0;34m(\u001b[0m\u001b[0mk_max\u001b[0m\u001b[0;34m)\u001b[0m\u001b[0;34m)\u001b[0m\u001b[0;34m\u001b[0m\u001b[0;34m\u001b[0m\u001b[0m\n\u001b[0m\u001b[1;32m     28\u001b[0m \u001b[0;34m\u001b[0m\u001b[0m\n\u001b[1;32m     29\u001b[0m     \u001b[0mx_op\u001b[0m \u001b[0;34m=\u001b[0m \u001b[0msum\u001b[0m\u001b[0;34m(\u001b[0m\u001b[0;34m(\u001b[0m\u001b[0;36m.5\u001b[0m \u001b[0;34m+\u001b[0m \u001b[0msz_list\u001b[0m\u001b[0;34m[\u001b[0m\u001b[0mi\u001b[0m\u001b[0;34m]\u001b[0m\u001b[0;34m)\u001b[0m\u001b[0;34m*\u001b[0m\u001b[0mi\u001b[0m \u001b[0;32mfor\u001b[0m \u001b[0mi\u001b[0m \u001b[0;32min\u001b[0m \u001b[0mrange\u001b[0m\u001b[0;34m(\u001b[0m\u001b[0mN\u001b[0m\u001b[0;34m)\u001b[0m\u001b[0;34m)\u001b[0m\u001b[0;34m\u001b[0m\u001b[0;34m\u001b[0m\u001b[0m\n",
            "\u001b[0;32m<ipython-input-17-3992901e5fc9>\u001b[0m in \u001b[0;36m<genexpr>\u001b[0;34m(.0)\u001b[0m\n\u001b[1;32m     25\u001b[0m \u001b[0;34m\u001b[0m\u001b[0m\n\u001b[1;32m     26\u001b[0m     \u001b[0;32mdef\u001b[0m \u001b[0mW\u001b[0m\u001b[0;34m(\u001b[0m\u001b[0ma\u001b[0m\u001b[0;34m,\u001b[0m\u001b[0mb\u001b[0m\u001b[0;34m,\u001b[0m \u001b[0mk_max\u001b[0m\u001b[0;34m)\u001b[0m\u001b[0;34m:\u001b[0m\u001b[0;34m\u001b[0m\u001b[0;34m\u001b[0m\u001b[0m\n\u001b[0;32m---> 27\u001b[0;31m         \u001b[0;32mreturn\u001b[0m \u001b[0msum\u001b[0m\u001b[0;34m(\u001b[0m\u001b[0me\u001b[0m\u001b[0;34m**\u001b[0m\u001b[0;34m(\u001b[0m\u001b[0;36m1j\u001b[0m \u001b[0;34m*\u001b[0m \u001b[0mk\u001b[0m \u001b[0;34m*\u001b[0m \u001b[0;36m2\u001b[0m \u001b[0;34m*\u001b[0m \u001b[0mpi\u001b[0m \u001b[0;34m*\u001b[0m \u001b[0;34m(\u001b[0m\u001b[0ma\u001b[0m\u001b[0;34m-\u001b[0m\u001b[0mb\u001b[0m\u001b[0;34m)\u001b[0m \u001b[0;34m*\u001b[0m \u001b[0mN\u001b[0m\u001b[0;34m**\u001b[0m\u001b[0;34m-\u001b[0m\u001b[0;36m1\u001b[0m\u001b[0;34m)\u001b[0m\u001b[0;34m*\u001b[0m\u001b[0;34m(\u001b[0m\u001b[0mk\u001b[0m\u001b[0;34m*\u001b[0m\u001b[0;36m2\u001b[0m\u001b[0;34m*\u001b[0m\u001b[0mpi\u001b[0m\u001b[0;34m*\u001b[0m\u001b[0mN\u001b[0m\u001b[0;34m**\u001b[0m\u001b[0;34m-\u001b[0m\u001b[0;36m1\u001b[0m\u001b[0;34m)\u001b[0m \u001b[0;32mfor\u001b[0m \u001b[0mk\u001b[0m \u001b[0;32min\u001b[0m \u001b[0mrange\u001b[0m\u001b[0;34m(\u001b[0m\u001b[0mk_max\u001b[0m\u001b[0;34m)\u001b[0m\u001b[0;34m)\u001b[0m\u001b[0;34m\u001b[0m\u001b[0;34m\u001b[0m\u001b[0m\n\u001b[0m\u001b[1;32m     28\u001b[0m \u001b[0;34m\u001b[0m\u001b[0m\n\u001b[1;32m     29\u001b[0m     \u001b[0mx_op\u001b[0m \u001b[0;34m=\u001b[0m \u001b[0msum\u001b[0m\u001b[0;34m(\u001b[0m\u001b[0;34m(\u001b[0m\u001b[0;36m.5\u001b[0m \u001b[0;34m+\u001b[0m \u001b[0msz_list\u001b[0m\u001b[0;34m[\u001b[0m\u001b[0mi\u001b[0m\u001b[0;34m]\u001b[0m\u001b[0;34m)\u001b[0m\u001b[0;34m*\u001b[0m\u001b[0mi\u001b[0m \u001b[0;32mfor\u001b[0m \u001b[0mi\u001b[0m \u001b[0;32min\u001b[0m \u001b[0mrange\u001b[0m\u001b[0;34m(\u001b[0m\u001b[0mN\u001b[0m\u001b[0;34m)\u001b[0m\u001b[0;34m)\u001b[0m\u001b[0;34m\u001b[0m\u001b[0;34m\u001b[0m\u001b[0m\n",
            "\u001b[0;31mNameError\u001b[0m: name 'e' is not defined"
          ]
        }
      ]
    },
    {
      "cell_type": "code",
      "source": [
        "#sigma_z evolucionado \n",
        "fig, ax = plt.subplots()\n",
        "\n",
        "for n in range(N):\n",
        "    ax.plot(tlist, np.real(sz_results[n]))\n",
        "\n",
        "plt.show()\n"
      ],
      "metadata": {
        "colab": {
          "base_uri": "https://localhost:8080/",
          "height": 265
        },
        "id": "YZyts4z8G2r0",
        "outputId": "9c1f8527-bb5a-4fa5-c0a6-3add8e9ec4e6"
      },
      "execution_count": 12,
      "outputs": [
        {
          "output_type": "display_data",
          "data": {
            "text/plain": [
              "<Figure size 432x288 with 1 Axes>"
            ],
            "image/png": "[encoded data removed]"
          },
          "metadata": {
            "needs_background": "light"
          }
        }
      ]
    },
    {
      "cell_type": "code",
      "source": [
        "#x_op = sum((.5 + sz_results[i])*i for i in range(N))\n",
        "\n",
        "x_op_expt = sum((.5 + sz_results[i]) * i for i in range(N))\n",
        "\n",
        "\n",
        "fig,ax = plt.subplots()\n",
        "ax.plot(tlist, x_op_expt, label=r'$\\hat{x}$')\n",
        "\n",
        "ax.legend(loc=0)\n",
        "ax.set_xlabel(r'Time [s]')\n",
        "ax.set_ylabel(r'$\\hat{x}$')\n",
        "plt.show()"
      ],
      "metadata": {
        "colab": {
          "base_uri": "https://localhost:8080/",
          "height": 279
        },
        "id": "yJ6k3uVCIdrw",
        "outputId": "56e2315d-b1cb-492a-9e4f-d93b80dd1d6b"
      },
      "execution_count": 13,
      "outputs": [
        {
          "output_type": "display_data",
          "data": {
            "text/plain": [
              "<Figure size 432x288 with 1 Axes>"
            ],
            "image/png": "[encoded data removed]"
          },
          "metadata": {
            "needs_background": "light"
          }
        }
      ]
    },
    {
      "cell_type": "code",
      "source": [
        "sxsx_list[1]"
      ],
      "metadata": {
        "id": "I0SQn0PyC5Pl",
        "outputId": "22c854f6-76f9-4c18-9032-7f4e4ba02585",
        "colab": {
          "base_uri": "https://localhost:8080/",
          "height": 168
        }
      },
      "execution_count": 15,
      "outputs": [
        {
          "output_type": "error",
          "ename": "NameError",
          "evalue": "ignored",
          "traceback": [
            "\u001b[0;31m---------------------------------------------------------------------------\u001b[0m",
            "\u001b[0;31mNameError\u001b[0m                                 Traceback (most recent call last)",
            "\u001b[0;32m<ipython-input-15-5bcbb0abb9f3>\u001b[0m in \u001b[0;36m<module>\u001b[0;34m()\u001b[0m\n\u001b[0;32m----> 1\u001b[0;31m \u001b[0msxsx_list\u001b[0m\u001b[0;34m[\u001b[0m\u001b[0;36m1\u001b[0m\u001b[0;34m]\u001b[0m\u001b[0;34m\u001b[0m\u001b[0;34m\u001b[0m\u001b[0m\n\u001b[0m",
            "\u001b[0;31mNameError\u001b[0m: name 'sxsx_list' is not defined"
          ]
        }
      ]
    },
    {
      "cell_type": "code",
      "source": [
        "def hamiltonian(N, Jx, Jy, Jz, h, psi0, tlist, gamma=1e-10, solver=\"me\"):\n",
        "    \n",
        "    id2 = qeye(2)\n",
        "    sx = .5*sigmax()\n",
        "    sy = .5*sigmay()\n",
        "    sz = .5*sigmaz()\n",
        "\n",
        "    sx_list = []\n",
        "    sy_list = []\n",
        "    sz_list = []\n",
        "\n",
        "    for n in range(N):\n",
        "        operator_list = []\n",
        "        for m in range(N):\n",
        "            operator_list.append(id2)\n",
        "        operator_list[n] = sx\n",
        "        sx_list.append(tensor(operator_list))\n",
        "        \n",
        "        operator_list[n] = sy\n",
        "        sy_list.append(tensor(operator_list))\n",
        "        \n",
        "        operator_list[n] = sz\n",
        "        sz_list.append(tensor(operator_list))\n",
        "\n",
        "        \n",
        "    def W(a,b): \n",
        "        return sum(np.exp(1j * k * 2 * np.pi * (a-b) * N**-1)*(k*2*np.pi*(N**-1) -2.4) for k in range(N))/N\n",
        "\n",
        "\n",
        "    # no es terriblemente eficiente pero funca al menos\n",
        "    # for n in range(N):\n",
        "    #  for m in range(N):\n",
        "    #    sxsx_list.append(sx_list[n]*sx_list[m])\n",
        "    #    sysy_list.append(sy_list[n]*sy_list[m])\n",
        "\n",
        "    # Constructing the Hamiltonian\n",
        "    \n",
        "    H = 0\n",
        "    \n",
        "    for n in range(N):\n",
        "        H += -0.5*h[n]*sz_list[n]\n",
        "        \n",
        "    for n in range(N-1):\n",
        "        H += -0.5 * Jx[n] * sx_list[n] * sx_list[n+1]\n",
        "        H += -0.5 * Jy[n] * sy_list[n] * sy_list[n+1]\n",
        "        H += -0.5 * Jz[n] * sz_list[n] * sz_list[n+1]\n",
        "\n",
        "    x_op = sum((.5 - sz_list[i])*i for i in range(N))\n",
        "    p_op = 1j*(x_op*H-H*x_op)\n",
        "    # p_op = sum(W(i,j)*(sx_list[i]*sx_list[j]+sy_list[i]*sy_list[j]) for i in range(N) for j in range(N))\n",
        "    corr_op = .5*(x_op*p_op+p_op*x_op)\n",
        "    comm_op = -1j*(x_op*p_op-p_op*x_op)\n",
        "\n",
        "    # collapse operators\n",
        "    c_op_list = []\n",
        "\n",
        "    # spin dephasing\n",
        "    for n in range(N):\n",
        "        if gamma[n] > 0.0:\n",
        "            c_op_list.append(np.sqrt(gamma[n]) * sz_list[n])\n",
        "    obs = [x_op, p_op, x_op**2,p_op**2, corr_op, comm_op]\n",
        "    if solver == \"me\":\n",
        "        result_spin_ops = mesolve(H, psi0, tlist, c_op_list, obs)\n",
        "    elif solver == \"mc\":\n",
        "        ntraj = 200 \n",
        "        result_spin_ops = mcsolve(H, psi0, tlist, c_op_list, sz_list)\n",
        "\n",
        "# sxsx_list + sysy_list+  sz_list \n",
        "\n",
        "    return result_spin_ops.expect\n",
        "\n",
        "\n",
        "\n",
        "# dephasing rate\n",
        "gamma = 5 * 10**-10* np.ones(N)\n",
        "\n",
        "# intial state, first spin in state |1>, the rest in state |0>\n",
        "psi_list = []\n",
        "for n in range(2):\n",
        "    psi_list.append(basis(2,0))\n",
        "psi_list.append(basis(2,1))\n",
        "for n in range(2):\n",
        "    psi_list.append(basis(2,0))\n",
        "psi0 = tensor(psi_list)\n",
        "\n",
        "tlist = np.linspace(0, 10, 1000)\n",
        "\n",
        "results = hamiltonian(N, Jx, Jy, Jz, h, psi0, tlist, gamma, solver)\n",
        "\n",
        "#sxsx_results = results.expect[0]\n",
        "#sysy_results = results.expect[1]\n",
        "sz_results = results\n",
        "\n"
      ],
      "metadata": {
        "id": "kvMf4ne_DEMC"
      },
      "execution_count": 134,
      "outputs": []
    },
    {
      "cell_type": "code",
      "source": [
        "results[5]"
      ],
      "metadata": {
        "id": "Pr1kO_R-MVPA",
        "outputId": "00591679-65c7-43c1-e755-725a79301429",
        "colab": {
          "base_uri": "https://localhost:8080/"
        }
      },
      "execution_count": 135,
      "outputs": [
        {
          "output_type": "execute_result",
          "data": {
            "text/plain": [
              "array([ 0.00000000e+00, -1.89251379e-04, -7.56281945e-04, -1.69884140e-03,\n",
              "       -3.01343141e-03, -4.69508436e-03, -6.73738760e-03, -9.13244605e-03,\n",
              "       -1.18711095e-02, -1.49428893e-02, -1.83360731e-02, -2.20376807e-02,\n",
              "       -2.60335850e-02, -3.03084948e-02, -3.48461028e-02, -3.96290471e-02,\n",
              "       -4.46390990e-02, -4.98571332e-02, -5.52632330e-02, -6.08367743e-02,\n",
              "       -6.65564698e-02, -7.24004869e-02, -7.83465861e-02, -8.43721167e-02,\n",
              "       -9.04541286e-02, -9.65694600e-02, -1.02694813e-01, -1.08806858e-01,\n",
              "       -1.14882371e-01, -1.20898262e-01, -1.26831685e-01, -1.32660114e-01,\n",
              "       -1.38361448e-01, -1.43914089e-01, -1.49297010e-01, -1.54489864e-01,\n",
              "       -1.59473057e-01, -1.64227782e-01, -1.68736140e-01, -1.72981207e-01,\n",
              "       -1.76946988e-01, -1.80618565e-01, -1.83982173e-01, -1.87025256e-01,\n",
              "       -1.89736528e-01, -1.92106034e-01, -1.94125029e-01, -1.95786123e-01,\n",
              "       -1.97083353e-01, -1.98012094e-01, -1.98569131e-01, -1.98752720e-01,\n",
              "       -1.98562495e-01, -1.97999510e-01, -1.97066301e-01, -1.95766764e-01,\n",
              "       -1.94106159e-01, -1.92091187e-01, -1.89729852e-01, -1.87031426e-01,\n",
              "       -1.84006521e-01, -1.80666958e-01, -1.77025699e-01, -1.73096904e-01,\n",
              "       -1.68895790e-01, -1.64438518e-01, -1.59742258e-01, -1.54825063e-01,\n",
              "       -1.49705750e-01, -1.44403921e-01, -1.38939840e-01, -1.33334281e-01,\n",
              "       -1.27608557e-01, -1.21784408e-01, -1.15883908e-01, -1.09929410e-01,\n",
              "       -1.03943433e-01, -9.79484736e-02, -9.19670241e-02, -8.60214708e-02,\n",
              "       -8.01340577e-02, -7.43267489e-02, -6.86211515e-02, -6.30384117e-02,\n",
              "       -5.75991480e-02, -5.23233672e-02, -4.72304155e-02, -4.23388686e-02,\n",
              "       -3.76664573e-02, -3.32300966e-02, -2.90457505e-02, -2.51283532e-02,\n",
              "       -2.14917692e-02, -1.81487189e-02, -1.51107119e-02, -1.23881088e-02,\n",
              "       -9.99002110e-03, -7.92422116e-03, -6.19723742e-03, -4.81429170e-03,\n",
              "       -3.77920767e-03, -3.09448427e-03, -2.76127008e-03, -2.77928929e-03,\n",
              "       -3.14694372e-03, -3.86132844e-03, -4.91813325e-03, -6.31175498e-03,\n",
              "       -8.03535106e-03, -1.00807498e-02, -1.24385689e-02, -1.50983084e-02,\n",
              "       -1.80482613e-02, -2.12756297e-02, -2.47666349e-02, -2.85064557e-02,\n",
              "       -3.24793442e-02, -3.66687677e-02, -4.10573505e-02, -4.56269903e-02,\n",
              "       -5.03590007e-02, -5.52340895e-02, -6.02324578e-02, -6.53339123e-02,\n",
              "       -7.05178970e-02, -7.57635880e-02, -8.10500472e-02, -8.63562346e-02,\n",
              "       -9.16610997e-02, -9.69436706e-02, -1.02183134e-01, -1.07358917e-01,\n",
              "       -1.12450747e-01, -1.17438747e-01, -1.22303516e-01, -1.27026224e-01,\n",
              "       -1.31588679e-01, -1.35973408e-01, -1.40163635e-01, -1.44143406e-01,\n",
              "       -1.47897671e-01, -1.51412299e-01, -1.54674158e-01, -1.57671187e-01,\n",
              "       -1.60392364e-01, -1.62827781e-01, -1.64968732e-01, -1.66807668e-01,\n",
              "       -1.68338238e-01, -1.69555381e-01, -1.70455240e-01, -1.71035162e-01,\n",
              "       -1.71293815e-01, -1.71231123e-01, -1.70848255e-01, -1.70147691e-01,\n",
              "       -1.69133134e-01, -1.67809418e-01, -1.66182645e-01, -1.64260076e-01,\n",
              "       -1.62050034e-01, -1.59561992e-01, -1.56806476e-01, -1.53794954e-01,\n",
              "       -1.50539900e-01, -1.47054699e-01, -1.43353509e-01, -1.39451318e-01,\n",
              "       -1.35363845e-01, -1.31107402e-01, -1.26698915e-01, -1.22155847e-01,\n",
              "       -1.17496078e-01, -1.12737890e-01, -1.07899876e-01, -1.03000778e-01,\n",
              "       -9.80594887e-02, -9.30949696e-02, -8.81261901e-02, -8.31720373e-02,\n",
              "       -7.82512405e-02, -7.33822757e-02, -6.85833031e-02, -6.38720969e-02,\n",
              "       -5.92660185e-02, -5.47819197e-02, -5.04360609e-02, -4.62440452e-02,\n",
              "       -4.22207494e-02, -3.83802573e-02, -3.47358902e-02, -3.13001286e-02,\n",
              "       -2.80845043e-02, -2.50996146e-02, -2.23550726e-02, -1.98594260e-02,\n",
              "       -1.76201969e-02, -1.56438629e-02, -1.39357480e-02, -1.25000791e-02,\n",
              "       -1.13399982e-02, -1.04574564e-02, -9.85328025e-03, -9.52722258e-03,\n",
              "       -9.47784943e-03, -9.70261586e-03, -1.01979446e-02, -1.09591225e-02,\n",
              "       -1.19803811e-02, -1.32550023e-02, -1.47752255e-02, -1.65323257e-02,\n",
              "       -1.85167228e-02, -2.07179222e-02, -2.31245960e-02, -2.57247409e-02,\n",
              "       -2.85056070e-02, -3.14537729e-02, -3.45552301e-02, -3.77954053e-02,\n",
              "       -4.11592288e-02, -4.46312998e-02, -4.81958603e-02, -5.18368651e-02,\n",
              "       -5.55380653e-02, -5.92830653e-02, -6.30553893e-02, -6.68385816e-02,\n",
              "       -7.06162541e-02, -7.43721505e-02, -7.80902083e-02, -8.17546322e-02,\n",
              "       -8.53499628e-02, -8.88611318e-02, -9.22735320e-02, -9.55730852e-02,\n",
              "       -9.87462386e-02, -1.01780035e-01, -1.04662204e-01, -1.07381189e-01,\n",
              "       -1.09926197e-01, -1.12287268e-01, -1.14455263e-01, -1.16421891e-01,\n",
              "       -1.18179815e-01, -1.19722595e-01, -1.21044675e-01, -1.22141510e-01,\n",
              "       -1.23009523e-01, -1.23646092e-01, -1.24049629e-01, -1.24219530e-01,\n",
              "       -1.24156109e-01, -1.23860711e-01, -1.23335651e-01, -1.22584131e-01,\n",
              "       -1.21610331e-01, -1.20419346e-01, -1.19017073e-01, -1.17410303e-01,\n",
              "       -1.15606648e-01, -1.13614446e-01, -1.11442802e-01, -1.09101528e-01,\n",
              "       -1.06601011e-01, -1.03952256e-01, -1.01166828e-01, -9.82567454e-02,\n",
              "       -9.52344785e-02, -9.21128912e-02, -8.89051296e-02, -8.56246087e-02,\n",
              "       -8.22849572e-02, -7.88999224e-02, -7.54833321e-02, -7.20490398e-02,\n",
              "       -6.86108772e-02, -6.51825897e-02, -6.17777743e-02, -5.84097797e-02,\n",
              "       -5.50916596e-02, -5.18361278e-02, -4.86555592e-02, -4.55619226e-02,\n",
              "       -4.25666890e-02, -3.96808058e-02, -3.69146454e-02, -3.42779486e-02,\n",
              "       -3.17798392e-02, -2.94288016e-02, -2.72325755e-02, -2.51981561e-02,\n",
              "       -2.33317660e-02, -2.16387986e-02, -2.01238549e-02, -1.87907928e-02,\n",
              "       -1.76425853e-02, -1.66813681e-02, -1.59084660e-02, -1.53243222e-02,\n",
              "       -1.49285387e-02, -1.47199539e-02, -1.46965414e-02, -1.48554621e-02,\n",
              "       -1.51931478e-02, -1.57052276e-02, -1.63865781e-02, -1.72314265e-02,\n",
              "       -1.82332870e-02, -1.93850127e-02, -2.06789023e-02, -2.21066612e-02,\n",
              "       -2.36594484e-02, -2.53279668e-02, -2.71024584e-02, -2.89727511e-02,\n",
              "       -3.09283826e-02, -3.29585903e-02, -3.50523560e-02, -3.71984715e-02,\n",
              "       -3.93855805e-02, -4.16022266e-02, -4.38369312e-02, -4.60782307e-02,\n",
              "       -4.83147215e-02, -5.05351185e-02, -5.27283055e-02, -5.48833864e-02,\n",
              "       -5.69897184e-02, -5.90369646e-02, -6.10151530e-02, -6.29146985e-02,\n",
              "       -6.47264475e-02, -6.64417407e-02, -6.80524195e-02, -6.95508567e-02,\n",
              "       -7.09300294e-02, -7.21834977e-02, -7.33054043e-02, -7.42905712e-02,\n",
              "       -7.51344933e-02, -7.58333531e-02, -7.63840683e-02, -7.67842590e-02,\n",
              "       -7.70321730e-02, -7.71268217e-02, -7.70679358e-02, -7.68559334e-02,\n",
              "       -7.64919715e-02, -7.59779096e-02, -7.53162159e-02, -7.45100600e-02,\n",
              "       -7.35632713e-02, -7.24802782e-02, -7.12661410e-02, -6.99265124e-02,\n",
              "       -6.84675183e-02, -6.68958206e-02, -6.52185745e-02, -6.34433518e-02,\n",
              "       -6.15781442e-02, -5.96313251e-02, -5.76115555e-02, -5.55277872e-02,\n",
              "       -5.33892250e-02, -5.12052468e-02, -4.89853825e-02, -4.67392765e-02,\n",
              "       -4.44766413e-02, -4.22072150e-02, -3.99407182e-02, -3.76867677e-02,\n",
              "       -3.54548441e-02, -3.32542610e-02, -3.10941545e-02, -2.89834337e-02,\n",
              "       -2.69307136e-02, -2.49442859e-02, -2.30320778e-02, -2.12016109e-02,\n",
              "       -1.94600032e-02, -1.78139486e-02, -1.62696377e-02, -1.48327504e-02,\n",
              "       -1.35084277e-02, -1.23012308e-02, -1.12151598e-02, -1.02536874e-02,\n",
              "       -9.41964922e-03, -8.71527321e-03, -8.14219583e-03, -7.70140456e-03,\n",
              "       -7.39326320e-03, -7.21756721e-03, -7.17346253e-03, -7.25948045e-03,\n",
              "       -7.47359884e-03, -7.81318072e-03, -8.27500861e-03, -8.85536198e-03,\n",
              "       -9.54996299e-03, -1.03540112e-02, -1.12622597e-02, -1.22689836e-02,\n",
              "       -1.33680136e-02, -1.45528249e-02, -1.58165143e-02, -1.71518330e-02,\n",
              "       -1.85512592e-02, -2.00070024e-02, -2.15110361e-02, -2.30551636e-02,\n",
              "       -2.46310363e-02, -2.62301857e-02, -2.78440919e-02, -2.94642090e-02,\n",
              "       -3.10819971e-02, -3.26889627e-02, -3.42766989e-02, -3.58369249e-02,\n",
              "       -3.73615203e-02, -3.88425639e-02, -4.02723737e-02, -4.16435286e-02,\n",
              "       -4.29489031e-02, -4.41817149e-02, -4.53355366e-02, -4.64043208e-02,\n",
              "       -4.73824534e-02, -4.82647417e-02, -4.90464150e-02, -4.97232003e-02,\n",
              "       -5.02913227e-02, -5.07475228e-02, -5.10890895e-02, -5.13138395e-02,\n",
              "       -5.14200611e-02, -5.14066215e-02, -5.12729364e-02, -5.10189493e-02,\n",
              "       -5.06451710e-02, -5.01526585e-02, -4.95429514e-02, -4.88181397e-02,\n",
              "       -4.79808337e-02, -4.70341046e-02, -4.59815262e-02, -4.48271470e-02,\n",
              "       -4.35754156e-02, -4.22312177e-02, -4.07998485e-02, -3.92869506e-02,\n",
              "       -3.76985248e-02, -3.60409031e-02, -3.43206692e-02, -3.25446685e-02,\n",
              "       -3.07199814e-02, -2.88538666e-02, -2.69537442e-02, -2.50271685e-02,\n",
              "       -2.30817804e-02, -2.11252819e-02, -1.91654076e-02, -1.72098723e-02,\n",
              "       -1.52663432e-02, -1.33424119e-02, -1.14455676e-02, -9.58316224e-03,\n",
              "       -7.76237204e-03, -5.99017465e-03, -4.27331813e-03, -2.61828359e-03,\n",
              "       -1.03127264e-03,  4.81815581e-04,  1.91543091e-03,  3.26436673e-03,\n",
              "        4.52376347e-03,  5.68917106e-03,  6.75655277e-03,  7.72230183e-03,\n",
              "        8.58327097e-03,  9.33675906e-03,  9.98046740e-03,  1.05125900e-02,\n",
              "        1.09317921e-02,  1.12371964e-02,  1.14284173e-02,  1.15055450e-02,\n",
              "        1.14690874e-02,  1.13200362e-02,  1.10598449e-02,  1.06903977e-02,\n",
              "        1.02140327e-02,  9.63352233e-03,  8.95199680e-03,  8.17299271e-03,\n",
              "        7.30043012e-03,  6.33856622e-03,  5.29200225e-03,  4.16566380e-03,\n",
              "        2.96474021e-03,  1.69469277e-03,  3.61235265e-04, -1.02971585e-03,\n",
              "       -2.47205078e-03, -3.95948692e-03, -5.48561871e-03, -7.04393344e-03,\n",
              "       -8.62783121e-03, -1.02306495e-02, -1.18456906e-02, -1.34662495e-02,\n",
              "       -1.50856646e-02, -1.66973429e-02, -1.82947739e-02, -1.98715377e-02,\n",
              "       -2.14213277e-02, -2.29379984e-02, -2.44155815e-02, -2.58483116e-02,\n",
              "       -2.72306490e-02, -2.85572850e-02, -2.98231459e-02, -3.10234452e-02,\n",
              "       -3.21536890e-02, -3.32096909e-02, -3.41875978e-02, -3.50838865e-02,\n",
              "       -3.58953391e-02, -3.66191080e-02, -3.72527044e-02, -3.77939886e-02,\n",
              "       -3.82412034e-02, -3.85929665e-02, -3.88482386e-02, -3.90063691e-02,\n",
              "       -3.90670837e-02, -3.90304513e-02, -3.88969172e-02, -3.86672917e-02,\n",
              "       -3.83427102e-02, -3.79246612e-02, -3.74149738e-02, -3.68157779e-02,\n",
              "       -3.61295210e-02, -3.53589566e-02, -3.45071020e-02, -3.35772467e-02,\n",
              "       -3.25729419e-02, -3.14979626e-02, -3.03563059e-02, -2.91521793e-02,\n",
              "       -2.78899675e-02, -2.65742228e-02, -2.52096529e-02, -2.38010867e-02,\n",
              "       -2.23534601e-02, -2.08718042e-02, -1.93612223e-02, -1.78268715e-02,\n",
              "       -1.62739448e-02, -1.47076506e-02, -1.31331946e-02, -1.15557616e-02,\n",
              "       -9.98049843e-03, -8.41249720e-03, -6.85677380e-03, -5.31826271e-03,\n",
              "       -3.80181042e-03, -2.31214146e-03, -8.53845448e-04,  5.68644395e-04,\n",
              "        1.95106008e-03,  3.28930181e-03,  4.57942029e-03,  5.81766941e-03,\n",
              "        7.00050361e-03,  8.12458448e-03,  9.18679625e-03,  1.01842473e-02,\n",
              "        1.11142501e-02,  1.19743589e-02,  1.27623681e-02,  1.34763085e-02,\n",
              "        1.41144615e-02,  1.46753588e-02,  1.51577518e-02,  1.55606436e-02,\n",
              "        1.58832850e-02,  1.61251609e-02,  1.62860003e-02,  1.63657744e-02,\n",
              "        1.63646740e-02,  1.62831211e-02,  1.61217676e-02,  1.58814747e-02,\n",
              "        1.55633171e-02,  1.51685812e-02,  1.46987488e-02,  1.41554956e-02,\n",
              "        1.35406884e-02,  1.28563621e-02,  1.21047166e-02,  1.12881160e-02,\n",
              "        1.04090770e-02,  9.47026149e-03,  8.47446857e-03,  7.42462044e-03,\n",
              "        6.32375279e-03,  5.17501167e-03,  3.98164170e-03,  2.74697690e-03,\n",
              "        1.47443246e-03,  1.67494263e-04, -1.17029134e-03, -2.53532477e-03,\n",
              "       -3.92396106e-03, -5.33251599e-03, -6.75727891e-03, -8.19452084e-03,\n",
              "       -9.64050497e-03, -1.10914934e-02, -1.25437551e-02, -1.39935708e-02,\n",
              "       -1.54372456e-02, -1.68711150e-02, -1.82915477e-02, -1.96949584e-02,\n",
              "       -2.10778140e-02, -2.24366392e-02, -2.37680256e-02, -2.50686382e-02,\n",
              "       -2.63352179e-02, -2.75645925e-02, -2.87536825e-02, -2.98995037e-02,\n",
              "       -3.09991766e-02, -3.20499326e-02, -3.30491156e-02, -3.39941909e-02,\n",
              "       -3.48827513e-02, -3.57125190e-02, -3.64813532e-02, -3.71872562e-02,\n",
              "       -3.78283732e-02, -3.84029993e-02, -3.89095863e-02, -3.93467438e-02,\n",
              "       -3.97132451e-02, -4.00080321e-02, -4.02302150e-02, -4.03790766e-02,\n",
              "       -4.04540794e-02, -4.04548636e-02, -4.03812499e-02, -4.02332465e-02,\n",
              "       -4.00110476e-02, -3.97150348e-02, -3.93457834e-02, -3.89040580e-02,\n",
              "       -3.83908101e-02, -3.78071878e-02, -3.71545301e-02, -3.64343633e-02,\n",
              "       -3.56484087e-02, -3.47985765e-02, -3.38869580e-02, -3.29158349e-02,\n",
              "       -3.18876716e-02, -3.08051042e-02, -2.96709495e-02, -2.84881958e-02,\n",
              "       -2.72599871e-02, -2.59896323e-02, -2.46805969e-02, -2.33364893e-02,\n",
              "       -2.19610639e-02, -2.05582118e-02, -1.91319361e-02, -1.76863607e-02,\n",
              "       -1.62257197e-02, -1.47543381e-02, -1.32766313e-02, -1.17970951e-02,\n",
              "       -1.03202818e-02, -8.85079953e-03, -7.39330204e-03, -5.95246591e-03,\n",
              "       -4.53298494e-03, -3.13956005e-03, -1.77687615e-03, -4.49593460e-04,\n",
              "        8.37662587e-04,  2.08032178e-03,  3.27388119e-03,  4.41391639e-03,\n",
              "        5.49610075e-03,  6.51621935e-03,  7.47018056e-03,  8.35403193e-03,\n",
              "        9.16397453e-03,  9.89637717e-03,  1.05477902e-02,  1.11149594e-02,\n",
              "        1.15948412e-02,  1.19846093e-02,  1.22816612e-02,  1.24836425e-02,\n",
              "        1.25884561e-02,  1.25942764e-02,  1.24995602e-02,  1.23030497e-02,\n",
              "        1.20037631e-02,  1.16010300e-02,  1.10944903e-02,  1.04840921e-02,\n",
              "        9.77011121e-03,  8.95314907e-03,  8.03411299e-03,  7.01424786e-03,\n",
              "        5.89513187e-03,  4.67866454e-03,  3.36708321e-03,  1.96295801e-03,\n",
              "        4.69154924e-04, -1.11113423e-03, -2.77439928e-03, -4.51683991e-03,\n",
              "       -6.33435306e-03, -8.22253991e-03, -1.01767441e-02, -1.21920399e-02,\n",
              "       -1.42632391e-02, -1.63849306e-02, -1.85514769e-02, -2.07570221e-02,\n",
              "       -2.29955307e-02, -2.52607927e-02, -2.75464312e-02, -2.98459437e-02,\n",
              "       -3.21527133e-02, -3.44600170e-02, -3.67610634e-02, -3.90490115e-02,\n",
              "       -4.13169809e-02, -4.35580862e-02, -4.57654605e-02, -4.79322678e-02,\n",
              "       -5.00517321e-02, -5.21171620e-02, -5.41219683e-02, -5.60596938e-02,\n",
              "       -5.79240425e-02, -5.97088935e-02, -6.14083237e-02, -6.30166242e-02,\n",
              "       -6.45283322e-02, -6.59382482e-02, -6.72414530e-02, -6.84333356e-02,\n",
              "       -6.95096088e-02, -7.04663185e-02, -7.12998767e-02, -7.20070702e-02,\n",
              "       -7.25850460e-02, -7.30313603e-02, -7.33439866e-02, -7.35213277e-02,\n",
              "       -7.35622328e-02, -7.34660051e-02, -7.32323558e-02, -7.28614627e-02,\n",
              "       -7.23539709e-02, -7.17109748e-02, -7.09340395e-02, -7.00252037e-02,\n",
              "       -6.89869388e-02, -6.78221774e-02, -6.65343163e-02, -6.51271741e-02,\n",
              "       -6.36050075e-02, -6.19725123e-02, -6.02347732e-02, -5.83972713e-02,\n",
              "       -5.64658869e-02, -5.44468539e-02, -5.23467542e-02, -5.01725172e-02,\n",
              "       -4.79313650e-02, -4.56307970e-02, -4.32785937e-02, -4.08827688e-02,\n",
              "       -3.84515439e-02, -3.59933449e-02, -3.35167556e-02, -3.10304849e-02,\n",
              "       -2.85433623e-02, -2.60642922e-02, -2.36022143e-02, -2.11660967e-02,\n",
              "       -1.87648954e-02, -1.64075183e-02, -1.41028058e-02, -1.18594957e-02,\n",
              "       -9.68618776e-03, -7.59132035e-03, -5.58313799e-03, -3.66966167e-03,\n",
              "       -1.85865803e-03, -1.57611139e-04,  1.42630012e-03,  2.88623870e-03,\n",
              "        4.21573134e-03,  5.40866607e-03,  6.45934571e-03,  7.36250910e-03,\n",
              "        8.11335683e-03,  8.70757515e-03,  9.14135569e-03,  9.41135883e-03,\n",
              "        9.51477752e-03,  9.44935414e-03,  9.21336917e-03,  8.80567161e-03,\n",
              "        8.22569436e-03,  7.47341941e-03,  6.54941269e-03,  5.45484175e-03,\n",
              "        4.19143708e-03,  2.76151315e-03,  1.16798504e-03, -5.85684559e-04,\n",
              "       -2.49547499e-03, -4.55678716e-03, -6.76448605e-03, -9.11290542e-03,\n",
              "       -1.15958360e-02, -1.42065871e-02, -1.69380089e-02, -1.97824650e-02,\n",
              "       -2.27318868e-02, -2.57778033e-02, -2.89113328e-02, -3.21232366e-02,\n",
              "       -3.54039658e-02, -3.87436456e-02, -4.21321298e-02, -4.55590512e-02,\n",
              "       -4.90138178e-02, -5.24856651e-02, -5.59637127e-02, -5.94369659e-02,\n",
              "       -6.28943633e-02, -6.63248290e-02, -6.97172889e-02, -7.30607152e-02,\n",
              "       -7.63441770e-02, -7.95568639e-02, -8.26881268e-02, -8.57275223e-02,\n",
              "       -8.86648452e-02, -9.14901650e-02, -9.41938413e-02, -9.67665776e-02,\n",
              "       -9.91994568e-02, -1.01483991e-01, -1.03612147e-01, -1.05576381e-01,\n",
              "       -1.07369614e-01, -1.08985304e-01, -1.10417481e-01, -1.11660746e-01,\n",
              "       -1.12710316e-01, -1.13562051e-01, -1.14212434e-01, -1.14658615e-01,\n",
              "       -1.14898446e-01, -1.14930437e-01, -1.14753783e-01, -1.14368412e-01,\n",
              "       -1.13774960e-01, -1.12974790e-01, -1.11970014e-01, -1.10763430e-01,\n",
              "       -1.09358513e-01, -1.07759476e-01, -1.05971221e-01, -1.03999321e-01,\n",
              "       -1.01850045e-01, -9.95303094e-02, -9.70476271e-02, -9.44101575e-02,\n",
              "       -9.16266463e-02, -8.87063697e-02, -8.56591681e-02, -8.24953870e-02,\n",
              "       -7.92258078e-02, -7.58616763e-02, -7.24146468e-02, -6.88967148e-02,\n",
              "       -6.53202253e-02, -6.16978148e-02, -5.80423143e-02, -5.43667700e-02,\n",
              "       -5.06843881e-02, -4.70084791e-02, -4.33524271e-02, -3.97296417e-02,\n",
              "       -3.61534807e-02, -3.26372326e-02, -2.91940674e-02, -2.58369790e-02,\n",
              "       -2.25787449e-02, -1.94318793e-02, -1.64085827e-02, -1.35206966e-02,\n",
              "       -1.07796582e-02, -8.19648821e-03, -5.78173020e-03, -3.54539988e-03,\n",
              "       -1.49693471e-03,  3.54845330e-04,  2.00177656e-03,  3.43632797e-03,\n",
              "        4.65165269e-03,  5.64165699e-03,  6.40099490e-03,  6.92510038e-03,\n",
              "        7.21023363e-03,  7.25345839e-03,  7.05265518e-03,  6.60658881e-03,\n",
              "        5.91487488e-03,  4.97797404e-03,  3.79725703e-03,  2.37495560e-03,\n",
              "        7.14123023e-04, -1.18128315e-03, -3.30644527e-03, -5.65571778e-03,\n",
              "       -8.22258342e-03, -1.09997088e-02, -1.39790410e-02, -1.71517153e-02,\n",
              "       -2.05081178e-02, -2.40379557e-02, -2.77302247e-02, -3.15732642e-02,\n",
              "       -3.55548624e-02, -3.96622110e-02, -4.38819635e-02, -4.82003289e-02,\n",
              "       -5.26030610e-02, -5.70755132e-02, -6.16027502e-02, -6.61695405e-02,\n",
              "       -7.07604114e-02, -7.53597384e-02, -7.99517703e-02, -8.45206831e-02,\n",
              "       -8.90506691e-02, -9.35259717e-02, -9.79309380e-02, -1.02250095e-01,\n",
              "       -1.06468199e-01, -1.10570289e-01, -1.14541723e-01, -1.18368242e-01,\n",
              "       -1.22036032e-01, -1.25531802e-01, -1.28842838e-01, -1.31957041e-01,\n",
              "       -1.34862933e-01, -1.37549705e-01, -1.40007310e-01, -1.42226476e-01,\n",
              "       -1.44198755e-01, -1.45916574e-01, -1.47373226e-01, -1.48562872e-01,\n",
              "       -1.49480649e-01, -1.50122660e-01, -1.50485990e-01, -1.50568764e-01,\n",
              "       -1.50370112e-01, -1.49890108e-01, -1.49129899e-01, -1.48091665e-01,\n",
              "       -1.46778568e-01, -1.45194831e-01, -1.43345689e-01, -1.41237304e-01,\n",
              "       -1.38876854e-01, -1.36272487e-01, -1.33433214e-01, -1.30368983e-01,\n",
              "       -1.27090625e-01, -1.23609732e-01, -1.19938716e-01, -1.16090758e-01])"
            ]
          },
          "metadata": {},
          "execution_count": 135
        }
      ]
    },
    {
      "cell_type": "code",
      "source": [
        "#plt.plot(results[0],label=\"x\")\n",
        "#plt.plot(results[1],label=\"p\")\n",
        "plt.plot(results[2]-results[0]**2,label=\"dx^2\")\n",
        "#plt.plot(results[3]-results[1]**2,label=\"dp^2\")\n",
        "plt.plot(-6*(results[4]-results[0]*results[1]),label=\"x p \")\n",
        "# plt.plot(results[5],label=\"[x ,p]\")\n",
        "#plt.plot(results[3],label=\"comm\")\n",
        "plt.legend()"
      ],
      "metadata": {
        "id": "1P-l17ixECmZ",
        "outputId": "858f76ea-f333-4dc9-d7d4-838bdfb695c4",
        "colab": {
          "base_uri": "https://localhost:8080/",
          "height": 282
        }
      },
      "execution_count": 136,
      "outputs": [
        {
          "output_type": "execute_result",
          "data": {
            "text/plain": [
              "<matplotlib.legend.Legend at 0x7f17e93a4a10>"
            ]
          },
          "metadata": {},
          "execution_count": 136
        },
        {
          "output_type": "display_data",
          "data": {
            "text/plain": [
              "<Figure size 432x288 with 1 Axes>"
            ],
            "image/png": "[encoded data removed]"
          },
          "metadata": {
            "needs_background": "light"
          }
        }
      ]
    },
    {
      "cell_type": "code",
      "source": [
        "\n",
        "hamiltonian(N, Jx, Jy, Jz, h, psi0, tlist, gamma=1e-10, solver=\"me\")\n",
        "\n",
        "\n",
        "corr_xop_pop = [.5*(x_op[i] * p_op[i] + p_op[i] * x_op[i]) for i in range(len(x_op))]\n"
      ],
      "metadata": {
        "id": "4NzVtyq70ri_",
        "outputId": "c1176366-d125-4a4f-85c2-82306c1cdf4a",
        "colab": {
          "base_uri": "https://localhost:8080/",
          "height": 359
        }
      },
      "execution_count": 14,
      "outputs": [
        {
          "output_type": "error",
          "ename": "NameError",
          "evalue": "ignored",
          "traceback": [
            "\u001b[0;31m---------------------------------------------------------------------------\u001b[0m",
            "\u001b[0;31mNameError\u001b[0m                                 Traceback (most recent call last)",
            "\u001b[0;32m<ipython-input-14-48acfd201fbd>\u001b[0m in \u001b[0;36m<module>\u001b[0;34m()\u001b[0m\n\u001b[1;32m      2\u001b[0m     \u001b[0;32mreturn\u001b[0m \u001b[0msum\u001b[0m\u001b[0;34m(\u001b[0m\u001b[0me\u001b[0m\u001b[0;34m**\u001b[0m\u001b[0;34m(\u001b[0m\u001b[0;36m1j\u001b[0m \u001b[0;34m*\u001b[0m \u001b[0mk\u001b[0m \u001b[0;34m*\u001b[0m \u001b[0;36m2\u001b[0m \u001b[0;34m*\u001b[0m \u001b[0mpi\u001b[0m \u001b[0;34m*\u001b[0m \u001b[0;34m(\u001b[0m\u001b[0ma\u001b[0m\u001b[0;34m-\u001b[0m\u001b[0mb\u001b[0m\u001b[0;34m)\u001b[0m \u001b[0;34m*\u001b[0m \u001b[0mN\u001b[0m\u001b[0;34m**\u001b[0m\u001b[0;34m-\u001b[0m\u001b[0;36m1\u001b[0m\u001b[0;34m)\u001b[0m\u001b[0;34m*\u001b[0m\u001b[0;34m(\u001b[0m\u001b[0mk\u001b[0m\u001b[0;34m*\u001b[0m\u001b[0;36m2\u001b[0m\u001b[0;34m*\u001b[0m\u001b[0mpi\u001b[0m\u001b[0;34m*\u001b[0m\u001b[0mN\u001b[0m\u001b[0;34m**\u001b[0m\u001b[0;34m-\u001b[0m\u001b[0;36m1\u001b[0m\u001b[0;34m)\u001b[0m \u001b[0;32mfor\u001b[0m \u001b[0mk\u001b[0m \u001b[0;32min\u001b[0m \u001b[0mrange\u001b[0m\u001b[0;34m(\u001b[0m\u001b[0mk_max\u001b[0m\u001b[0;34m)\u001b[0m\u001b[0;34m)\u001b[0m\u001b[0;34m\u001b[0m\u001b[0;34m\u001b[0m\u001b[0m\n\u001b[1;32m      3\u001b[0m \u001b[0;34m\u001b[0m\u001b[0m\n\u001b[0;32m----> 4\u001b[0;31m \u001b[0mx_op\u001b[0m \u001b[0;34m=\u001b[0m \u001b[0msum\u001b[0m\u001b[0;34m(\u001b[0m\u001b[0;34m(\u001b[0m\u001b[0;36m.5\u001b[0m \u001b[0;34m+\u001b[0m \u001b[0msz_list\u001b[0m\u001b[0;34m[\u001b[0m\u001b[0mi\u001b[0m\u001b[0;34m]\u001b[0m\u001b[0;34m)\u001b[0m\u001b[0;34m*\u001b[0m\u001b[0mi\u001b[0m \u001b[0;32mfor\u001b[0m \u001b[0mi\u001b[0m \u001b[0;32min\u001b[0m \u001b[0mrange\u001b[0m\u001b[0;34m(\u001b[0m\u001b[0mN\u001b[0m\u001b[0;34m)\u001b[0m\u001b[0;34m)\u001b[0m\u001b[0;34m\u001b[0m\u001b[0;34m\u001b[0m\u001b[0m\n\u001b[0m\u001b[1;32m      5\u001b[0m \u001b[0mp_op\u001b[0m \u001b[0;34m=\u001b[0m \u001b[0msum\u001b[0m\u001b[0;34m(\u001b[0m\u001b[0mW\u001b[0m\u001b[0;34m(\u001b[0m\u001b[0mi\u001b[0m\u001b[0;34m,\u001b[0m\u001b[0mj\u001b[0m\u001b[0;34m,\u001b[0m\u001b[0;36m10\u001b[0m\u001b[0;34m)\u001b[0m\u001b[0;34m*\u001b[0m\u001b[0;34m(\u001b[0m\u001b[0msxsx_list\u001b[0m\u001b[0;34m[\u001b[0m\u001b[0mi\u001b[0m\u001b[0;34m]\u001b[0m\u001b[0;34m*\u001b[0m\u001b[0msxsx_list\u001b[0m\u001b[0;34m[\u001b[0m\u001b[0mj\u001b[0m\u001b[0;34m]\u001b[0m\u001b[0;34m+\u001b[0m\u001b[0msysy_list\u001b[0m\u001b[0;34m[\u001b[0m\u001b[0mi\u001b[0m\u001b[0;34m]\u001b[0m\u001b[0;34m*\u001b[0m\u001b[0msysy_list\u001b[0m\u001b[0;34m[\u001b[0m\u001b[0mj\u001b[0m\u001b[0;34m]\u001b[0m\u001b[0;34m)\u001b[0m \u001b[0;32mfor\u001b[0m \u001b[0mi\u001b[0m \u001b[0;32min\u001b[0m \u001b[0mrange\u001b[0m\u001b[0;34m(\u001b[0m\u001b[0mN\u001b[0m\u001b[0;34m)\u001b[0m \u001b[0;32mfor\u001b[0m \u001b[0mj\u001b[0m \u001b[0;32min\u001b[0m \u001b[0mrange\u001b[0m\u001b[0;34m(\u001b[0m\u001b[0mN\u001b[0m\u001b[0;34m)\u001b[0m\u001b[0;34m)\u001b[0m\u001b[0;34m\u001b[0m\u001b[0;34m\u001b[0m\u001b[0m\n\u001b[1;32m      6\u001b[0m \u001b[0;34m\u001b[0m\u001b[0m\n",
            "\u001b[0;32m<ipython-input-14-48acfd201fbd>\u001b[0m in \u001b[0;36m<genexpr>\u001b[0;34m(.0)\u001b[0m\n\u001b[1;32m      2\u001b[0m     \u001b[0;32mreturn\u001b[0m \u001b[0msum\u001b[0m\u001b[0;34m(\u001b[0m\u001b[0me\u001b[0m\u001b[0;34m**\u001b[0m\u001b[0;34m(\u001b[0m\u001b[0;36m1j\u001b[0m \u001b[0;34m*\u001b[0m \u001b[0mk\u001b[0m \u001b[0;34m*\u001b[0m \u001b[0;36m2\u001b[0m \u001b[0;34m*\u001b[0m \u001b[0mpi\u001b[0m \u001b[0;34m*\u001b[0m \u001b[0;34m(\u001b[0m\u001b[0ma\u001b[0m\u001b[0;34m-\u001b[0m\u001b[0mb\u001b[0m\u001b[0;34m)\u001b[0m \u001b[0;34m*\u001b[0m \u001b[0mN\u001b[0m\u001b[0;34m**\u001b[0m\u001b[0;34m-\u001b[0m\u001b[0;36m1\u001b[0m\u001b[0;34m)\u001b[0m\u001b[0;34m*\u001b[0m\u001b[0;34m(\u001b[0m\u001b[0mk\u001b[0m\u001b[0;34m*\u001b[0m\u001b[0;36m2\u001b[0m\u001b[0;34m*\u001b[0m\u001b[0mpi\u001b[0m\u001b[0;34m*\u001b[0m\u001b[0mN\u001b[0m\u001b[0;34m**\u001b[0m\u001b[0;34m-\u001b[0m\u001b[0;36m1\u001b[0m\u001b[0;34m)\u001b[0m \u001b[0;32mfor\u001b[0m \u001b[0mk\u001b[0m \u001b[0;32min\u001b[0m \u001b[0mrange\u001b[0m\u001b[0;34m(\u001b[0m\u001b[0mk_max\u001b[0m\u001b[0;34m)\u001b[0m\u001b[0;34m)\u001b[0m\u001b[0;34m\u001b[0m\u001b[0;34m\u001b[0m\u001b[0m\n\u001b[1;32m      3\u001b[0m \u001b[0;34m\u001b[0m\u001b[0m\n\u001b[0;32m----> 4\u001b[0;31m \u001b[0mx_op\u001b[0m \u001b[0;34m=\u001b[0m \u001b[0msum\u001b[0m\u001b[0;34m(\u001b[0m\u001b[0;34m(\u001b[0m\u001b[0;36m.5\u001b[0m \u001b[0;34m+\u001b[0m \u001b[0msz_list\u001b[0m\u001b[0;34m[\u001b[0m\u001b[0mi\u001b[0m\u001b[0;34m]\u001b[0m\u001b[0;34m)\u001b[0m\u001b[0;34m*\u001b[0m\u001b[0mi\u001b[0m \u001b[0;32mfor\u001b[0m \u001b[0mi\u001b[0m \u001b[0;32min\u001b[0m \u001b[0mrange\u001b[0m\u001b[0;34m(\u001b[0m\u001b[0mN\u001b[0m\u001b[0;34m)\u001b[0m\u001b[0;34m)\u001b[0m\u001b[0;34m\u001b[0m\u001b[0;34m\u001b[0m\u001b[0m\n\u001b[0m\u001b[1;32m      5\u001b[0m \u001b[0mp_op\u001b[0m \u001b[0;34m=\u001b[0m \u001b[0msum\u001b[0m\u001b[0;34m(\u001b[0m\u001b[0mW\u001b[0m\u001b[0;34m(\u001b[0m\u001b[0mi\u001b[0m\u001b[0;34m,\u001b[0m\u001b[0mj\u001b[0m\u001b[0;34m,\u001b[0m\u001b[0;36m10\u001b[0m\u001b[0;34m)\u001b[0m\u001b[0;34m*\u001b[0m\u001b[0;34m(\u001b[0m\u001b[0msxsx_list\u001b[0m\u001b[0;34m[\u001b[0m\u001b[0mi\u001b[0m\u001b[0;34m]\u001b[0m\u001b[0;34m*\u001b[0m\u001b[0msxsx_list\u001b[0m\u001b[0;34m[\u001b[0m\u001b[0mj\u001b[0m\u001b[0;34m]\u001b[0m\u001b[0;34m+\u001b[0m\u001b[0msysy_list\u001b[0m\u001b[0;34m[\u001b[0m\u001b[0mi\u001b[0m\u001b[0;34m]\u001b[0m\u001b[0;34m*\u001b[0m\u001b[0msysy_list\u001b[0m\u001b[0;34m[\u001b[0m\u001b[0mj\u001b[0m\u001b[0;34m]\u001b[0m\u001b[0;34m)\u001b[0m \u001b[0;32mfor\u001b[0m \u001b[0mi\u001b[0m \u001b[0;32min\u001b[0m \u001b[0mrange\u001b[0m\u001b[0;34m(\u001b[0m\u001b[0mN\u001b[0m\u001b[0;34m)\u001b[0m \u001b[0;32mfor\u001b[0m \u001b[0mj\u001b[0m \u001b[0;32min\u001b[0m \u001b[0mrange\u001b[0m\u001b[0;34m(\u001b[0m\u001b[0mN\u001b[0m\u001b[0;34m)\u001b[0m\u001b[0;34m)\u001b[0m\u001b[0;34m\u001b[0m\u001b[0;34m\u001b[0m\u001b[0m\n\u001b[1;32m      6\u001b[0m \u001b[0;34m\u001b[0m\u001b[0m\n",
            "\u001b[0;31mNameError\u001b[0m: name 'sz_list' is not defined"
          ]
        }
      ]
    },
    {
      "cell_type": "code",
      "source": [
        "def W(a, N): \n",
        "  return sum(np.exp(1j * k * 2 * np.pi * (a) * N**-1)*(2) for k in range(N))/N\n",
        "\n",
        "plt.scatter([a for a in range(5)],[W(a, 5) for a in range(5)])"
      ],
      "metadata": {
        "id": "K0A9qgpT0rra",
        "outputId": "55664eed-e875-4441-f459-eb954a263908",
        "colab": {
          "base_uri": "https://localhost:8080/",
          "height": 317
        }
      },
      "execution_count": 88,
      "outputs": [
        {
          "output_type": "stream",
          "name": "stderr",
          "text": [
            "/usr/local/lib/python3.7/dist-packages/matplotlib/collections.py:153: ComplexWarning: Casting complex values to real discards the imaginary part\n",
            "  offsets = np.asanyarray(offsets, float)\n"
          ]
        },
        {
          "output_type": "execute_result",
          "data": {
            "text/plain": [
              "<matplotlib.collections.PathCollection at 0x7f17e91bfad0>"
            ]
          },
          "metadata": {},
          "execution_count": 88
        },
        {
          "output_type": "display_data",
          "data": {
            "text/plain": [
              "<Figure size 432x288 with 1 Axes>"
            ],
            "image/png": "[encoded data removed]"
          },
          "metadata": {
            "needs_background": "light"
          }
        }
      ]
    },
    {
      "cell_type": "code",
      "execution_count": null,
      "metadata": {
        "id": "46MAAOZxgyAt"
      },
      "outputs": [],
      "source": [
        "def hamiltonian(N, Jx, Jy, Jz, h, psi0, tlist, gamma, solver):\n",
        "    \n",
        "    id2 = qeye(2)\n",
        "    sx = sigmax()\n",
        "    sy = sigmay()\n",
        "    sz = sigmaz()\n",
        "\n",
        "    sx_list = []\n",
        "    sy_list = []\n",
        "    sz_list = []\n",
        "\n",
        "    for n in range(N):\n",
        "        operator_list = []\n",
        "        for m in range(N):\n",
        "            operator_list.append(id2)\n",
        "        operator_list[n] = sx\n",
        "        sx_list.append(tensor(operator_list))\n",
        "        \n",
        "        operator_list[n] = sy\n",
        "        sy_list.append(tensor(operator_list))\n",
        "        \n",
        "        operator_list[n] = sz\n",
        "        sz_list.append(tensor(operator_list))\n",
        "\n",
        "    sxsx_list = []\n",
        "    sysy_list = []\n",
        "    \n",
        "    # no es terriblemente eficiente pero funca al menos\n",
        "    for n in range(N):\n",
        "      for m in range(N):\n",
        "        sxsx_list.append(sx_list[n]*sx_list[m])\n",
        "        sysy_list.append(sy_list[n]*sy_list[m])\n",
        "  \n",
        "    # Constructing the Hamiltonian\n",
        "    \n",
        "    H = 0\n",
        "    \n",
        "    for n in range(N):\n",
        "        H += -0.5*h[n]*sz_list[n]\n",
        "        \n",
        "    for n in range(N-1):\n",
        "        H += -0.5 * Jx[n] * sx_list[n] * sx_list[n+1]\n",
        "        H += -0.5 * Jy[n] * sy_list[n] * sy_list[n+1]\n",
        "        H += -0.5 * Jz[n] * sz_list[n] * sz_list[n+1]\n",
        "    \n",
        "    # collapse operators\n",
        "    c_op_list = []\n",
        "\n",
        "    # spin dephasing\n",
        "    for n in range(N):\n",
        "        if gamma[n] > 0.0:\n",
        "            c_op_list.append(np.sqrt(gamma[n]) * sz_list[n])\n",
        "    \n",
        "    if solver == \"me\":\n",
        "        result_spin_ops = mesolve(H, psi0, tlist, c_op_list, sxsx_list)\n",
        "    elif solver == \"mc\":\n",
        "        ntraj = 200 \n",
        "        result_spin_ops = mcsolve(H, psi0, tlist, c_op_list, sxsx_list, ntraj)\n",
        "\n",
        "    return sxsx_list\n"
      ]
    },
    {
      "cell_type": "code",
      "source": [
        "# dephasing rate\n",
        "gamma = 5 * 10**-10* np.ones(N)\n",
        "\n",
        "# intial state, first spin in state |1>, the rest in state |0>\n",
        "psi_list = []\n",
        "for n in range(2):\n",
        "    psi_list.append(basis(2,0))\n",
        "psi_list.append(basis(2,1))\n",
        "for n in range(2):\n",
        "    psi_list.append(basis(2,0))\n",
        "psi0 = tensor(psi_list)\n",
        "\n",
        "tlist = np.linspace(0, 10, 100)\n",
        "\n",
        "spin_ops_expt = hamiltonian(N, Jx, Jy, Jz, h, psi0, tlist, gamma, solver)\n"
      ],
      "metadata": {
        "id": "FY_q2gqx8Biq"
      },
      "execution_count": null,
      "outputs": []
    },
    {
      "cell_type": "code",
      "source": [
        "print(spin_ops_expt)"
      ],
      "metadata": {
        "id": "u1hNaE07j1uT"
      },
      "execution_count": null,
      "outputs": []
    },
    {
      "cell_type": "code",
      "source": [
        "from cmath import * \n",
        "from math import * \n",
        "\n",
        "def W(a,b, k_max): \n",
        "  return sum(e**(1j * k * (a-b))*k for k in range(k_max))\n",
        "\n",
        "W(1,1, 10)"
      ],
      "metadata": {
        "id": "2cddqj6g63ic"
      },
      "execution_count": null,
      "outputs": []
    },
    {
      "cell_type": "code",
      "source": [
        "x_op = sum((.5 + sz_expt[i])*i for i in range(N))\n",
        "\n",
        "def W(a,b, k_max): \n",
        "  return sum(e**(1j * k * 2 * pi * (a-b) * N**-1)*(k*2*pi*N**-1) for k in range(k_max))\n",
        "\n",
        "p_op = np.real(sum(W(i,j,10)*(sx_expt[i]*sx_expt[j]+sy_expt[i]*sy_expt[j]) for i in range(N) for j in range(N)))\n",
        "\n",
        "corr_xop_pop = .5*(x_op * p_op + p_op * x_op)\n"
      ],
      "metadata": {
        "id": "GPhjIcLi4S3g"
      },
      "execution_count": null,
      "outputs": []
    },
    {
      "cell_type": "code",
      "source": [
        "fig, ax = plt.subplots(figsize=(10,6))\n",
        "\n",
        "ax.plot(tlist, x_op-10.95, label=r'$\\hat{x}= \\langle \\sum_{a}(\\sigma_z^{(a)}+1/2)*a\\rangle - 10.95$')\n",
        "ax.plot(tlist, p_op, label=r'$\\hat{p}= \\langle \\sum_{a,b}W(a,b,k_{max})(\\sigma_x^{(a)}\\sigma_x^{(b)}+\\sigma_y^{(a)}\\sigma_y^{(b)}}))\\rangle$')\n",
        "\n",
        "ax.legend(loc=0)\n",
        "ax.set_xlabel(r'Time [s]')\n",
        "ax.set_ylabel(r'$\\langle\\sigma_z\\rangle$')\n",
        "ax.set_title(r'Dynamics of a Heisenberg spin chain for N=5 spins and $\\gamma = 5\\times 10^{-10} $');"
      ],
      "metadata": {
        "id": "uRLfoedD--WH"
      },
      "execution_count": null,
      "outputs": []
    },
    {
      "cell_type": "code",
      "source": [
        " fig, ax = plt.subplots(figsize=(10,6))\n",
        "\n",
        "for n in range(N):\n",
        "    ax.plot(tlist, np.real(sz_expt[n]), label=r'$\\langle\\sigma_z^{(%d)}\\rangle$'%n)\n",
        "\n",
        "ax.legend(loc=0)\n",
        "ax.set_xlabel(r'Time [s]')\n",
        "ax.set_ylabel(r'$\\langle\\sigma_z\\rangle$')\n",
        "ax.set_title(r'Dynamics of a Heisenberg spin chain for N=5 spins and $\\gamma = 5\\times 10^{-10} $');"
      ],
      "metadata": {
        "id": "FrRELJ08yzww"
      },
      "execution_count": null,
      "outputs": []
    },
    {
      "cell_type": "markdown",
      "source": [
        "Here we are interested in computing the following expression\n",
        "\n",
        "$$\n",
        "\\mu_X = \\frac{\\bigg(\\sum_{i=1}^N\\langle s_z^i \\rangle+ \\frac{1}{2}\\bigg)i}{\\sum_{i=1}^N\\langle s_z^i \\rangle+ \\frac{1}{2}}\n",
        "$$\n",
        "\n",
        "and the standard deviation is \n",
        "\n",
        "\n",
        "$$\n",
        "\\sigma^2_X= \\frac{\\bigg(\\sum_{i=1}^N\\langle s_{z}^{i} \\rangle+ \\frac{1}{2}\\bigg)i^2}{\\sum_{i=1}^N\\langle s_z^i \\rangle+ \\frac{1}{2}} - \\bigg[\\frac  {\\bigg(\\sum_{i=1}^N\\langle s_{z}^{i} \\rangle+ \\frac{1}{2}\\bigg)i}{\\sum_{i=1}^N\\langle s_z^i \\rangle+ \\frac{1}{2}}\\bigg]^2\n",
        "$$"
      ],
      "metadata": {
        "id": "AmHShGu9lcB-"
      }
    },
    {
      "cell_type": "code",
      "source": [
        "denom_muX = sum(.5*(1-sz_expt[i]) for i in range(5))\n",
        "mu_X= sum(.5*(1-sz_expt[i])*i for i in range((5)))/denom_muX\n",
        "std_devX_term1 = sum(.5*(1-sz_expt[i])*i**2 for i in range((5)))/denom_muX\n",
        "std_devX_term2 = mu_X**2\n",
        "\n",
        "std_devX = std_devX_term1 + std_devX_term2\n",
        "\n",
        "\n",
        "plt.plot(std_devX)"
      ],
      "metadata": {
        "id": "s_-TNNoznsRm"
      },
      "execution_count": null,
      "outputs": []
    },
    {
      "cell_type": "code",
      "source": [
        "def func(x,y):\n",
        "  return x+y, x+y**2\n",
        "\n",
        "a, b = func(2,3)\n",
        "c, d = func(1,1) \n",
        "a, b = func(a+b,c+d)"
      ],
      "metadata": {
        "id": "_JI2VvQqljSt"
      },
      "execution_count": null,
      "outputs": []
    },
    {
      "cell_type": "code",
      "source": [
        "A=[1,2]\n",
        "B=[2,1]\n",
        "\n",
        "l = []\n",
        "for i in range(2):\n",
        "  for j in range(2):\n",
        "   l.append(A[i]*B[j])\n",
        "\n",
        "l"
      ],
      "metadata": {
        "id": "3X0kI7jI0BCs"
      },
      "execution_count": null,
      "outputs": []
    },
    {
      "cell_type": "code",
      "source": [
        "A=[1,2]\n",
        "B=[2,1]\n",
        "\n",
        "l = []\n",
        "for i in range(2):\n",
        "   l.append(A[i]*B[i])\n",
        "\n",
        "l"
      ],
      "metadata": {
        "id": "uTB8NpVu33OB"
      },
      "execution_count": null,
      "outputs": []
    },
    {
      "cell_type": "code",
      "source": [
        ""
      ],
      "metadata": {
        "id": "XXRjSOJc2LIp"
      },
      "execution_count": null,
      "outputs": []
    }
  ]
}