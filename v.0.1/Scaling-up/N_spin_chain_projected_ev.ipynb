{
 "cells": [
  {
   "cell_type": "markdown",
   "metadata": {
    "colab_type": "text",
    "id": "view-in-github"
   },
   "source": [
    "<a href=\"https://colab.research.google.com/github/mmatera/Spin-Chains-/blob/main/HS_projected_evolution_debugged.ipynb\" target=\"_parent\"><img src=\"https://colab.research.google.com/assets/colab-badge.svg\" alt=\"Open In Colab\"/></a>"
   ]
  },
  {
   "cell_type": "code",
   "execution_count": 1,
   "metadata": {
    "colab": {
     "base_uri": "https://localhost:8080/"
    },
    "id": "CzAqDJ65kXXw",
    "outputId": "ee79eca0-d519-420e-c778-12f60c47a8d5"
   },
   "outputs": [
    {
     "name": "stdout",
     "output_type": "stream",
     "text": [
      "Requirement already satisfied: qutip in c:\\users\\tomas\\anaconda3\\lib\\site-packages (4.7.0)\n",
      "Requirement already satisfied: scipy>=1.0 in c:\\users\\tomas\\anaconda3\\lib\\site-packages (from qutip) (1.7.3)\n",
      "Requirement already satisfied: numpy>=1.16.6 in c:\\users\\tomas\\anaconda3\\lib\\site-packages (from qutip) (1.21.5)\n",
      "Requirement already satisfied: packaging in c:\\users\\tomas\\anaconda3\\lib\\site-packages (from qutip) (21.3)\n",
      "Requirement already satisfied: pyparsing!=3.0.5,>=2.0.2 in c:\\users\\tomas\\anaconda3\\lib\\site-packages (from packaging->qutip) (3.0.4)\n",
      "Requirement already satisfied: scipy in c:\\users\\tomas\\anaconda3\\lib\\site-packages (1.7.3)\n",
      "Requirement already satisfied: numpy<1.23.0,>=1.16.5 in c:\\users\\tomas\\anaconda3\\lib\\site-packages (from scipy) (1.21.5)\n",
      "Requirement already satisfied: matplotlib.inline in c:\\users\\tomas\\anaconda3\\lib\\site-packages (0.1.2)\n",
      "Requirement already satisfied: traitlets in c:\\users\\tomas\\anaconda3\\lib\\site-packages (from matplotlib.inline) (5.1.1)\n",
      "Requirement already satisfied: numpy in c:\\users\\tomas\\anaconda3\\lib\\site-packages (1.21.5)\n",
      "Requirement already satisfied: networkx in c:\\users\\tomas\\anaconda3\\lib\\site-packages (2.7.1)\n",
      "Requirement already satisfied: Cython in c:\\users\\tomas\\anaconda3\\lib\\site-packages (0.29.28)\n"
     ]
    }
   ],
   "source": [
    "!pip install qutip\n",
    "!pip install scipy\n",
    "!pip install matplotlib.inline\n",
    "!pip install numpy\n",
    "!pip install networkx\n",
    "!pip install Cython"
   ]
  },
  {
   "cell_type": "code",
   "execution_count": 2,
   "metadata": {
    "id": "6td6yO61kg2q"
   },
   "outputs": [],
   "source": [
    "import qutip\n",
    "import matplotlib.pyplot as plt \n",
    "import numpy as np\n",
    "import scipy.optimize as opt \n",
    "import scipy.linalg as linalg\n",
    "import pickle\n",
    "import math, cmath\n",
    "import General_N_proj_ev_tools as me\n",
    "import time \n",
    "\n",
    "from IPython.display import display, Math, Latex"
   ]
  },
  {
   "cell_type": "code",
   "execution_count": 3,
   "metadata": {},
   "outputs": [],
   "source": [
    "N = 3       # nÃºmero de spines\n",
    "\n",
    "h  = 1.0 * 2 * np.pi * np.ones(N) \n",
    "Jx = 0.15 * 2 * np.pi * np.ones(N)\n",
    "Jy = 0.25 * 2 * np.pi * np.ones(N)\n",
    "Jz = 0.1 * 2 * np.pi * np.ones(N)"
   ]
  },
  {
   "cell_type": "code",
   "execution_count": 4,
   "metadata": {},
   "outputs": [],
   "source": [
    "### Operadores de spin y hamiltoniano\n",
    "\n",
    "## solo 1-operadores\n",
    "globalid_list, sx_list, sy_list, sz_list = me.one_body_spin_ops(N)\n",
    "pauli_vec = [sx_list, sy_list, sz_list]\n",
    "\n",
    "## upto 2-opeadores ie. armÃ© una lista de listas, con 1-operadores y 2-operadores \n",
    "## pero todos actuando sobre el espacio de Hilbert global 2^N dimensional H = \\otimes_{j}^{N} h_j \n",
    "two_body_spin_list = me.all_two_body_spin_ops(N)\n",
    "\n",
    "## Hamiltoniano \n",
    "H_H = me.Heisenberg_hamiltonian(N, Jx, Jy, Jz, h)\n",
    "#qutip.hinton(rho=H_H, title = \"Heisenberg's hamiltonian Hinton diagram\")\n",
    "\n",
    "### Free particle-Operators en tÃ©rminos de los operadores de spin\n",
    "x_op, p_op, comm_xp, corr_xp, p_dot = me.free_particle_ops(N, H_H, sz_list)"
   ]
  },
  {
   "cell_type": "code",
   "execution_count": 5,
   "metadata": {},
   "outputs": [
    {
     "data": {
      "text/latex": [
       "\n",
       "Si quiero un estado gaussiano de operadores de un cuerpo, el mÃ¡s general es \n",
       "\n",
       "$$\n",
       "\\rho_{1,g} = \\exp\\bigg(\\alpha I_N + {\\bf a}_1 \\cdot {\\bf s}_x+{\\bf a}_2 \\cdot {\\bf s}_y+{\\bf a}_3 \\cdot {\\bf s}_z\\bigg) \n",
       "$$\n",
       "\n",
       "anÃ¡logamente con estados gaussianos de operadores de dos cuerpos (pero ya ahÃ­ se me va al carajo).\n",
       "Si en cambio, considero un estado no gaussiano, puedo considerar un estado inicial descorrelacionado de la forma de \n",
       "\n",
       "$$\n",
       "\\rho_0 = x |\\Phi\\rangle \\langle\\Phi| + (1-x)\\frac{{I_d}}{d}\n",
       "$$\n"
      ],
      "text/plain": [
       "<IPython.core.display.Latex object>"
      ]
     },
     "metadata": {},
     "output_type": "display_data"
    }
   ],
   "source": [
    "%%latex\n",
    "\n",
    "Si quiero un estado gaussiano de operadores de un cuerpo, el mÃ¡s general es \n",
    "\n",
    "$$\n",
    "\\rho_{1,g} = \\exp\\bigg(\\alpha I_N + {\\bf a}_1 \\cdot {\\bf s}_x+{\\bf a}_2 \\cdot {\\bf s}_y+{\\bf a}_3 \\cdot {\\bf s}_z\\bigg) \n",
    "$$\n",
    "\n",
    "anÃ¡logamente con estados gaussianos de operadores de dos cuerpos (pero ya ahÃ­ se me va al carajo).\n",
    "Si en cambio, considero un estado no gaussiano, puedo considerar un estado inicial descorrelacionado de la forma de \n",
    "\n",
    "$$\n",
    "\\rho_0 = x |\\Phi\\rangle \\langle\\Phi| + (1-x)\\frac{{I_d}}{d}\n",
    "$$"
   ]
  },
  {
   "cell_type": "code",
   "execution_count": 6,
   "metadata": {},
   "outputs": [
    {
     "data": {
      "text/latex": [
       "Quantum object: dims = [[2, 2, 2], [2, 2, 2]], shape = (8, 8), type = oper, isherm = True\\begin{equation*}\\left(\\begin{array}{*{11}c}0.071 & 0.0 & 0.0 & 0.0 & 0.0 & 0.0 & 0.0 & 0.0\\\\0.0 & 0.071 & 0.0 & 0.0 & 0.0 & 0.0 & 0.0 & 0.0\\\\0.0 & 0.0 & 0.071 & 0.0 & 0.0 & 0.0 & 0.0 & 0.0\\\\0.0 & 0.0 & 0.0 & 0.071 & 0.0 & 0.0 & 0.0 & 0.0\\\\0.0 & 0.0 & 0.0 & 0.0 & 0.500 & 0.0 & 0.0 & 0.0\\\\0.0 & 0.0 & 0.0 & 0.0 & 0.0 & 0.071 & 0.0 & 0.0\\\\0.0 & 0.0 & 0.0 & 0.0 & 0.0 & 0.0 & 0.071 & 0.0\\\\0.0 & 0.0 & 0.0 & 0.0 & 0.0 & 0.0 & 0.0 & 0.071\\\\\\end{array}\\right)\\end{equation*}"
      ],
      "text/plain": [
       "Quantum object: dims = [[2, 2, 2], [2, 2, 2]], shape = (8, 8), type = oper, isherm = True\n",
       "Qobj data =\n",
       "[[0.07142857 0.         0.         0.         0.         0.\n",
       "  0.         0.        ]\n",
       " [0.         0.07142857 0.         0.         0.         0.\n",
       "  0.         0.        ]\n",
       " [0.         0.         0.07142857 0.         0.         0.\n",
       "  0.         0.        ]\n",
       " [0.         0.         0.         0.07142857 0.         0.\n",
       "  0.         0.        ]\n",
       " [0.         0.         0.         0.         0.5        0.\n",
       "  0.         0.        ]\n",
       " [0.         0.         0.         0.         0.         0.07142857\n",
       "  0.         0.        ]\n",
       " [0.         0.         0.         0.         0.         0.\n",
       "  0.07142857 0.        ]\n",
       " [0.         0.         0.         0.         0.         0.\n",
       "  0.         0.07142857]]"
      ]
     },
     "execution_count": 6,
     "metadata": {},
     "output_type": "execute_result"
    }
   ],
   "source": [
    "## ket combinaciÃ³n lineal \n",
    "\n",
    "psi1_list = []; psi2_list = []\n",
    "psi1_list.append(qutip.basis(2,1))\n",
    "for n in range(N-1):\n",
    "    psi1_list.append(qutip.basis(2,0))\n",
    "\n",
    "psi2_list.append(qutip.basis(2,0))\n",
    "psi2_list.append(qutip.basis(2,1))\n",
    "for n in range(N-2):\n",
    "    psi2_list.append(qutip.basis(2,0))\n",
    "\n",
    "psi01 = qutip.tensor(psi1_list); psi02 = qutip.tensor(psi2_list) \n",
    "psi0 = psi01 #+psi02 #sÃ­ estÃ¡ en el ME2, aparece un proyector s1, s2 -> estado ME2\n",
    "# rho = psi0 * psi0.dag() entrelazado\n",
    "## estado no gaussiano\n",
    "\n",
    "loc_globalid = qutip.tensor([qutip.qeye(2) for k in range(N)])\n",
    "me.initial_state(N, False, None, .5, None, psi0)\n",
    "#qutip.hinton(.5 * psi0 * psi0.dag() + (1-.5) * loc_globalid * .5**N) # no es ME1, es un no gaussiano."
   ]
  },
  {
   "cell_type": "code",
   "execution_count": 8,
   "metadata": {},
   "outputs": [
    {
     "data": {
      "text/plain": [
       "3"
      ]
     },
     "execution_count": 8,
     "metadata": {},
     "output_type": "execute_result"
    }
   ],
   "source": [
    "len(me.one_body_spin_ops(N)[0])"
   ]
  },
  {
   "cell_type": "code",
   "execution_count": 10,
   "metadata": {},
   "outputs": [
    {
     "name": "stdout",
     "output_type": "stream",
     "text": [
      "Tr(rho_me1^2) = 0.1250002812500703\n",
      "S(rho_me1^2) = 2.0794404166802574\n",
      "Tr(rho_me2^2) = 0.12500340041570357\n",
      "S(rho_me2^2) = 2.0794279740817894\n",
      "Tr(rho_ng^2) = 0.28571428571428586\n",
      "S(rho_ng^2) = 1.6661022550876021\n"
     ]
    }
   ],
   "source": [
    "### Algunas analytics de los estados usados\n",
    "\n",
    "## Estado Max Ent 1\n",
    "\n",
    "#coeffs_me1 = [[10**-10,2*10**-10],[np.pi*10**-10,10**-18],[10**-18,10**-18],[10**-18,10**-18]]\n",
    "a = len(me.one_body_spin_ops(N))\n",
    "b = len(me.one_body_spin_ops(N)[0])\n",
    "coeffs_me1 = 10**-3 * np.full((a,b),1.)\n",
    "\n",
    "rho_me1 = me.initial_state(N, True, 1, None, coeffs_me1, None)\n",
    "print(\"Tr(rho_me1^2) =\",(rho_me1*rho_me1).tr()) ## nuevamente, no es un estado puro porque tr rhoÂ² != 1\n",
    "                                           ## estado mixto rho_me1 = sum c_i ket(psi_i) bra(psi_i)\n",
    "print(\"S(rho_me1^2) =\", qutip.entropy_vn(rho_me1)) ## nuevamente un estado mixto porque da mayor a 1\n",
    "\n",
    "## y cÃ³mo se sÃ­ es entrelazado o no?\n",
    "\n",
    "## Estado Max-En2\n",
    "a = len(me.all_two_body_spin_ops(N))\n",
    "b = len(me.all_two_body_spin_ops(N)[0])\n",
    "coeffs_all = 10**-3 * np.full((a,b),1.)\n",
    "\n",
    "rho_me2 = me.initial_state(N, True, 2, None, coeffs_all, None)\n",
    "print(\"Tr(rho_me2^2) =\",(rho_me2*rho_me2).tr()) ## nuevamente, no es un estado puro porque tr rhoÂ² != 1\n",
    "                                           ## estado mixto rho_me2 = sum c_i ket(psi_i) bra(psi_i)\n",
    "print(\"S(rho_me2^2) =\", qutip.entropy_vn(rho_me2)) ## nuevamente un estado mixto no da 0 \n",
    "\n",
    "## Estado no gaussiano\n",
    "rho_ng = me.initial_state(N, False, None, .5, None, psi0)\n",
    "print(\"Tr(rho_ng^2) =\",(rho_ng*rho_ng).tr()) ## nuevamente, no es un estado puro porque tr rhoÂ² != 1\n",
    "                                         ## sum c_i ket(psi_i) bra(psi_i)\n",
    "print(\"S(rho_ng^2) =\", qutip.entropy_vn(rho_ng)) ## nuevamente un estado mixto porque no da 0"
   ]
  },
  {
   "cell_type": "code",
   "execution_count": 11,
   "metadata": {},
   "outputs": [
    {
     "name": "stdout",
     "output_type": "stream",
     "text": [
      "0.13494339720695994\n",
      "0.31625658578924193\n",
      "0.41312612587780834\n"
     ]
    }
   ],
   "source": [
    "## Algunas mÃ©tricas de los estados\n",
    "print(me.bures(me.initial_state(N, True, 1, .5, coeffs_me1, None), me.initial_state(N, False, 1, .5, None, psi0)))\n",
    "print(me.rel_entropy(me.initial_state(N, True, 1, .5, coeffs_me1, None), me.initial_state(N, False, 1, .5, None, psi0)))\n",
    "print(me.rel_entropy(me.initial_state(N, False, 1, .5, None, psi0),me.initial_state(N, True, 1, .5, coeffs_me1, None)))"
   ]
  },
  {
   "cell_type": "code",
   "execution_count": 13,
   "metadata": {},
   "outputs": [
    {
     "name": "stderr",
     "output_type": "stream",
     "text": [
      "/home/tomas/.conda/envs/qutip/lib/python3.10/site-packages/qutip/qobj.py:303: UserWarning: Initializing Qobj from unsupported type: <class 'type'>\n",
      "  warnings.warn(\"Initializing Qobj from unsupported type: %s\" %\n"
     ]
    },
    {
     "name": "stdout",
     "output_type": "stream",
     "text": [
      "{'_isherm': None, '_type': None, 'superrep': None, '_isunitary': None, '_data': <1x1 sparse matrix of type '<class 'numpy.complex128'>'\n",
      "\twith 0 stored elements in Compressed Sparse Row format>, 'dims': [[1], [1]], 'rho_me1': Quantum object: dims = [[2, 2, 2], [2, 2, 2]], shape = (8, 8), type = oper, isherm = True\n",
      "Qobj data =\n",
      "[[ 1.25187594e-01+0.00000000e+00j  6.25625000e-05-6.25625000e-05j\n",
      "   6.25625000e-05-6.25625000e-05j  0.00000000e+00-6.25312187e-08j\n",
      "   6.25625000e-05-6.25625000e-05j  0.00000000e+00-6.25312187e-08j\n",
      "   0.00000000e+00-6.25312187e-08j -3.12499766e-11-3.12499766e-11j]\n",
      " [ 6.25625000e-05+6.25625000e-05j  1.25062469e-01+0.00000000e+00j\n",
      "   6.25312187e-08+0.00000000e+00j  6.24999688e-05-6.24999688e-05j\n",
      "   6.25312187e-08+0.00000000e+00j  6.24999688e-05-6.24999688e-05j\n",
      "   3.12499766e-11-3.12499766e-11j  0.00000000e+00-6.24687188e-08j]\n",
      " [ 6.25625000e-05+6.25625000e-05j  6.25312187e-08+0.00000000e+00j\n",
      "   1.25062469e-01+0.00000000e+00j  6.24999688e-05-6.24999688e-05j\n",
      "   6.25312187e-08+0.00000000e+00j  3.12499766e-11-3.12499766e-11j\n",
      "   6.24999688e-05-6.24999688e-05j  0.00000000e+00-6.24687188e-08j]\n",
      " [ 0.00000000e+00+6.25312187e-08j  6.24999688e-05+6.24999688e-05j\n",
      "   6.24999688e-05+6.24999688e-05j  1.24937469e-01+0.00000000e+00j\n",
      "   3.12499766e-11+3.12499766e-11j  6.24687188e-08+0.00000000e+00j\n",
      "   6.24687188e-08+0.00000000e+00j  6.24375000e-05-6.24375000e-05j]\n",
      " [ 6.25625000e-05+6.25625000e-05j  6.25312187e-08+0.00000000e+00j\n",
      "   6.25312187e-08+0.00000000e+00j  3.12499766e-11-3.12499766e-11j\n",
      "   1.25062469e-01+0.00000000e+00j  6.24999688e-05-6.24999688e-05j\n",
      "   6.24999688e-05-6.24999688e-05j  0.00000000e+00-6.24687188e-08j]\n",
      " [ 0.00000000e+00+6.25312187e-08j  6.24999688e-05+6.24999688e-05j\n",
      "   3.12499766e-11+3.12499766e-11j  6.24687188e-08+0.00000000e+00j\n",
      "   6.24999688e-05+6.24999688e-05j  1.24937469e-01+0.00000000e+00j\n",
      "   6.24687188e-08+0.00000000e+00j  6.24375000e-05-6.24375000e-05j]\n",
      " [ 0.00000000e+00+6.25312187e-08j  3.12499766e-11+3.12499766e-11j\n",
      "   6.24999688e-05+6.24999688e-05j  6.24687188e-08+0.00000000e+00j\n",
      "   6.24999688e-05+6.24999688e-05j  6.24687188e-08+0.00000000e+00j\n",
      "   1.24937469e-01+0.00000000e+00j  6.24375000e-05-6.24375000e-05j]\n",
      " [-3.12499766e-11+3.12499766e-11j  0.00000000e+00+6.24687188e-08j\n",
      "   0.00000000e+00+6.24687188e-08j  6.24375000e-05+6.24375000e-05j\n",
      "   0.00000000e+00+6.24687188e-08j  6.24375000e-05+6.24375000e-05j\n",
      "   6.24375000e-05+6.24375000e-05j  1.24812594e-01+0.00000000e+00j]]}\n"
     ]
    }
   ],
   "source": [
    "class one_body_max_ent(qutip.Qobj):\n",
    "    def __init__(self, rho_me1):\n",
    "        super().__init__(qutip.Qobj)\n",
    "        self.rho_me1 = me.n_body_max_ent_state(1, N, coeffs_me1)\n",
    "\n",
    "class two_body_max_ent(qutip.Qobj):\n",
    "    def __init__(self, rho_me2):\n",
    "        super().__init__(qutip.Qobj)\n",
    "        self.rho_me2 = me.n_body_max_ent_state(2, N, coeffs_all) \n",
    "\n",
    "rho1 = one_body_max_ent(coeffs_me1)\n",
    "rho2 = two_body_max_ent(coeffs_all)\n",
    "\n",
    "print(rho1.__dict__)"
   ]
  },
  {
   "cell_type": "code",
   "execution_count": 14,
   "metadata": {},
   "outputs": [],
   "source": [
    "class Result(object):\n",
    "      def __init__(self, ts=None, states=None):\n",
    "        self.ts = ts\n",
    "        self.states = states\n",
    "        self.projrho0_app = None   \n",
    "        self.projrho_inst_app = None \n",
    "\n",
    "def callback(t, rhot):\n",
    "    global rho\n",
    "    rho = rhot\n",
    "  \n",
    "def projected_evolution(N, author=True,x=.5, gamma = 1*np.e*-2, omega_1=3., omega_2=3.,temp=1, \n",
    "                        gaussian=True, gr = 2, deltat=10., tmax = 500., distance=me.bures, \n",
    "                        do_project=True):\n",
    "    global rho\n",
    "    loc_globalid = qutip.tensor([qutip.qeye(2) for k in range(N)])\n",
    "\n",
    "    if (gaussian and gr == 1):\n",
    "        coeffs_me1_gr1 = [[10**-1,2*10**-1],[np.pi*10**-1,10**-18],\n",
    "                          [10**-18,10**-18],[10**-18,10**-18]]\n",
    "        rho0 = me.initial_state(N, True, 1, None, coeffs_me1_gr1, None)\n",
    "        \n",
    "    elif(gaussian and gr == 2):\n",
    "        a = len(me.all_two_body_spin_ops(N))\n",
    "        b = len(me.all_two_body_spin_ops(N)[0])\n",
    "\n",
    "        coeffs_me2_gr2 = 10**-1.5 * np.full((a,b),1.)\n",
    "        rho0 = me.initial_state(N, True, 2, None, coeffs_me2_gr2, None)\n",
    "             \n",
    "    elif(not gaussian):\n",
    "        rho0 = me.initial_state(N, gaussian, None, x, None, psi0)\n",
    "         \n",
    "    if (author):\n",
    "        basis = me.base_orth(me.n_body_basis(N,2), rho0)  ## // Ã la Tom\n",
    "    else: \n",
    "        lista_ampliada = []\n",
    "        for i in range(len(me.n_body_basis(N,1))):\n",
    "            lista_ampliada.append(qutip.tensor(me.n_body_basis(N,1)[i], qutip.qeye(2)))\n",
    "        basis = me.base_orth(lista_ampliada, rho0) \n",
    "        \n",
    "    obs = [x_op, p_op, comm_xp, corr_xp, p_dot]\n",
    "          #, x_op**2,p_op**2, corr_op, p_dot]\n",
    "        \n",
    "    sampling = max(int(10*max(1,omega_1, omega_2)*deltat), 10)\n",
    "    print(\"sampling:\", sampling)\n",
    "    c_op_list = me.spin_dephasing(N,gamma)\n",
    "    rho = rho0                                                               ## // Ã la Mauricio\n",
    "    approx_exp_vals = [[qutip.expect(op, rho) for op in obs]]\n",
    "    ts = [0]\n",
    "\n",
    "    for i in range(int(tmax/deltat)):\n",
    "        qutip.mesolve(H=H_H, \n",
    "                               rho0=rho, \n",
    "                               tlist=np.linspace(0,deltat, sampling), \n",
    "                               c_ops=c_op_list, \n",
    "                               e_ops=callback,\n",
    "                               args={'gamma': gamma,'omega_1': omega_1, 'omega_2': omega_2}\n",
    "                               )\n",
    "        ts.append(deltat*i)\n",
    "        if do_project:\n",
    "            rho = me.proj_op(me.logM(rho), basis, rho0)\n",
    "            #rho = me.proj_op(me.logM(rho), basis, loc_globalid)\n",
    "            e0 = max(rho.eigenenergies())\n",
    "            rho = rho - loc_globalid * e0\n",
    "            rho = rho.expm()\n",
    "            trrho = (2.*rho.tr())\n",
    "            rho = (rho+rho.dag())/trrho\n",
    "\n",
    "        #print(qutip.entropy.entropy_vn(rho))\n",
    "        newobs = [qutip.expect(rho, op) for op in obs]\n",
    "        approx_exp_vals.append(newobs)\n",
    "\n",
    "    result = {}\n",
    "    result[\"ts\"] = ts\n",
    "    result[\"averages\"] = np.array(approx_exp_vals)\n",
    "    \n",
    "    title = f\" BW DinÃ¡mica cerrada no gaussiana wb1={omega_1} wb2={omega_2}\" \n",
    "    if do_project:\n",
    "        title = title + \"_projected_\"\n",
    "\n",
    "    with open(title+\".pkl\",\"wb\") as f:\n",
    "        pickle.dump(result, f)\n",
    "    return result"
   ]
  },
  {
   "cell_type": "code",
   "execution_count": 28,
   "metadata": {
    "scrolled": true
   },
   "outputs": [
    {
     "ename": "TypeError",
     "evalue": "Incompatible Qobj shapes",
     "output_type": "error",
     "traceback": [
      "\u001b[1;31m---------------------------------------------------------------------------\u001b[0m",
      "\u001b[1;31mTypeError\u001b[0m                                 Traceback (most recent call last)",
      "Input \u001b[1;32mIn [28]\u001b[0m, in \u001b[0;36m<cell line: 3>\u001b[1;34m()\u001b[0m\n\u001b[0;32m      1\u001b[0m \u001b[38;5;66;03m## usando n_body_basis(2) y el estado no gaussiano de Mauricio\u001b[39;00m\n\u001b[1;32m----> 3\u001b[0m results \u001b[38;5;241m=\u001b[39m \u001b[43mprojected_evolution\u001b[49m\u001b[43m(\u001b[49m\u001b[43mN\u001b[49m\u001b[38;5;241;43m=\u001b[39;49m\u001b[38;5;241;43m3\u001b[39;49m\u001b[43m,\u001b[49m\u001b[43m \u001b[49m\u001b[43mauthor\u001b[49m\u001b[43m \u001b[49m\u001b[38;5;241;43m=\u001b[39;49m\u001b[43m \u001b[49m\u001b[38;5;28;43;01mTrue\u001b[39;49;00m\u001b[43m,\u001b[49m\u001b[43m \u001b[49m\u001b[43mx\u001b[49m\u001b[38;5;241;43m=\u001b[39;49m\u001b[38;5;241;43m.5\u001b[39;49m\u001b[43m,\u001b[49m\u001b[43m \u001b[49m\u001b[43mgamma\u001b[49m\u001b[43m \u001b[49m\u001b[38;5;241;43m=\u001b[39;49m\u001b[43m \u001b[49m\u001b[38;5;241;43m1\u001b[39;49m\u001b[38;5;241;43m*\u001b[39;49m\u001b[43mnp\u001b[49m\u001b[38;5;241;43m.\u001b[39;49m\u001b[43me\u001b[49m\u001b[38;5;241;43m*\u001b[39;49m\u001b[38;5;241;43m-\u001b[39;49m\u001b[38;5;241;43m1\u001b[39;49m\u001b[43m,\u001b[49m\u001b[43m \u001b[49m\u001b[43momega_1\u001b[49m\u001b[38;5;241;43m=\u001b[39;49m\u001b[38;5;241;43m3.\u001b[39;49m\u001b[43m,\u001b[49m\u001b[43m \u001b[49m\u001b[43momega_2\u001b[49m\u001b[38;5;241;43m=\u001b[39;49m\u001b[38;5;241;43m3.\u001b[39;49m\u001b[43m,\u001b[49m\n\u001b[0;32m      4\u001b[0m \u001b[43m                              \u001b[49m\u001b[43mtemp\u001b[49m\u001b[38;5;241;43m=\u001b[39;49m\u001b[38;5;241;43m1\u001b[39;49m\u001b[43m,\u001b[49m\u001b[43m \u001b[49m\u001b[43mgaussian\u001b[49m\u001b[38;5;241;43m=\u001b[39;49m\u001b[38;5;28;43;01mFalse\u001b[39;49;00m\u001b[43m,\u001b[49m\u001b[43m \u001b[49m\u001b[43mgr\u001b[49m\u001b[43m \u001b[49m\u001b[38;5;241;43m=\u001b[39;49m\u001b[43m \u001b[49m\u001b[38;5;28;43;01mNone\u001b[39;49;00m\u001b[43m,\u001b[49m\u001b[43m \u001b[49m\u001b[43mdeltat\u001b[49m\u001b[38;5;241;43m=\u001b[39;49m\u001b[38;5;241;43m1\u001b[39;49m\u001b[43m,\u001b[49m\u001b[43m \u001b[49m\u001b[43mtmax\u001b[49m\u001b[43m \u001b[49m\u001b[38;5;241;43m=\u001b[39;49m\u001b[43m \u001b[49m\u001b[38;5;241;43m50\u001b[39;49m\u001b[43m,\u001b[49m\u001b[43m \u001b[49m\n\u001b[0;32m      5\u001b[0m \u001b[43m                              \u001b[49m\u001b[43mdistance\u001b[49m\u001b[38;5;241;43m=\u001b[39;49m\u001b[43mme\u001b[49m\u001b[38;5;241;43m.\u001b[39;49m\u001b[43mbures\u001b[49m\u001b[43m,\u001b[49m\u001b[43mdo_project\u001b[49m\u001b[38;5;241;43m=\u001b[39;49m\u001b[38;5;28;43;01mTrue\u001b[39;49;00m\u001b[43m)\u001b[49m\n\u001b[0;32m      7\u001b[0m plt\u001b[38;5;241m.\u001b[39mplot(results[\u001b[38;5;124m\"\u001b[39m\u001b[38;5;124mts\u001b[39m\u001b[38;5;124m\"\u001b[39m], results[\u001b[38;5;124m\"\u001b[39m\u001b[38;5;124maverages\u001b[39m\u001b[38;5;124m\"\u001b[39m][:,\u001b[38;5;241m0\u001b[39m], label\u001b[38;5;241m=\u001b[39m\u001b[38;5;124m\"\u001b[39m\u001b[38;5;124mx Projected\u001b[39m\u001b[38;5;124m\"\u001b[39m)\n\u001b[0;32m      8\u001b[0m results \u001b[38;5;241m=\u001b[39m projected_evolution(N\u001b[38;5;241m=\u001b[39m\u001b[38;5;241m3\u001b[39m, author \u001b[38;5;241m=\u001b[39m \u001b[38;5;28;01mTrue\u001b[39;00m, x\u001b[38;5;241m=\u001b[39m\u001b[38;5;241m.5\u001b[39m, gamma \u001b[38;5;241m=\u001b[39m \u001b[38;5;241m1\u001b[39m\u001b[38;5;241m*\u001b[39mnp\u001b[38;5;241m.\u001b[39me\u001b[38;5;241m*\u001b[39m\u001b[38;5;241m-\u001b[39m\u001b[38;5;241m1\u001b[39m, omega_1\u001b[38;5;241m=\u001b[39m\u001b[38;5;241m3.\u001b[39m, omega_2\u001b[38;5;241m=\u001b[39m\u001b[38;5;241m3.\u001b[39m,\n\u001b[0;32m      9\u001b[0m                               temp\u001b[38;5;241m=\u001b[39m\u001b[38;5;241m1\u001b[39m, gaussian\u001b[38;5;241m=\u001b[39m\u001b[38;5;28;01mFalse\u001b[39;00m, gr \u001b[38;5;241m=\u001b[39m \u001b[38;5;28;01mNone\u001b[39;00m, deltat\u001b[38;5;241m=\u001b[39m\u001b[38;5;241m1\u001b[39m, tmax \u001b[38;5;241m=\u001b[39m \u001b[38;5;241m50\u001b[39m, \n\u001b[0;32m     10\u001b[0m                               distance\u001b[38;5;241m=\u001b[39mme\u001b[38;5;241m.\u001b[39mbures,do_project\u001b[38;5;241m=\u001b[39m\u001b[38;5;28;01mFalse\u001b[39;00m)\n",
      "Input \u001b[1;32mIn [26]\u001b[0m, in \u001b[0;36mprojected_evolution\u001b[1;34m(N, author, x, gamma, omega_1, omega_2, temp, gaussian, gr, deltat, tmax, distance, do_project)\u001b[0m\n\u001b[0;32m     31\u001b[0m     rho0 \u001b[38;5;241m=\u001b[39m me\u001b[38;5;241m.\u001b[39minitial_state(N, gaussian, \u001b[38;5;28;01mNone\u001b[39;00m, x, \u001b[38;5;28;01mNone\u001b[39;00m, psi0)\n\u001b[0;32m     33\u001b[0m \u001b[38;5;28;01mif\u001b[39;00m (author):\n\u001b[1;32m---> 34\u001b[0m     basis \u001b[38;5;241m=\u001b[39m \u001b[43mme\u001b[49m\u001b[38;5;241;43m.\u001b[39;49m\u001b[43mbase_orth\u001b[49m\u001b[43m(\u001b[49m\u001b[43mme\u001b[49m\u001b[38;5;241;43m.\u001b[39;49m\u001b[43mn_body_basis\u001b[49m\u001b[43m(\u001b[49m\u001b[43mN\u001b[49m\u001b[43m,\u001b[49m\u001b[38;5;241;43m2\u001b[39;49m\u001b[43m)\u001b[49m\u001b[43m,\u001b[49m\u001b[43m \u001b[49m\u001b[43mrho0\u001b[49m\u001b[43m)\u001b[49m  \u001b[38;5;66;03m## // Ã la Tom\u001b[39;00m\n\u001b[0;32m     35\u001b[0m \u001b[38;5;28;01melse\u001b[39;00m: \n\u001b[0;32m     36\u001b[0m     lista_ampliada \u001b[38;5;241m=\u001b[39m []\n",
      "File \u001b[1;32m~\\PhD Physics\\1st Year\\Spin Chains\\Scaling up the project\\proj_ev_tools.py:259\u001b[0m, in \u001b[0;36mbase_orth\u001b[1;34m(ops, rho0)\u001b[0m\n\u001b[0;32m    257\u001b[0m alpha \u001b[38;5;241m=\u001b[39m [scalar_prod(op2, op, rho0) \u001b[38;5;28;01mfor\u001b[39;00m op2 \u001b[38;5;129;01min\u001b[39;00m basis]\n\u001b[0;32m    258\u001b[0m op_mod \u001b[38;5;241m=\u001b[39m op \u001b[38;5;241m-\u001b[39m \u001b[38;5;28msum\u001b[39m([c\u001b[38;5;241m*\u001b[39mop2 \u001b[38;5;28;01mfor\u001b[39;00m c, op2, \u001b[38;5;129;01min\u001b[39;00m \u001b[38;5;28mzip\u001b[39m(alpha, basis)])\n\u001b[1;32m--> 259\u001b[0m op_norm \u001b[38;5;241m=\u001b[39m np\u001b[38;5;241m.\u001b[39msqrt(\u001b[43mscalar_prod\u001b[49m\u001b[43m(\u001b[49m\u001b[43mop_mod\u001b[49m\u001b[43m,\u001b[49m\u001b[43mop_mod\u001b[49m\u001b[43m,\u001b[49m\u001b[43mrho0\u001b[49m\u001b[43m)\u001b[49m)\n\u001b[0;32m    260\u001b[0m \u001b[38;5;28;01mif\u001b[39;00m op_norm\u001b[38;5;241m<\u001b[39m\u001b[38;5;241m1.e-12\u001b[39m:\n\u001b[0;32m    261\u001b[0m     \u001b[38;5;28;01mcontinue\u001b[39;00m\n",
      "File \u001b[1;32m~\\PhD Physics\\1st Year\\Spin Chains\\Scaling up the project\\proj_ev_tools.py:243\u001b[0m, in \u001b[0;36mscalar_prod\u001b[1;34m(op1, op2, rho0, HS_modified)\u001b[0m\n\u001b[0;32m    241\u001b[0m     rho0 \u001b[38;5;241m=\u001b[39m qutip\u001b[38;5;241m.\u001b[39mqeye(op1\u001b[38;5;241m.\u001b[39mdims[\u001b[38;5;241m0\u001b[39m])\u001b[38;5;241m/\u001b[39mop1\u001b[38;5;241m.\u001b[39mdims[\u001b[38;5;241m0\u001b[39m][\u001b[38;5;241m0\u001b[39m]\n\u001b[0;32m    242\u001b[0m \u001b[38;5;28;01mif\u001b[39;00m (HS_modified):  \n\u001b[1;32m--> 243\u001b[0m     result \u001b[38;5;241m=\u001b[39m \u001b[38;5;241m.5\u001b[39m\u001b[38;5;241m*\u001b[39m(\u001b[43mrho0\u001b[49m\u001b[38;5;241;43m*\u001b[39;49m\u001b[43m(\u001b[49m\u001b[43mop1\u001b[49m\u001b[38;5;241;43m*\u001b[39;49m\u001b[43mop2\u001b[49m\u001b[38;5;241;43m.\u001b[39;49m\u001b[43mdag\u001b[49m\u001b[43m(\u001b[49m\u001b[43m)\u001b[49m\u001b[38;5;241;43m+\u001b[39;49m\u001b[43mop2\u001b[49m\u001b[38;5;241;43m.\u001b[39;49m\u001b[43mdag\u001b[49m\u001b[43m(\u001b[49m\u001b[43m)\u001b[49m\u001b[38;5;241;43m*\u001b[39;49m\u001b[43mop1\u001b[49m\u001b[43m)\u001b[49m)\u001b[38;5;241m.\u001b[39mtr()\n\u001b[0;32m    244\u001b[0m \u001b[38;5;28;01melse\u001b[39;00m: \n\u001b[0;32m    245\u001b[0m     result \u001b[38;5;241m=\u001b[39m \u001b[38;5;241m.5\u001b[39m\u001b[38;5;241m*\u001b[39m(rho0\u001b[38;5;241m*\u001b[39m(op1\u001b[38;5;241m.\u001b[39mdag()\u001b[38;5;241m*\u001b[39mop2))\u001b[38;5;241m.\u001b[39mtr()\n",
      "File \u001b[1;32m~\\anaconda3\\lib\\site-packages\\qutip\\qobj.py:555\u001b[0m, in \u001b[0;36mQobj.__mul__\u001b[1;34m(self, other)\u001b[0m\n\u001b[0;32m    552\u001b[0m         \u001b[38;5;28;01mreturn\u001b[39;00m out\u001b[38;5;241m.\u001b[39mtidyup() \u001b[38;5;28;01mif\u001b[39;00m settings\u001b[38;5;241m.\u001b[39mauto_tidyup \u001b[38;5;28;01melse\u001b[39;00m out\n\u001b[0;32m    554\u001b[0m     \u001b[38;5;28;01melse\u001b[39;00m:\n\u001b[1;32m--> 555\u001b[0m         \u001b[38;5;28;01mraise\u001b[39;00m \u001b[38;5;167;01mTypeError\u001b[39;00m(\u001b[38;5;124m\"\u001b[39m\u001b[38;5;124mIncompatible Qobj shapes\u001b[39m\u001b[38;5;124m\"\u001b[39m)\n\u001b[0;32m    557\u001b[0m \u001b[38;5;28;01melif\u001b[39;00m \u001b[38;5;28misinstance\u001b[39m(other, np\u001b[38;5;241m.\u001b[39mndarray):\n\u001b[0;32m    558\u001b[0m     \u001b[38;5;28;01mif\u001b[39;00m other\u001b[38;5;241m.\u001b[39mdtype \u001b[38;5;241m==\u001b[39m \u001b[38;5;124m'\u001b[39m\u001b[38;5;124mobject\u001b[39m\u001b[38;5;124m'\u001b[39m:\n",
      "\u001b[1;31mTypeError\u001b[0m: Incompatible Qobj shapes"
     ]
    }
   ],
   "source": [
    "## usando n_body_basis(2) y el estado no gaussiano de Mauricio\n",
    "\n",
    "results = projected_evolution(N=3, author = True, x=.5, gamma = 1*np.e*-1, omega_1=3., omega_2=3.,\n",
    "                              temp=1, gaussian=False, gr = None, deltat=1, tmax = 50, \n",
    "                              distance=me.bures,do_project=True)\n",
    "\n",
    "plt.plot(results[\"ts\"], results[\"averages\"][:,0], label=\"x Projected\")\n",
    "results = projected_evolution(N=3, author = True, x=.5, gamma = 1*np.e*-1, omega_1=3., omega_2=3.,\n",
    "                              temp=1, gaussian=False, gr = None, deltat=1, tmax = 50, \n",
    "                              distance=me.bures,do_project=False)\n",
    "plt.scatter(results[\"ts\"], results[\"averages\"][:,0], label=\"x exact\")\n",
    "plt.legend()"
   ]
  },
  {
   "cell_type": "code",
   "execution_count": 15,
   "metadata": {},
   "outputs": [
    {
     "name": "stdout",
     "output_type": "stream",
     "text": [
      "sampling: 30\n",
      "sampling: 30\n",
      "sampling: 30\n",
      "sampling: 30\n",
      "sampling: 30\n",
      "sampling: 30\n"
     ]
    },
    {
     "data": {
      "text/plain": [
       "<matplotlib.legend.Legend at 0x7f5d8965f5b0>"
      ]
     },
     "execution_count": 15,
     "metadata": {},
     "output_type": "execute_result"
    },
    {
     "data": {
      "image/png": "[encoded data removed]",
      "text/plain": [
       "<Figure size 432x288 with 1 Axes>"
      ]
     },
     "metadata": {
      "needs_background": "light"
     },
     "output_type": "display_data"
    }
   ],
   "source": [
    "## usando n_body_basis(2) y el estado no gaussiano de Mauricio\n",
    "\n",
    "results = projected_evolution(author = True, x=.5, gamma = 1*np.e*-1, omega_1=3., omega_2=3.,\n",
    "                              temp=1, gaussian=False, gr = None, deltat=1, tmax = 50, \n",
    "                              distance=me.bures,do_project=True)\n",
    "plt.plot(results[\"ts\"], results[\"averages\"][:,1], label=\"p Projected\", color = \"black\")\n",
    "results = projected_evolution(author = True, x=.5, gamma = 1*np.e*-1, omega_1=3., omega_2=3.,\n",
    "                              temp=1, gaussian=False, gr = None, deltat=1, tmax = 50, \n",
    "                              distance=me.bures,do_project=False)\n",
    "plt.scatter(results[\"ts\"], results[\"averages\"][:,1], label=\"p exact\", color = \"violet\")\n",
    "plt.legend()\n",
    "\n",
    "results = projected_evolution(author = True, x=.5, gamma = 1*np.e*-1, omega_1=3., omega_2=3.,\n",
    "                              temp=1, gaussian=False, gr = None, deltat=1, tmax = 50, \n",
    "                              distance=me.bures,do_project=True)\n",
    "\n",
    "plt.plot(results[\"ts\"], results[\"averages\"][:,2], label=\" comm_xp Projected\")\n",
    "results = projected_evolution(author = True, x=.5, gamma = 1*np.e*-1, omega_1=3., omega_2=3.,\n",
    "                              temp=1, gaussian=False, gr = None, deltat=1, tmax = 50, \n",
    "                              distance=me.bures,do_project=False)\n",
    "plt.scatter(results[\"ts\"], results[\"averages\"][:,2], label=\"comm_xp exact\")\n",
    "\n",
    "## ---- ## \n",
    "\n",
    "results = projected_evolution(author = True, x=.5, gamma = 1*np.e*-1, omega_1=3., omega_2=3.,\n",
    "                              temp=1, gaussian=False, gr = None, deltat=1, tmax = 50, \n",
    "                              distance=me.bures,do_project=True)\n",
    "\n",
    "plt.plot(results[\"ts\"], results[\"averages\"][:,3], label=\" corr_xp Projected\")\n",
    "results = projected_evolution(author = True, x=.5, gamma = 1*np.e*-1, omega_1=3., omega_2=3.,\n",
    "                              temp=1, gaussian=False, gr = None, deltat=1, tmax = 50, \n",
    "                              distance=me.bures,do_project=False)\n",
    "plt.scatter(results[\"ts\"], results[\"averages\"][:,3], label=\"corr_xp exact\")\n",
    "\n",
    "plt.legend()"
   ]
  },
  {
   "cell_type": "code",
   "execution_count": 128,
   "metadata": {},
   "outputs": [
    {
     "name": "stdout",
     "output_type": "stream",
     "text": [
      "sampling: 120\n"
     ]
    },
    {
     "data": {
      "text/plain": [
       "<matplotlib.legend.Legend at 0x7febd4c512a0>"
      ]
     },
     "execution_count": 128,
     "metadata": {},
     "output_type": "execute_result"
    },
    {
     "data": {
      "image/png": "[encoded data removed]",
      "text/plain": [
       "<Figure size 432x288 with 1 Axes>"
      ]
     },
     "metadata": {
      "needs_background": "light"
     },
     "output_type": "display_data"
    }
   ],
   "source": [
    "results = projected_evolution(author = True, x=None, gamma = 5*np.e*-1, omega_1=3., omega_2=3.,\n",
    "                              temp=1, gaussian=True, gr = 2, deltat=4, tmax = 5, \n",
    "                              distance=me.bures, do_project=False)\n",
    "\n",
    "plt.plot(results, label=\"Von Neumann Entropy\")\n",
    "plt.legend()"
   ]
  },
  {
   "cell_type": "code",
   "execution_count": null,
   "metadata": {},
   "outputs": [],
   "source": []
  },
  {
   "cell_type": "code",
   "execution_count": 16,
   "metadata": {},
   "outputs": [
    {
     "data": {
      "image/png": "[encoded data removed]",
      "text/plain": [
       "<Figure size 432x288 with 1 Axes>"
      ]
     },
     "metadata": {},
     "output_type": "display_data"
    }
   ],
   "source": [
    "import networkx as nx\n",
    "import matplotlib.pyplot as plt\n",
    "\n",
    "G = nx.DiGraph()\n",
    "G.add_edges_from(\n",
    "    [('Sx', 'SxÂ¹'), ('Sx', 'SxÂ²'), ('SxÂ¹', 'Sxa'), ('SxÂ¹', 'Sya'), ('SxÂ¹', 'Sza'), ('Sxa', 'Sx1'), ('Sxa', 'Sx2') ])\n",
    "\n",
    "val_map = {'Sx': 1.0,\n",
    "           'SxÂ²': 0.5714285714285714,\n",
    "           'SxÂ¹': 0.0}\n",
    "\n",
    "values = [val_map.get(node, 0.25) for node in G.nodes()]\n",
    "\n",
    "# Need to create a layout when doing\n",
    "# separate calls to draw nodes and edges\n",
    "pos = nx.spring_layout(G)\n",
    "nx.draw_networkx_nodes(G, pos, cmap=plt.get_cmap('jet'), \n",
    "                       node_color = values, node_size = 500)\n",
    "nx.draw_networkx_labels(G, pos)\n",
    "nx.draw_networkx_edges(G, pos, arrows=True)\n",
    "nx.draw_networkx_edges(G, pos, arrows=False)\n",
    "plt.show()\n"
   ]
  },
  {
   "cell_type": "code",
   "execution_count": 132,
   "metadata": {},
   "outputs": [
    {
     "data": {
      "text/html": [
       "<table><tr><th>Software</th><th>Version</th></tr><tr><td>QuTiP</td><td>4.7.0</td></tr><tr><td>Numpy</td><td>1.22.4</td></tr><tr><td>SciPy</td><td>1.8.1</td></tr><tr><td>matplotlib</td><td>3.5.2</td></tr><tr><td>Cython</td><td>0.29.30</td></tr><tr><td>Number of CPUs</td><td>6</td></tr><tr><td>BLAS Info</td><td>Generic</td></tr><tr><td>IPython</td><td>8.3.0</td></tr><tr><td>Python</td><td>3.10.4 (main, Mar 31 2022, 08:41:55) [GCC 7.5.0]</td></tr><tr><td>OS</td><td>posix [linux]</td></tr><tr><td colspan='2'>Tue Jul 05 11:49:19 2022 -03</td></tr></table>"
      ],
      "text/plain": [
       "<IPython.core.display.HTML object>"
      ]
     },
     "execution_count": 132,
     "metadata": {},
     "output_type": "execute_result"
    }
   ],
   "source": [
    "from qutip.ipynbtools import version_table\n",
    "\n",
    "version_table()"
   ]
  }
 ],
 "metadata": {
  "colab": {
   "include_colab_link": true,
   "name": "Untitled1.ipynb",
   "provenance": []
  },
  "kernelspec": {
   "display_name": "Python 3 (ipykernel)",
   "language": "python",
   "name": "python3"
  },
  "language_info": {
   "codemirror_mode": {
    "name": "ipython",
    "version": 3
   },
   "file_extension": ".py",
   "mimetype": "text/x-python",
   "name": "python",
   "nbconvert_exporter": "python",
   "pygments_lexer": "ipython3",
   "version": "3.10.4"
  }
 },
 "nbformat": 4,
 "nbformat_minor": 1
}
