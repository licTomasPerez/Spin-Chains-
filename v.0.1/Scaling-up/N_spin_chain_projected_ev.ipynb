{
 "cells": [
  {
   "cell_type": "code",
   "execution_count": 1,
   "id": "ff56cd74",
   "metadata": {
    "scrolled": true
   },
   "outputs": [
    {
     "name": "stdout",
     "output_type": "stream",
     "text": [
      "Requirement already satisfied: matplotlib in c:\\users\\tomas\\anaconda3\\lib\\site-packages (3.5.1)\n",
      "Requirement already satisfied: pyparsing>=2.2.1 in c:\\users\\tomas\\anaconda3\\lib\\site-packages (from matplotlib) (3.0.4)\n",
      "Requirement already satisfied: pillow>=6.2.0 in c:\\users\\tomas\\anaconda3\\lib\\site-packages (from matplotlib) (9.0.1)\n",
      "Requirement already satisfied: fonttools>=4.22.0 in c:\\users\\tomas\\anaconda3\\lib\\site-packages (from matplotlib) (4.25.0)\n",
      "Requirement already satisfied: numpy>=1.17 in c:\\users\\tomas\\anaconda3\\lib\\site-packages (from matplotlib) (1.21.5)\n",
      "Requirement already satisfied: kiwisolver>=1.0.1 in c:\\users\\tomas\\anaconda3\\lib\\site-packages (from matplotlib) (1.3.2)\n",
      "Requirement already satisfied: packaging>=20.0 in c:\\users\\tomas\\anaconda3\\lib\\site-packages (from matplotlib) (21.3)\n",
      "Requirement already satisfied: python-dateutil>=2.7 in c:\\users\\tomas\\anaconda3\\lib\\site-packages (from matplotlib) (2.8.2)\n",
      "Requirement already satisfied: cycler>=0.10 in c:\\users\\tomas\\anaconda3\\lib\\site-packages (from matplotlib) (0.11.0)\n",
      "Requirement already satisfied: six>=1.5 in c:\\users\\tomas\\anaconda3\\lib\\site-packages (from python-dateutil>=2.7->matplotlib) (1.16.0)\n",
      "Requirement already satisfied: qutip in c:\\users\\tomas\\anaconda3\\lib\\site-packages (4.7.0)\n",
      "Requirement already satisfied: numpy>=1.16.6 in c:\\users\\tomas\\anaconda3\\lib\\site-packages (from qutip) (1.21.5)\n",
      "Requirement already satisfied: packaging in c:\\users\\tomas\\anaconda3\\lib\\site-packages (from qutip) (21.3)\n",
      "Requirement already satisfied: scipy>=1.0 in c:\\users\\tomas\\anaconda3\\lib\\site-packages (from qutip) (1.7.3)\n",
      "Requirement already satisfied: pyparsing!=3.0.5,>=2.0.2 in c:\\users\\tomas\\anaconda3\\lib\\site-packages (from packaging->qutip) (3.0.4)\n",
      "Requirement already satisfied: numpy in c:\\users\\tomas\\anaconda3\\lib\\site-packages (1.21.5)\n",
      "Requirement already satisfied: scipy in c:\\users\\tomas\\anaconda3\\lib\\site-packages (1.7.3)\n",
      "Requirement already satisfied: numpy<1.23.0,>=1.16.5 in c:\\users\\tomas\\anaconda3\\lib\\site-packages (from scipy) (1.21.5)\n",
      "Requirement already satisfied: Cython in c:\\users\\tomas\\anaconda3\\lib\\site-packages (0.29.28)\n"
     ]
    }
   ],
   "source": [
    "!pip install matplotlib\n",
    "!pip install qutip\n",
    "!pip install numpy \n",
    "!pip install scipy\n",
    "!pip install Cython  "
   ]
  },
  {
   "cell_type": "code",
   "execution_count": 1,
   "id": "d9e25180",
   "metadata": {},
   "outputs": [],
   "source": [
    "import qutip\n",
    "import matplotlib.pyplot as plt \n",
    "import numpy as np\n",
    "import scipy.optimize as opt \n",
    "import scipy.linalg as linalg\n",
    "import pickle\n",
    "import math, cmath\n",
    "import toolkit_proj_ev as me\n",
    "\n",
    "from IPython.display import display, Math, Latex"
   ]
  },
  {
   "cell_type": "code",
   "execution_count": 2,
   "id": "7118cd4e",
   "metadata": {},
   "outputs": [
    {
     "data": {
      "text/latex": [
       "Quantum object: dims = [[2, 2], [2, 2]], shape = (4, 4), type = oper, isherm = True\\begin{equation*}\\left(\\begin{array}{*{11}c}-3.259 & 0.0 & 0.0 & 0.0\\\\0.0 & 0.118 & -0.236 & 0.0\\\\0.0 & -0.236 & 0.118 & 0.0\\\\0.0 & 0.0 & 0.0 & 3.024\\\\\\end{array}\\right)\\end{equation*}"
      ],
      "text/plain": [
       "Quantum object: dims = [[2, 2], [2, 2]], shape = (4, 4), type = oper, isherm = True\n",
       "Qobj data =\n",
       "[[-3.25940238  0.          0.          0.        ]\n",
       " [ 0.          0.11780972 -0.23561945  0.        ]\n",
       " [ 0.         -0.23561945  0.11780972  0.        ]\n",
       " [ 0.          0.          0.          3.02378293]]"
      ]
     },
     "execution_count": 2,
     "metadata": {},
     "output_type": "execute_result"
    },
    {
     "data": {
      "image/png": "[encoded data removed]",
      "text/plain": [
       "<Figure size 576x432 with 2 Axes>"
      ]
     },
     "metadata": {
      "needs_background": "light"
     },
     "output_type": "display_data"
    }
   ],
   "source": [
    "N = 2\n",
    "Jx = .15\n",
    "Jy = .25 \n",
    "Jz = .1\n",
    "h = 1.\n",
    "\n",
    "me.Heisenberg_Hamiltonian(\"XXX\", N, True, Jx, Jy, Jz, h)"
   ]
  },
  {
   "cell_type": "code",
   "execution_count": 3,
   "id": "89c4a0fa",
   "metadata": {},
   "outputs": [
    {
     "data": {
      "text/plain": [
       "(Quantum object: dims = [[2, 2], [2, 2]], shape = (4, 4), type = oper, isherm = True\n",
       " Qobj data =\n",
       " [[3. 0. 0. 0.]\n",
       "  [0. 1. 0. 0.]\n",
       "  [0. 0. 2. 0.]\n",
       "  [0. 0. 0. 0.]],\n",
       " Quantum object: dims = [[2, 2], [2, 2]], shape = (4, 4), type = oper, isherm = True\n",
       " Qobj data =\n",
       " [[0.+0.j         0.+0.j         0.+0.j         0.+0.23561945j]\n",
       "  [0.+0.j         0.+0.j         0.+0.31415927j 0.+0.j        ]\n",
       "  [0.+0.j         0.-0.31415927j 0.+0.j         0.+0.j        ]\n",
       "  [0.-0.23561945j 0.+0.j         0.+0.j         0.+0.j        ]],\n",
       " Quantum object: dims = [[2, 2], [2, 2]], shape = (4, 4), type = oper, isherm = True\n",
       " Qobj data =\n",
       " [[0.+0.j         0.+0.j         0.+0.j         0.+0.35342917j]\n",
       "  [0.+0.j         0.+0.j         0.+0.4712389j  0.+0.j        ]\n",
       "  [0.+0.j         0.-0.4712389j  0.+0.j         0.+0.j        ]\n",
       "  [0.-0.35342917j 0.+0.j         0.+0.j         0.+0.j        ]],\n",
       " Quantum object: dims = [[2, 2], [2, 2]], shape = (4, 4), type = oper, isherm = True\n",
       " Qobj data =\n",
       " [[ 0.          0.          0.          0.70685835]\n",
       "  [ 0.          0.         -0.31415927  0.        ]\n",
       "  [ 0.         -0.31415927  0.          0.        ]\n",
       "  [ 0.70685835  0.          0.          0.        ]],\n",
       " Quantum object: dims = [[2, 2], [2, 2]], shape = (4, 4), type = oper, isherm = True\n",
       " Qobj data =\n",
       " [[ 0.03701102  0.          0.          1.48044066]\n",
       "  [ 0.         -0.19739209  0.          0.        ]\n",
       "  [ 0.          0.          0.19739209  0.        ]\n",
       "  [ 1.48044066  0.          0.         -0.03701102]])"
      ]
     },
     "execution_count": 3,
     "metadata": {},
     "output_type": "execute_result"
    }
   ],
   "source": [
    "me.classical_ops(\"XYZ\", N, Jx, Jy, Jz, h)"
   ]
  },
  {
   "cell_type": "code",
   "execution_count": 4,
   "id": "1965259b",
   "metadata": {},
   "outputs": [
    {
     "data": {
      "text/plain": [
       "4"
      ]
     },
     "execution_count": 4,
     "metadata": {},
     "output_type": "execute_result"
    }
   ],
   "source": [
    "len(me.one_body_spin_ops(N))"
   ]
  },
  {
   "cell_type": "code",
   "execution_count": 5,
   "id": "0a79c502",
   "metadata": {},
   "outputs": [
    {
     "name": "stdout",
     "output_type": "stream",
     "text": [
      "The result is not a density operator\n"
     ]
    },
    {
     "ename": "AttributeError",
     "evalue": "'NoneType' object has no attribute 'shape'",
     "output_type": "error",
     "traceback": [
      "\u001b[1;31m---------------------------------------------------------------------------\u001b[0m",
      "\u001b[1;31mAttributeError\u001b[0m                            Traceback (most recent call last)",
      "Input \u001b[1;32mIn [5]\u001b[0m, in \u001b[0;36m<cell line: 6>\u001b[1;34m()\u001b[0m\n\u001b[0;32m      2\u001b[0m b \u001b[38;5;241m=\u001b[39m \u001b[38;5;28mlen\u001b[39m(me\u001b[38;5;241m.\u001b[39mone_body_spin_ops(N)[\u001b[38;5;241m0\u001b[39m])\n\u001b[0;32m      4\u001b[0m coeffs_me1 \u001b[38;5;241m=\u001b[39m np\u001b[38;5;241m.\u001b[39mpi \u001b[38;5;241m*\u001b[39m \u001b[38;5;241m10\u001b[39m\u001b[38;5;241m*\u001b[39m\u001b[38;5;241m*\u001b[39m\u001b[38;5;241m-\u001b[39m\u001b[38;5;241m6\u001b[39m \u001b[38;5;241m*\u001b[39m np\u001b[38;5;241m.\u001b[39mfull((a,b),\u001b[38;5;241m1.\u001b[39m)\n\u001b[1;32m----> 6\u001b[0m \u001b[43mme\u001b[49m\u001b[38;5;241;43m.\u001b[39;49m\u001b[43mn_body_max_ent_state\u001b[49m\u001b[43m(\u001b[49m\u001b[38;5;241;43m1\u001b[39;49m\u001b[43m,\u001b[49m\u001b[43m \u001b[49m\u001b[43mN\u001b[49m\u001b[43m,\u001b[49m\u001b[43m \u001b[49m\u001b[43mcoeffs_me1\u001b[49m\u001b[43m,\u001b[49m\u001b[43m \u001b[49m\u001b[38;5;28;43;01mTrue\u001b[39;49;00m\u001b[43m)\u001b[49m\n",
      "File \u001b[1;32m~\\PhD Physics\\1st Year\\Spin Chains\\Scaling up the project\\toolkit_proj_ev.py:205\u001b[0m, in \u001b[0;36mn_body_max_ent_state\u001b[1;34m(gr, N, coeffs, visualization)\u001b[0m\n\u001b[0;32m    202\u001b[0m     \u001b[38;5;28mprint\u001b[39m(\u001b[38;5;124m\"\u001b[39m\u001b[38;5;124mThe result is not a density operator\u001b[39m\u001b[38;5;124m\"\u001b[39m)\n\u001b[0;32m    204\u001b[0m \u001b[38;5;28;01mif\u001b[39;00m visualization: \n\u001b[1;32m--> 205\u001b[0m     \u001b[43mqutip\u001b[49m\u001b[38;5;241;43m.\u001b[39;49m\u001b[43mhinton\u001b[49m\u001b[43m(\u001b[49m\u001b[43mrho_loc\u001b[49m\u001b[43m)\u001b[49m\n\u001b[0;32m    207\u001b[0m \u001b[38;5;28;01mreturn\u001b[39;00m rho_loc\n",
      "File \u001b[1;32m~\\anaconda3\\lib\\site-packages\\qutip\\visualization.py:304\u001b[0m, in \u001b[0;36mhinton\u001b[1;34m(rho, xlabels, ylabels, title, ax, cmap, label_top, color_style)\u001b[0m\n\u001b[0;32m    301\u001b[0m ax\u001b[38;5;241m.\u001b[39maxis(\u001b[38;5;124m'\u001b[39m\u001b[38;5;124mequal\u001b[39m\u001b[38;5;124m'\u001b[39m)\n\u001b[0;32m    302\u001b[0m ax\u001b[38;5;241m.\u001b[39mset_frame_on(\u001b[38;5;28;01mFalse\u001b[39;00m)\n\u001b[1;32m--> 304\u001b[0m height, width \u001b[38;5;241m=\u001b[39m \u001b[43mW\u001b[49m\u001b[38;5;241;43m.\u001b[39;49m\u001b[43mshape\u001b[49m\n\u001b[0;32m    306\u001b[0m w_max \u001b[38;5;241m=\u001b[39m \u001b[38;5;241m1.25\u001b[39m \u001b[38;5;241m*\u001b[39m \u001b[38;5;28mmax\u001b[39m(\u001b[38;5;28mabs\u001b[39m(np\u001b[38;5;241m.\u001b[39mdiag(np\u001b[38;5;241m.\u001b[39marray(W))))\n\u001b[0;32m    307\u001b[0m \u001b[38;5;28;01mif\u001b[39;00m w_max \u001b[38;5;241m<\u001b[39m\u001b[38;5;241m=\u001b[39m \u001b[38;5;241m0.0\u001b[39m:\n",
      "\u001b[1;31mAttributeError\u001b[0m: 'NoneType' object has no attribute 'shape'"
     ]
    },
    {
     "data": {
      "image/png": "[encoded data removed]",
      "text/plain": [
       "<Figure size 576x432 with 1 Axes>"
      ]
     },
     "metadata": {
      "needs_background": "light"
     },
     "output_type": "display_data"
    }
   ],
   "source": [
    "a = len(me.one_body_spin_ops(N))\n",
    "b = len(me.one_body_spin_ops(N)[0])\n",
    "\n",
    "coeffs_me1 = np.pi * 10**-6 * np.full((a,b),1.)\n",
    "\n",
    "me.n_body_max_ent_state(1, N, coeffs_me1, True)"
   ]
  },
  {
   "cell_type": "code",
   "execution_count": null,
   "id": "9aac5335",
   "metadata": {},
   "outputs": [],
   "source": []
  }
 ],
 "metadata": {
  "kernelspec": {
   "display_name": "Python 3 (ipykernel)",
   "language": "python",
   "name": "python3"
  },
  "language_info": {
   "codemirror_mode": {
    "name": "ipython",
    "version": 3
   },
   "file_extension": ".py",
   "mimetype": "text/x-python",
   "name": "python",
   "nbconvert_exporter": "python",
   "pygments_lexer": "ipython3",
   "version": "3.9.12"
  }
 },
 "nbformat": 4,
 "nbformat_minor": 5
}
