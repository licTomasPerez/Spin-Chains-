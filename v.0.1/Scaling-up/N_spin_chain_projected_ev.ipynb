{
 "cells": [
  {
   "cell_type": "code",
   "execution_count": 1,
   "id": "ff56cd74",
   "metadata": {
    "scrolled": true
   },
   "outputs": [
    {
     "name": "stdout",
     "output_type": "stream",
     "text": [
      "Requirement already satisfied: matplotlib in c:\\users\\tomas\\anaconda3\\lib\\site-packages (3.5.1)\n",
      "Requirement already satisfied: pyparsing>=2.2.1 in c:\\users\\tomas\\anaconda3\\lib\\site-packages (from matplotlib) (3.0.4)\n",
      "Requirement already satisfied: pillow>=6.2.0 in c:\\users\\tomas\\anaconda3\\lib\\site-packages (from matplotlib) (9.0.1)\n",
      "Requirement already satisfied: fonttools>=4.22.0 in c:\\users\\tomas\\anaconda3\\lib\\site-packages (from matplotlib) (4.25.0)\n",
      "Requirement already satisfied: numpy>=1.17 in c:\\users\\tomas\\anaconda3\\lib\\site-packages (from matplotlib) (1.21.5)\n",
      "Requirement already satisfied: kiwisolver>=1.0.1 in c:\\users\\tomas\\anaconda3\\lib\\site-packages (from matplotlib) (1.3.2)\n",
      "Requirement already satisfied: packaging>=20.0 in c:\\users\\tomas\\anaconda3\\lib\\site-packages (from matplotlib) (21.3)\n",
      "Requirement already satisfied: python-dateutil>=2.7 in c:\\users\\tomas\\anaconda3\\lib\\site-packages (from matplotlib) (2.8.2)\n",
      "Requirement already satisfied: cycler>=0.10 in c:\\users\\tomas\\anaconda3\\lib\\site-packages (from matplotlib) (0.11.0)\n",
      "Requirement already satisfied: six>=1.5 in c:\\users\\tomas\\anaconda3\\lib\\site-packages (from python-dateutil>=2.7->matplotlib) (1.16.0)\n",
      "Requirement already satisfied: qutip in c:\\users\\tomas\\anaconda3\\lib\\site-packages (4.7.0)\n",
      "Requirement already satisfied: numpy>=1.16.6 in c:\\users\\tomas\\anaconda3\\lib\\site-packages (from qutip) (1.21.5)\n",
      "Requirement already satisfied: packaging in c:\\users\\tomas\\anaconda3\\lib\\site-packages (from qutip) (21.3)\n",
      "Requirement already satisfied: scipy>=1.0 in c:\\users\\tomas\\anaconda3\\lib\\site-packages (from qutip) (1.7.3)\n",
      "Requirement already satisfied: pyparsing!=3.0.5,>=2.0.2 in c:\\users\\tomas\\anaconda3\\lib\\site-packages (from packaging->qutip) (3.0.4)\n",
      "Requirement already satisfied: numpy in c:\\users\\tomas\\anaconda3\\lib\\site-packages (1.21.5)\n",
      "Requirement already satisfied: scipy in c:\\users\\tomas\\anaconda3\\lib\\site-packages (1.7.3)\n",
      "Requirement already satisfied: numpy<1.23.0,>=1.16.5 in c:\\users\\tomas\\anaconda3\\lib\\site-packages (from scipy) (1.21.5)\n",
      "Requirement already satisfied: Cython in c:\\users\\tomas\\anaconda3\\lib\\site-packages (0.29.28)\n"
     ]
    }
   ],
   "source": [
    "!pip install matplotlib\n",
    "!pip install qutip\n",
    "!pip install numpy \n",
    "!pip install scipy\n",
    "!pip install Cython  "
   ]
  },
  {
   "cell_type": "code",
   "execution_count": 1,
   "id": "d9e25180",
   "metadata": {},
   "outputs": [],
   "source": [
    "import qutip\n",
    "import matplotlib.pyplot as plt \n",
    "import numpy as np\n",
    "import scipy.optimize as opt \n",
    "import scipy.linalg as linalg\n",
    "import pickle\n",
    "import math, cmath\n",
    "import toolkit_proj_ev as me\n",
    "\n",
    "from IPython.display import display, Math, Latex"
   ]
  },
  {
   "cell_type": "code",
   "execution_count": 2,
   "id": "7118cd4e",
   "metadata": {},
   "outputs": [
    {
     "data": {
      "image/png": "[encoded data removed]",
      "text/plain": [
       "<Figure size 576x432 with 2 Axes>"
      ]
     },
     "metadata": {
      "needs_background": "light"
     },
     "output_type": "display_data"
    }
   ],
   "source": [
    "N = 2\n",
    "Jx = .15\n",
    "Jy = .25 \n",
    "Jz = .1\n",
    "h = 1.\n",
    "\n",
    "## Operadores de spin y hamiltoniano\n",
    "\n",
    "## solo 1-operadores\n",
    "globalid_list, sx_list, sy_list, sz_list = me.one_body_spin_ops(N)\n",
    "pauli_vec = [sx_list, sy_list, sz_list]\n",
    "\n",
    "## upto 2-opeadores ie. armé una lista de listas, con 1-operadores y 2-operadores \n",
    "## pero todos actuando sobre el espacio de Hilbert global 2^N dimensional H = \\otimes_{j}^{N} h_j \n",
    "two_body_spin_list = me.two_body_spin_ops(N, True)\n",
    "\n",
    "## Hamiltoniano \n",
    "H_H = me.Heisenberg_Hamiltonian(\"XXX\", N, True, Jx, Jy, Jz, h)\n",
    "\n",
    "### Free particle-Operators en términos de los operadores de spin\n",
    "x_op, p_op, comm_xp, corr_xp, p_dot = me.classical_ops(\"XXX\", N, Jx, Jy, Jz, h)"
   ]
  },
  {
   "cell_type": "code",
   "execution_count": 28,
   "id": "89c4a0fa",
   "metadata": {},
   "outputs": [
    {
     "data": {
      "text/latex": [
       "Quantum object: dims = [[2, 2], [1, 1]], shape = (4, 1), type = ket\\begin{equation*}\\left(\\begin{array}{*{11}c}0.0\\\\0.0\\\\1.0\\\\0.0\\\\\\end{array}\\right)\\end{equation*}"
      ],
      "text/plain": [
       "Quantum object: dims = [[2, 2], [1, 1]], shape = (4, 1), type = ket\n",
       "Qobj data =\n",
       "[[0.]\n",
       " [0.]\n",
       " [1.]\n",
       " [0.]]"
      ]
     },
     "execution_count": 28,
     "metadata": {},
     "output_type": "execute_result"
    },
    {
     "data": {
      "image/png": "[encoded data removed]",
      "text/plain": [
       "<Figure size 576x432 with 2 Axes>"
      ]
     },
     "metadata": {
      "needs_background": "light"
     },
     "output_type": "display_data"
    }
   ],
   "source": [
    "psi1_list = []\n",
    "psi1_list.append(qutip.basis(2,1))\n",
    "for n in range(N-1):\n",
    "    psi1_list.append(qutip.basis(2,0))\n",
    "\n",
    "psi01 = qutip.tensor(psi1_list)\n",
    "psi0 = psi01 #+psi02 #sí está en el ME2, aparece un proyector s1, s2 -> estado ME2\n",
    "\n",
    "loc_globalid = qutip.tensor([qutip.qeye(2) for k in range(N)])\n",
    "me.initial_state(2, False, None, .5, None, psi0, True)\n",
    "psi0"
   ]
  },
  {
   "cell_type": "code",
   "execution_count": 4,
   "id": "0a79c502",
   "metadata": {},
   "outputs": [
    {
     "data": {
      "text/latex": [
       "Quantum object: dims = [[2, 2], [2, 2]], shape = (4, 4), type = oper, isherm = True\\begin{equation*}\\left(\\begin{array}{*{11}c}0.250 & (3.927\\times10^{-07}-3.927\\times10^{-07}j) & (3.927\\times10^{-07}-3.927\\times10^{-07}j) & -1.234\\times10^{-12}j\\\\(3.927\\times10^{-07}+3.927\\times10^{-07}j) & 0.250 & 1.234\\times10^{-12} & (3.927\\times10^{-07}-3.927\\times10^{-07}j)\\\\(3.927\\times10^{-07}+3.927\\times10^{-07}j) & 1.234\\times10^{-12} & 0.250 & (3.927\\times10^{-07}-3.927\\times10^{-07}j)\\\\1.234\\times10^{-12}j & (3.927\\times10^{-07}+3.927\\times10^{-07}j) & (3.927\\times10^{-07}+3.927\\times10^{-07}j) & 0.250\\\\\\end{array}\\right)\\end{equation*}"
      ],
      "text/plain": [
       "Quantum object: dims = [[2, 2], [2, 2]], shape = (4, 4), type = oper, isherm = True\n",
       "Qobj data =\n",
       "[[2.50000785e-01+0.00000000e+00j 3.92699699e-07-3.92699699e-07j\n",
       "  3.92699699e-07-3.92699699e-07j 0.00000000e+00-1.23370055e-12j]\n",
       " [3.92699699e-07+3.92699699e-07j 2.50000000e-01+0.00000000e+00j\n",
       "  1.23370055e-12+0.00000000e+00j 3.92698465e-07-3.92698465e-07j]\n",
       " [3.92699699e-07+3.92699699e-07j 1.23370055e-12+0.00000000e+00j\n",
       "  2.50000000e-01+0.00000000e+00j 3.92698465e-07-3.92698465e-07j]\n",
       " [0.00000000e+00+1.23370055e-12j 3.92698465e-07+3.92698465e-07j\n",
       "  3.92698465e-07+3.92698465e-07j 2.49999215e-01+0.00000000e+00j]]"
      ]
     },
     "execution_count": 4,
     "metadata": {},
     "output_type": "execute_result"
    },
    {
     "data": {
      "image/png": "[encoded data removed]",
      "text/plain": [
       "<Figure size 576x432 with 2 Axes>"
      ]
     },
     "metadata": {
      "needs_background": "light"
     },
     "output_type": "display_data"
    }
   ],
   "source": [
    "a = len(me.one_body_spin_ops(N))\n",
    "b = len(me.one_body_spin_ops(N)[0])\n",
    "\n",
    "coeffs_me1 = np.pi * 10**-6 * np.full((a,b),1.)\n",
    "\n",
    "me.n_body_max_ent_state(1, N, coeffs_me1, None, True)"
   ]
  },
  {
   "cell_type": "code",
   "execution_count": 5,
   "id": "8d36ed36",
   "metadata": {},
   "outputs": [
    {
     "data": {
      "text/latex": [
       "Quantum object: dims = [[2, 2], [2, 2]], shape = (4, 4), type = oper, isherm = True\\begin{equation*}\\left(\\begin{array}{*{11}c}0.250 & (1.178\\times10^{-06}-1.178\\times10^{-06}j) & (1.178\\times10^{-06}-1.178\\times10^{-06}j) & -7.854\\times10^{-07}j\\\\(1.178\\times10^{-06}+1.178\\times10^{-06}j) & 0.250 & 7.854\\times10^{-07} & (3.927\\times10^{-07}-3.927\\times10^{-07}j)\\\\(1.178\\times10^{-06}+1.178\\times10^{-06}j) & 7.854\\times10^{-07} & 0.250 & (3.927\\times10^{-07}-3.927\\times10^{-07}j)\\\\7.854\\times10^{-07}j & (3.927\\times10^{-07}+3.927\\times10^{-07}j) & (3.927\\times10^{-07}+3.927\\times10^{-07}j) & 0.250\\\\\\end{array}\\right)\\end{equation*}"
      ],
      "text/plain": [
       "Quantum object: dims = [[2, 2], [2, 2]], shape = (4, 4), type = oper, isherm = True\n",
       "Qobj data =\n",
       "[[2.50001964e-01+0.00000000e+00j 1.17810341e-06-1.17810341e-06j\n",
       "  1.17810341e-06-1.17810341e-06j 0.00000000e+00-7.85403098e-07j]\n",
       " [1.17810341e-06+1.17810341e-06j 2.49999607e-01+0.00000000e+00j\n",
       "  7.85403098e-07+0.00000000e+00j 3.92700315e-07-3.92700315e-07j]\n",
       " [1.17810341e-06+1.17810341e-06j 7.85403098e-07+0.00000000e+00j\n",
       "  2.49999607e-01+0.00000000e+00j 3.92700315e-07-3.92700315e-07j]\n",
       " [0.00000000e+00+7.85403098e-07j 3.92700315e-07+3.92700315e-07j\n",
       "  3.92700315e-07+3.92700315e-07j 2.49998822e-01+0.00000000e+00j]]"
      ]
     },
     "execution_count": 5,
     "metadata": {},
     "output_type": "execute_result"
    },
    {
     "data": {
      "image/png": "[encoded data removed]",
      "text/plain": [
       "<Figure size 576x432 with 2 Axes>"
      ]
     },
     "metadata": {
      "needs_background": "light"
     },
     "output_type": "display_data"
    }
   ],
   "source": [
    "a = len(me.two_body_spin_ops(N, True))\n",
    "b = len(me.two_body_spin_ops(N, True)[0])\n",
    "\n",
    "coeffs_me2 = np.pi * 10**-6 * np.full((a,b),1.)\n",
    "\n",
    "me.n_body_max_ent_state(2, N, coeffs_me2, True, True)\n"
   ]
  },
  {
   "cell_type": "code",
   "execution_count": 6,
   "id": "70d60845",
   "metadata": {},
   "outputs": [
    {
     "data": {
      "text/latex": [
       "Quantum object: dims = [[2, 2], [2, 2]], shape = (4, 4), type = oper, isherm = True\\begin{equation*}\\left(\\begin{array}{*{11}c}0.250 & 0.0 & 0.0 & 0.0\\\\0.0 & 0.250 & 7.854\\times10^{-07} & 0.0\\\\0.0 & 7.854\\times10^{-07} & 0.250 & 0.0\\\\0.0 & 0.0 & 0.0 & 0.250\\\\\\end{array}\\right)\\end{equation*}"
      ],
      "text/plain": [
       "Quantum object: dims = [[2, 2], [2, 2]], shape = (4, 4), type = oper, isherm = True\n",
       "Qobj data =\n",
       "[[2.50000393e-01 0.00000000e+00 0.00000000e+00 0.00000000e+00]\n",
       " [0.00000000e+00 2.49999607e-01 7.85396930e-07 0.00000000e+00]\n",
       " [0.00000000e+00 7.85396930e-07 2.49999607e-01 0.00000000e+00]\n",
       " [0.00000000e+00 0.00000000e+00 0.00000000e+00 2.50000393e-01]]"
      ]
     },
     "execution_count": 6,
     "metadata": {},
     "output_type": "execute_result"
    },
    {
     "data": {
      "image/png": "[encoded data removed]",
      "text/plain": [
       "<Figure size 576x432 with 2 Axes>"
      ]
     },
     "metadata": {
      "needs_background": "light"
     },
     "output_type": "display_data"
    }
   ],
   "source": [
    "a = len(me.two_body_spin_ops(N, False))\n",
    "b = len(me.two_body_spin_ops(N, False)[0])\n",
    "\n",
    "coeffs_me2 = np.pi * 10**-6 * np.full((a,b),1.)\n",
    "\n",
    "me.n_body_max_ent_state(2, N, coeffs_me2, False, True)\n"
   ]
  },
  {
   "cell_type": "code",
   "execution_count": 22,
   "id": "b45ee921",
   "metadata": {},
   "outputs": [],
   "source": [
    "HS_modified = True\n",
    "\n",
    "class Result(object):\n",
    "      def __init__(self, ts=None, states=None):\n",
    "        self.ts = ts\n",
    "        self.states = states\n",
    "        self.projrho0_app = None   \n",
    "        self.projrho_inst_app = None \n",
    "\n",
    "def callback(t, rhot):\n",
    "    global rho\n",
    "    rho = rhot\n",
    "\n",
    "def projected_evolution(N, chain_type = \"XXX\", author=True, x=.5, gamma = 1*np.e*-2, \n",
    "                        omega_1=3., omega_2=3.,temp=1, \n",
    "                        gaussian=False, gr = 1, deltat=10., tmax = 500., distance=me.bures, \n",
    "                        do_project=True):\n",
    "    global rho\n",
    "    loc_globalid = qutip.tensor([qutip.qeye(2) for k in range(N)])\n",
    "\n",
    "    if (gaussian and gr == 1):\n",
    "        coeffs_me1_gr1 = [[10**-1,2*10**-1],[np.pi*10**-1,10**-18],\n",
    "                          [10**-18,10**-18],[10**-18,10**-18]]\n",
    "        rho0 = me.initial_state(N, True, 1, None, coeffs_me1_gr1, None, False)\n",
    "    elif(gaussian and gr == 2):\n",
    "        a = len(me.all_two_body_spin_ops(N))\n",
    "        b = len(me.all_two_body_spin_ops(N)[0])\n",
    "\n",
    "        coeffs_me2_gr2 = 10**-2 * np.full((a,b),1.)\n",
    "        rho0 = me.initial_state(N, True, 2, None, coeffs_me2_gr2, None, False)\n",
    "             \n",
    "    elif(not gaussian):\n",
    "        rho0 = me.initial_state(N, False, None, x, None, psi0, False)\n",
    "         \n",
    "    if (author):\n",
    "        basis = me.base_orth(me.n_body_basis(N,2), rho0)  ## // Á la Tom\n",
    "    else: \n",
    "        lista_ampliada = []\n",
    "        for i in range(len(me.n_body_basis(N,1))):\n",
    "            lista_ampliada.append(qutip.tensor(me.n_body_basis(N,1)[i], qutip.qeye(2)))\n",
    "        basis = me.base_orth(lista_ampliada, rho0) ## // Á la Mauricio\n",
    "        \n",
    "    obs = [x_op, p_op, comm_xp, corr_xp]\n",
    "          #, x_op**2,p_op**2, corr_op, p_dot]\n",
    "        \n",
    "    sampling = max(int(10*max(1,omega_1, omega_2)*deltat), 10)\n",
    "    print(\"sampling:\", sampling)\n",
    "    #c_op_list = me.spin_dephasing(N, gamma, False)\n",
    "    rho = rho0                                                               ## // Á la Mauricio\n",
    "    approx_exp_vals = [[qutip.expect(op, rho) for op in obs]]\n",
    "    ts= [0]\n",
    "\n",
    "    for i in range(int(tmax/deltat)):\n",
    "        qutip.mesolve(H=me.Heisenberg_Hamiltonian(chain_type, N, False, Jx, Jy, Jz, h), \n",
    "                               rho0=rho, \n",
    "                               tlist=np.linspace(0,deltat, sampling), \n",
    "                               #c_ops=c_op_list, \n",
    "                               e_ops=callback,\n",
    "                               args={'gamma': gamma,'omega_1': omega_1, 'omega_2': omega_2}\n",
    "                               )\n",
    "        ts.append(deltat*i)\n",
    "        if do_project:\n",
    "            rho = me.proj_op(me.logM(rho), basis, rho0)\n",
    "            #rho = me.proj_op(me.logM(rho), basis, loc_globalid)\n",
    "            e0 = max(rho.eigenenergies())\n",
    "            rho = rho - loc_globalid * e0\n",
    "            rho = rho.expm()\n",
    "            trrho = (2.*rho.tr())\n",
    "            rho = (rho+rho.dag())/trrho\n",
    "\n",
    "        #print(qutip.entropy.entropy_vn(rho))\n",
    "        newobs = [qutip.expect(rho, op) for op in obs]\n",
    "        approx_exp_vals.append(newobs)\n",
    "\n",
    "    result = {}\n",
    "    result[\"ts\"] = ts\n",
    "    result[\"averages\"] = np.array(approx_exp_vals)\n",
    "    \n",
    "    title = f\" BW Dinámica cerrada no gaussiana wb1={omega_1} wb2={omega_2}\" \n",
    "    if do_project:\n",
    "        title = title + \"_projected_\"\n",
    "\n",
    "    with open(title+\".pkl\",\"wb\") as f:\n",
    "        pickle.dump(result, f)\n",
    "    return result"
   ]
  },
  {
   "cell_type": "code",
   "execution_count": 25,
   "id": "2fcadccc",
   "metadata": {},
   "outputs": [
    {
     "ename": "TypeError",
     "evalue": "Incompatible quantum object dimensions",
     "output_type": "error",
     "traceback": [
      "\u001b[0;31m---------------------------------------------------------------------------\u001b[0m",
      "\u001b[0;31mTypeError\u001b[0m                                 Traceback (most recent call last)",
      "Input \u001b[0;32mIn [25]\u001b[0m, in \u001b[0;36m<cell line: 3>\u001b[0;34m()\u001b[0m\n\u001b[1;32m      1\u001b[0m \u001b[38;5;66;03m## usando n_body_basis(2) y el estado no gaussiano de Mauricio\u001b[39;00m\n\u001b[0;32m----> 3\u001b[0m results \u001b[38;5;241m=\u001b[39m \u001b[43mprojected_evolution\u001b[49m\u001b[43m(\u001b[49m\u001b[38;5;241;43m3\u001b[39;49m\u001b[43m,\u001b[49m\u001b[43m \u001b[49m\u001b[38;5;124;43m\"\u001b[39;49m\u001b[38;5;124;43mXYZ\u001b[39;49m\u001b[38;5;124;43m\"\u001b[39;49m\u001b[43m,\u001b[49m\u001b[43m \u001b[49m\u001b[43mauthor\u001b[49m\u001b[43m \u001b[49m\u001b[38;5;241;43m=\u001b[39;49m\u001b[43m \u001b[49m\u001b[38;5;28;43;01mTrue\u001b[39;49;00m\u001b[43m,\u001b[49m\u001b[43m \u001b[49m\u001b[43mx\u001b[49m\u001b[38;5;241;43m=\u001b[39;49m\u001b[38;5;241;43m.5\u001b[39;49m\u001b[43m,\u001b[49m\u001b[43m \u001b[49m\u001b[43mgamma\u001b[49m\u001b[43m \u001b[49m\u001b[38;5;241;43m=\u001b[39;49m\u001b[43m \u001b[49m\u001b[38;5;241;43m1\u001b[39;49m\u001b[38;5;241;43m*\u001b[39;49m\u001b[43mnp\u001b[49m\u001b[38;5;241;43m.\u001b[39;49m\u001b[43me\u001b[49m\u001b[38;5;241;43m*\u001b[39;49m\u001b[38;5;241;43m-\u001b[39;49m\u001b[38;5;241;43m1\u001b[39;49m\u001b[43m,\u001b[49m\u001b[43m \u001b[49m\u001b[43momega_1\u001b[49m\u001b[38;5;241;43m=\u001b[39;49m\u001b[38;5;241;43m3.\u001b[39;49m\u001b[43m,\u001b[49m\u001b[43m \u001b[49m\u001b[43momega_2\u001b[49m\u001b[38;5;241;43m=\u001b[39;49m\u001b[38;5;241;43m3.\u001b[39;49m\u001b[43m,\u001b[49m\n\u001b[1;32m      4\u001b[0m \u001b[43m                              \u001b[49m\u001b[43mtemp\u001b[49m\u001b[38;5;241;43m=\u001b[39;49m\u001b[38;5;241;43m1\u001b[39;49m\u001b[43m,\u001b[49m\u001b[43m \u001b[49m\u001b[43mgaussian\u001b[49m\u001b[38;5;241;43m=\u001b[39;49m\u001b[38;5;28;43;01mFalse\u001b[39;49;00m\u001b[43m,\u001b[49m\u001b[43m \u001b[49m\u001b[43mgr\u001b[49m\u001b[43m \u001b[49m\u001b[38;5;241;43m=\u001b[39;49m\u001b[43m \u001b[49m\u001b[38;5;28;43;01mNone\u001b[39;49;00m\u001b[43m,\u001b[49m\u001b[43m \u001b[49m\u001b[43mdeltat\u001b[49m\u001b[38;5;241;43m=\u001b[39;49m\u001b[38;5;241;43m1\u001b[39;49m\u001b[43m,\u001b[49m\u001b[43m \u001b[49m\u001b[43mtmax\u001b[49m\u001b[43m \u001b[49m\u001b[38;5;241;43m=\u001b[39;49m\u001b[43m \u001b[49m\u001b[38;5;241;43m50\u001b[39;49m\u001b[43m,\u001b[49m\u001b[43m \u001b[49m\n\u001b[1;32m      5\u001b[0m \u001b[43m                              \u001b[49m\u001b[43mdistance\u001b[49m\u001b[38;5;241;43m=\u001b[39;49m\u001b[43mme\u001b[49m\u001b[38;5;241;43m.\u001b[39;49m\u001b[43mbures\u001b[49m\u001b[43m,\u001b[49m\u001b[43mdo_project\u001b[49m\u001b[38;5;241;43m=\u001b[39;49m\u001b[38;5;28;43;01mTrue\u001b[39;49;00m\u001b[43m)\u001b[49m\n\u001b[1;32m      7\u001b[0m plt\u001b[38;5;241m.\u001b[39mplot(results[\u001b[38;5;124m\"\u001b[39m\u001b[38;5;124mts\u001b[39m\u001b[38;5;124m\"\u001b[39m], results[\u001b[38;5;124m\"\u001b[39m\u001b[38;5;124maverages\u001b[39m\u001b[38;5;124m\"\u001b[39m][:,\u001b[38;5;241m0\u001b[39m], label\u001b[38;5;241m=\u001b[39m\u001b[38;5;124m\"\u001b[39m\u001b[38;5;124mx Projected\u001b[39m\u001b[38;5;124m\"\u001b[39m)\n\u001b[1;32m      8\u001b[0m results \u001b[38;5;241m=\u001b[39m projected_evolution(\u001b[38;5;241m3\u001b[39m, \u001b[38;5;124m\"\u001b[39m\u001b[38;5;124mXYZ\u001b[39m\u001b[38;5;124m\"\u001b[39m, author \u001b[38;5;241m=\u001b[39m \u001b[38;5;28;01mTrue\u001b[39;00m, x\u001b[38;5;241m=\u001b[39m\u001b[38;5;241m.5\u001b[39m, gamma \u001b[38;5;241m=\u001b[39m \u001b[38;5;241m1\u001b[39m\u001b[38;5;241m*\u001b[39mnp\u001b[38;5;241m.\u001b[39me\u001b[38;5;241m*\u001b[39m\u001b[38;5;241m-\u001b[39m\u001b[38;5;241m1\u001b[39m, omega_1\u001b[38;5;241m=\u001b[39m\u001b[38;5;241m3.\u001b[39m, omega_2\u001b[38;5;241m=\u001b[39m\u001b[38;5;241m3.\u001b[39m,\n\u001b[1;32m      9\u001b[0m                               temp\u001b[38;5;241m=\u001b[39m\u001b[38;5;241m1\u001b[39m, gaussian\u001b[38;5;241m=\u001b[39m\u001b[38;5;28;01mFalse\u001b[39;00m, gr \u001b[38;5;241m=\u001b[39m \u001b[38;5;28;01mNone\u001b[39;00m, deltat\u001b[38;5;241m=\u001b[39m\u001b[38;5;241m1\u001b[39m, tmax \u001b[38;5;241m=\u001b[39m \u001b[38;5;241m50\u001b[39m, \n\u001b[1;32m     10\u001b[0m                               distance\u001b[38;5;241m=\u001b[39mme\u001b[38;5;241m.\u001b[39mbures,do_project\u001b[38;5;241m=\u001b[39m\u001b[38;5;28;01mFalse\u001b[39;00m)\n",
      "Input \u001b[0;32mIn [22]\u001b[0m, in \u001b[0;36mprojected_evolution\u001b[0;34m(N, chain_type, author, x, gamma, omega_1, omega_2, temp, gaussian, gr, deltat, tmax, distance, do_project)\u001b[0m\n\u001b[1;32m     30\u001b[0m     rho0 \u001b[38;5;241m=\u001b[39m me\u001b[38;5;241m.\u001b[39minitial_state(N, \u001b[38;5;28;01mTrue\u001b[39;00m, \u001b[38;5;241m2\u001b[39m, \u001b[38;5;28;01mNone\u001b[39;00m, coeffs_me2_gr2, \u001b[38;5;28;01mNone\u001b[39;00m, \u001b[38;5;28;01mFalse\u001b[39;00m)\n\u001b[1;32m     32\u001b[0m \u001b[38;5;28;01melif\u001b[39;00m(\u001b[38;5;129;01mnot\u001b[39;00m gaussian):\n\u001b[0;32m---> 33\u001b[0m     rho0 \u001b[38;5;241m=\u001b[39m \u001b[43mme\u001b[49m\u001b[38;5;241;43m.\u001b[39;49m\u001b[43minitial_state\u001b[49m\u001b[43m(\u001b[49m\u001b[43mN\u001b[49m\u001b[43m,\u001b[49m\u001b[43m \u001b[49m\u001b[38;5;28;43;01mFalse\u001b[39;49;00m\u001b[43m,\u001b[49m\u001b[43m \u001b[49m\u001b[38;5;28;43;01mNone\u001b[39;49;00m\u001b[43m,\u001b[49m\u001b[43m \u001b[49m\u001b[43mx\u001b[49m\u001b[43m,\u001b[49m\u001b[43m \u001b[49m\u001b[38;5;28;43;01mNone\u001b[39;49;00m\u001b[43m,\u001b[49m\u001b[43m \u001b[49m\u001b[43mpsi0\u001b[49m\u001b[43m,\u001b[49m\u001b[43m \u001b[49m\u001b[38;5;28;43;01mFalse\u001b[39;49;00m\u001b[43m)\u001b[49m\n\u001b[1;32m     35\u001b[0m \u001b[38;5;28;01mif\u001b[39;00m (author):\n\u001b[1;32m     36\u001b[0m     basis \u001b[38;5;241m=\u001b[39m me\u001b[38;5;241m.\u001b[39mbase_orth(me\u001b[38;5;241m.\u001b[39mn_body_basis(N,\u001b[38;5;241m2\u001b[39m), rho0)  \u001b[38;5;66;03m## // Á la Tom\u001b[39;00m\n",
      "File \u001b[0;32m~/Spin-Chains-/v.0.1/Scaling up /toolkit_proj_ev.py:341\u001b[0m, in \u001b[0;36minitial_state\u001b[0;34m(N, gaussian, gr, x, coeffs, psi0, visualization)\u001b[0m\n\u001b[1;32m    339\u001b[0m \u001b[38;5;28;01mif\u001b[39;00m (qutip\u001b[38;5;241m.\u001b[39misket(psi0)):\n\u001b[1;32m    340\u001b[0m     rho0 \u001b[38;5;241m=\u001b[39m psi0 \u001b[38;5;241m*\u001b[39m psi0\u001b[38;5;241m.\u001b[39mdag()\n\u001b[0;32m--> 341\u001b[0m     rho0 \u001b[38;5;241m=\u001b[39m \u001b[43mx\u001b[49m\u001b[43m \u001b[49m\u001b[38;5;241;43m*\u001b[39;49m\u001b[43m \u001b[49m\u001b[43mrho0\u001b[49m\u001b[43m \u001b[49m\u001b[38;5;241;43m+\u001b[39;49m\u001b[43m \u001b[49m\u001b[43m(\u001b[49m\u001b[38;5;241;43m1\u001b[39;49m\u001b[38;5;241;43m-\u001b[39;49m\u001b[43mx\u001b[49m\u001b[43m)\u001b[49m\u001b[38;5;241;43m*\u001b[39;49m\u001b[43mloc_globalid\u001b[49m\u001b[43m \u001b[49m\u001b[38;5;241;43m*\u001b[39;49m\u001b[43m \u001b[49m\u001b[43mx\u001b[49m\u001b[38;5;241;43m/\u001b[39;49m\u001b[43mN\u001b[49m\n\u001b[1;32m    342\u001b[0m     rho0 \u001b[38;5;241m=\u001b[39m rho0\u001b[38;5;241m/\u001b[39mrho0\u001b[38;5;241m.\u001b[39mtr()\n\u001b[1;32m    343\u001b[0m \u001b[38;5;28;01melse\u001b[39;00m:\n",
      "File \u001b[0;32m~/.conda/envs/qutip/lib/python3.10/site-packages/qutip/qobj.py:435\u001b[0m, in \u001b[0;36mQobj.__add__\u001b[0;34m(self, other)\u001b[0m\n\u001b[1;32m    432\u001b[0m     \u001b[38;5;28;01mreturn\u001b[39;00m out\n\u001b[1;32m    434\u001b[0m \u001b[38;5;28;01melif\u001b[39;00m \u001b[38;5;28mself\u001b[39m\u001b[38;5;241m.\u001b[39mdims \u001b[38;5;241m!=\u001b[39m other\u001b[38;5;241m.\u001b[39mdims:\n\u001b[0;32m--> 435\u001b[0m     \u001b[38;5;28;01mraise\u001b[39;00m \u001b[38;5;167;01mTypeError\u001b[39;00m(\u001b[38;5;124m'\u001b[39m\u001b[38;5;124mIncompatible quantum object dimensions\u001b[39m\u001b[38;5;124m'\u001b[39m)\n\u001b[1;32m    437\u001b[0m \u001b[38;5;28;01melif\u001b[39;00m \u001b[38;5;28mself\u001b[39m\u001b[38;5;241m.\u001b[39mshape \u001b[38;5;241m!=\u001b[39m other\u001b[38;5;241m.\u001b[39mshape:\n\u001b[1;32m    438\u001b[0m     \u001b[38;5;28;01mraise\u001b[39;00m \u001b[38;5;167;01mTypeError\u001b[39;00m(\u001b[38;5;124m'\u001b[39m\u001b[38;5;124mMatrix shapes do not match\u001b[39m\u001b[38;5;124m'\u001b[39m)\n",
      "\u001b[0;31mTypeError\u001b[0m: Incompatible quantum object dimensions"
     ]
    }
   ],
   "source": [
    "## usando n_body_basis(2) y el estado no gaussiano de Mauricio\n",
    "\n",
    "results = projected_evolution(3, \"XYZ\", author = True, x=.5, gamma = 1*np.e*-1, omega_1=3., omega_2=3.,\n",
    "                              temp=1, gaussian=False, gr = None, deltat=1, tmax = 50, \n",
    "                              distance=me.bures,do_project=True)\n",
    "\n",
    "plt.plot(results[\"ts\"], results[\"averages\"][:,0], label=\"x Projected\")\n",
    "results = projected_evolution(3, \"XYZ\", author = True, x=.5, gamma = 1*np.e*-1, omega_1=3., omega_2=3.,\n",
    "                              temp=1, gaussian=False, gr = None, deltat=1, tmax = 50, \n",
    "                              distance=me.bures,do_project=False)\n",
    "plt.scatter(results[\"ts\"], results[\"averages\"][:,0], label=\"x exact\")\n",
    "plt.legend()\n",
    "\n"
   ]
  },
  {
   "cell_type": "code",
   "execution_count": null,
   "id": "b0ed486a",
   "metadata": {},
   "outputs": [],
   "source": []
  }
 ],
 "metadata": {
  "kernelspec": {
   "display_name": "Python 3 (ipykernel)",
   "language": "python",
   "name": "python3"
  },
  "language_info": {
   "codemirror_mode": {
    "name": "ipython",
    "version": 3
   },
   "file_extension": ".py",
   "mimetype": "text/x-python",
   "name": "python",
   "nbconvert_exporter": "python",
   "pygments_lexer": "ipython3",
   "version": "3.10.4"
  }
 },
 "nbformat": 4,
 "nbformat_minor": 5
}
