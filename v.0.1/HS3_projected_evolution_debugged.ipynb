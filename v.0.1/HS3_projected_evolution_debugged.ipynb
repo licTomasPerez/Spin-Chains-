{
 "cells": [
  {
   "cell_type": "markdown",
   "metadata": {
    "colab_type": "text",
    "id": "view-in-github"
   },
   "source": [
    "<a href=\"https://colab.research.google.com/github/mmatera/Spin-Chains-/blob/main/HS_projected_evolution_debugged.ipynb\" target=\"_parent\"><img src=\"https://colab.research.google.com/assets/colab-badge.svg\" alt=\"Open In Colab\"/></a>"
   ]
  },
  {
   "cell_type": "code",
   "execution_count": 1,
   "metadata": {
    "colab": {
     "base_uri": "https://localhost:8080/"
    },
    "id": "CzAqDJ65kXXw",
    "outputId": "ee79eca0-d519-420e-c778-12f60c47a8d5"
   },
   "outputs": [
    {
     "name": "stdout",
     "output_type": "stream",
     "text": [
      "Requirement already satisfied: qutip in c:\\users\\usuario\\anaconda3\\lib\\site-packages (4.6.1)\n",
      "Requirement already satisfied: packaging in c:\\users\\usuario\\anaconda3\\lib\\site-packages (from qutip) (20.4)\n",
      "Requirement already satisfied: numpy>=1.16.6 in c:\\users\\usuario\\anaconda3\\lib\\site-packages (from qutip) (1.18.5)\n",
      "Requirement already satisfied: scipy>=1.0 in c:\\users\\usuario\\anaconda3\\lib\\site-packages (from qutip) (1.5.0)\n",
      "Requirement already satisfied: pyparsing>=2.0.2 in c:\\users\\usuario\\anaconda3\\lib\\site-packages (from packaging->qutip) (2.4.7)\n",
      "Requirement already satisfied: six in c:\\users\\usuario\\anaconda3\\lib\\site-packages (from packaging->qutip) (1.15.0)\n",
      "Requirement already satisfied: scipy in c:\\users\\usuario\\anaconda3\\lib\\site-packages (1.5.0)\n",
      "Requirement already satisfied: numpy>=1.14.5 in c:\\users\\usuario\\anaconda3\\lib\\site-packages (from scipy) (1.18.5)\n",
      "Collecting matplotlib.inline\n",
      "  Using cached matplotlib_inline-0.1.3-py3-none-any.whl (8.2 kB)\n",
      "Requirement already satisfied: traitlets in c:\\users\\usuario\\anaconda3\\lib\\site-packages (from matplotlib.inline) (4.3.3)\n",
      "Requirement already satisfied: decorator in c:\\users\\usuario\\anaconda3\\lib\\site-packages (from traitlets->matplotlib.inline) (4.4.2)\n",
      "Requirement already satisfied: six in c:\\users\\usuario\\anaconda3\\lib\\site-packages (from traitlets->matplotlib.inline) (1.15.0)\n",
      "Requirement already satisfied: ipython-genutils in c:\\users\\usuario\\anaconda3\\lib\\site-packages (from traitlets->matplotlib.inline) (0.2.0)\n",
      "Installing collected packages: matplotlib.inline\n",
      "Successfully installed matplotlib.inline\n",
      "Requirement already satisfied: numpy in c:\\users\\usuario\\anaconda3\\lib\\site-packages (1.18.5)\n"
     ]
    }
   ],
   "source": [
    "!pip install qutip\n",
    "!pip install scipy\n",
    "!pip install matplotlib.inline\n",
    "!pip install numpy"
   ]
  },
  {
   "cell_type": "code",
   "execution_count": 19,
   "metadata": {
    "id": "6td6yO61kg2q"
   },
   "outputs": [],
   "source": [
    "import qutip\n",
    "import matplotlib.pyplot as plt \n",
    "import numpy as np\n",
    "import scipy.optimize as opt \n",
    "import pickle\n",
    "import math, cmath\n",
    "import proj_ev_tools as me\n",
    "\n",
    "from IPython.display import display, Math, Latex"
   ]
  },
  {
   "cell_type": "code",
   "execution_count": 20,
   "metadata": {},
   "outputs": [],
   "source": [
    "N = 3            # número de spines\n",
    "\n",
    "h  = 1.0 * 2 * np.pi * np.ones(N) \n",
    "Jx = 0.15 * 2 * np.pi * np.ones(N)\n",
    "Jy = 0.25 * 2 * np.pi * np.ones(N)\n",
    "Jz = 0.1 * 2 * np.pi * np.ones(N)"
   ]
  },
  {
   "cell_type": "code",
   "execution_count": 21,
   "metadata": {},
   "outputs": [],
   "source": [
    "## Operadores de spin y hamiltoniano\n",
    "spin_list = me.one_body_spin_ops(N)\n",
    "sx_list = spin_list[0]\n",
    "sy_list = spin_list[1]\n",
    "sz_list = spin_list[2]"
   ]
  },
  {
   "cell_type": "code",
   "execution_count": 22,
   "metadata": {},
   "outputs": [
    {
     "data": {
      "text/latex": [
       "Quantum object: dims = [[2, 2, 2], [2, 2, 2]], shape = (8, 8), type = oper, isherm = True\\begin{equation*}\\left(\\begin{array}{*{11}c}-4.869 & 0.0 & 0.0 & 0.079 & 0.0 & 0.0 & 0.079 & 0.0\\\\0.0 & -1.571 & -0.314 & 0.0 & 0.0 & 0.0 & 0.0 & 0.079\\\\0.0 & -0.314 & -1.414 & 0.0 & -0.314 & 0.0 & 0.0 & 0.0\\\\0.079 & 0.0 & 0.0 & 1.571 & 0.0 & -0.314 & 0.0 & 0.0\\\\0.0 & 0.0 & -0.314 & 0.0 & -1.571 & 0.0 & 0.0 & 0.079\\\\0.0 & 0.0 & 0.0 & -0.314 & 0.0 & 1.728 & -0.314 & 0.0\\\\0.079 & 0.0 & 0.0 & 0.0 & 0.0 & -0.314 & 1.571 & 0.0\\\\0.0 & 0.079 & 0.0 & 0.0 & 0.079 & 0.0 & 0.0 & 4.555\\\\\\end{array}\\right)\\end{equation*}"
      ],
      "text/plain": [
       "Quantum object: dims = [[2, 2, 2], [2, 2, 2]], shape = (8, 8), type = oper, isherm = True\n",
       "Qobj data =\n",
       "[[-4.86946861  0.          0.          0.07853982  0.          0.\n",
       "   0.07853982  0.        ]\n",
       " [ 0.         -1.57079633 -0.31415927  0.          0.          0.\n",
       "   0.          0.07853982]\n",
       " [ 0.         -0.31415927 -1.41371669  0.         -0.31415927  0.\n",
       "   0.          0.        ]\n",
       " [ 0.07853982  0.          0.          1.57079633  0.         -0.31415927\n",
       "   0.          0.        ]\n",
       " [ 0.          0.         -0.31415927  0.         -1.57079633  0.\n",
       "   0.          0.07853982]\n",
       " [ 0.          0.          0.         -0.31415927  0.          1.72787596\n",
       "  -0.31415927  0.        ]\n",
       " [ 0.07853982  0.          0.          0.          0.         -0.31415927\n",
       "   1.57079633  0.        ]\n",
       " [ 0.          0.07853982  0.          0.          0.07853982  0.\n",
       "   0.          4.55530935]]"
      ]
     },
     "execution_count": 22,
     "metadata": {},
     "output_type": "execute_result"
    }
   ],
   "source": [
    "def Heisenberg_hamiltonian (N, Jx, Jy, Jz, h):\n",
    "    H = 0;\n",
    "    for n in range(N):\n",
    "        H += -0.5*h[n]*sz_list[n]\n",
    "        \n",
    "    for n in range(N-1):\n",
    "        H += -0.5 * Jx[n] * sx_list[n] * sx_list[n+1]\n",
    "        H += -0.5 * Jy[n] * sy_list[n] * sy_list[n+1]\n",
    "        H += -0.5 * Jz[n] * sz_list[n] * sz_list[n+1]\n",
    "    return H\n",
    "\n",
    "H_H = Heisenberg_hamiltonian(N, Jx, Jy, Jz, h)\n",
    "H_H"
   ]
  },
  {
   "cell_type": "code",
   "execution_count": 23,
   "metadata": {
    "id": "C4U410MBw0WJ"
   },
   "outputs": [],
   "source": [
    "## Free particles-Operators en términos de los operadores de spin\n",
    "fplists = me.free_particle_ops(N, H_H, sz_list)\n",
    "\n",
    "x_op = fplists[0]\n",
    "p_op = fplists[1]\n",
    "comm_xp = fplists[2]\n",
    "corr_xp = fplists[3]\n",
    "p_dot = fplists[4]"
   ]
  },
  {
   "cell_type": "code",
   "execution_count": 24,
   "metadata": {},
   "outputs": [],
   "source": [
    "# Estas definiciones quedaron obsoletas pero sirven para el testeo de la n_body_basis\n",
    "\n",
    "globalid = qutip.tensor([qutip.qeye(2) for k in range(N)])\n",
    "globalid_list = []\n",
    "for i in range(N):\n",
    "    globalid_list.append(globalid)\n",
    "\n",
    "one_site_basis = globalid_list + sx_list + sy_list + sz_list \n",
    "two_site_basis = [op1*op2 for op1 in one_site_basis for op2 in one_site_basis]\n",
    "\n",
    "tercera_base = [op*op3 for op in two_site_basis for op3 in one_site_basis]\n",
    "three_site_basis = [op1*op2*op3 for op1 in one_site_basis for op2 in one_site_basis for op3 in one_site_basis]\n",
    "\n",
    "cuarta_base = [op*op4 for op in three_site_basis for op4 in one_site_basis]\n",
    "four_site_basis = [op1*op2*op3*op4 for op1 in one_site_basis for op2 in one_site_basis for op3 in one_site_basis for op4 in one_site_basis]"
   ]
  },
  {
   "cell_type": "code",
   "execution_count": 25,
   "metadata": {},
   "outputs": [],
   "source": [
    "# def isnatural(x):\n",
    "#   return isinstance(x, int) and 0 <= x <= 9\n",
    "\n",
    "## globalid_list tiene N operadores anidados\n",
    "## sx_list, sy_list, sz_list ídem, N operadores c/u. \n",
    "## La 1-base completa tiene 4N operadores de 1-cuerpo\n",
    "## La 2-base completa tiene 4N*{4N} operadores de 2-cuerpos\n",
    "## La 3-base completa tiene {4N*{4N}}*4N} operadores \n",
    "\n",
    "natural = tuple('123456789')\n",
    "\n",
    "def n_body_basis(n):\n",
    "    basis = []\n",
    "    if (isinstance(n,int) and str(n) in natural):\n",
    "        if (n == 1):\n",
    "            basis = globalid_list + sx_list + sy_list + sz_list\n",
    "        elif (n > 1):\n",
    "            basis = [op1*op2 for op1 in n_body_basis(n-1) for op2 in n_body_basis(1)]\n",
    "    else:\n",
    "        basis = 'beep boop, n must be natural'\n",
    "    #return base_orth(basis, globalid)\n",
    "    return basis"
   ]
  },
  {
   "cell_type": "code",
   "execution_count": 26,
   "metadata": {},
   "outputs": [
    {
     "name": "stdout",
     "output_type": "stream",
     "text": [
      "OK True\n",
      "OK True\n",
      "OK True\n",
      "OK True\n",
      "OK True\n",
      "OK True\n",
      "OK True\n",
      "OK True\n",
      "OK True\n",
      "OK True\n",
      "OK True\n",
      "OK True\n"
     ]
    }
   ],
   "source": [
    "uno_a_cuatro_bases = []\n",
    "uno_a_cuatro_bases.append(one_site_basis)\n",
    "uno_a_cuatro_bases.append(two_site_basis)\n",
    "uno_a_cuatro_bases.append(three_site_basis)\n",
    "uno_a_cuatro_bases.append(four_site_basis)\n",
    "\n",
    "def basis_defs_test():\n",
    "    boolean = False \n",
    "    for n in range(4): \n",
    "        for m in range(3):\n",
    "            if (n_body_basis(n+1) == uno_a_cuatro_bases[m] and n != m):\n",
    "                print('Error: Two different index basis definitions equal', boolean)\n",
    "            if (n_body_basis(n+1) != uno_a_cuatro_bases[m] and n == m):\n",
    "                print('Error: Two same index basis definitions not equal', boolean)\n",
    "            else:\n",
    "                print('OK', True)\n",
    "    return None\n",
    "\n",
    "basis_defs_test()"
   ]
  },
  {
   "cell_type": "code",
   "execution_count": 27,
   "metadata": {},
   "outputs": [
    {
     "data": {
      "text/latex": [
       "\n",
       "Si quiero un estado gaussiano de operadores de un cuerpo, el más general es \n",
       "\n",
       "$$\n",
       "\\rho_{1,g} = \\exp\\bigg(\\alpha I_N + {\\bf a}_1 \\cdot {\\bf s}_x+{\\bf a}_2 \\cdot {\\bf s}_y+{\\bf a}_3 \\cdot {\\bf s}_z\\bigg) \n",
       "$$\n",
       "\n",
       "análogamente con estados gaussianos de operadores de dos cuerpos (pero ya ahí se me va al carajo).\n",
       "Si en cambio, considero un estado no gaussiano, puedo considerar un estado inicial descorrelacionado de la forma de \n",
       "\n",
       "$$\n",
       "\\rho_0 = x |\\Phi\\rangle \\langle\\Phi| + (1-x)\\frac{{I_d}}{d}\n",
       "$$\n"
      ],
      "text/plain": [
       "<IPython.core.display.Latex object>"
      ]
     },
     "metadata": {},
     "output_type": "display_data"
    }
   ],
   "source": [
    "%%latex\n",
    "\n",
    "Si quiero un estado gaussiano de operadores de un cuerpo, el más general es \n",
    "\n",
    "$$\n",
    "\\rho_{1,g} = \\exp\\bigg(\\alpha I_N + {\\bf a}_1 \\cdot {\\bf s}_x+{\\bf a}_2 \\cdot {\\bf s}_y+{\\bf a}_3 \\cdot {\\bf s}_z\\bigg) \n",
    "$$\n",
    "\n",
    "análogamente con estados gaussianos de operadores de dos cuerpos (pero ya ahí se me va al carajo).\n",
    "Si en cambio, considero un estado no gaussiano, puedo considerar un estado inicial descorrelacionado de la forma de \n",
    "\n",
    "$$\n",
    "\\rho_0 = x |\\Phi\\rangle \\langle\\Phi| + (1-x)\\frac{{I_d}}{d}\n",
    "$$"
   ]
  },
  {
   "cell_type": "code",
   "execution_count": 58,
   "metadata": {},
   "outputs": [],
   "source": [
    "psi1_list = []; psi2_list = []\n",
    "psi1_list.append(qutip.basis(2,1))\n",
    "for n in range(N-1):\n",
    "    psi1_list.append(qutip.basis(2,0))\n",
    "\n",
    "psi2_list.append(qutip.basis(2,0))\n",
    "psi2_list.append(qutip.basis(2,1))\n",
    "for n in range(N-2):\n",
    "    psi2_list.append(qutip.basis(2,0))\n",
    "\n",
    "psi01 = qutip.tensor(psi1_list); psi02 = qutip.tensor(psi2_list) \n",
    "psi0 = psi01+psi02 "
   ]
  },
  {
   "cell_type": "code",
   "execution_count": 29,
   "metadata": {},
   "outputs": [
    {
     "data": {
      "text/latex": [
       "Quantum object: dims = [[2, 2, 2], [2, 2, 2]], shape = (8, 8), type = oper, isherm = True\\begin{equation*}\\left(\\begin{array}{*{11}c}2.718 & (1.359\\times10^{-08}-1.359\\times10^{-08}j) & (1.359\\times10^{-08}-1.359\\times10^{-08}j) & 0.0 & (1.359\\times10^{-08}-1.359\\times10^{-08}j) & 0.0 & 0.0 & 0.0\\\\(1.359\\times10^{-08}+1.359\\times10^{-08}j) & 2.718 & 0.0 & (1.359\\times10^{-08}-1.359\\times10^{-08}j) & 0.0 & (1.359\\times10^{-08}-1.359\\times10^{-08}j) & 0.0 & 0.0\\\\(1.359\\times10^{-08}+1.359\\times10^{-08}j) & 0.0 & 2.718 & (1.359\\times10^{-08}-1.359\\times10^{-08}j) & 0.0 & 0.0 & (1.359\\times10^{-08}-1.359\\times10^{-08}j) & 0.0\\\\0.0 & (1.359\\times10^{-08}+1.359\\times10^{-08}j) & (1.359\\times10^{-08}+1.359\\times10^{-08}j) & 2.718 & 0.0 & 0.0 & 0.0 & (1.359\\times10^{-08}-1.359\\times10^{-08}j)\\\\(1.359\\times10^{-08}+1.359\\times10^{-08}j) & 0.0 & 0.0 & 0.0 & 2.718 & (1.359\\times10^{-08}-1.359\\times10^{-08}j) & (1.359\\times10^{-08}-1.359\\times10^{-08}j) & 0.0\\\\0.0 & (1.359\\times10^{-08}+1.359\\times10^{-08}j) & 0.0 & 0.0 & (1.359\\times10^{-08}+1.359\\times10^{-08}j) & 2.718 & 0.0 & (1.359\\times10^{-08}-1.359\\times10^{-08}j)\\\\0.0 & 0.0 & (1.359\\times10^{-08}+1.359\\times10^{-08}j) & 0.0 & (1.359\\times10^{-08}+1.359\\times10^{-08}j) & 0.0 & 2.718 & (1.359\\times10^{-08}-1.359\\times10^{-08}j)\\\\0.0 & 0.0 & 0.0 & (1.359\\times10^{-08}+1.359\\times10^{-08}j) & 0.0 & (1.359\\times10^{-08}+1.359\\times10^{-08}j) & (1.359\\times10^{-08}+1.359\\times10^{-08}j) & 2.718\\\\\\end{array}\\right)\\end{equation*}"
      ],
      "text/plain": [
       "Quantum object: dims = [[2, 2, 2], [2, 2, 2]], shape = (8, 8), type = oper, isherm = True\n",
       "Qobj data =\n",
       "[[2.71828187e+00+0.00000000e+00j 1.35914093e-08-1.35914093e-08j\n",
       "  1.35914093e-08-1.35914093e-08j 0.00000000e+00+0.00000000e+00j\n",
       "  1.35914093e-08-1.35914093e-08j 0.00000000e+00+0.00000000e+00j\n",
       "  0.00000000e+00+0.00000000e+00j 0.00000000e+00+0.00000000e+00j]\n",
       " [1.35914093e-08+1.35914093e-08j 2.71828184e+00+0.00000000e+00j\n",
       "  0.00000000e+00+0.00000000e+00j 1.35914091e-08-1.35914091e-08j\n",
       "  0.00000000e+00+0.00000000e+00j 1.35914091e-08-1.35914091e-08j\n",
       "  0.00000000e+00+0.00000000e+00j 0.00000000e+00+0.00000000e+00j]\n",
       " [1.35914093e-08+1.35914093e-08j 0.00000000e+00+0.00000000e+00j\n",
       "  2.71828184e+00+0.00000000e+00j 1.35914091e-08-1.35914091e-08j\n",
       "  0.00000000e+00+0.00000000e+00j 0.00000000e+00+0.00000000e+00j\n",
       "  1.35914091e-08-1.35914091e-08j 0.00000000e+00+0.00000000e+00j]\n",
       " [0.00000000e+00+0.00000000e+00j 1.35914091e-08+1.35914091e-08j\n",
       "  1.35914091e-08+1.35914091e-08j 2.71828181e+00+0.00000000e+00j\n",
       "  0.00000000e+00+0.00000000e+00j 0.00000000e+00+0.00000000e+00j\n",
       "  0.00000000e+00+0.00000000e+00j 1.35914090e-08-1.35914090e-08j]\n",
       " [1.35914093e-08+1.35914093e-08j 0.00000000e+00+0.00000000e+00j\n",
       "  0.00000000e+00+0.00000000e+00j 0.00000000e+00+0.00000000e+00j\n",
       "  2.71828184e+00+0.00000000e+00j 1.35914091e-08-1.35914091e-08j\n",
       "  1.35914091e-08-1.35914091e-08j 0.00000000e+00+0.00000000e+00j]\n",
       " [0.00000000e+00+0.00000000e+00j 1.35914091e-08+1.35914091e-08j\n",
       "  0.00000000e+00+0.00000000e+00j 0.00000000e+00+0.00000000e+00j\n",
       "  1.35914091e-08+1.35914091e-08j 2.71828181e+00+0.00000000e+00j\n",
       "  0.00000000e+00+0.00000000e+00j 1.35914090e-08-1.35914090e-08j]\n",
       " [0.00000000e+00+0.00000000e+00j 0.00000000e+00+0.00000000e+00j\n",
       "  1.35914091e-08+1.35914091e-08j 0.00000000e+00+0.00000000e+00j\n",
       "  1.35914091e-08+1.35914091e-08j 0.00000000e+00+0.00000000e+00j\n",
       "  2.71828181e+00+0.00000000e+00j 1.35914090e-08-1.35914090e-08j]\n",
       " [0.00000000e+00+0.00000000e+00j 0.00000000e+00+0.00000000e+00j\n",
       "  0.00000000e+00+0.00000000e+00j 1.35914090e-08+1.35914090e-08j\n",
       "  0.00000000e+00+0.00000000e+00j 1.35914090e-08+1.35914090e-08j\n",
       "  1.35914090e-08+1.35914090e-08j 2.71828179e+00+0.00000000e+00j]]"
      ]
     },
     "execution_count": 29,
     "metadata": {},
     "output_type": "execute_result"
    }
   ],
   "source": [
    "rho0 = me.initial_state_glng(N, .5, psi0, True, sx_list, sy_list, sz_list)\n",
    "rho0"
   ]
  },
  {
   "cell_type": "code",
   "execution_count": 59,
   "metadata": {
    "id": "_U6AxFh7w_oF"
   },
   "outputs": [],
   "source": [
    "class Result(object):\n",
    "      def __init__(self, ts=None, states=None):\n",
    "        self.ts = ts\n",
    "        self.states = states\n",
    "        self.projrho0_app = None   \n",
    "        self.projrho_inst_app = None \n",
    "\n",
    "def callback(t, rhot):\n",
    "    global rho\n",
    "    rho = rhot\n",
    "\n",
    "def projected_evolution(x=.5, gamma = 1*np.e*-2, omega_1=3., omega_2=3.,temp=1, gaussian=False, deltat=10., tmax = 500., distance=me.bures, do_project=True):\n",
    "    global rho\n",
    "    H_H = Heisenberg_hamiltonian(N,Jx,Jy,Jz,h)\n",
    "    globalid = qutip.tensor([qutip.qeye(2) for k in range(N)])\n",
    "\n",
    "    # Algunos problemas que tiene el problema cómo está planteado ahora:\n",
    "    # * rho0 debería ser un estado descorrelacionado. Aquí estamos estando el estado inicial,\n",
    "    #   que es un estado entrelazado\n",
    "    # * El estado inicial no pertenece a la variedad Max-Ent: Para que esto funcione, deberíamos, o bien proyectar el estado inicial a la variedad,\n",
    "    # o bien agregar el log(rho0) a la base de operadores. \n",
    "\n",
    "    rho0 = psi0 * psi0.dag()\n",
    "    rho0 = x * rho0/rho0.tr() + (1-x) * globalid * .5**N\n",
    "    \n",
    "    #basis = me.base_orth(n_body_basis(2), rho)  ## // Á la Tom\n",
    "    basis = me.base_orth(two_site_basis, rho0) ## // Á la Mauricio\n",
    "    # Hamiltoniano    \n",
    "\n",
    "    obs = [x_op, p_op]\n",
    "           #, x_op**2,p_op**2, corr_op, p_dot]\n",
    "\n",
    "    sampling = max(int(10*max(1,omega_1, omega_2)*deltat), 10)\n",
    "    print(\"sampling:\", sampling)\n",
    "    c_op_list = me.spin_dephasing(N,gamma)\n",
    "    rho = rho0                                                               ## // Á la Mauricio\n",
    "    #rho = me.initial_state_glng(N, .5, psi0, True, sx_list, sy_list, sz_list) ## // Á la Tom\n",
    "    approx_exp_vals = [[qutip.expect(op, rho) for op in obs]]\n",
    "    ts= [0]\n",
    "\n",
    "    for i in range(int(tmax/deltat)):\n",
    "        qutip.mesolve(H=H_H, \n",
    "                               rho0=rho, \n",
    "                               tlist=np.linspace(0,deltat, sampling), \n",
    "                               c_ops=c_op_list, \n",
    "                               e_ops=callback,\n",
    "                               args={'gamma': gamma,'omega_1': omega_1, 'omega_2': omega_2}\n",
    "                               )\n",
    "        ts.append(deltat*i)\n",
    "        if do_project:\n",
    "            rho = me.proj_op(me.logM(rho), basis, rho0)\n",
    "            e0 = max(rho.eigenenergies())\n",
    "            rho = rho - globalid * e0\n",
    "            rho = rho.expm()\n",
    "            trrho = (2.*rho.tr())\n",
    "            rho = (rho+rho.dag())/trrho\n",
    "\n",
    "        #print(qutip.entropy.entropy_vn(rho))\n",
    "        newobs = [qutip.expect(rho, op) for op in obs]\n",
    "        approx_exp_vals.append(newobs)\n",
    "\n",
    "    result = {}\n",
    "    result[\"ts\"] = ts\n",
    "    result[\"averages\"] = np.array(approx_exp_vals)\n",
    "    \n",
    "    title = f\" BW Dinámica cerrada no gaussiana wb1={omega_1} wb2={omega_2}\" \n",
    "    if do_project:\n",
    "        title = title + \"_projected_\"\n",
    "\n",
    "    with open(title+\".pkl\",\"wb\") as f:\n",
    "        pickle.dump(result, f)\n",
    "    return result"
   ]
  },
  {
   "cell_type": "code",
   "execution_count": 42,
   "metadata": {
    "scrolled": true
   },
   "outputs": [
    {
     "name": "stdout",
     "output_type": "stream",
     "text": [
      "sampling: 30\n",
      "sampling: 30\n"
     ]
    },
    {
     "data": {
      "text/plain": [
       "<matplotlib.legend.Legend at 0x11e1d940>"
      ]
     },
     "execution_count": 42,
     "metadata": {},
     "output_type": "execute_result"
    },
    {
     "data": {
      "image/png": "[encoded data removed]",
      "text/plain": [
       "<Figure size 432x288 with 1 Axes>"
      ]
     },
     "metadata": {
      "needs_background": "light"
     },
     "output_type": "display_data"
    }
   ],
   "source": [
    "## haciendolo de mi forma, usando n_body_basis(2) y usando un estado gaussiano \"chiquito\". Da re mal el x\n",
    "\n",
    "results = projected_evolution(x=.001, gamma = 1*np.e*-10, omega_1=3., omega_2=3.,temp=1, gaussian=False, deltat=1, tmax = 20, distance=me.bures,do_project=True)\n",
    "\n",
    "plt.plot(results[\"ts\"], results[\"averages\"][:,0], label=\"x Projected\")\n",
    "results = projected_evolution(x=.001, gamma = 1*np.e*-10, omega_1=3., omega_2=3.,temp=1, gaussian=False, deltat=1, tmax = 20, distance=me.bures,do_project=False)\n",
    "plt.scatter(results[\"ts\"], results[\"averages\"][:,0], label=\"x exact\")\n",
    "plt.legend()"
   ]
  },
  {
   "cell_type": "code",
   "execution_count": 45,
   "metadata": {},
   "outputs": [
    {
     "name": "stdout",
     "output_type": "stream",
     "text": [
      "sampling: 30\n",
      "sampling: 30\n"
     ]
    },
    {
     "data": {
      "text/plain": [
       "<matplotlib.legend.Legend at 0x11d7a1c0>"
      ]
     },
     "execution_count": 45,
     "metadata": {},
     "output_type": "execute_result"
    },
    {
     "data": {
      "image/png": "[encoded data removed]",
      "text/plain": [
       "<Figure size 432x288 with 1 Axes>"
      ]
     },
     "metadata": {
      "needs_background": "light"
     },
     "output_type": "display_data"
    }
   ],
   "source": [
    "## Usando la forma de Mauricio, usando two_site_orth_basis\n",
    "\n",
    "results = projected_evolution(x=.001, gamma = 1*np.e*-10, omega_1=3., omega_2=3.,temp=1, gaussian=False, deltat=1, tmax = 20, distance=me.bures,do_project=True)\n",
    "\n",
    "plt.plot(results[\"ts\"], results[\"averages\"][:,0], label=\"x Projected\")\n",
    "results = projected_evolution(x=.001, gamma = 1*np.e*-10, omega_1=3., omega_2=3.,temp=1, gaussian=False, deltat=1, tmax = 20, distance=me.bures,do_project=False)\n",
    "plt.scatter(results[\"ts\"], results[\"averages\"][:,0], label=\"x exact\")\n",
    "plt.legend()"
   ]
  },
  {
   "cell_type": "code",
   "execution_count": 49,
   "metadata": {},
   "outputs": [
    {
     "name": "stdout",
     "output_type": "stream",
     "text": [
      "sampling: 30\n",
      "sampling: 30\n",
      "sampling: 30\n",
      "sampling: 30\n"
     ]
    },
    {
     "data": {
      "text/plain": [
       "<matplotlib.legend.Legend at 0xec49f10>"
      ]
     },
     "execution_count": 49,
     "metadata": {},
     "output_type": "execute_result"
    },
    {
     "data": {
      "image/png": "[encoded data removed]",
      "text/plain": [
       "<Figure size 432x288 with 1 Axes>"
      ]
     },
     "metadata": {
      "needs_background": "light"
     },
     "output_type": "display_data"
    }
   ],
   "source": [
    "## En estas simus usé  rho0 = psi0 * psi0.dag() con rho0 = x * rho0/rho0.tr() + (1-x) * globalid * .5**N\n",
    "\n",
    "results = projected_evolution(x=.001, gamma = 1*np.e*-10, omega_1=3., omega_2=3.,temp=1, gaussian=False, deltat=1, tmax = 20, distance=me.bures,do_project=True)\n",
    "plt.plot(results[\"ts\"], results[\"averages\"][:,0], label=\"x Projected\")\n",
    "\n",
    "results = projected_evolution(x=.001, gamma = 1*np.e*-10, omega_1=3., omega_2=3.,temp=1, gaussian=False, deltat=1, tmax = 20, distance=me.bures,do_project=False)\n",
    "plt.scatter(results[\"ts\"], results[\"averages\"][:,0], label=\"x exact\")\n",
    "\n",
    "results = projected_evolution(x=.001, gamma = 1*np.e*-10, omega_1=3., omega_2=3.,temp=1, gaussian=False, deltat=1, tmax = 20, distance=me.bures,do_project=True)\n",
    "plt.plot(results[\"ts\"], results[\"averages\"][:,1], label=\"p Projected\")\n",
    "\n",
    "results = projected_evolution(x=.001, gamma = 1*np.e*-10, omega_1=3., omega_2=3.,temp=1, gaussian=False, deltat=1, tmax = 20, distance=me.bures,do_project=False)\n",
    "plt.scatter(results[\"ts\"], results[\"averages\"][:,1], label=\"p exact\")\n",
    "plt.legend()\n",
    "\n",
    "plt.legend()"
   ]
  },
  {
   "cell_type": "code",
   "execution_count": 52,
   "metadata": {},
   "outputs": [
    {
     "name": "stdout",
     "output_type": "stream",
     "text": [
      "sampling: 30\n",
      "sampling: 30\n"
     ]
    },
    {
     "data": {
      "text/plain": [
       "<matplotlib.legend.Legend at 0x102c8280>"
      ]
     },
     "execution_count": 52,
     "metadata": {},
     "output_type": "execute_result"
    },
    {
     "data": {
      "image/png": "[encoded data removed]",
      "text/plain": [
       "<Figure size 432x288 with 1 Axes>"
      ]
     },
     "metadata": {
      "needs_background": "light"
     },
     "output_type": "display_data"
    }
   ],
   "source": [
    "## Ídem que el caso anterior, pero ahora miro el p\n",
    "## En estas simus usé  rho0 = psi0 * psi0.dag() con rho0 = x * rho0/rho0.tr() + (1-x) * globalid * .5**N. \n",
    "\n",
    "results = projected_evolution(x=.001, gamma = 1*np.e*-10, omega_1=3., omega_2=3.,temp=1, gaussian=False, deltat=1, tmax = 20, distance=me.bures,do_project=True)\n",
    "plt.plot(results[\"ts\"], results[\"averages\"][:,1], label=\"p Projected\")\n",
    "\n",
    "results = projected_evolution(x=.001, gamma = 1*np.e*-10, omega_1=3., omega_2=3.,temp=1, gaussian=False, deltat=1, tmax = 20, distance=me.bures,do_project=False)\n",
    "plt.scatter(results[\"ts\"], results[\"averages\"][:,1], label=\"p exact\")\n",
    "plt.legend()"
   ]
  },
  {
   "cell_type": "code",
   "execution_count": 56,
   "metadata": {},
   "outputs": [
    {
     "name": "stdout",
     "output_type": "stream",
     "text": [
      "sampling: 30\n",
      "sampling: 30\n",
      "sampling: 30\n",
      "sampling: 30\n"
     ]
    },
    {
     "data": {
      "text/plain": [
       "<matplotlib.legend.Legend at 0xd5c7c70>"
      ]
     },
     "execution_count": 56,
     "metadata": {},
     "output_type": "execute_result"
    },
    {
     "data": {
      "image/png": "[encoded data removed]",
      "text/plain": [
       "<Figure size 432x288 with 1 Axes>"
      ]
     },
     "metadata": {
      "needs_background": "light"
     },
     "output_type": "display_data"
    }
   ],
   "source": [
    "## á la Mauricio\n",
    "\n",
    "results = projected_evolution(x=.5, gamma = 1*np.e*-10, omega_1=3., omega_2=3.,temp=1, gaussian=True, deltat=1, tmax = 20, distance=me.bures,do_project=True)\n",
    "plt.plot(results[\"ts\"], results[\"averages\"][:,0], label=\"x Projected\")\n",
    "\n",
    "results = projected_evolution(x=.5, gamma = 1*np.e*-10, omega_1=3., omega_2=3.,temp=1, gaussian=True, deltat=1, tmax = 20, distance=me.bures,do_project=False)\n",
    "plt.scatter(results[\"ts\"], results[\"averages\"][:,0], label=\"x exact\")\n",
    "\n",
    "results = projected_evolution(x=.5, gamma = 1*np.e*-10, omega_1=3., omega_2=3.,temp=1, gaussian=True, deltat=1, tmax = 20, distance=me.bures,do_project=True)\n",
    "plt.plot(results[\"ts\"], results[\"averages\"][:,1], label=\"p Projected\")\n",
    "\n",
    "results = projected_evolution(x=.5, gamma = 1*np.e*-10, omega_1=3., omega_2=3.,temp=1, gaussian=True, deltat=1, tmax = 20, distance=me.bures,do_project=False)\n",
    "plt.scatter(results[\"ts\"], results[\"averages\"][:,1], label=\"p exact\")\n",
    "\n",
    "plt.legend()"
   ]
  },
  {
   "cell_type": "code",
   "execution_count": 57,
   "metadata": {},
   "outputs": [
    {
     "name": "stdout",
     "output_type": "stream",
     "text": [
      "sampling: 30\n",
      "sampling: 30\n"
     ]
    },
    {
     "data": {
      "text/plain": [
       "<matplotlib.legend.Legend at 0xec38910>"
      ]
     },
     "execution_count": 57,
     "metadata": {},
     "output_type": "execute_result"
    },
    {
     "data": {
      "image/png": "[encoded data removed]",
      "text/plain": [
       "<Figure size 432x288 with 1 Axes>"
      ]
     },
     "metadata": {
      "needs_background": "light"
     },
     "output_type": "display_data"
    }
   ],
   "source": [
    "## Caso especial del p para las mismas conds anteriores\n",
    "## usé me.initial_state_glng(N, .5, psi0, gaussian, sx_list, sy_list, sz_list) con gaussian = True\n",
    "\n",
    "results = projected_evolution(x=.5, gamma = 1*np.e*-10, omega_1=3., omega_2=3.,temp=1, gaussian=True, deltat=1, tmax = 20, distance=me.bures,do_project=True)\n",
    "plt.plot(results[\"ts\"], results[\"averages\"][:,1], label=\"p Projected\")\n",
    "\n",
    "results = projected_evolution(x=.5, gamma = 1*np.e*-10, omega_1=3., omega_2=3.,temp=1, gaussian=True, deltat=1, tmax = 20, distance=me.bures,do_project=False)\n",
    "plt.scatter(results[\"ts\"], results[\"averages\"][:,1], label=\"p exact\")\n",
    "\n",
    "plt.legend()"
   ]
  },
  {
   "cell_type": "code",
   "execution_count": 60,
   "metadata": {},
   "outputs": [
    {
     "name": "stdout",
     "output_type": "stream",
     "text": [
      "sampling: 30\n",
      "sampling: 30\n",
      "sampling: 30\n",
      "sampling: 30\n"
     ]
    },
    {
     "data": {
      "text/plain": [
       "<matplotlib.legend.Legend at 0xd581e20>"
      ]
     },
     "execution_count": 60,
     "metadata": {},
     "output_type": "execute_result"
    },
    {
     "data": {
      "image/png": "[encoded data removed]",
      "text/plain": [
       "<Figure size 432x288 with 1 Axes>"
      ]
     },
     "metadata": {
      "needs_background": "light"
     },
     "output_type": "display_data"
    }
   ],
   "source": [
    "results = projected_evolution(x=.001, gamma = 1*np.e*-10, omega_1=3., omega_2=3.,temp=1, gaussian=False, deltat=1, tmax = 20, distance=me.bures,do_project=True)\n",
    "plt.plot(results[\"ts\"], results[\"averages\"][:,0], label=\"x Projected\")\n",
    "\n",
    "results = projected_evolution(x=.001, gamma = 1*np.e*-10, omega_1=3., omega_2=3.,temp=1, gaussian=False, deltat=1, tmax = 20, distance=me.bures,do_project=False)\n",
    "plt.scatter(results[\"ts\"], results[\"averages\"][:,0], label=\"x exact\")\n",
    "\n",
    "results = projected_evolution(x=.001, gamma = 1*np.e*-10, omega_1=3., omega_2=3.,temp=1, gaussian=False, deltat=1, tmax = 20, distance=me.bures,do_project=True)\n",
    "plt.plot(results[\"ts\"], results[\"averages\"][:,1], label=\"p Projected\")\n",
    "\n",
    "results = projected_evolution(x=.001, gamma = 1*np.e*-10, omega_1=3., omega_2=3.,temp=1, gaussian=False, deltat=1, tmax = 20, distance=me.bures,do_project=False)\n",
    "plt.scatter(results[\"ts\"], results[\"averages\"][:,1], label=\"p exact\")\n",
    "\n",
    "plt.legend()"
   ]
  },
  {
   "cell_type": "code",
   "execution_count": 14,
   "metadata": {},
   "outputs": [
    {
     "name": "stdout",
     "output_type": "stream",
     "text": [
      "sampling: 30\n",
      "0.16791281322515023\n",
      "0.025001997406236265\n",
      "1.1487922825146764e-14\n",
      "6.8329179718224e-05\n",
      "1.0588064054146225e-07\n",
      "1.0943601382025009e-06\n",
      "3.837837843749808e-10\n",
      "2.847322548963192e-11\n",
      "-2.2674686255129694e-15\n",
      "2.7230410245496378e-11\n",
      "-1.1644215232581642e-15\n",
      "3.4559150475658025e-11\n",
      "-5.1809250033609207e-17\n",
      "8.181803138401406e-14\n",
      "4.2894135173715545e-09\n",
      "-2.383026334279759e-15\n",
      "3.832498575379521e-09\n",
      "8.123253432665382e-14\n",
      "2.1812800401946557e-12\n",
      "7.543808212634594e-07\n",
      "sampling: 30\n",
      "1.5366498967615803\n",
      "1.5366499211623428\n",
      "1.5366499466148518\n",
      "1.5366499734312118\n",
      "1.536650000136888\n",
      "1.5366500264372303\n",
      "1.5366500535076661\n",
      "1.536650082456855\n",
      "1.5366501140063615\n",
      "1.536650147568085\n",
      "1.5366501820076974\n",
      "1.5366502160147812\n",
      "1.536650248583973\n",
      "1.5366502798835635\n",
      "1.5366503103435414\n",
      "1.5366503679168246\n",
      "1.5366504130072236\n",
      "1.53665045978774\n",
      "1.5366505052109396\n",
      "1.536650562763997\n",
      "sampling: 30\n",
      "0.16791281322515023\n",
      "0.025001997406236265\n",
      "1.1487922825146764e-14\n",
      "6.8329179718224e-05\n",
      "1.0588064054146225e-07\n",
      "1.0943601382025009e-06\n",
      "3.837837843749808e-10\n",
      "2.847322548963192e-11\n",
      "-2.2674686255129694e-15\n",
      "2.7230410245496378e-11\n",
      "-1.1644215232581642e-15\n",
      "3.4559150475658025e-11\n",
      "-5.1809250033609207e-17\n",
      "8.181803138401406e-14\n",
      "4.2894135173715545e-09\n",
      "-2.383026334279759e-15\n",
      "3.832498575379521e-09\n",
      "8.123253432665382e-14\n",
      "2.1812800401946557e-12\n",
      "7.543808212634594e-07\n",
      "sampling: 30\n",
      "1.5366498967615803\n",
      "1.5366499211623428\n",
      "1.5366499466148518\n",
      "1.5366499734312118\n",
      "1.536650000136888\n",
      "1.5366500264372303\n",
      "1.5366500535076661\n",
      "1.536650082456855\n",
      "1.5366501140063615\n",
      "1.536650147568085\n",
      "1.5366501820076974\n",
      "1.5366502160147812\n",
      "1.536650248583973\n",
      "1.5366502798835635\n",
      "1.5366503103435414\n",
      "1.5366503679168246\n",
      "1.5366504130072236\n",
      "1.53665045978774\n",
      "1.5366505052109396\n",
      "1.536650562763997\n"
     ]
    },
    {
     "data": {
      "text/plain": [
       "<matplotlib.legend.Legend at 0x124fc7f0>"
      ]
     },
     "execution_count": 14,
     "metadata": {},
     "output_type": "execute_result"
    },
    {
     "data": {
      "image/png": "[encoded data removed]",
      "text/plain": [
       "<Figure size 432x288 with 1 Axes>"
      ]
     },
     "metadata": {
      "needs_background": "light"
     },
     "output_type": "display_data"
    }
   ],
   "source": [
    "results = projected_evolution(x=.001, gamma = 1*np.e*-10, omega_1=3., omega_2=3.,temp=1, gaussian=False, deltat=1, tmax = 20, distance=me.bures,do_project=True)\n",
    "plt.plot(results[\"ts\"], results[\"averages\"][:,0], label=\"x Projected\")\n",
    "\n",
    "results = projected_evolution(x=.001, gamma = 1*np.e*-10, omega_1=3., omega_2=3.,temp=1, gaussian=False, deltat=1, tmax = 20, distance=me.bures,do_project=False)\n",
    "plt.scatter(results[\"ts\"], results[\"averages\"][:,0], label=\"x exact\")\n",
    "\n",
    "results = projected_evolution(x=.001, gamma = 1*np.e*-10, omega_1=3., omega_2=3.,temp=1, gaussian=False, deltat=1, tmax = 20, distance=me.bures,do_project=True)\n",
    "plt.plot(results[\"ts\"], results[\"averages\"][:,1], label=\"p Projected\")\n",
    "\n",
    "results = projected_evolution(x=.001, gamma = 1*np.e*-10, omega_1=3., omega_2=3.,temp=1, gaussian=False, deltat=1, tmax = 20, distance=me.bures,do_project=False)\n",
    "plt.scatter(results[\"ts\"], results[\"averages\"][:,1], label=\"p exact\")\n",
    "\n",
    "plt.legend()"
   ]
  },
  {
   "cell_type": "code",
   "execution_count": 15,
   "metadata": {},
   "outputs": [
    {
     "name": "stdout",
     "output_type": "stream",
     "text": [
      "sampling: 30\n",
      "1.7623634883935035e-09\n",
      "8.897276858776116e-10\n",
      "4.0917825143476267e-13\n",
      "0.634941571710568\n",
      "1.548026520839077e-10\n",
      "0.0026295518333333194\n",
      "2.2034393346722337e-05\n",
      "1.1825901929862861e-08\n",
      "8.712039898658134e-15\n",
      "6.019306388819321e-08\n",
      "0.00010048180477350866\n",
      "0.0004313182182275918\n",
      "-1.1745602108609705e-16\n",
      "2.0233857767965332e-13\n",
      "2.585309419276434e-13\n",
      "1.5292363500367864e-08\n",
      "-1.4304389024841682e-15\n",
      "0.040447956723005135\n",
      "1.8827747953697937e-14\n",
      "7.894600762081582e-11\n",
      "sampling: 30\n",
      "-167.74431341057016\n",
      "-167.7443005949237\n",
      "-167.74428790881026\n",
      "-167.74427547859636\n",
      "-167.7442632845791\n",
      "-167.74425123615367\n",
      "-167.7442392875691\n",
      "-167.74422738667542\n",
      "-167.7442154242809\n",
      "-167.74419638623513\n",
      "-167.7441840501636\n",
      "-167.7441715761534\n",
      "-167.7441588842844\n",
      "-167.74414600644258\n",
      "-167.744133022612\n",
      "-167.74411984776847\n",
      "-167.74410636932714\n",
      "-167.7440928165316\n",
      "-167.74407932293536\n",
      "-167.74406533539172\n",
      "sampling: 30\n",
      "1.7623634883935035e-09\n",
      "8.897276858776116e-10\n",
      "4.0917825143476267e-13\n",
      "0.634941571710568\n",
      "1.548026520839077e-10\n",
      "0.0026295518333333194\n",
      "2.2034393346722337e-05\n",
      "1.1825901929862861e-08\n",
      "8.712039898658134e-15\n",
      "6.019306388819321e-08\n",
      "0.00010048180477350866\n",
      "0.0004313182182275918\n",
      "-1.1745602108609705e-16\n",
      "2.0233857767965332e-13\n",
      "2.585309419276434e-13\n",
      "1.5292363500367864e-08\n",
      "-1.4304389024841682e-15\n",
      "0.040447956723005135\n",
      "1.8827747953697937e-14\n",
      "7.894600762081582e-11\n",
      "sampling: 30\n",
      "-167.74431341057016\n",
      "-167.7443005949237\n",
      "-167.74428790881026\n",
      "-167.74427547859636\n",
      "-167.7442632845791\n",
      "-167.74425123615367\n",
      "-167.7442392875691\n",
      "-167.74422738667542\n",
      "-167.7442154242809\n",
      "-167.74419638623513\n",
      "-167.7441840501636\n",
      "-167.7441715761534\n",
      "-167.7441588842844\n",
      "-167.74414600644258\n",
      "-167.744133022612\n",
      "-167.74411984776847\n",
      "-167.74410636932714\n",
      "-167.7440928165316\n",
      "-167.74407932293536\n",
      "-167.74406533539172\n"
     ]
    },
    {
     "data": {
      "text/plain": [
       "<matplotlib.legend.Legend at 0x10e3f220>"
      ]
     },
     "execution_count": 15,
     "metadata": {},
     "output_type": "execute_result"
    },
    {
     "data": {
      "image/png": "[encoded data removed]",
      "text/plain": [
       "<Figure size 432x288 with 1 Axes>"
      ]
     },
     "metadata": {
      "needs_background": "light"
     },
     "output_type": "display_data"
    }
   ],
   "source": [
    "results = projected_evolution(x=.001, gamma = 1*np.e*-10, omega_1=3., omega_2=3.,temp=1, gaussian=True, deltat=1, tmax = 20, distance=me.bures,do_project=True)\n",
    "plt.plot(results[\"ts\"], results[\"averages\"][:,0], label=\"x Projected\")\n",
    "\n",
    "results = projected_evolution(x=.001, gamma = 1*np.e*-10, omega_1=3., omega_2=3.,temp=1, gaussian=True, deltat=1, tmax = 20, distance=me.bures,do_project=False)\n",
    "plt.scatter(results[\"ts\"], results[\"averages\"][:,0], label=\"x exact\")\n",
    "\n",
    "results = projected_evolution(x=.001, gamma = 1*np.e*-10, omega_1=3., omega_2=3.,temp=1, gaussian=True, deltat=1, tmax = 20, distance=me.bures,do_project=True)\n",
    "plt.plot(results[\"ts\"], results[\"averages\"][:,1], label=\"p Projected\")\n",
    "\n",
    "results = projected_evolution(x=.001, gamma = 1*np.e*-10, omega_1=3., omega_2=3.,temp=1, gaussian=True, deltat=1, tmax = 20, distance=me.bures,do_project=False)\n",
    "plt.scatter(results[\"ts\"], results[\"averages\"][:,1], label=\"p exact\")\n",
    "\n",
    "plt.legend()"
   ]
  },
  {
   "cell_type": "code",
   "execution_count": 21,
   "metadata": {},
   "outputs": [
    {
     "name": "stdout",
     "output_type": "stream",
     "text": [
      "sampling: 30\n",
      "sampling: 30\n"
     ]
    },
    {
     "data": {
      "text/plain": [
       "<matplotlib.legend.Legend at 0x6391580>"
      ]
     },
     "execution_count": 21,
     "metadata": {},
     "output_type": "execute_result"
    },
    {
     "data": {
      "image/png": "[encoded data removed]",
      "text/plain": [
       "<Figure size 432x288 with 1 Axes>"
      ]
     },
     "metadata": {
      "needs_background": "light"
     },
     "output_type": "display_data"
    }
   ],
   "source": [
    "results = projected_evolution(x=.001, gamma = 1*np.e*-10, omega_1=3., omega_2=3.,temp=1, gaussian=False, deltat=1, tmax = 20, distance=me.bures,do_project=True)\n",
    "\n",
    "plt.plot(results[\"ts\"], results[\"averages\"][:,0], label=\"x Projected\")\n",
    "results = projected_evolution(x=.001, gamma = 1*np.e*-10, omega_1=3., omega_2=3.,temp=1, gaussian=False, deltat=1, tmax = 20, distance=me.bures,do_project=False)\n",
    "plt.scatter(results[\"ts\"], results[\"averages\"][:,0], label=\"x exact\")\n",
    "plt.legend()"
   ]
  },
  {
   "cell_type": "code",
   "execution_count": null,
   "metadata": {},
   "outputs": [],
   "source": []
  },
  {
   "cell_type": "code",
   "execution_count": 40,
   "metadata": {},
   "outputs": [],
   "source": [
    "## La versión de Mauricio\n",
    "\n",
    "def callback(t, rhot):\n",
    "    global rho\n",
    "    rho = rhot\n",
    "\n",
    "\n",
    "def projected_evolution(x=.5, gamma = 1*np.e*-2, omega_1=3., omega_2=3.,temp=1, gaussian=False, deltat=10., tmax = 500., distance=me.bures, do_project=True):\n",
    "    global rho\n",
    "    H_H = Heisenberg_hamiltonian(N,Jx,Jy,Jz,h)\n",
    "    globalid = qutip.tensor([qutip.qeye(2) for k in range(N)])\n",
    "\n",
    "    # Algunos problemas que tiene el problema cómo está planteado ahora:\n",
    "    # * rho0 debería ser un estado descorrelacionado. Aquí estamos estando el estado inicial,\n",
    "    #   que es un estado entrelazado\n",
    "    # * El estado inicial no pertenece a la variedad Max-Ent: Para que esto funcione, deberíamos, o bien proyectar el estado inicial a la variedad,\n",
    "    # o bien agregar el log(rho0) a la base de operadores. \n",
    "\n",
    "    rho0 = psi0 * psi0.dag()\n",
    "    rho0 = x * rho0/rho0.tr() + (1-x) * globalid * .5**N\n",
    "    #basis = sx_list +  sy_list + sz_list\n",
    "    # basis = base_orth([x_op, p_op, x_op**2, corr_xp, p_dot, p_op**2, p_dot**2, p_op*H_H+H_H*p_op,1j*(p_op*H_H-H_H*p_op) ],rho0)\n",
    "\n",
    "    # basis = base_orth(two_site_basis + [ H_H*op+op*H_H for op in two_site_basis ], rho0)\n",
    "    basis = me.base_orth(two_site_basis, rho0)\n",
    "    # Hamiltoniano    \n",
    "\n",
    "    obs = [x_op, p_op]\n",
    "           #, x_op**2,p_op**2, corr_op, p_dot]\n",
    "\n",
    "    sampling = max(int(10*max(1,omega_1, omega_2)*deltat), 10)\n",
    "    print(\"sampling:\", sampling)\n",
    "    c_op_list = me.spin_dephasing(N,gamma)\n",
    "    rho = rho0\n",
    "    approx_exp_vals = [[qutip.expect(op, rho) for op in obs]]\n",
    "    ts= [0]\n",
    "\n",
    "    for i in range(int(tmax/deltat)):\n",
    "        qutip.mesolve(H=H_H, \n",
    "                               rho0=rho, \n",
    "                               tlist=np.linspace(0,deltat, sampling), \n",
    "                               c_ops=c_op_list, \n",
    "                               e_ops=callback,\n",
    "                               args={'gamma': gamma,'omega_1': omega_1, 'omega_2': omega_2}\n",
    "                               )\n",
    "        ts.append(deltat*i)\n",
    "        if do_project:\n",
    "            rho = me.proj_op(me.logM(rho), basis, rho0)\n",
    "            e0 = max(rho.eigenenergies())\n",
    "            rho = rho - globalid * e0\n",
    "            rho = rho.expm()\n",
    "            trrho = (2.*rho.tr())\n",
    "            rho = (rho+rho.dag())/trrho\n",
    "\n",
    "        print(qutip.entropy.entropy_vn(rho))\n",
    "        newobs = [qutip.expect(rho, op) for op in obs]\n",
    "        approx_exp_vals.append(newobs)\n",
    "\n",
    "    result = {}\n",
    "    result[\"ts\"] = ts\n",
    "    result[\"averages\"] = np.array(approx_exp_vals)\n",
    "    \n",
    "    title = f\" BW Dinámica cerrada no gaussiana wb1={omega_1} wb2={omega_2}\" \n",
    "    if do_project:\n",
    "        title = title + \"_projected_\"\n",
    "\n",
    "    with open(title+\".pkl\",\"wb\") as f:\n",
    "        pickle.dump(result, f)\n",
    "    return result"
   ]
  },
  {
   "cell_type": "code",
   "execution_count": 44,
   "metadata": {
    "colab": {
     "base_uri": "https://localhost:8080/",
     "height": 1000
    },
    "id": "zmhhwbC_-QPb",
    "outputId": "4277ca81-cbc9-46c0-c908-18abad0b1c64"
   },
   "outputs": [
    {
     "name": "stdout",
     "output_type": "stream",
     "text": [
      "sampling: 30\n",
      "2.0794396190490816\n",
      "2.0794397731683754\n",
      "2.0794398781648535\n",
      "2.0794399504299896\n",
      "2.079440016028118\n",
      "2.0794400812455\n",
      "2.079440135655471\n",
      "2.079440181000524\n",
      "2.079440230443113\n",
      "2.0794402847590328\n",
      "2.0794403321892663\n",
      "2.079440368293514\n",
      "2.079440398345729\n",
      "2.0794404237006128\n",
      "2.0794404409018017\n",
      "2.0794404520715286\n",
      "2.079440463916649\n",
      "2.0794404775189834\n",
      "2.079440488316501\n",
      "2.079440495052855\n",
      "sampling: 30\n",
      "2.079438048642364\n",
      "2.079438048631806\n",
      "2.0794380486193496\n",
      "2.079438048606403\n",
      "2.079438048591962\n",
      "2.079438048575193\n",
      "2.0794380485572383\n",
      "2.0794380485382518\n",
      "2.079438048517046\n",
      "2.079438048493923\n",
      "2.0794380484696626\n",
      "2.079438048443511\n",
      "2.0794380484150174\n",
      "2.0794380483849837\n",
      "2.079438048353498\n",
      "2.0794380483199006\n",
      "2.0794380482845365\n",
      "2.079438048247969\n",
      "2.0794380482096737\n",
      "2.079438048169335\n"
     ]
    },
    {
     "data": {
      "text/plain": [
       "<matplotlib.legend.Legend at 0x142533a0>"
      ]
     },
     "execution_count": 44,
     "metadata": {},
     "output_type": "execute_result"
    },
    {
     "data": {
      "image/png": "[encoded data removed]",
      "text/plain": [
       "<Figure size 432x288 with 1 Axes>"
      ]
     },
     "metadata": {
      "needs_background": "light"
     },
     "output_type": "display_data"
    }
   ],
   "source": [
    "results = projected_evolution(x=.001, gamma = 1*np.e*-10, omega_1=3., omega_2=3.,temp=1, gaussian=False, deltat=1, tmax = 20, distance=me.bures,do_project=True)\n",
    "\n",
    "plt.plot(results[\"ts\"], results[\"averages\"][:,1], label=\"x Projected\")\n",
    "results = projected_evolution(x=.001, gamma = 1*np.e*-10, omega_1=3., omega_2=3.,temp=1, gaussian=False, deltat=1, tmax = 20, distance=me.bures,do_project=False)\n",
    "plt.scatter(results[\"ts\"], results[\"averages\"][:,1], label=\"x exact\")\n",
    "plt.legend()\n"
   ]
  },
  {
   "cell_type": "code",
   "execution_count": null,
   "metadata": {},
   "outputs": [],
   "source": []
  },
  {
   "cell_type": "code",
   "execution_count": null,
   "metadata": {},
   "outputs": [],
   "source": []
  },
  {
   "cell_type": "code",
   "execution_count": null,
   "metadata": {
    "colab": {
     "base_uri": "https://localhost:8080/"
    },
    "id": "Is-nXv_YLuTT",
    "outputId": "ec8dab32-dbda-4dc7-cec4-f2756091c9e8"
   },
   "outputs": [
    {
     "name": "stdout",
     "output_type": "stream",
     "text": [
      "Help on module qutip.entropy in qutip:\n",
      "\n",
      "NAME\n",
      "    qutip.entropy\n",
      "\n",
      "FUNCTIONS\n",
      "    concurrence(rho)\n",
      "        Calculate the concurrence entanglement measure for a two-qubit state.\n",
      "        \n",
      "        Parameters\n",
      "        ----------\n",
      "        state : qobj\n",
      "            Ket, bra, or density matrix for a two-qubit state.\n",
      "        \n",
      "        Returns\n",
      "        -------\n",
      "        concur : float\n",
      "            Concurrence\n",
      "        \n",
      "        References\n",
      "        ----------\n",
      "        \n",
      "        .. [1] https://en.wikipedia.org/wiki/Concurrence_(quantum_computing)\n",
      "    \n",
      "    entangling_power(U)\n",
      "        Calculate the entangling power of a two-qubit gate U, which\n",
      "        is zero of nonentangling gates and 1 and 2/9 for maximally\n",
      "        entangling gates.\n",
      "        \n",
      "        Parameters\n",
      "        ----------\n",
      "        U : qobj\n",
      "            Qobj instance representing a two-qubit gate.\n",
      "        \n",
      "        Returns\n",
      "        -------\n",
      "        ep : float\n",
      "            The entanglement power of U (real number between 0 and 1)\n",
      "        \n",
      "        References:\n",
      "        \n",
      "            Explorations in Quantum Computing, Colin P. Williams (Springer, 2011)\n",
      "    \n",
      "    entropy_conditional(rho, selB, base=2.718281828459045, sparse=False)\n",
      "        Calculates the conditional entropy :math:`S(A|B)=S(A,B)-S(B)`\n",
      "        of a selected density matrix component.\n",
      "        \n",
      "        Parameters\n",
      "        ----------\n",
      "        rho : qobj\n",
      "            Density matrix of composite object\n",
      "        selB : int/list\n",
      "            Selected components for density matrix B\n",
      "        base : {e,2}\n",
      "            Base of logarithm.\n",
      "        sparse : {False,True}\n",
      "            Use sparse eigensolver.\n",
      "        \n",
      "        Returns\n",
      "        -------\n",
      "        ent_cond : float\n",
      "            Value of conditional entropy\n",
      "    \n",
      "    entropy_linear(rho)\n",
      "        Linear entropy of a density matrix.\n",
      "        \n",
      "        Parameters\n",
      "        ----------\n",
      "        rho : qobj\n",
      "            sensity matrix or ket/bra vector.\n",
      "        \n",
      "        Returns\n",
      "        -------\n",
      "        entropy : float\n",
      "            Linear entropy of rho.\n",
      "        \n",
      "        Examples\n",
      "        --------\n",
      "        >>> rho=0.5*fock_dm(2,0)+0.5*fock_dm(2,1)\n",
      "        >>> entropy_linear(rho)\n",
      "        0.5\n",
      "    \n",
      "    entropy_mutual(rho, selA, selB, base=2.718281828459045, sparse=False)\n",
      "        Calculates the mutual information S(A:B) between selection\n",
      "        components of a system density matrix.\n",
      "        \n",
      "        Parameters\n",
      "        ----------\n",
      "        rho : qobj\n",
      "            Density matrix for composite quantum systems\n",
      "        selA : int/list\n",
      "            `int` or `list` of first selected density matrix components.\n",
      "        selB : int/list\n",
      "            `int` or `list` of second selected density matrix components.\n",
      "        base : {e,2}\n",
      "            Base of logarithm.\n",
      "        sparse : {False,True}\n",
      "            Use sparse eigensolver.\n",
      "        \n",
      "        Returns\n",
      "        -------\n",
      "        ent_mut : float\n",
      "           Mutual information between selected components.\n",
      "    \n",
      "    entropy_relative(rho, sigma, base=2.718281828459045, sparse=False, tol=1e-12)\n",
      "        Calculates the relative entropy S(rho||sigma) between two density\n",
      "        matrices.\n",
      "        \n",
      "        Parameters\n",
      "        ----------\n",
      "        rho : :class:`qutip.Qobj`\n",
      "            First density matrix (or ket which will be converted to a density\n",
      "            matrix).\n",
      "        sigma : :class:`qutip.Qobj`\n",
      "            Second density matrix (or ket which will be converted to a density\n",
      "            matrix).\n",
      "        base : {e,2}\n",
      "            Base of logarithm. Defaults to e.\n",
      "        sparse : bool\n",
      "            Flag to use sparse solver when determining the eigenvectors\n",
      "            of the density matrices. Defaults to False.\n",
      "        tol : float\n",
      "            Tolerance to use to detect 0 eigenvalues or dot producted between\n",
      "            eigenvectors. Defaults to 1e-12.\n",
      "        \n",
      "        Returns\n",
      "        -------\n",
      "        rel_ent : float\n",
      "            Value of relative entropy. Guaranteed to be greater than zero\n",
      "            and should equal zero only when rho and sigma are identical.\n",
      "        \n",
      "        Examples\n",
      "        --------\n",
      "        \n",
      "        First we define two density matrices:\n",
      "        \n",
      "        >>> rho = qutip.ket2dm(qutip.ket(\"00\"))\n",
      "        >>> sigma = rho + qutip.ket2dm(qutip.ket(\"01\"))\n",
      "        >>> sigma = sigma.unit()\n",
      "        \n",
      "        Then we calculate their relative entropy using base 2 (i.e. ``log2``)\n",
      "        and base e (i.e. ``log``).\n",
      "        \n",
      "        >>> qutip.entropy_relative(rho, sigma, base=2)\n",
      "        1.0\n",
      "        >>> qutip.entropy_relative(rho, sigma)\n",
      "        0.6931471805599453\n",
      "        \n",
      "        References\n",
      "        ----------\n",
      "        \n",
      "        See Nielsen & Chuang, \"Quantum Computation and Quantum Information\",\n",
      "        Section 11.3.1, pg. 511 for a detailed explanation of quantum relative\n",
      "        entropy.\n",
      "    \n",
      "    entropy_vn(rho, base=2.718281828459045, sparse=False)\n",
      "        Von-Neumann entropy of density matrix\n",
      "        \n",
      "        Parameters\n",
      "        ----------\n",
      "        rho : qobj\n",
      "            Density matrix.\n",
      "        base : {e,2}\n",
      "            Base of logarithm.\n",
      "        sparse : {False,True}\n",
      "            Use sparse eigensolver.\n",
      "        \n",
      "        Returns\n",
      "        -------\n",
      "        entropy : float\n",
      "            Von-Neumann entropy of `rho`.\n",
      "        \n",
      "        Examples\n",
      "        --------\n",
      "        >>> rho=0.5*fock_dm(2,0)+0.5*fock_dm(2,1)\n",
      "        >>> entropy_vn(rho,2)\n",
      "        1.0\n",
      "    \n",
      "    negativity(rho, subsys, method='tracenorm', logarithmic=False)\n",
      "        Compute the negativity for a multipartite quantum system described\n",
      "        by the density matrix rho. The subsys argument is an index that\n",
      "        indicates which system to compute the negativity for.\n",
      "        \n",
      "        .. note::\n",
      "        \n",
      "            Experimental.\n",
      "\n",
      "DATA\n",
      "    __all__ = ['entropy_vn', 'entropy_linear', 'entropy_mutual', 'negativi...\n",
      "\n",
      "FILE\n",
      "    /usr/local/lib/python3.7/dist-packages/qutip/entropy.py\n",
      "\n",
      "\n"
     ]
    }
   ],
   "source": [
    "help(qutip.entropy)"
   ]
  },
  {
   "cell_type": "code",
   "execution_count": null,
   "metadata": {
    "colab": {
     "base_uri": "https://localhost:8080/"
    },
    "id": "3HcrP15IF7Wo",
    "outputId": "91537b54-b26c-4fa0-ab97-393a9c566e43"
   },
   "outputs": [
    {
     "data": {
      "text/plain": [
       "[qutip.qobj.Qobj,\n",
       " qutip.qobj.Qobj,\n",
       " qutip.qobj.Qobj,\n",
       " qutip.qobj.Qobj,\n",
       " qutip.qobj.Qobj]"
      ]
     },
     "execution_count": 11,
     "metadata": {},
     "output_type": "execute_result"
    }
   ],
   "source": [
    "c_op_list = spin_dephasing(.1)\n",
    "[type(o) for o in c_op_list]"
   ]
  },
  {
   "cell_type": "code",
   "execution_count": 80,
   "metadata": {
    "id": "GqMyttoB0bFk"
   },
   "outputs": [
    {
     "name": "stdout",
     "output_type": "stream",
     "text": [
      "Quantum object: dims = [[2, 2, 2], [2, 2, 2]], shape = (8, 8), type = oper, isherm = True\n",
      "Qobj data =\n",
      "[[-0.09869604  0.          0.         -2.52908613  0.          0.19739209\n",
      "  -1.51745168  0.        ]\n",
      " [ 0.          0.16038107 -0.04934802  0.         -0.04934802  0.\n",
      "   0.         -1.44342964]\n",
      " [ 0.         -0.04934802  0.          0.          0.04934802  0.\n",
      "   0.         -0.19739209]\n",
      " [-2.52908613  0.          0.          0.25907712  0.         -0.04934802\n",
      "   0.04934802  0.        ]\n",
      " [ 0.         -0.04934802  0.04934802  0.         -0.25907712  0.\n",
      "   0.         -2.40571607]\n",
      " [ 0.19739209  0.          0.         -0.04934802  0.          0.\n",
      "   0.04934802  0.        ]\n",
      " [-1.51745168  0.          0.          0.04934802  0.          0.04934802\n",
      "  -0.16038107  0.        ]\n",
      " [ 0.         -1.44342964 -0.19739209  0.         -2.40571607  0.\n",
      "   0.          0.09869604]]\n"
     ]
    }
   ],
   "source": [
    "print(p_dot)"
   ]
  },
  {
   "cell_type": "code",
   "execution_count": 61,
   "metadata": {},
   "outputs": [
    {
     "name": "stdout",
     "output_type": "stream",
     "text": [
      "$$S(\\psi_01)=$$ -0.0\n",
      "$$S(\\psi_02)=$$ -0.0\n",
      "$$S(\\psi_01+\\psi_02)=$$ -0.0\n"
     ]
    }
   ],
   "source": [
    "print(r\"$$S(\\psi_01)=$$\", qutip.entropy_vn(psi01))\n",
    "print(r\"$$S(\\psi_02)=$$\", qutip.entropy_vn(psi02))\n",
    "print(r\"$$S(\\psi_01+\\psi_02)=$$\", qutip.entropy_vn(psi01))"
   ]
  },
  {
   "cell_type": "code",
   "execution_count": 62,
   "metadata": {
    "colab": {
     "base_uri": "https://localhost:8080/"
    },
    "id": "tyR_B4ouFoZa",
    "outputId": "1b11807d-3acc-4eab-f871-6b44a48656d2"
   },
   "outputs": [
    {
     "name": "stdout",
     "output_type": "stream",
     "text": [
      "Test 1: 1-bases iguales? True\n",
      "Test 1: 1-base igual a 2-base? False\n",
      "Test 2: 2-bases iguales? True\n",
      "Test 3: 3-bases iguales? True\n",
      "Test 4: 4-bases iguales? True\n"
     ]
    },
    {
     "data": {
      "text/plain": [
       "False"
      ]
     },
     "execution_count": 62,
     "metadata": {},
     "output_type": "execute_result"
    }
   ],
   "source": [
    "print('Test 1: 1-bases iguales?', n_body_basis(1) == one_site_basis)\n",
    "print('Test 1: 1-base igual a 2-base?', n_body_basis(1) == two_site_basis)\n",
    "print('Test 2: 2-bases iguales?', n_body_basis(2) == two_site_basis)\n",
    "print('Test 3: 3-bases iguales?', n_body_basis(3) == three_site_basis)\n",
    "print('Test 4: 4-bases iguales?', n_body_basis(4) == four_site_basis)\n",
    "n_body_basis(3) == two_site_basis"
   ]
  },
  {
   "cell_type": "code",
   "execution_count": null,
   "metadata": {},
   "outputs": [],
   "source": []
  }
 ],
 "metadata": {
  "colab": {
   "include_colab_link": true,
   "name": "Untitled1.ipynb",
   "provenance": []
  },
  "kernelspec": {
   "display_name": "Python 3",
   "language": "python",
   "name": "python3"
  }
 },
 "nbformat": 4,
 "nbformat_minor": 1
}
