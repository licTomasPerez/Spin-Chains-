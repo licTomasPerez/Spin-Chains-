{
 "cells": [
  {
   "cell_type": "markdown",
   "metadata": {
    "colab_type": "text",
    "id": "view-in-github"
   },
   "source": [
    "<a href=\"https://colab.research.google.com/github/mmatera/Spin-Chains-/blob/main/HS_projected_evolution_debugged.ipynb\" target=\"_parent\"><img src=\"https://colab.research.google.com/assets/colab-badge.svg\" alt=\"Open In Colab\"/></a>"
   ]
  },
  {
   "cell_type": "code",
   "execution_count": 1,
   "metadata": {
    "colab": {
     "base_uri": "https://localhost:8080/"
    },
    "id": "CzAqDJ65kXXw",
    "outputId": "ee79eca0-d519-420e-c778-12f60c47a8d5"
   },
   "outputs": [
    {
     "name": "stdout",
     "output_type": "stream",
     "text": [
      "Requirement already satisfied: qutip in /home/tomas/.conda/envs/qutip/lib/python3.10/site-packages (4.7.0)\n",
      "Requirement already satisfied: packaging in /home/tomas/.conda/envs/qutip/lib/python3.10/site-packages (from qutip) (21.3)\n",
      "Requirement already satisfied: numpy>=1.16.6 in /home/tomas/.conda/envs/qutip/lib/python3.10/site-packages (from qutip) (1.22.4)\n",
      "Requirement already satisfied: scipy>=1.0 in /home/tomas/.conda/envs/qutip/lib/python3.10/site-packages (from qutip) (1.8.1)\n",
      "Requirement already satisfied: pyparsing!=3.0.5,>=2.0.2 in /home/tomas/.conda/envs/qutip/lib/python3.10/site-packages (from packaging->qutip) (3.0.9)\n",
      "Requirement already satisfied: scipy in /home/tomas/.conda/envs/qutip/lib/python3.10/site-packages (1.8.1)\n",
      "Requirement already satisfied: numpy<1.25.0,>=1.17.3 in /home/tomas/.conda/envs/qutip/lib/python3.10/site-packages (from scipy) (1.22.4)\n",
      "Requirement already satisfied: matplotlib.inline in /home/tomas/.conda/envs/qutip/lib/python3.10/site-packages (0.1.2)\n",
      "Requirement already satisfied: traitlets in /home/tomas/.conda/envs/qutip/lib/python3.10/site-packages (from matplotlib.inline) (5.1.1)\n",
      "Requirement already satisfied: numpy in /home/tomas/.conda/envs/qutip/lib/python3.10/site-packages (1.22.4)\n",
      "Requirement already satisfied: networkx in /home/tomas/.conda/envs/qutip/lib/python3.10/site-packages (2.8.4)\n",
      "Requirement already satisfied: Cython in /home/tomas/.conda/envs/qutip/lib/python3.10/site-packages (0.29.30)\n"
     ]
    }
   ],
   "source": [
    "!pip install qutip\n",
    "!pip install scipy\n",
    "!pip install matplotlib.inline\n",
    "!pip install numpy\n",
    "!pip install networkx\n",
    "!pip install Cython"
   ]
  },
  {
   "cell_type": "code",
   "execution_count": 1,
   "metadata": {
    "id": "6td6yO61kg2q"
   },
   "outputs": [],
   "source": [
    "import qutip\n",
    "import matplotlib.pyplot as plt \n",
    "import numpy as np\n",
    "import scipy.optimize as opt \n",
    "import scipy.linalg as linalg\n",
    "import pickle\n",
    "import math, cmath\n",
    "import proj_ev_tools as me\n",
    "\n",
    "from IPython.display import display, Math, Latex"
   ]
  },
  {
   "cell_type": "code",
   "execution_count": 2,
   "metadata": {},
   "outputs": [],
   "source": [
    "N = 2          # número de spines\n",
    "\n",
    "h  = 1.0 * 2 * np.pi * np.ones(N) \n",
    "Jx = 0.15 * 2 * np.pi * np.ones(N)\n",
    "Jy = 0.25 * 2 * np.pi * np.ones(N)\n",
    "Jz = 0.1 * 2 * np.pi * np.ones(N)"
   ]
  },
  {
   "cell_type": "code",
   "execution_count": 3,
   "metadata": {},
   "outputs": [
    {
     "name": "stdout",
     "output_type": "stream",
     "text": [
      "OK True\n",
      "OK True\n",
      "OK True\n",
      "OK True\n",
      "OK True\n",
      "OK True\n",
      "OK True\n",
      "OK True\n",
      "OK True\n",
      "OK True\n",
      "OK True\n",
      "OK True\n"
     ]
    }
   ],
   "source": [
    "### Operadores de spin y hamiltoniano\n",
    "\n",
    "## solo 1-operadores\n",
    "globalid_list, sx_list, sy_list, sz_list = me.one_body_spin_ops(N)\n",
    "pauli_vec = [sx_list, sy_list, sz_list]\n",
    "\n",
    "## upto 2-opeadores ie. armé una lista de listas, con 1-operadores y 2-operadores \n",
    "## pero todos actuando sobre el espacio de Hilbert global 2^N dimensional H = \\otimes_{j}^{N} h_j \n",
    "two_body_spin_list = me.all_two_body_spin_ops(N)\n",
    "\n",
    "## Hamiltoniano \n",
    "H_H = me.Heisenberg_hamiltonian(N, Jx, Jy, Jz, h)\n",
    "#qutip.hinton(rho=H_H, title = \"Heisenberg's hamiltonian Hinton diagram\")\n",
    "\n",
    "### Free particle-Operators en términos de los operadores de spin\n",
    "x_op, p_op, comm_xp, corr_xp, p_dot = me.free_particle_ops(N, H_H, sz_list)\n",
    "\n",
    "## un test automatizado sobre las bases\n",
    "me.basis_defs_test(N)"
   ]
  },
  {
   "cell_type": "code",
   "execution_count": 4,
   "metadata": {},
   "outputs": [
    {
     "data": {
      "text/latex": [
       "\n",
       "Si quiero un estado gaussiano de operadores de un cuerpo, el más general es \n",
       "\n",
       "$$\n",
       "\\rho_{1,g} = \\exp\\bigg(\\alpha I_N + {\\bf a}_1 \\cdot {\\bf s}_x+{\\bf a}_2 \\cdot {\\bf s}_y+{\\bf a}_3 \\cdot {\\bf s}_z\\bigg) \n",
       "$$\n",
       "\n",
       "análogamente con estados gaussianos de operadores de dos cuerpos (pero ya ahí se me va al carajo).\n",
       "Si en cambio, considero un estado no gaussiano, puedo considerar un estado inicial descorrelacionado de la forma de \n",
       "\n",
       "$$\n",
       "\\rho_0 = x |\\Phi\\rangle \\langle\\Phi| + (1-x)\\frac{{I_d}}{d}\n",
       "$$\n"
      ],
      "text/plain": [
       "<IPython.core.display.Latex object>"
      ]
     },
     "metadata": {},
     "output_type": "display_data"
    }
   ],
   "source": [
    "%%latex\n",
    "\n",
    "Si quiero un estado gaussiano de operadores de un cuerpo, el más general es \n",
    "\n",
    "$$\n",
    "\\rho_{1,g} = \\exp\\bigg(\\alpha I_N + {\\bf a}_1 \\cdot {\\bf s}_x+{\\bf a}_2 \\cdot {\\bf s}_y+{\\bf a}_3 \\cdot {\\bf s}_z\\bigg) \n",
    "$$\n",
    "\n",
    "análogamente con estados gaussianos de operadores de dos cuerpos (pero ya ahí se me va al carajo).\n",
    "Si en cambio, considero un estado no gaussiano, puedo considerar un estado inicial descorrelacionado de la forma de \n",
    "\n",
    "$$\n",
    "\\rho_0 = x |\\Phi\\rangle \\langle\\Phi| + (1-x)\\frac{{I_d}}{d}\n",
    "$$"
   ]
  },
  {
   "cell_type": "code",
   "execution_count": 5,
   "metadata": {},
   "outputs": [
    {
     "data": {
      "text/latex": [
       "Quantum object: dims = [[2, 2], [2, 2]], shape = (4, 4), type = oper, isherm = True\\begin{equation*}\\left(\\begin{array}{*{11}c}0.125 & 0.0 & 0.0 & 0.0\\\\0.0 & 0.125 & 0.0 & 0.0\\\\0.0 & 0.0 & 0.625 & 0.0\\\\0.0 & 0.0 & 0.0 & 0.125\\\\\\end{array}\\right)\\end{equation*}"
      ],
      "text/plain": [
       "Quantum object: dims = [[2, 2], [2, 2]], shape = (4, 4), type = oper, isherm = True\n",
       "Qobj data =\n",
       "[[0.125 0.    0.    0.   ]\n",
       " [0.    0.125 0.    0.   ]\n",
       " [0.    0.    0.625 0.   ]\n",
       " [0.    0.    0.    0.125]]"
      ]
     },
     "execution_count": 5,
     "metadata": {},
     "output_type": "execute_result"
    }
   ],
   "source": [
    "## ket combinación lineal \n",
    "\n",
    "psi1_list = []; psi2_list = []\n",
    "psi1_list.append(qutip.basis(2,1))\n",
    "for n in range(N-1):\n",
    "    psi1_list.append(qutip.basis(2,0))\n",
    "\n",
    "psi2_list.append(qutip.basis(2,0))\n",
    "psi2_list.append(qutip.basis(2,1))\n",
    "for n in range(N-2):\n",
    "    psi2_list.append(qutip.basis(2,0))\n",
    "\n",
    "psi01 = qutip.tensor(psi1_list); psi02 = qutip.tensor(psi2_list) \n",
    "psi0 = psi01 #+psi02 #sí está en el ME2, aparece un proyector s1, s2 -> estado ME2\n",
    "# rho = psi0 * psi0.dag() entrelazado\n",
    "## estado no gaussiano\n",
    "\n",
    "loc_globalid = qutip.tensor([qutip.qeye(2) for k in range(N)])\n",
    "me.initial_state(N, False, None, .5, None, psi0)\n",
    "#qutip.hinton(.5 * psi0 * psi0.dag() + (1-.5) * loc_globalid * .5**N) # no es ME1, es un no gaussiano."
   ]
  },
  {
   "cell_type": "code",
   "execution_count": 6,
   "metadata": {},
   "outputs": [
    {
     "name": "stdout",
     "output_type": "stream",
     "text": [
      "Tr(rho_me1^2) = 0.25\n",
      "S(rho_me1^2) = 1.3862943611198906\n",
      "Tr(rho_me2^2) = 0.250002069251744\n",
      "S(rho_me2^2) = 1.3862902271257058\n",
      "Tr(rho_ng^2) = 0.4375\n",
      "S(rho_ng^2) = 1.073542846408523\n"
     ]
    }
   ],
   "source": [
    "### Algunas analytics de los estados usados\n",
    "\n",
    "## Estado Max Ent 1\n",
    "\n",
    "coeffs_me1 = [[10**-10,2*10**-10],[np.pi*10**-10,10**-18],[10**-18,10**-18],[10**-18,10**-18]]\n",
    "rho_me1 = me.initial_state(N, True, 1, None, coeffs_me1, None)\n",
    "print(\"Tr(rho_me1^2) =\",(rho_me1*rho_me1).tr()) ## nuevamente, no es un estado puro porque tr rho² != 1\n",
    "                                           ## estado mixto rho_me1 = sum c_i ket(psi_i) bra(psi_i)\n",
    "print(\"S(rho_me1^2) =\", qutip.entropy_vn(rho_me1)) ## nuevamente un estado mixto porque da mayor a 1\n",
    "\n",
    "## y cómo se sí es entrelazado o no?\n",
    "\n",
    "## Estado Max-En2\n",
    "a = len(me.all_two_body_spin_ops(N))\n",
    "b = len(me.all_two_body_spin_ops(N)[0])\n",
    "coeffs_all = 10**-3 * np.full((a,b),1.)\n",
    "\n",
    "rho_me2 = me.initial_state(N, True, 2, None, coeffs_all, None)\n",
    "print(\"Tr(rho_me2^2) =\",(rho_me2*rho_me2).tr()) ## nuevamente, no es un estado puro porque tr rho² != 1\n",
    "                                           ## estado mixto rho_me2 = sum c_i ket(psi_i) bra(psi_i)\n",
    "print(\"S(rho_me2^2) =\", qutip.entropy_vn(rho_me2)) ## nuevamente un estado mixto no da 0 \n",
    "\n",
    "## Estado no gaussiano\n",
    "rho_ng = me.initial_state(N, False, None, .5, None, psi0)\n",
    "print(\"Tr(rho_ng^2) =\",(rho_ng*rho_ng).tr()) ## nuevamente, no es un estado puro porque tr rho² != 1\n",
    "                                         ## sum c_i ket(psi_i) bra(psi_i)\n",
    "print(\"S(rho_ng^2) =\", qutip.entropy_vn(rho_ng)) ## nuevamente un estado mixto porque no da 0"
   ]
  },
  {
   "cell_type": "code",
   "execution_count": 8,
   "metadata": {},
   "outputs": [
    {
     "data": {
      "text/latex": [
       "Quantum object: dims = [[2, 2], [2, 2]], shape = (4, 4), type = oper, isherm = True\\begin{equation*}\\left(\\begin{array}{*{11}c}0.251 & (3.756\\times10^{-04}-3.756\\times10^{-04}j) & (3.756\\times10^{-04}-3.756\\times10^{-04}j) & -2.505\\times10^{-04}j\\\\(3.756\\times10^{-04}+3.756\\times10^{-04}j) & 0.250 & 2.505\\times10^{-04} & (1.251\\times10^{-04}-1.251\\times10^{-04}j)\\\\(3.756\\times10^{-04}+3.756\\times10^{-04}j) & 2.505\\times10^{-04} & 0.250 & (1.251\\times10^{-04}-1.251\\times10^{-04}j)\\\\2.505\\times10^{-04}j & (1.251\\times10^{-04}+1.251\\times10^{-04}j) & (1.251\\times10^{-04}+1.251\\times10^{-04}j) & 0.250\\\\\\end{array}\\right)\\end{equation*}"
      ],
      "text/plain": [
       "Quantum object: dims = [[2, 2], [2, 2]], shape = (4, 4), type = oper, isherm = True\n",
       "Qobj data =\n",
       "[[2.50625999e-01+0.j         3.75624653e-04-0.00037562j\n",
       "  3.75624653e-04-0.00037562j 0.00000000e+00-0.0002505j ]\n",
       " [3.75624653e-04+0.00037562j 2.49874750e-01+0.j\n",
       "  2.50499810e-04+0.j         1.25124843e-04-0.00012512j]\n",
       " [3.75624653e-04+0.00037562j 2.50499810e-04+0.j\n",
       "  2.49874750e-01+0.j         1.25124843e-04-0.00012512j]\n",
       " [0.00000000e+00+0.0002505j  1.25124843e-04+0.00012512j\n",
       "  1.25124843e-04+0.00012512j 2.49624500e-01+0.j        ]]"
      ]
     },
     "execution_count": 8,
     "metadata": {},
     "output_type": "execute_result"
    }
   ],
   "source": [
    "rho_me2/rho_me2.tr()"
   ]
  },
  {
   "cell_type": "code",
   "execution_count": 9,
   "metadata": {},
   "outputs": [
    {
     "name": "stdout",
     "output_type": "stream",
     "text": [
      "0.12354864496091653\n",
      "0.29078770245141994\n",
      "0.3127515147113675\n"
     ]
    }
   ],
   "source": [
    "## Algunas métricas de los estados\n",
    "print(me.bures(me.initial_state(N, True, 1, .5, coeffs_me1, None), me.initial_state(N, False, 1, .5, None, psi0)))\n",
    "print(me.rel_entropy(me.initial_state(N, True, 1, .5, coeffs_me1, None), me.initial_state(N, False, 1, .5, None, psi0)))\n",
    "print(me.rel_entropy(me.initial_state(N, False, 1, .5, None, psi0),me.initial_state(N, True, 1, .5, coeffs_me1, None)))"
   ]
  },
  {
   "cell_type": "code",
   "execution_count": 10,
   "metadata": {},
   "outputs": [
    {
     "name": "stdout",
     "output_type": "stream",
     "text": [
      "The result is not a density operator\n"
     ]
    },
    {
     "data": {
      "text/plain": [
       "False"
      ]
     },
     "execution_count": 10,
     "metadata": {},
     "output_type": "execute_result"
    }
   ],
   "source": [
    "### Por ejemplo, que pasa si mando cualquier matriz de coeficientes, sin la simetría que \n",
    "### que debe tener para que efectivamente dé lugar a un operador densidad \n",
    "\n",
    "a = len(me.all_two_body_spin_ops(N))\n",
    "b = len(me.all_two_body_spin_ops(N)[0])\n",
    "\n",
    "coeffs_bipbop = [[1,1,-1,1,1,1,1,1,1,1,1,-1,1,1,1,1],\n",
    "              [1,1,1,1,1,1,1,1,-1,1,1,1,1,1,1,1],\n",
    "              [1,1,1,1,1,1,1,1,1,1,1,-1,1,1,1,1]]\n",
    "\n",
    "rho_meee2 = me.initial_state(N, True, 2, None, coeffs_bipbop, None)\n",
    "me.is_density_op(rho_meee2)"
   ]
  },
  {
   "cell_type": "code",
   "execution_count": 11,
   "metadata": {},
   "outputs": [
    {
     "name": "stderr",
     "output_type": "stream",
     "text": [
      "/home/tomas/.conda/envs/qutip/lib/python3.10/site-packages/qutip/qobj.py:303: UserWarning: Initializing Qobj from unsupported type: <class 'type'>\n",
      "  warnings.warn(\"Initializing Qobj from unsupported type: %s\" %\n"
     ]
    },
    {
     "name": "stdout",
     "output_type": "stream",
     "text": [
      "{'_isherm': None, '_type': None, 'superrep': None, '_isunitary': None, '_data': <1x1 sparse matrix of type '<class 'numpy.complex128'>'\n",
      "\twith 0 stored elements in Compressed Sparse Row format>, 'dims': [[1], [1]], 'rho_me1': Quantum object: dims = [[2, 2], [2, 2]], shape = (4, 4), type = oper, isherm = True\n",
      "Qobj data =\n",
      "[[2.50000000e-01 0.00000000e+00 3.92699082e-11 0.00000000e+00]\n",
      " [0.00000000e+00 2.50000000e-01 0.00000000e+00 3.92699082e-11]\n",
      " [3.92699082e-11 0.00000000e+00 2.50000000e-01 0.00000000e+00]\n",
      " [0.00000000e+00 3.92699082e-11 0.00000000e+00 2.50000000e-01]]}\n"
     ]
    }
   ],
   "source": [
    "class one_body_max_ent(qutip.Qobj):\n",
    "    def __init__(self, rho_me1):\n",
    "        super().__init__(qutip.Qobj)\n",
    "        self.rho_me1 = me.n_body_max_ent_state(1, N, coeffs_me1)\n",
    "\n",
    "class two_body_max_ent(qutip.Qobj):\n",
    "    def __init__(self, rho_me2):\n",
    "        super().__init__(qutip.Qobj)\n",
    "        self.rho_me2 = me.n_body_max_ent_state(2, N, coeffs_all) \n",
    "\n",
    "rho1 = one_body_max_ent(coeffs_me1)\n",
    "rho2 = two_body_max_ent(coeffs_all)\n",
    "\n",
    "print(rho1.__dict__)"
   ]
  },
  {
   "cell_type": "code",
   "execution_count": 27,
   "metadata": {},
   "outputs": [],
   "source": [
    "HS_modified = True\n",
    "\n",
    "class Result(object):\n",
    "      def __init__(self, ts=None, states=None):\n",
    "        self.ts = ts\n",
    "        self.states = states\n",
    "        self.projrho0_app = None   \n",
    "        self.projrho_inst_app = None \n",
    "\n",
    "def callback(t, rhot):\n",
    "    global rho\n",
    "    rho = rhot\n",
    "\n",
    "def projected_evolution(author=True,x=.5, gamma = 1*np.e*-2, omega_1=3., omega_2=3.,temp=1, \n",
    "                        gaussian=False, gr = 1, deltat=10., tmax = 500., distance=me.bures, \n",
    "                        do_project=True):\n",
    "    global rho\n",
    "    loc_globalid = qutip.tensor([qutip.qeye(2) for k in range(N)])\n",
    "\n",
    "    if (gaussian and gr == 1):\n",
    "        coeffs_me1_gr1 = [[10**-1,2*10**-1],[np.pi*10**-1,10**-18],\n",
    "                          [10**-18,10**-18],[10**-18,10**-18]]\n",
    "        rho0 = me.initial_state(N, gaussian, gr, None, coeffs_me1_gr1, None)\n",
    "        \n",
    "    elif(gaussian and gr == 2):\n",
    "        a = len(me.all_two_body_spin_ops(N))\n",
    "        b = len(me.all_two_body_spin_ops(N)[0])\n",
    "\n",
    "        coeffs_me2_gr2 = 10**-2 * np.full((a,b),1.)\n",
    "        rho0 = me.initial_state(N, gaussian, gr, None, coeffs_me2_gr2, None)\n",
    "             \n",
    "    elif(not gaussian):\n",
    "        rho0 = me.initial_state(N, gaussian, None, x, None, psi0)\n",
    "         \n",
    "    if (author):\n",
    "        basis = me.base_orth(me.n_body_basis(N,2), rho0)  ## // Á la Tom\n",
    "    else: \n",
    "        lista_ampliada = []\n",
    "        for i in range(len(me.n_body_basis(N,1))):\n",
    "            lista_ampliada.append(qutip.tensor(me.n_body_basis(N,1)[i], qutip.qeye(2)))\n",
    "        basis = me.base_orth(lista_ampliada, rho0) ## // Á la Mauricio\n",
    "        \n",
    "    obs = [x_op, p_op, comm_xp, corr_xp]\n",
    "          #, x_op**2,p_op**2, corr_op, p_dot]\n",
    "        \n",
    "    sampling = max(int(10*max(1,omega_1, omega_2)*deltat), 10)\n",
    "    print(\"sampling:\", sampling)\n",
    "    c_op_list = me.spin_dephasing(N,gamma)\n",
    "    rho = rho0                                                               ## // Á la Mauricio\n",
    "    approx_exp_vals = [[qutip.expect(op, rho) for op in obs]]\n",
    "    ts= [0]\n",
    "\n",
    "    for i in range(int(tmax/deltat)):\n",
    "        qutip.mesolve(H=H_H, \n",
    "                               rho0=rho, \n",
    "                               tlist=np.linspace(0,deltat, sampling), \n",
    "                               c_ops=c_op_list, \n",
    "                               e_ops=callback,\n",
    "                               args={'gamma': gamma,'omega_1': omega_1, 'omega_2': omega_2}\n",
    "                               )\n",
    "        ts.append(deltat*i)\n",
    "        if do_project:\n",
    "            rho = me.proj_op(me.logM(rho), basis, rho0)\n",
    "            #rho = me.proj_op(me.logM(rho), basis, loc_globalid)\n",
    "            e0 = max(rho.eigenenergies())\n",
    "            rho = rho - loc_globalid * e0\n",
    "            rho = rho.expm()\n",
    "            trrho = (2.*rho.tr())\n",
    "            rho = (rho+rho.dag())/trrho\n",
    "\n",
    "        #print(qutip.entropy.entropy_vn(rho))\n",
    "        newobs = [qutip.expect(rho, op) for op in obs]\n",
    "        approx_exp_vals.append(newobs)\n",
    "\n",
    "    result = {}\n",
    "    result[\"ts\"] = ts\n",
    "    result[\"averages\"] = np.array(approx_exp_vals)\n",
    "    \n",
    "    title = f\" BW Dinámica cerrada no gaussiana wb1={omega_1} wb2={omega_2}\" \n",
    "    if do_project:\n",
    "        title = title + \"_projected_\"\n",
    "\n",
    "    with open(title+\".pkl\",\"wb\") as f:\n",
    "        pickle.dump(result, f)\n",
    "    return result"
   ]
  },
  {
   "cell_type": "code",
   "execution_count": 13,
   "metadata": {},
   "outputs": [
    {
     "name": "stdout",
     "output_type": "stream",
     "text": [
      "sampling: 30\n",
      "sampling: 30\n"
     ]
    },
    {
     "data": {
      "text/plain": [
       "<matplotlib.legend.Legend at 0x7f5d8936dbd0>"
      ]
     },
     "execution_count": 13,
     "metadata": {},
     "output_type": "execute_result"
    },
    {
     "data": {
      "image/png": "[encoded data removed]",
      "text/plain": [
       "<Figure size 432x288 with 1 Axes>"
      ]
     },
     "metadata": {
      "needs_background": "light"
     },
     "output_type": "display_data"
    }
   ],
   "source": [
    "## usando n_body_basis(2) y el estado no gaussiano de Mauricio\n",
    "\n",
    "results = projected_evolution(author = True, x=.5, gamma = 1*np.e*-2, omega_1=3., omega_2=2.,\n",
    "                              temp=1, gaussian=True, gr = 2, deltat=1, tmax = 50, \n",
    "                              distance=me.bures,do_project=True)\n",
    "\n",
    "plt.plot(results[\"ts\"], results[\"averages\"][:,0], label=\"x Projected\")\n",
    "results = projected_evolution(author = True, x=.5, gamma = 1*np.e*-2, omega_1=3., omega_2=2.,\n",
    "                              temp=1, gaussian=True, gr = 2, deltat=1, tmax = 50, \n",
    "                              distance=me.bures,do_project=False)\n",
    "plt.scatter(results[\"ts\"], results[\"averages\"][:,0], label=\"x exact\")\n",
    "plt.legend()"
   ]
  },
  {
   "cell_type": "code",
   "execution_count": 14,
   "metadata": {
    "scrolled": true
   },
   "outputs": [
    {
     "name": "stdout",
     "output_type": "stream",
     "text": [
      "sampling: 30\n",
      "sampling: 30\n"
     ]
    },
    {
     "data": {
      "text/plain": [
       "<matplotlib.legend.Legend at 0x7f5d897af850>"
      ]
     },
     "execution_count": 14,
     "metadata": {},
     "output_type": "execute_result"
    },
    {
     "data": {
      "image/png": "[encoded data removed]",
      "text/plain": [
       "<Figure size 432x288 with 1 Axes>"
      ]
     },
     "metadata": {
      "needs_background": "light"
     },
     "output_type": "display_data"
    }
   ],
   "source": [
    "## usando n_body_basis(2) y el estado no gaussiano de Mauricio\n",
    "\n",
    "results = projected_evolution(author = True, x=.5, gamma = 1*np.e*-1, omega_1=3., omega_2=3.,\n",
    "                              temp=1, gaussian=False, gr = None, deltat=1, tmax = 50, \n",
    "                              distance=me.bures,do_project=True)\n",
    "\n",
    "plt.plot(results[\"ts\"], results[\"averages\"][:,0], label=\"x Projected\")\n",
    "results = projected_evolution(author = True, x=.5, gamma = 1*np.e*-1, omega_1=3., omega_2=3.,\n",
    "                              temp=1, gaussian=False, gr = None, deltat=1, tmax = 50, \n",
    "                              distance=me.bures,do_project=False)\n",
    "plt.scatter(results[\"ts\"], results[\"averages\"][:,0], label=\"x exact\")\n",
    "plt.legend()"
   ]
  },
  {
   "cell_type": "code",
   "execution_count": 15,
   "metadata": {},
   "outputs": [
    {
     "name": "stdout",
     "output_type": "stream",
     "text": [
      "sampling: 30\n",
      "sampling: 30\n",
      "sampling: 30\n",
      "sampling: 30\n",
      "sampling: 30\n",
      "sampling: 30\n"
     ]
    },
    {
     "data": {
      "text/plain": [
       "<matplotlib.legend.Legend at 0x7f5d8965f5b0>"
      ]
     },
     "execution_count": 15,
     "metadata": {},
     "output_type": "execute_result"
    },
    {
     "data": {
      "image/png": "[encoded data removed]",
      "text/plain": [
       "<Figure size 432x288 with 1 Axes>"
      ]
     },
     "metadata": {
      "needs_background": "light"
     },
     "output_type": "display_data"
    }
   ],
   "source": [
    "## usando n_body_basis(2) y el estado no gaussiano de Mauricio\n",
    "\n",
    "results = projected_evolution(author = True, x=.5, gamma = 1*np.e*-1, omega_1=3., omega_2=3.,\n",
    "                              temp=1, gaussian=False, gr = None, deltat=1, tmax = 50, \n",
    "                              distance=me.bures,do_project=True)\n",
    "plt.plot(results[\"ts\"], results[\"averages\"][:,1], label=\"p Projected\", color = \"black\")\n",
    "results = projected_evolution(author = True, x=.5, gamma = 1*np.e*-1, omega_1=3., omega_2=3.,\n",
    "                              temp=1, gaussian=False, gr = None, deltat=1, tmax = 50, \n",
    "                              distance=me.bures,do_project=False)\n",
    "plt.scatter(results[\"ts\"], results[\"averages\"][:,1], label=\"p exact\", color = \"violet\")\n",
    "plt.legend()\n",
    "\n",
    "results = projected_evolution(author = True, x=.5, gamma = 1*np.e*-1, omega_1=3., omega_2=3.,\n",
    "                              temp=1, gaussian=False, gr = None, deltat=1, tmax = 50, \n",
    "                              distance=me.bures,do_project=True)\n",
    "\n",
    "plt.plot(results[\"ts\"], results[\"averages\"][:,2], label=\" comm_xp Projected\")\n",
    "results = projected_evolution(author = True, x=.5, gamma = 1*np.e*-1, omega_1=3., omega_2=3.,\n",
    "                              temp=1, gaussian=False, gr = None, deltat=1, tmax = 50, \n",
    "                              distance=me.bures,do_project=False)\n",
    "plt.scatter(results[\"ts\"], results[\"averages\"][:,2], label=\"comm_xp exact\")\n",
    "\n",
    "## ---- ## \n",
    "\n",
    "results = projected_evolution(author = True, x=.5, gamma = 1*np.e*-1, omega_1=3., omega_2=3.,\n",
    "                              temp=1, gaussian=False, gr = None, deltat=1, tmax = 50, \n",
    "                              distance=me.bures,do_project=True)\n",
    "\n",
    "plt.plot(results[\"ts\"], results[\"averages\"][:,3], label=\" corr_xp Projected\")\n",
    "results = projected_evolution(author = True, x=.5, gamma = 1*np.e*-1, omega_1=3., omega_2=3.,\n",
    "                              temp=1, gaussian=False, gr = None, deltat=1, tmax = 50, \n",
    "                              distance=me.bures,do_project=False)\n",
    "plt.scatter(results[\"ts\"], results[\"averages\"][:,3], label=\"corr_xp exact\")\n",
    "\n",
    "plt.legend()"
   ]
  },
  {
   "cell_type": "code",
   "execution_count": 18,
   "metadata": {},
   "outputs": [
    {
     "name": "stdout",
     "output_type": "stream",
     "text": [
      "sampling: 30\n",
      "sampling: 30\n"
     ]
    },
    {
     "data": {
      "text/plain": [
       "<matplotlib.legend.Legend at 0x7f5d890f4070>"
      ]
     },
     "execution_count": 18,
     "metadata": {},
     "output_type": "execute_result"
    },
    {
     "data": {
      "image/png": "[encoded data removed]",
      "text/plain": [
       "<Figure size 432x288 with 1 Axes>"
      ]
     },
     "metadata": {
      "needs_background": "light"
     },
     "output_type": "display_data"
    }
   ],
   "source": [
    "## Ahora testeemos un estado 1-max-ent y veamos que da \n",
    "\n",
    "results = projected_evolution(author = True, x=None, gamma = 1*np.e*-10, omega_1=3., omega_2=3.,\n",
    "                              temp=1, gaussian=True, gr = 1, deltat=1, tmax = 500, \n",
    "                              distance=me.bures, do_project=True)\n",
    "\n",
    "plt.plot(results[\"ts\"], results[\"averages\"][:,0], label=\"x Projected\")\n",
    "results = projected_evolution(author = True, x=None, gamma = 1*np.e*-10, omega_1=3., omega_2=3.,\n",
    "                              temp=1, gaussian=True, gr = 1, deltat=1, tmax = 500, \n",
    "                              distance=me.bures, do_project=False)\n",
    "plt.scatter(results[\"ts\"], results[\"averages\"][:,0], label=\"x exact\", color=\"red\")\n",
    "#print(results)\n",
    "plt.legend()"
   ]
  },
  {
   "cell_type": "code",
   "execution_count": 19,
   "metadata": {},
   "outputs": [
    {
     "name": "stdout",
     "output_type": "stream",
     "text": [
      "sampling: 30\n",
      "sampling: 30\n",
      "sampling: 30\n",
      "sampling: 30\n",
      "sampling: 30\n",
      "sampling: 30\n"
     ]
    },
    {
     "data": {
      "text/plain": [
       "<matplotlib.legend.Legend at 0x7f5d893bd750>"
      ]
     },
     "execution_count": 19,
     "metadata": {},
     "output_type": "execute_result"
    },
    {
     "data": {
      "image/png": "[encoded data removed]",
      "text/plain": [
       "<Figure size 432x288 with 1 Axes>"
      ]
     },
     "metadata": {
      "needs_background": "light"
     },
     "output_type": "display_data"
    }
   ],
   "source": [
    "## Ahora testeemos un estado 2-max-ent\n",
    "\n",
    "results = projected_evolution(author = True, x=None, gamma = 1*np.e*-10, omega_1=3., omega_2=3.,\n",
    "                              temp=1, gaussian=True, gr = 1, deltat=1, tmax = 500, \n",
    "                              distance=me.bures, do_project=True)\n",
    "\n",
    "plt.plot(results[\"ts\"], results[\"averages\"][:,1], label=\"p Projected\", color=\"black\")\n",
    "results = projected_evolution(author = True, x=None, gamma = 1*np.e*-10, omega_1=3., omega_2=3.,\n",
    "                              temp=1, gaussian=True, gr = 1, deltat=1, tmax = 500, \n",
    "                              distance=me.bures, do_project=False)\n",
    "plt.scatter(results[\"ts\"], results[\"averages\"][:,1], label=\"p exact\", color=\"cyan\")\n",
    "#print(results)\n",
    "plt.legend()\n",
    "\n",
    "results = projected_evolution(author = True, x=.5, gamma = 1*np.e*-10, omega_1=3., omega_2=3.,\n",
    "                              temp=1, gaussian=True, gr = 1, deltat=1, tmax = 500, \n",
    "                              distance=me.bures,do_project=True)\n",
    "\n",
    "plt.plot(results[\"ts\"], results[\"averages\"][:,2], label=\" comm_xp Projected\", color=\"red\")\n",
    "results = projected_evolution(author = True, x=.5, gamma = 1*np.e*-10, omega_1=3., omega_2=3.,\n",
    "                              temp=1, gaussian=True, gr = 1, deltat=1, tmax = 500, \n",
    "                              distance=me.bures,do_project=False)\n",
    "plt.scatter(results[\"ts\"], results[\"averages\"][:,2], label=\"comm_xp exact\", color=\"orange\")\n",
    "\n",
    "## ---- ## \n",
    "\n",
    "results = projected_evolution(author = True, x=.5, gamma = 1*np.e*-10, omega_1=3., omega_2=3.,\n",
    "                              temp=1, gaussian=True, gr = 1, deltat=1, tmax = 500, \n",
    "                              distance=me.bures,do_project=True)\n",
    "\n",
    "plt.plot(results[\"ts\"], results[\"averages\"][:,3], label=\" corr_xp Projected\", color = \"blue\")\n",
    "results = projected_evolution(author = True, x=.5, gamma = 1*np.e*-10, omega_1=3., omega_2=3.,\n",
    "                              temp=1, gaussian=True, gr = 1, deltat=1, tmax = 500, \n",
    "                              distance=me.bures,do_project=False)\n",
    "plt.scatter(results[\"ts\"], results[\"averages\"][:,3], label=\"corr_xp exact\", color = \"violet\")\n",
    "\n",
    "plt.legend()"
   ]
  },
  {
   "cell_type": "code",
   "execution_count": 16,
   "metadata": {
    "scrolled": true
   },
   "outputs": [
    {
     "name": "stdout",
     "output_type": "stream",
     "text": [
      "sampling: 30\n",
      "sampling: 30\n"
     ]
    },
    {
     "data": {
      "text/plain": [
       "<matplotlib.legend.Legend at 0x7f5d8965f160>"
      ]
     },
     "execution_count": 16,
     "metadata": {},
     "output_type": "execute_result"
    },
    {
     "data": {
      "image/png": "[encoded data removed]",
      "text/plain": [
       "<Figure size 432x288 with 1 Axes>"
      ]
     },
     "metadata": {
      "needs_background": "light"
     },
     "output_type": "display_data"
    }
   ],
   "source": [
    "## Ahora testeemos un estado 2-max-ent y veamos que da\n",
    "\n",
    "results = projected_evolution(author = True, x=None, gamma = 1*np.e*-10, omega_1=3., omega_2=3.,\n",
    "                              temp=1, gaussian=True, gr = 2, deltat=1, tmax = 500, \n",
    "                              distance=me.bures, do_project=True)\n",
    "\n",
    "plt.plot(results[\"ts\"], results[\"averages\"][:,0], label=\"x Projected\")\n",
    "results = projected_evolution(author = True, x=None, gamma = 1*np.e*-10, omega_1=3., omega_2=3.,\n",
    "                              temp=1, gaussian=True, gr = 2, deltat=1, tmax = 500, \n",
    "                              distance=me.bures, do_project=False)\n",
    "plt.scatter(results[\"ts\"], results[\"averages\"][:,0], label=\"x exact\", color=\"red\")\n",
    "#print(results)\n",
    "plt.legend()"
   ]
  },
  {
   "cell_type": "code",
   "execution_count": 17,
   "metadata": {},
   "outputs": [
    {
     "name": "stdout",
     "output_type": "stream",
     "text": [
      "sampling: 30\n",
      "sampling: 30\n",
      "sampling: 30\n",
      "sampling: 30\n",
      "sampling: 30\n",
      "sampling: 30\n"
     ]
    },
    {
     "data": {
      "text/plain": [
       "<matplotlib.legend.Legend at 0x7f5d891b9750>"
      ]
     },
     "execution_count": 17,
     "metadata": {},
     "output_type": "execute_result"
    },
    {
     "data": {
      "image/png": "[encoded data removed]",
      "text/plain": [
       "<Figure size 432x288 with 1 Axes>"
      ]
     },
     "metadata": {
      "needs_background": "light"
     },
     "output_type": "display_data"
    }
   ],
   "source": [
    "## Ahora testeemos un estado 2-max-ent\n",
    "\n",
    "results = projected_evolution(author = True, x=None, gamma = 1*np.e*-10, omega_1=3., omega_2=3.,\n",
    "                              temp=1, gaussian=True, gr = 2, deltat=1, tmax = 500, \n",
    "                              distance=me.bures, do_project=True)\n",
    "\n",
    "plt.plot(results[\"ts\"], results[\"averages\"][:,1], label=\"p Projected\", color=\"black\")\n",
    "results = projected_evolution(author = True, x=None, gamma = 1*np.e*-10, omega_1=3., omega_2=3.,\n",
    "                              temp=1, gaussian=True, gr = 2, deltat=1, tmax = 500, \n",
    "                              distance=me.bures, do_project=False)\n",
    "plt.scatter(results[\"ts\"], results[\"averages\"][:,1], label=\"p exact\", color=\"cyan\")\n",
    "#print(results)\n",
    "plt.legend()\n",
    "\n",
    "results = projected_evolution(author = True, x=.5, gamma = 1*np.e*-10, omega_1=3., omega_2=3.,\n",
    "                              temp=1, gaussian=True, gr = 2, deltat=1, tmax = 500, \n",
    "                              distance=me.bures,do_project=True)\n",
    "\n",
    "plt.plot(results[\"ts\"], results[\"averages\"][:,2], label=\" comm_xp Projected\", color=\"red\")\n",
    "results = projected_evolution(author = True, x=.5, gamma = 1*np.e*-10, omega_1=3., omega_2=3.,\n",
    "                              temp=1, gaussian=True, gr = 2, deltat=1, tmax = 500, \n",
    "                              distance=me.bures,do_project=False)\n",
    "plt.scatter(results[\"ts\"], results[\"averages\"][:,2], label=\"comm_xp exact\", color=\"orange\")\n",
    "\n",
    "## ---- ## \n",
    "\n",
    "results = projected_evolution(author = True, x=.5, gamma = 1*np.e*-10, omega_1=3., omega_2=3.,\n",
    "                              temp=1, gaussian=True, gr = 2, deltat=1, tmax = 500, \n",
    "                              distance=me.bures,do_project=True)\n",
    "\n",
    "plt.plot(results[\"ts\"], results[\"averages\"][:,3], label=\" corr_xp Projected\", color = \"blue\")\n",
    "results = projected_evolution(author = True, x=.5, gamma = 1*np.e*-10, omega_1=3., omega_2=3.,\n",
    "                              temp=1, gaussian=True, gr = 2, deltat=1, tmax = 500, \n",
    "                              distance=me.bures,do_project=False)\n",
    "plt.scatter(results[\"ts\"], results[\"averages\"][:,3], label=\"corr_xp exact\", color = \"violet\")\n",
    "\n",
    "plt.legend()"
   ]
  },
  {
   "cell_type": "code",
   "execution_count": 29,
   "metadata": {},
   "outputs": [
    {
     "name": "stdout",
     "output_type": "stream",
     "text": [
      "sampling: 30\n",
      "sampling: 30\n"
     ]
    },
    {
     "data": {
      "text/plain": [
       "<matplotlib.legend.Legend at 0x7f5d8939f9a0>"
      ]
     },
     "execution_count": 29,
     "metadata": {},
     "output_type": "execute_result"
    },
    {
     "data": {
      "image/png": "[encoded data removed]",
      "text/plain": [
       "<Figure size 432x288 with 1 Axes>"
      ]
     },
     "metadata": {
      "needs_background": "light"
     },
     "output_type": "display_data"
    }
   ],
   "source": [
    "## Que pasa si uso una 1-base\n",
    "\n",
    "results = projected_evolution(author = False, x=.999, gamma = 1*np.e*-1, omega_1=3., omega_2=3.,\n",
    "                              temp=1, gaussian=False, gr = None, deltat=1, tmax = 50, \n",
    "                              distance=me.bures,do_project=True)\n",
    "\n",
    "plt.plot(results[\"ts\"], results[\"averages\"][:,0], label=\"x Projected\")\n",
    "results = projected_evolution(author = False, x=.999, gamma = 1*np.e*-1, omega_1=3., omega_2=3.,\n",
    "                              temp=1, gaussian=False, gr = None, deltat=1, tmax = 50, \n",
    "                              distance=me.bures,do_project=False)\n",
    "plt.scatter(results[\"ts\"], results[\"averages\"][:,0], label=\"x exact\")\n",
    "plt.legend()"
   ]
  },
  {
   "cell_type": "code",
   "execution_count": 31,
   "metadata": {},
   "outputs": [
    {
     "name": "stdout",
     "output_type": "stream",
     "text": [
      "sampling: 30\n",
      "sampling: 30\n",
      "sampling: 30\n",
      "sampling: 30\n",
      "sampling: 30\n",
      "sampling: 30\n"
     ]
    },
    {
     "data": {
      "text/plain": [
       "<matplotlib.legend.Legend at 0x7f5d893bde10>"
      ]
     },
     "execution_count": 31,
     "metadata": {},
     "output_type": "execute_result"
    },
    {
     "data": {
      "image/png": "[encoded data removed]",
      "text/plain": [
       "<Figure size 432x288 with 1 Axes>"
      ]
     },
     "metadata": {
      "needs_background": "light"
     },
     "output_type": "display_data"
    }
   ],
   "source": [
    "## Ahora testeemos un estado 2-max-ent\n",
    "\n",
    "results = projected_evolution(author = False, x=None, gamma = 1*np.e*-10, omega_1=3., omega_2=3.,\n",
    "                              temp=1, gaussian=True, gr = 1, deltat=1, tmax = 500, \n",
    "                              distance=me.bures, do_project=True)\n",
    "\n",
    "plt.plot(results[\"ts\"], results[\"averages\"][:,1], label=\"p Projected\", color=\"black\")\n",
    "results = projected_evolution(author = False, x=None, gamma = 1*np.e*-10, omega_1=3., omega_2=3.,\n",
    "                              temp=1, gaussian=True, gr = 1, deltat=1, tmax = 500, \n",
    "                              distance=me.bures, do_project=False)\n",
    "plt.scatter(results[\"ts\"], results[\"averages\"][:,1], label=\"p exact\", color=\"cyan\")\n",
    "#print(results)\n",
    "plt.legend()\n",
    "\n",
    "results = projected_evolution(author = False, x=.5, gamma = 1*np.e*-10, omega_1=3., omega_2=3.,\n",
    "                              temp=1, gaussian=True, gr = 1, deltat=1, tmax = 500, \n",
    "                              distance=me.bures,do_project=True)\n",
    "\n",
    "plt.plot(results[\"ts\"], results[\"averages\"][:,2], label=\" comm_xp Projected\", color=\"red\")\n",
    "results = projected_evolution(author = False, x=.5, gamma = 1*np.e*-10, omega_1=3., omega_2=3.,\n",
    "                              temp=1, gaussian=True, gr = 1, deltat=1, tmax = 500, \n",
    "                              distance=me.bures,do_project=False)\n",
    "plt.scatter(results[\"ts\"], results[\"averages\"][:,2], label=\"comm_xp exact\", color=\"orange\")\n",
    "\n",
    "## ---- ## \n",
    "\n",
    "results = projected_evolution(author = False, x=.5, gamma = 1*np.e*-10, omega_1=3., omega_2=3.,\n",
    "                              temp=1, gaussian=True, gr = 1, deltat=1, tmax = 500, \n",
    "                              distance=me.bures,do_project=True)\n",
    "\n",
    "plt.plot(results[\"ts\"], results[\"averages\"][:,3], label=\" corr_xp Projected\", color = \"blue\")\n",
    "results = projected_evolution(author = False, x=.5, gamma = 1*np.e*-10, omega_1=3., omega_2=3.,\n",
    "                              temp=1, gaussian=True, gr = 1, deltat=1, tmax = 500, \n",
    "                              distance=me.bures,do_project=False)\n",
    "plt.scatter(results[\"ts\"], results[\"averages\"][:,3], label=\"corr_xp exact\", color = \"violet\")\n",
    "\n",
    "plt.legend()"
   ]
  },
  {
   "cell_type": "code",
   "execution_count": null,
   "metadata": {},
   "outputs": [],
   "source": []
  },
  {
   "cell_type": "code",
   "execution_count": 123,
   "metadata": {
    "id": "_U6AxFh7w_oF"
   },
   "outputs": [],
   "source": [
    "HS_modified = True\n",
    "\n",
    "class Result(object):\n",
    "      def __init__(self, ts=None, states=None):\n",
    "        self.ts = ts\n",
    "        self.states = states\n",
    "        self.projrho0_app = None   \n",
    "        self.projrho_inst_app = None \n",
    "\n",
    "def callback(t, rhot):\n",
    "    global rho\n",
    "    rho = rhot\n",
    "\n",
    "# Algunos problemas que tiene el problema cómo está planteado ahora:\n",
    "    # * rho0 debería ser un estado descorrelacionado. Aquí estamos estando el estado inicial,\n",
    "    #   que es un estado entrelazado\n",
    "    # * El estado inicial no pertenece a la variedad Max-Ent: Para que esto funcione, deberíamos, o bien proyectar el estado inicial a la variedad,\n",
    "    # o bien agregar el log(rho0) a la base de operadores. \n",
    "    \n",
    "def projected_evolution(author=True,x=.5, gamma = 1*np.e*-2, omega_1=3., omega_2=3.,temp=1, \n",
    "                        gaussian=False, gr = int, deltat=10., tmax = 500., distance=me.bures, \n",
    "                        do_project=True):\n",
    "    global rho\n",
    "    loc_globalid = qutip.tensor([qutip.qeye(2) for k in range(N)])\n",
    "\n",
    "    if (gaussian and gr == 1):\n",
    "        coeffs_me1_gr1 = [[10**-1,2*10**-1],[np.pi*10**-1,10**-18],\n",
    "                          [10**-18,10**-18],[10**-18,10**-18]]\n",
    "        rho0 = me.initial_state(N, gaussian, gr, None, coeffs_me1_gr1, None)\n",
    "        \n",
    "    elif(gaussian and gr == 2):\n",
    "        a = len(me.all_two_body_spin_ops(N))\n",
    "        b = len(me.all_two_body_spin_ops(N)[0])\n",
    "\n",
    "        coeffs_me2_gr2 = 10**-1 * np.full((a,b),1.)\n",
    "        rho0 = me.initial_state(N, gaussian, gr, None, coeffs_me2_gr2, None)\n",
    "        \n",
    "    elif(not gaussian):\n",
    "        rho0 = me.initial_state(N, gaussian, gr, x, None, psi0)\n",
    "         \n",
    "    if author: \n",
    "        basis = me.base_orth(me.n_body_basis(2, N), rho0)  ## // Á la Tom\n",
    "    else:\n",
    "        basis = me.base_orth(me.n_body_basis(1, N), rho0)\n",
    "        \n",
    "    obs = [x_op, p_op, comm_xp, corr_xp]\n",
    "          #, x_op**2,p_op**2, corr_op, p_dot]\n",
    "        \n",
    "    entropyVN = []\n",
    "    def callback_entropy(t, rhot):\n",
    "        entropyVN.append(qutip.entropy_vn(rhot))\n",
    "        \n",
    "    sampling = max(int(10*max(1,omega_1, omega_2)*deltat), 10)\n",
    "    print(\"sampling:\", sampling)\n",
    "    c_op_list = me.spin_dephasing(N,gamma)\n",
    "    rho = rho0                                                               ## // Á la Mauricio\n",
    "    approx_exp_vals = [[qutip.expect(op, rho) for op in obs]]\n",
    "    ts= [0]\n",
    "\n",
    "    for i in range(int(tmax/deltat)):\n",
    "        qutip.mesolve(H=H_H, \n",
    "                               rho0=rho, \n",
    "                               tlist=np.linspace(0,deltat, sampling), \n",
    "                               c_ops=c_op_list, \n",
    "                               e_ops=callback_entropy,\n",
    "                               args={'gamma': gamma,'omega_1': omega_1, 'omega_2': omega_2}\n",
    "                               )\n",
    "        ts.append(deltat*i)\n",
    "        if do_project:\n",
    "            rho = me.proj_op(me.logM(rho), basis, rho0)\n",
    "            #rho = me.proj_op(me.logM(rho), basis, loc_globalid)\n",
    "            e0 = max(rho.eigenenergies())\n",
    "            rho = rho - loc_globalid * e0\n",
    "            rho = rho.expm()\n",
    "            trrho = (2.*rho.tr())\n",
    "            rho = (rho+rho.dag())/trrho\n",
    "\n",
    "        #print(qutip.entropy.entropy_vn(rho))\n",
    "        newobs = [qutip.expect(rho, op) for op in obs]\n",
    "        approx_exp_vals.append(newobs)\n",
    "\n",
    "    result = {}\n",
    "    result[\"ts\"] = ts\n",
    "    result[\"averages\"] = entropyVN\n",
    "    #np.array(approx_exp_vals)\n",
    "    \n",
    "    title = f\" BW Dinámica cerrada no gaussiana wb1={omega_1} wb2={omega_2}\" \n",
    "    if do_project:\n",
    "        title = title + \"_projected_\"\n",
    "\n",
    "    with open(title+\".pkl\",\"wb\") as f:\n",
    "        pickle.dump(result, f)\n",
    "    return entropyVN"
   ]
  },
  {
   "cell_type": "code",
   "execution_count": 128,
   "metadata": {},
   "outputs": [
    {
     "name": "stdout",
     "output_type": "stream",
     "text": [
      "sampling: 120\n"
     ]
    },
    {
     "data": {
      "text/plain": [
       "<matplotlib.legend.Legend at 0x7febd4c512a0>"
      ]
     },
     "execution_count": 128,
     "metadata": {},
     "output_type": "execute_result"
    },
    {
     "data": {
      "image/png": "[encoded data removed]",
      "text/plain": [
       "<Figure size 432x288 with 1 Axes>"
      ]
     },
     "metadata": {
      "needs_background": "light"
     },
     "output_type": "display_data"
    }
   ],
   "source": [
    "results = projected_evolution(author = True, x=None, gamma = 5*np.e*-1, omega_1=3., omega_2=3.,\n",
    "                              temp=1, gaussian=True, gr = 2, deltat=4, tmax = 5, \n",
    "                              distance=me.bures, do_project=False)\n",
    "\n",
    "plt.plot(results, label=\"Von Neumann Entropy\")\n",
    "plt.legend()"
   ]
  },
  {
   "cell_type": "code",
   "execution_count": null,
   "metadata": {},
   "outputs": [],
   "source": []
  },
  {
   "cell_type": "code",
   "execution_count": 16,
   "metadata": {},
   "outputs": [
    {
     "data": {
      "image/png": "[encoded data removed]",
      "text/plain": [
       "<Figure size 432x288 with 1 Axes>"
      ]
     },
     "metadata": {},
     "output_type": "display_data"
    }
   ],
   "source": [
    "import networkx as nx\n",
    "import matplotlib.pyplot as plt\n",
    "\n",
    "G = nx.DiGraph()\n",
    "G.add_edges_from(\n",
    "    [('Sx', 'Sx¹'), ('Sx', 'Sx²'), ('Sx¹', 'Sxa'), ('Sx¹', 'Sya'), ('Sx¹', 'Sza'), ('Sxa', 'Sx1'), ('Sxa', 'Sx2') ])\n",
    "\n",
    "val_map = {'Sx': 1.0,\n",
    "           'Sx²': 0.5714285714285714,\n",
    "           'Sx¹': 0.0}\n",
    "\n",
    "values = [val_map.get(node, 0.25) for node in G.nodes()]\n",
    "\n",
    "# Need to create a layout when doing\n",
    "# separate calls to draw nodes and edges\n",
    "pos = nx.spring_layout(G)\n",
    "nx.draw_networkx_nodes(G, pos, cmap=plt.get_cmap('jet'), \n",
    "                       node_color = values, node_size = 500)\n",
    "nx.draw_networkx_labels(G, pos)\n",
    "nx.draw_networkx_edges(G, pos, arrows=True)\n",
    "nx.draw_networkx_edges(G, pos, arrows=False)\n",
    "plt.show()\n"
   ]
  },
  {
   "cell_type": "code",
   "execution_count": 132,
   "metadata": {},
   "outputs": [
    {
     "data": {
      "text/html": [
       "<table><tr><th>Software</th><th>Version</th></tr><tr><td>QuTiP</td><td>4.7.0</td></tr><tr><td>Numpy</td><td>1.22.4</td></tr><tr><td>SciPy</td><td>1.8.1</td></tr><tr><td>matplotlib</td><td>3.5.2</td></tr><tr><td>Cython</td><td>0.29.30</td></tr><tr><td>Number of CPUs</td><td>6</td></tr><tr><td>BLAS Info</td><td>Generic</td></tr><tr><td>IPython</td><td>8.3.0</td></tr><tr><td>Python</td><td>3.10.4 (main, Mar 31 2022, 08:41:55) [GCC 7.5.0]</td></tr><tr><td>OS</td><td>posix [linux]</td></tr><tr><td colspan='2'>Tue Jul 05 11:49:19 2022 -03</td></tr></table>"
      ],
      "text/plain": [
       "<IPython.core.display.HTML object>"
      ]
     },
     "execution_count": 132,
     "metadata": {},
     "output_type": "execute_result"
    }
   ],
   "source": [
    "from qutip.ipynbtools import version_table\n",
    "\n",
    "version_table()"
   ]
  },
  {
   "cell_type": "code",
   "execution_count": 131,
   "metadata": {},
   "outputs": [
    {
     "name": "stdout",
     "output_type": "stream",
     "text": [
      "Collecting Cython\n",
      "  Downloading Cython-0.29.30-cp310-cp310-manylinux_2_17_x86_64.manylinux2014_x86_64.manylinux_2_24_x86_64.whl (1.9 MB)\n",
      "\u001b[2K     \u001b[38;2;114;156;31m━━━━━━━━━━━━━━━━━━━━━━━━━━━━━━━━━━━━━━━━\u001b[0m \u001b[32m1.9/1.9 MB\u001b[0m \u001b[31m8.0 MB/s\u001b[0m eta \u001b[36m0:00:00\u001b[0m0m eta \u001b[36m0:00:01\u001b[0m[36m0:00:01\u001b[0m\n",
      "\u001b[?25hInstalling collected packages: Cython\n",
      "Successfully installed Cython-0.29.30\n"
     ]
    }
   ],
   "source": [
    "!pip install Cython"
   ]
  }
 ],
 "metadata": {
  "colab": {
   "include_colab_link": true,
   "name": "Untitled1.ipynb",
   "provenance": []
  },
  "kernelspec": {
   "display_name": "Python 3 (ipykernel)",
   "language": "python",
   "name": "python3"
  },
  "language_info": {
   "codemirror_mode": {
    "name": "ipython",
    "version": 3
   },
   "file_extension": ".py",
   "mimetype": "text/x-python",
   "name": "python",
   "nbconvert_exporter": "python",
   "pygments_lexer": "ipython3",
   "version": "3.10.4"
  }
 },
 "nbformat": 4,
 "nbformat_minor": 1
}
