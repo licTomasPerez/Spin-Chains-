{
  "nbformat": 4,
  "nbformat_minor": 0,
  "metadata": {
    "colab": {
      "name": "Untitled1.ipynb",
      "provenance": [],
      "authorship_tag": "ABX9TyOSJYMJQMu+l2QfSCtDIAXt",
      "include_colab_link": true
    },
    "kernelspec": {
      "name": "python3",
      "display_name": "Python 3"
    },
    "language_info": {
      "name": "python"
    }
  },
  "cells": [
    {
      "cell_type": "markdown",
      "metadata": {
        "id": "view-in-github",
        "colab_type": "text"
      },
      "source": [
        "<a href=\"https://colab.research.google.com/github/licTomasPerez/Spin-Chains-/blob/main/HS_projected_evolution.ipynb\" target=\"_parent\"><img src=\"https://colab.research.google.com/assets/colab-badge.svg\" alt=\"Open In Colab\"/></a>"
      ]
    },
    {
      "cell_type": "code",
      "execution_count": 1,
      "metadata": {
        "colab": {
          "base_uri": "https://localhost:8080/"
        },
        "id": "CzAqDJ65kXXw",
        "outputId": "2561ebf6-8295-4fdd-ae5b-f91d692cdfb1"
      },
      "outputs": [
        {
          "output_type": "stream",
          "name": "stdout",
          "text": [
            "Looking in indexes: https://pypi.org/simple, https://us-python.pkg.dev/colab-wheels/public/simple/\n",
            "Collecting qutip\n",
            "  Downloading qutip-4.7.0-cp37-cp37m-manylinux_2_5_x86_64.manylinux1_x86_64.manylinux_2_12_x86_64.manylinux2010_x86_64.whl (14.7 MB)\n",
            "\u001b[K     |████████████████████████████████| 14.7 MB 8.3 MB/s \n",
            "\u001b[?25hRequirement already satisfied: packaging in /usr/local/lib/python3.7/dist-packages (from qutip) (21.3)\n",
            "Requirement already satisfied: scipy>=1.0 in /usr/local/lib/python3.7/dist-packages (from qutip) (1.4.1)\n",
            "Requirement already satisfied: numpy>=1.16.6 in /usr/local/lib/python3.7/dist-packages (from qutip) (1.21.6)\n",
            "Requirement already satisfied: pyparsing!=3.0.5,>=2.0.2 in /usr/local/lib/python3.7/dist-packages (from packaging->qutip) (3.0.9)\n",
            "Installing collected packages: qutip\n",
            "Successfully installed qutip-4.7.0\n",
            "Looking in indexes: https://pypi.org/simple, https://us-python.pkg.dev/colab-wheels/public/simple/\n",
            "Requirement already satisfied: scipy in /usr/local/lib/python3.7/dist-packages (1.4.1)\n",
            "Requirement already satisfied: numpy>=1.13.3 in /usr/local/lib/python3.7/dist-packages (from scipy) (1.21.6)\n",
            "Looking in indexes: https://pypi.org/simple, https://us-python.pkg.dev/colab-wheels/public/simple/\n",
            "Requirement already satisfied: matplotlib.inline in /usr/local/lib/python3.7/dist-packages (0.1.3)\n",
            "Requirement already satisfied: traitlets in /usr/local/lib/python3.7/dist-packages (from matplotlib.inline) (5.1.1)\n",
            "Looking in indexes: https://pypi.org/simple, https://us-python.pkg.dev/colab-wheels/public/simple/\n",
            "Requirement already satisfied: numpy in /usr/local/lib/python3.7/dist-packages (1.21.6)\n"
          ]
        }
      ],
      "source": [
        "!pip install qutip\n",
        "!pip install scipy\n",
        "!pip install matplotlib.inline\n",
        "!pip install numpy"
      ]
    },
    {
      "cell_type": "code",
      "source": [
        "import qutip\n",
        "import matplotlib.pyplot as plt \n",
        "import numpy as np\n",
        "import scipy.optimize as opt \n",
        "import pickle\n",
        "import math, cmath"
      ],
      "metadata": {
        "id": "6td6yO61kg2q"
      },
      "execution_count": null,
      "outputs": []
    },
    {
      "cell_type": "code",
      "source": [
        "def prod_basis(b1, b2):\n",
        "  return [qutip.tensor(b,s) for b in b1 for s in b2]\n",
        "\n",
        "def scalar_prod(op1, op2, rho0 = None):\n",
        "  if op1.dims[0][0]!=op2.dims[0][0]:\n",
        "    return \"Incompatible Qobj dimensions\"\n",
        "  if rho0 is None:\n",
        "    rho0 = qutip.qeye(op1.dims[0])/op1.dims[0][0]\n",
        "  return ((op1.dag()*op2))\n",
        "\n",
        "def base_orth(ops, rho0):\n",
        "  dim = ops[0].dims[0][0]\n",
        "  basis = []\n",
        "  for op in ops: \n",
        "    alpha = [scalar_prod(op2, op, rho0) for op2 in basis]\n",
        "    op_mod = op - sum([c*op2 for c, op2, in zip(alpha, basis)])\n",
        "    op_mod = op_mod/(np.sqrt(scalar_prod(op_mod,op_mod,rho0)))\n",
        "    basis.append(op_mod)\n",
        "  return basis\n",
        "\n",
        "def logM(rho):\n",
        "  eigvals, eigvecs = rho.eigenstates()\n",
        "  return sum([np.log(vl)*vc*vc.dag() for vl, vc in zip(eigvals, eigvecs) if vl > 0])\n",
        "\n",
        "def sqrtM(rho):\n",
        "  eigvals, eigvecs = rho.eigenstates()\n",
        "  return sum([(abs(vl)**.5)*vc*vc.dag() for vl, vc in zip(eigvals, eigvecs)])\n",
        "\n",
        "def proj_op(K, basis, rho0):\n",
        "  return sum([scalar_prod(b, K,rho0) * b for b in basis])\n",
        "\n",
        "def rel_entropy(rho, sigma):\n",
        "    val = (rho*(logM(rho)-logM(sigma))).tr()\n",
        "    if abs(val.imag)>1.e-6:\n",
        "        print(\"rho or sigma not positive\")\n",
        "        print(rho.eigenstates())\n",
        "        print(sigma.eigenstates())\n",
        "    return val.real\n",
        "\n"
      ],
      "metadata": {
        "id": "wllgZoKUkY3j"
      },
      "execution_count": null,
      "outputs": []
    },
    {
      "cell_type": "code",
      "source": [
        "def bures(rho, sigma):\n",
        "    val = abs((sqrtM(rho)*sqrtM(sigma)).tr())\n",
        "    val = max(min(val,1.),-1.)\n",
        "    return np.arccos(val)/np.pi\n",
        "        \n",
        "def maxent_rho(rho, basis):   \n",
        "    def test(x, rho, basis):\n",
        "        k = sum([-u*b for u,b in zip(x, basis)])        \n",
        "        sigma = (.5*(k+k.dag())).expm()\n",
        "        sigma = sigma/sigma.tr()\n",
        "        return rel_entropy(rho, sigma)    \n",
        "    res = opt.minimize(test,np.zeros(len(basis)),args=(rho,basis))\n",
        "    k = sum([-u*b for u,b in zip(res.x, basis)])        \n",
        "    sigma = (.5*(k+k.dag())).expm()\n",
        "    sigma = sigma/sigma.tr()\n",
        "    return sigma\n",
        "    \n",
        "    \n",
        "def error_maxent_state(rho, basis, distance=bures):\n",
        "    try:\n",
        "        sigma = maxent_rho(rho, basis)\n",
        "        return distance(rho,sigma)\n",
        "    except:\n",
        "        print(\"fail\")\n",
        "        return None\n",
        "    \n",
        "    \n",
        "def error_proj_state(rho, rho0, basis, distance=bures):\n",
        "    try:\n",
        "        basis = base_orth(basis, rho0)\n",
        "        sigma = proj_op(logM(rho), basis, rho0).expm()\n",
        "        return distance(rho, sigma)\n",
        "    except:\n",
        "        print(\"fail\")\n",
        "        return None"
      ],
      "metadata": {
        "id": "iOcDcqRLvQAb"
      },
      "execution_count": null,
      "outputs": []
    },
    {
      "cell_type": "code",
      "source": [
        "id2 = qutip.qeye(2)\n",
        "sx = .5*qutip.sigmax()\n",
        "sy = .5*qutip.sigmay()\n",
        "sz = .5*qutip.sigmaz()\n",
        "\n",
        "sx_list = []\n",
        "sy_list = []\n",
        "sz_list = []\n",
        "\n",
        "for n in range(N):\n",
        "    operator_list = []\n",
        "    for m in range(N):\n",
        "        operator_list.append(id2)\n",
        "    operator_list[n] = sx\n",
        "    sx_list.append(qutip.tensor(operator_list))\n",
        "        \n",
        "    operator_list[n] = sy\n",
        "    sy_list.append(qutip.tensor(operator_list))\n",
        "        \n",
        "    operator_list[n] = sz\n",
        "    sz_list.append(qutip.tensor(operator_list))\n",
        "\n",
        "def Heisenberg_hamiltonian (N, Jx, Jy, Jz, h):\n",
        "  H = 0\n",
        "  for n in range(N):\n",
        "    H += -0.5*h[n]*sz_list[n]\n",
        "        \n",
        "  for n in range(N-1):\n",
        "    H += -0.5 * Jx[n] * sx_list[n] * sx_list[n+1]\n",
        "    H += -0.5 * Jy[n] * sy_list[n] * sy_list[n+1]\n",
        "    H += -0.5 * Jz[n] * sz_list[n] * sz_list[n+1]\n",
        "  return H\n",
        "\n",
        "N = 5            # número de spines\n",
        "\n",
        "h  = 1.0 * 2 * np.pi * np.ones(N) \n",
        "Jx = 0.15 * 2 * np.pi * np.ones(N)\n",
        "Jy = 0.25 * 2 * np.pi * np.ones(N)\n",
        "Jz = 0.1 * 2 * np.pi * np.ones(N)"
      ],
      "metadata": {
        "colab": {
          "base_uri": "https://localhost:8080/",
          "height": 237
        },
        "id": "C4U410MBw0WJ",
        "outputId": "921f0d15-aaf3-4d05-dd8a-0adf3c1c1c57"
      },
      "execution_count": null,
      "outputs": [
        {
          "output_type": "error",
          "ename": "NameError",
          "evalue": "ignored",
          "traceback": [
            "\u001b[0;31m---------------------------------------------------------------------------\u001b[0m",
            "\u001b[0;31mNameError\u001b[0m                                 Traceback (most recent call last)",
            "\u001b[0;32m<ipython-input-7-fd3abeb718a6>\u001b[0m in \u001b[0;36m<module>\u001b[0;34m()\u001b[0m\n\u001b[0;32m----> 1\u001b[0;31m \u001b[0mid2\u001b[0m \u001b[0;34m=\u001b[0m \u001b[0mqeye\u001b[0m\u001b[0;34m(\u001b[0m\u001b[0;36m2\u001b[0m\u001b[0;34m)\u001b[0m\u001b[0;34m\u001b[0m\u001b[0;34m\u001b[0m\u001b[0m\n\u001b[0m\u001b[1;32m      2\u001b[0m \u001b[0msx\u001b[0m \u001b[0;34m=\u001b[0m \u001b[0;36m.5\u001b[0m\u001b[0;34m*\u001b[0m\u001b[0msigmax\u001b[0m\u001b[0;34m(\u001b[0m\u001b[0;34m)\u001b[0m\u001b[0;34m\u001b[0m\u001b[0;34m\u001b[0m\u001b[0m\n\u001b[1;32m      3\u001b[0m \u001b[0msy\u001b[0m \u001b[0;34m=\u001b[0m \u001b[0;36m.5\u001b[0m\u001b[0;34m*\u001b[0m\u001b[0msigmay\u001b[0m\u001b[0;34m(\u001b[0m\u001b[0;34m)\u001b[0m\u001b[0;34m\u001b[0m\u001b[0;34m\u001b[0m\u001b[0m\n\u001b[1;32m      4\u001b[0m \u001b[0msz\u001b[0m \u001b[0;34m=\u001b[0m \u001b[0;36m.5\u001b[0m\u001b[0;34m*\u001b[0m\u001b[0msigmaz\u001b[0m\u001b[0;34m(\u001b[0m\u001b[0;34m)\u001b[0m\u001b[0;34m\u001b[0m\u001b[0;34m\u001b[0m\u001b[0m\n\u001b[1;32m      5\u001b[0m \u001b[0;34m\u001b[0m\u001b[0m\n",
            "\u001b[0;31mNameError\u001b[0m: name 'qeye' is not defined"
          ]
        }
      ]
    },
    {
      "cell_type": "code",
      "source": [
        "def projected_evolution():"
      ],
      "metadata": {
        "id": "_U6AxFh7w_oF"
      },
      "execution_count": null,
      "outputs": []
    }
  ]
}